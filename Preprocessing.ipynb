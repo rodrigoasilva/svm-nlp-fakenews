{
 "cells": [
  {
   "cell_type": "markdown",
   "metadata": {},
   "source": [
    "# Importações Necessárias"
   ]
  },
  {
   "cell_type": "code",
   "execution_count": 1,
   "metadata": {
    "ExecuteTime": {
     "end_time": "2021-05-15T23:26:06.885686Z",
     "start_time": "2021-05-15T23:26:00.210881Z"
    }
   },
   "outputs": [],
   "source": [
    "import sys, os\n",
    "import pandas as pd\n",
    "from tqdm import tqdm\n",
    "import unidecode\n",
    "import re\n",
    "import plotly.express as px"
   ]
  },
  {
   "cell_type": "markdown",
   "metadata": {},
   "source": [
    "# Funções Auxiliares"
   ]
  },
  {
   "cell_type": "code",
   "execution_count": 2,
   "metadata": {
    "ExecuteTime": {
     "end_time": "2021-05-15T23:26:06.900734Z",
     "start_time": "2021-05-15T23:26:06.885686Z"
    }
   },
   "outputs": [],
   "source": [
    "def plot_bar(aux_x, aux_y, aux_text, title, x_title, y_title):\n",
    "\n",
    "    fig = px.bar(x=aux_x, y=aux_y,text=aux_text)\n",
    "\n",
    "    fig.update_layout(\n",
    "        title=title,\n",
    "        xaxis_title=x_title,\n",
    "        yaxis_title=y_title,\n",
    "        yaxis=dict(tickformat=',f')\n",
    "    )\n",
    "\n",
    "    fig.show()"
   ]
  },
  {
   "cell_type": "markdown",
   "metadata": {},
   "source": [
    "# Leitura dos Dados"
   ]
  },
  {
   "cell_type": "markdown",
   "metadata": {},
   "source": [
    "Dataset obtido a partir do repositório https://github.com/roneysco/Fake.br-Corpus"
   ]
  },
  {
   "cell_type": "code",
   "execution_count": 3,
   "metadata": {
    "ExecuteTime": {
     "end_time": "2021-05-15T23:26:06.994575Z",
     "start_time": "2021-05-15T23:26:06.902687Z"
    }
   },
   "outputs": [],
   "source": [
    "fake_path = os.path.join(os.getcwd(),r'..\\Fake.br-Corpus-master\\full_texts\\fake')\n",
    "true_path = os.path.join(os.getcwd(),r'..\\Fake.br-Corpus-master\\full_texts\\true')"
   ]
  },
  {
   "cell_type": "markdown",
   "metadata": {},
   "source": [
    "Módulo que constroi o dataframe de amostras rotuladas e salva na pasta Dados para tornar as leituras seguintes mais rápidas"
   ]
  },
  {
   "cell_type": "code",
   "execution_count": 4,
   "metadata": {
    "ExecuteTime": {
     "end_time": "2021-05-15T23:26:07.104259Z",
     "start_time": "2021-05-15T23:26:06.999274Z"
    }
   },
   "outputs": [],
   "source": [
    "# df_corpus = pd.DataFrame(columns=['sample','label'])\n",
    "\n",
    "# for filename in tqdm(os.listdir(fake_path)):\n",
    "#     f = open(os.path.join(fake_path,filename), encoding=\"utf8\")\n",
    "#     sample = f.read()\n",
    "\n",
    "#     df = pd.DataFrame([[sample,1]],columns=['sample','label'])\n",
    "\n",
    "#     df_corpus = df_corpus.append(df, ignore_index=True)\n",
    "\n",
    "# for filename in tqdm(os.listdir(true_path)):\n",
    "#     f = open(os.path.join(true_path,filename), encoding=\"utf8\")\n",
    "#     sample = f.read()\n",
    "\n",
    "#     df = pd.DataFrame([[sample,0]],columns=['sample','label'])\n",
    "\n",
    "#     df_corpus = df_corpus.append(df, ignore_index=True)\n",
    "\n",
    "# df_corpus.to_pickle('./Dados/raw_corpus.pkl')"
   ]
  },
  {
   "cell_type": "markdown",
   "metadata": {},
   "source": [
    "Lê o dataframe de amostras rotuladas"
   ]
  },
  {
   "cell_type": "code",
   "execution_count": 11,
   "metadata": {
    "ExecuteTime": {
     "end_time": "2021-05-16T01:35:00.042601Z",
     "start_time": "2021-05-16T01:34:59.171637Z"
    }
   },
   "outputs": [],
   "source": [
    "df_corpus = pd.read_pickle('./Dados/raw_corpus.pkl')"
   ]
  },
  {
   "cell_type": "code",
   "execution_count": 12,
   "metadata": {
    "ExecuteTime": {
     "end_time": "2021-05-16T01:35:00.088130Z",
     "start_time": "2021-05-16T01:35:00.042601Z"
    }
   },
   "outputs": [
    {
     "data": {
      "text/html": [
       "<div>\n",
       "<style scoped>\n",
       "    .dataframe tbody tr th:only-of-type {\n",
       "        vertical-align: middle;\n",
       "    }\n",
       "\n",
       "    .dataframe tbody tr th {\n",
       "        vertical-align: top;\n",
       "    }\n",
       "\n",
       "    .dataframe thead th {\n",
       "        text-align: right;\n",
       "    }\n",
       "</style>\n",
       "<table border=\"1\" class=\"dataframe\">\n",
       "  <thead>\n",
       "    <tr style=\"text-align: right;\">\n",
       "      <th></th>\n",
       "      <th>sample</th>\n",
       "      <th>label</th>\n",
       "    </tr>\n",
       "  </thead>\n",
       "  <tbody>\n",
       "    <tr>\n",
       "      <th>0</th>\n",
       "      <td>Kátia Abreu diz que vai colocar sua expulsão e...</td>\n",
       "      <td>1</td>\n",
       "    </tr>\n",
       "    <tr>\n",
       "      <th>1</th>\n",
       "      <td>Dr. Ray peita Bolsonaro, chama-o de conservad...</td>\n",
       "      <td>1</td>\n",
       "    </tr>\n",
       "    <tr>\n",
       "      <th>2</th>\n",
       "      <td>Reinaldo Azevedo desmascarado pela Polícia Fed...</td>\n",
       "      <td>1</td>\n",
       "    </tr>\n",
       "    <tr>\n",
       "      <th>3</th>\n",
       "      <td>Relatório assustador do BNDES mostra dinheiro ...</td>\n",
       "      <td>1</td>\n",
       "    </tr>\n",
       "    <tr>\n",
       "      <th>4</th>\n",
       "      <td>Radialista americano fala sobre o PT: \"Eles ve...</td>\n",
       "      <td>1</td>\n",
       "    </tr>\n",
       "    <tr>\n",
       "      <th>...</th>\n",
       "      <td>...</td>\n",
       "      <td>...</td>\n",
       "    </tr>\n",
       "    <tr>\n",
       "      <th>7195</th>\n",
       "      <td>Para jornal britânico, ação contra Lula na Lav...</td>\n",
       "      <td>0</td>\n",
       "    </tr>\n",
       "    <tr>\n",
       "      <th>7196</th>\n",
       "      <td>Temer diz que acionou PF e Cade para investiga...</td>\n",
       "      <td>0</td>\n",
       "    </tr>\n",
       "    <tr>\n",
       "      <th>7197</th>\n",
       "      <td>Os obstáculos políticos de Temer em 2017. Espe...</td>\n",
       "      <td>0</td>\n",
       "    </tr>\n",
       "    <tr>\n",
       "      <th>7198</th>\n",
       "      <td>Sexta-feira, 15 de setembro de 2017. Boa noite...</td>\n",
       "      <td>0</td>\n",
       "    </tr>\n",
       "    <tr>\n",
       "      <th>7199</th>\n",
       "      <td>'Não me envolvo em política', diz brasileiro q...</td>\n",
       "      <td>0</td>\n",
       "    </tr>\n",
       "  </tbody>\n",
       "</table>\n",
       "<p>7200 rows × 2 columns</p>\n",
       "</div>"
      ],
      "text/plain": [
       "                                                 sample label\n",
       "0     Kátia Abreu diz que vai colocar sua expulsão e...     1\n",
       "1     Dr. Ray peita Bolsonaro, chama-o de conservad...     1\n",
       "2     Reinaldo Azevedo desmascarado pela Polícia Fed...     1\n",
       "3     Relatório assustador do BNDES mostra dinheiro ...     1\n",
       "4     Radialista americano fala sobre o PT: \"Eles ve...     1\n",
       "...                                                 ...   ...\n",
       "7195  Para jornal britânico, ação contra Lula na Lav...     0\n",
       "7196  Temer diz que acionou PF e Cade para investiga...     0\n",
       "7197  Os obstáculos políticos de Temer em 2017. Espe...     0\n",
       "7198  Sexta-feira, 15 de setembro de 2017. Boa noite...     0\n",
       "7199  'Não me envolvo em política', diz brasileiro q...     0\n",
       "\n",
       "[7200 rows x 2 columns]"
      ]
     },
     "execution_count": 12,
     "metadata": {},
     "output_type": "execute_result"
    }
   ],
   "source": [
    "df_corpus"
   ]
  },
  {
   "cell_type": "markdown",
   "metadata": {},
   "source": [
    "# Análise dos dados"
   ]
  },
  {
   "cell_type": "code",
   "execution_count": 13,
   "metadata": {
    "ExecuteTime": {
     "end_time": "2021-05-16T01:35:00.526218Z",
     "start_time": "2021-05-16T01:35:00.340006Z"
    }
   },
   "outputs": [
    {
     "data": {
      "application/vnd.plotly.v1+json": {
       "config": {
        "plotlyServerURL": "https://plot.ly"
       },
       "data": [
        {
         "alignmentgroup": "True",
         "hovertemplate": "x=%{x}<br>y=%{y}<br>text=%{text}<extra></extra>",
         "legendgroup": "",
         "marker": {
          "color": "#636efa"
         },
         "name": "",
         "offsetgroup": "",
         "orientation": "v",
         "showlegend": false,
         "text": [
          "50.00%",
          "50.00%"
         ],
         "textposition": "auto",
         "type": "bar",
         "x": [
          "falsa",
          "verdadeira"
         ],
         "xaxis": "x",
         "y": [
          3600,
          3600
         ],
         "yaxis": "y"
        }
       ],
       "layout": {
        "barmode": "relative",
        "legend": {
         "tracegroupgap": 0
        },
        "margin": {
         "t": 60
        },
        "template": {
         "data": {
          "bar": [
           {
            "error_x": {
             "color": "#2a3f5f"
            },
            "error_y": {
             "color": "#2a3f5f"
            },
            "marker": {
             "line": {
              "color": "#E5ECF6",
              "width": 0.5
             }
            },
            "type": "bar"
           }
          ],
          "barpolar": [
           {
            "marker": {
             "line": {
              "color": "#E5ECF6",
              "width": 0.5
             }
            },
            "type": "barpolar"
           }
          ],
          "carpet": [
           {
            "aaxis": {
             "endlinecolor": "#2a3f5f",
             "gridcolor": "white",
             "linecolor": "white",
             "minorgridcolor": "white",
             "startlinecolor": "#2a3f5f"
            },
            "baxis": {
             "endlinecolor": "#2a3f5f",
             "gridcolor": "white",
             "linecolor": "white",
             "minorgridcolor": "white",
             "startlinecolor": "#2a3f5f"
            },
            "type": "carpet"
           }
          ],
          "choropleth": [
           {
            "colorbar": {
             "outlinewidth": 0,
             "ticks": ""
            },
            "type": "choropleth"
           }
          ],
          "contour": [
           {
            "colorbar": {
             "outlinewidth": 0,
             "ticks": ""
            },
            "colorscale": [
             [
              0,
              "#0d0887"
             ],
             [
              0.1111111111111111,
              "#46039f"
             ],
             [
              0.2222222222222222,
              "#7201a8"
             ],
             [
              0.3333333333333333,
              "#9c179e"
             ],
             [
              0.4444444444444444,
              "#bd3786"
             ],
             [
              0.5555555555555556,
              "#d8576b"
             ],
             [
              0.6666666666666666,
              "#ed7953"
             ],
             [
              0.7777777777777778,
              "#fb9f3a"
             ],
             [
              0.8888888888888888,
              "#fdca26"
             ],
             [
              1,
              "#f0f921"
             ]
            ],
            "type": "contour"
           }
          ],
          "contourcarpet": [
           {
            "colorbar": {
             "outlinewidth": 0,
             "ticks": ""
            },
            "type": "contourcarpet"
           }
          ],
          "heatmap": [
           {
            "colorbar": {
             "outlinewidth": 0,
             "ticks": ""
            },
            "colorscale": [
             [
              0,
              "#0d0887"
             ],
             [
              0.1111111111111111,
              "#46039f"
             ],
             [
              0.2222222222222222,
              "#7201a8"
             ],
             [
              0.3333333333333333,
              "#9c179e"
             ],
             [
              0.4444444444444444,
              "#bd3786"
             ],
             [
              0.5555555555555556,
              "#d8576b"
             ],
             [
              0.6666666666666666,
              "#ed7953"
             ],
             [
              0.7777777777777778,
              "#fb9f3a"
             ],
             [
              0.8888888888888888,
              "#fdca26"
             ],
             [
              1,
              "#f0f921"
             ]
            ],
            "type": "heatmap"
           }
          ],
          "heatmapgl": [
           {
            "colorbar": {
             "outlinewidth": 0,
             "ticks": ""
            },
            "colorscale": [
             [
              0,
              "#0d0887"
             ],
             [
              0.1111111111111111,
              "#46039f"
             ],
             [
              0.2222222222222222,
              "#7201a8"
             ],
             [
              0.3333333333333333,
              "#9c179e"
             ],
             [
              0.4444444444444444,
              "#bd3786"
             ],
             [
              0.5555555555555556,
              "#d8576b"
             ],
             [
              0.6666666666666666,
              "#ed7953"
             ],
             [
              0.7777777777777778,
              "#fb9f3a"
             ],
             [
              0.8888888888888888,
              "#fdca26"
             ],
             [
              1,
              "#f0f921"
             ]
            ],
            "type": "heatmapgl"
           }
          ],
          "histogram": [
           {
            "marker": {
             "colorbar": {
              "outlinewidth": 0,
              "ticks": ""
             }
            },
            "type": "histogram"
           }
          ],
          "histogram2d": [
           {
            "colorbar": {
             "outlinewidth": 0,
             "ticks": ""
            },
            "colorscale": [
             [
              0,
              "#0d0887"
             ],
             [
              0.1111111111111111,
              "#46039f"
             ],
             [
              0.2222222222222222,
              "#7201a8"
             ],
             [
              0.3333333333333333,
              "#9c179e"
             ],
             [
              0.4444444444444444,
              "#bd3786"
             ],
             [
              0.5555555555555556,
              "#d8576b"
             ],
             [
              0.6666666666666666,
              "#ed7953"
             ],
             [
              0.7777777777777778,
              "#fb9f3a"
             ],
             [
              0.8888888888888888,
              "#fdca26"
             ],
             [
              1,
              "#f0f921"
             ]
            ],
            "type": "histogram2d"
           }
          ],
          "histogram2dcontour": [
           {
            "colorbar": {
             "outlinewidth": 0,
             "ticks": ""
            },
            "colorscale": [
             [
              0,
              "#0d0887"
             ],
             [
              0.1111111111111111,
              "#46039f"
             ],
             [
              0.2222222222222222,
              "#7201a8"
             ],
             [
              0.3333333333333333,
              "#9c179e"
             ],
             [
              0.4444444444444444,
              "#bd3786"
             ],
             [
              0.5555555555555556,
              "#d8576b"
             ],
             [
              0.6666666666666666,
              "#ed7953"
             ],
             [
              0.7777777777777778,
              "#fb9f3a"
             ],
             [
              0.8888888888888888,
              "#fdca26"
             ],
             [
              1,
              "#f0f921"
             ]
            ],
            "type": "histogram2dcontour"
           }
          ],
          "mesh3d": [
           {
            "colorbar": {
             "outlinewidth": 0,
             "ticks": ""
            },
            "type": "mesh3d"
           }
          ],
          "parcoords": [
           {
            "line": {
             "colorbar": {
              "outlinewidth": 0,
              "ticks": ""
             }
            },
            "type": "parcoords"
           }
          ],
          "pie": [
           {
            "automargin": true,
            "type": "pie"
           }
          ],
          "scatter": [
           {
            "marker": {
             "colorbar": {
              "outlinewidth": 0,
              "ticks": ""
             }
            },
            "type": "scatter"
           }
          ],
          "scatter3d": [
           {
            "line": {
             "colorbar": {
              "outlinewidth": 0,
              "ticks": ""
             }
            },
            "marker": {
             "colorbar": {
              "outlinewidth": 0,
              "ticks": ""
             }
            },
            "type": "scatter3d"
           }
          ],
          "scattercarpet": [
           {
            "marker": {
             "colorbar": {
              "outlinewidth": 0,
              "ticks": ""
             }
            },
            "type": "scattercarpet"
           }
          ],
          "scattergeo": [
           {
            "marker": {
             "colorbar": {
              "outlinewidth": 0,
              "ticks": ""
             }
            },
            "type": "scattergeo"
           }
          ],
          "scattergl": [
           {
            "marker": {
             "colorbar": {
              "outlinewidth": 0,
              "ticks": ""
             }
            },
            "type": "scattergl"
           }
          ],
          "scattermapbox": [
           {
            "marker": {
             "colorbar": {
              "outlinewidth": 0,
              "ticks": ""
             }
            },
            "type": "scattermapbox"
           }
          ],
          "scatterpolar": [
           {
            "marker": {
             "colorbar": {
              "outlinewidth": 0,
              "ticks": ""
             }
            },
            "type": "scatterpolar"
           }
          ],
          "scatterpolargl": [
           {
            "marker": {
             "colorbar": {
              "outlinewidth": 0,
              "ticks": ""
             }
            },
            "type": "scatterpolargl"
           }
          ],
          "scatterternary": [
           {
            "marker": {
             "colorbar": {
              "outlinewidth": 0,
              "ticks": ""
             }
            },
            "type": "scatterternary"
           }
          ],
          "surface": [
           {
            "colorbar": {
             "outlinewidth": 0,
             "ticks": ""
            },
            "colorscale": [
             [
              0,
              "#0d0887"
             ],
             [
              0.1111111111111111,
              "#46039f"
             ],
             [
              0.2222222222222222,
              "#7201a8"
             ],
             [
              0.3333333333333333,
              "#9c179e"
             ],
             [
              0.4444444444444444,
              "#bd3786"
             ],
             [
              0.5555555555555556,
              "#d8576b"
             ],
             [
              0.6666666666666666,
              "#ed7953"
             ],
             [
              0.7777777777777778,
              "#fb9f3a"
             ],
             [
              0.8888888888888888,
              "#fdca26"
             ],
             [
              1,
              "#f0f921"
             ]
            ],
            "type": "surface"
           }
          ],
          "table": [
           {
            "cells": {
             "fill": {
              "color": "#EBF0F8"
             },
             "line": {
              "color": "white"
             }
            },
            "header": {
             "fill": {
              "color": "#C8D4E3"
             },
             "line": {
              "color": "white"
             }
            },
            "type": "table"
           }
          ]
         },
         "layout": {
          "annotationdefaults": {
           "arrowcolor": "#2a3f5f",
           "arrowhead": 0,
           "arrowwidth": 1
          },
          "coloraxis": {
           "colorbar": {
            "outlinewidth": 0,
            "ticks": ""
           }
          },
          "colorscale": {
           "diverging": [
            [
             0,
             "#8e0152"
            ],
            [
             0.1,
             "#c51b7d"
            ],
            [
             0.2,
             "#de77ae"
            ],
            [
             0.3,
             "#f1b6da"
            ],
            [
             0.4,
             "#fde0ef"
            ],
            [
             0.5,
             "#f7f7f7"
            ],
            [
             0.6,
             "#e6f5d0"
            ],
            [
             0.7,
             "#b8e186"
            ],
            [
             0.8,
             "#7fbc41"
            ],
            [
             0.9,
             "#4d9221"
            ],
            [
             1,
             "#276419"
            ]
           ],
           "sequential": [
            [
             0,
             "#0d0887"
            ],
            [
             0.1111111111111111,
             "#46039f"
            ],
            [
             0.2222222222222222,
             "#7201a8"
            ],
            [
             0.3333333333333333,
             "#9c179e"
            ],
            [
             0.4444444444444444,
             "#bd3786"
            ],
            [
             0.5555555555555556,
             "#d8576b"
            ],
            [
             0.6666666666666666,
             "#ed7953"
            ],
            [
             0.7777777777777778,
             "#fb9f3a"
            ],
            [
             0.8888888888888888,
             "#fdca26"
            ],
            [
             1,
             "#f0f921"
            ]
           ],
           "sequentialminus": [
            [
             0,
             "#0d0887"
            ],
            [
             0.1111111111111111,
             "#46039f"
            ],
            [
             0.2222222222222222,
             "#7201a8"
            ],
            [
             0.3333333333333333,
             "#9c179e"
            ],
            [
             0.4444444444444444,
             "#bd3786"
            ],
            [
             0.5555555555555556,
             "#d8576b"
            ],
            [
             0.6666666666666666,
             "#ed7953"
            ],
            [
             0.7777777777777778,
             "#fb9f3a"
            ],
            [
             0.8888888888888888,
             "#fdca26"
            ],
            [
             1,
             "#f0f921"
            ]
           ]
          },
          "colorway": [
           "#636efa",
           "#EF553B",
           "#00cc96",
           "#ab63fa",
           "#FFA15A",
           "#19d3f3",
           "#FF6692",
           "#B6E880",
           "#FF97FF",
           "#FECB52"
          ],
          "font": {
           "color": "#2a3f5f"
          },
          "geo": {
           "bgcolor": "white",
           "lakecolor": "white",
           "landcolor": "#E5ECF6",
           "showlakes": true,
           "showland": true,
           "subunitcolor": "white"
          },
          "hoverlabel": {
           "align": "left"
          },
          "hovermode": "closest",
          "mapbox": {
           "style": "light"
          },
          "paper_bgcolor": "white",
          "plot_bgcolor": "#E5ECF6",
          "polar": {
           "angularaxis": {
            "gridcolor": "white",
            "linecolor": "white",
            "ticks": ""
           },
           "bgcolor": "#E5ECF6",
           "radialaxis": {
            "gridcolor": "white",
            "linecolor": "white",
            "ticks": ""
           }
          },
          "scene": {
           "xaxis": {
            "backgroundcolor": "#E5ECF6",
            "gridcolor": "white",
            "gridwidth": 2,
            "linecolor": "white",
            "showbackground": true,
            "ticks": "",
            "zerolinecolor": "white"
           },
           "yaxis": {
            "backgroundcolor": "#E5ECF6",
            "gridcolor": "white",
            "gridwidth": 2,
            "linecolor": "white",
            "showbackground": true,
            "ticks": "",
            "zerolinecolor": "white"
           },
           "zaxis": {
            "backgroundcolor": "#E5ECF6",
            "gridcolor": "white",
            "gridwidth": 2,
            "linecolor": "white",
            "showbackground": true,
            "ticks": "",
            "zerolinecolor": "white"
           }
          },
          "shapedefaults": {
           "line": {
            "color": "#2a3f5f"
           }
          },
          "ternary": {
           "aaxis": {
            "gridcolor": "white",
            "linecolor": "white",
            "ticks": ""
           },
           "baxis": {
            "gridcolor": "white",
            "linecolor": "white",
            "ticks": ""
           },
           "bgcolor": "#E5ECF6",
           "caxis": {
            "gridcolor": "white",
            "linecolor": "white",
            "ticks": ""
           }
          },
          "title": {
           "x": 0.05
          },
          "xaxis": {
           "automargin": true,
           "gridcolor": "white",
           "linecolor": "white",
           "ticks": "",
           "title": {
            "standoff": 15
           },
           "zerolinecolor": "white",
           "zerolinewidth": 2
          },
          "yaxis": {
           "automargin": true,
           "gridcolor": "white",
           "linecolor": "white",
           "ticks": "",
           "title": {
            "standoff": 15
           },
           "zerolinecolor": "white",
           "zerolinewidth": 2
          }
         }
        },
        "title": {
         "text": "Distribuição dos rótulos no conjunto de dados"
        },
        "xaxis": {
         "anchor": "y",
         "domain": [
          0,
          1
         ],
         "title": {
          "text": "rótulo"
         }
        },
        "yaxis": {
         "anchor": "x",
         "domain": [
          0,
          1
         ],
         "tickformat": ",f",
         "title": {
          "text": "quantidade de rótulos"
         }
        }
       }
      },
      "text/html": [
       "<div>                            <div id=\"2cb55ef0-850a-4c6c-9d26-f32506a3f48f\" class=\"plotly-graph-div\" style=\"height:525px; width:100%;\"></div>            <script type=\"text/javascript\">                require([\"plotly\"], function(Plotly) {                    window.PLOTLYENV=window.PLOTLYENV || {};                                    if (document.getElementById(\"2cb55ef0-850a-4c6c-9d26-f32506a3f48f\")) {                    Plotly.newPlot(                        \"2cb55ef0-850a-4c6c-9d26-f32506a3f48f\",                        [{\"alignmentgroup\": \"True\", \"hovertemplate\": \"x=%{x}<br>y=%{y}<br>text=%{text}<extra></extra>\", \"legendgroup\": \"\", \"marker\": {\"color\": \"#636efa\"}, \"name\": \"\", \"offsetgroup\": \"\", \"orientation\": \"v\", \"showlegend\": false, \"text\": [\"50.00%\", \"50.00%\"], \"textposition\": \"auto\", \"type\": \"bar\", \"x\": [\"falsa\", \"verdadeira\"], \"xaxis\": \"x\", \"y\": [3600, 3600], \"yaxis\": \"y\"}],                        {\"barmode\": \"relative\", \"legend\": {\"tracegroupgap\": 0}, \"margin\": {\"t\": 60}, \"template\": {\"data\": {\"bar\": [{\"error_x\": {\"color\": \"#2a3f5f\"}, \"error_y\": {\"color\": \"#2a3f5f\"}, \"marker\": {\"line\": {\"color\": \"#E5ECF6\", \"width\": 0.5}}, \"type\": \"bar\"}], \"barpolar\": [{\"marker\": {\"line\": {\"color\": \"#E5ECF6\", \"width\": 0.5}}, \"type\": \"barpolar\"}], \"carpet\": [{\"aaxis\": {\"endlinecolor\": \"#2a3f5f\", \"gridcolor\": \"white\", \"linecolor\": \"white\", \"minorgridcolor\": \"white\", \"startlinecolor\": \"#2a3f5f\"}, \"baxis\": {\"endlinecolor\": \"#2a3f5f\", \"gridcolor\": \"white\", \"linecolor\": \"white\", \"minorgridcolor\": \"white\", \"startlinecolor\": \"#2a3f5f\"}, \"type\": \"carpet\"}], \"choropleth\": [{\"colorbar\": {\"outlinewidth\": 0, \"ticks\": \"\"}, \"type\": \"choropleth\"}], \"contour\": [{\"colorbar\": {\"outlinewidth\": 0, \"ticks\": \"\"}, \"colorscale\": [[0.0, \"#0d0887\"], [0.1111111111111111, \"#46039f\"], [0.2222222222222222, \"#7201a8\"], [0.3333333333333333, \"#9c179e\"], [0.4444444444444444, \"#bd3786\"], [0.5555555555555556, \"#d8576b\"], [0.6666666666666666, \"#ed7953\"], [0.7777777777777778, \"#fb9f3a\"], [0.8888888888888888, \"#fdca26\"], [1.0, \"#f0f921\"]], \"type\": \"contour\"}], \"contourcarpet\": [{\"colorbar\": {\"outlinewidth\": 0, \"ticks\": \"\"}, \"type\": \"contourcarpet\"}], \"heatmap\": [{\"colorbar\": {\"outlinewidth\": 0, \"ticks\": \"\"}, \"colorscale\": [[0.0, \"#0d0887\"], [0.1111111111111111, \"#46039f\"], [0.2222222222222222, \"#7201a8\"], [0.3333333333333333, \"#9c179e\"], [0.4444444444444444, \"#bd3786\"], [0.5555555555555556, \"#d8576b\"], [0.6666666666666666, \"#ed7953\"], [0.7777777777777778, \"#fb9f3a\"], [0.8888888888888888, \"#fdca26\"], [1.0, \"#f0f921\"]], \"type\": \"heatmap\"}], \"heatmapgl\": [{\"colorbar\": {\"outlinewidth\": 0, \"ticks\": \"\"}, \"colorscale\": [[0.0, \"#0d0887\"], [0.1111111111111111, \"#46039f\"], [0.2222222222222222, \"#7201a8\"], [0.3333333333333333, \"#9c179e\"], [0.4444444444444444, \"#bd3786\"], [0.5555555555555556, \"#d8576b\"], [0.6666666666666666, \"#ed7953\"], [0.7777777777777778, \"#fb9f3a\"], [0.8888888888888888, \"#fdca26\"], [1.0, \"#f0f921\"]], \"type\": \"heatmapgl\"}], \"histogram\": [{\"marker\": {\"colorbar\": {\"outlinewidth\": 0, \"ticks\": \"\"}}, \"type\": \"histogram\"}], \"histogram2d\": [{\"colorbar\": {\"outlinewidth\": 0, \"ticks\": \"\"}, \"colorscale\": [[0.0, \"#0d0887\"], [0.1111111111111111, \"#46039f\"], [0.2222222222222222, \"#7201a8\"], [0.3333333333333333, \"#9c179e\"], [0.4444444444444444, \"#bd3786\"], [0.5555555555555556, \"#d8576b\"], [0.6666666666666666, \"#ed7953\"], [0.7777777777777778, \"#fb9f3a\"], [0.8888888888888888, \"#fdca26\"], [1.0, \"#f0f921\"]], \"type\": \"histogram2d\"}], \"histogram2dcontour\": [{\"colorbar\": {\"outlinewidth\": 0, \"ticks\": \"\"}, \"colorscale\": [[0.0, \"#0d0887\"], [0.1111111111111111, \"#46039f\"], [0.2222222222222222, \"#7201a8\"], [0.3333333333333333, \"#9c179e\"], [0.4444444444444444, \"#bd3786\"], [0.5555555555555556, \"#d8576b\"], [0.6666666666666666, \"#ed7953\"], [0.7777777777777778, \"#fb9f3a\"], [0.8888888888888888, \"#fdca26\"], [1.0, \"#f0f921\"]], \"type\": \"histogram2dcontour\"}], \"mesh3d\": [{\"colorbar\": {\"outlinewidth\": 0, \"ticks\": \"\"}, \"type\": \"mesh3d\"}], \"parcoords\": [{\"line\": {\"colorbar\": {\"outlinewidth\": 0, \"ticks\": \"\"}}, \"type\": \"parcoords\"}], \"pie\": [{\"automargin\": true, \"type\": \"pie\"}], \"scatter\": [{\"marker\": {\"colorbar\": {\"outlinewidth\": 0, \"ticks\": \"\"}}, \"type\": \"scatter\"}], \"scatter3d\": [{\"line\": {\"colorbar\": {\"outlinewidth\": 0, \"ticks\": \"\"}}, \"marker\": {\"colorbar\": {\"outlinewidth\": 0, \"ticks\": \"\"}}, \"type\": \"scatter3d\"}], \"scattercarpet\": [{\"marker\": {\"colorbar\": {\"outlinewidth\": 0, \"ticks\": \"\"}}, \"type\": \"scattercarpet\"}], \"scattergeo\": [{\"marker\": {\"colorbar\": {\"outlinewidth\": 0, \"ticks\": \"\"}}, \"type\": \"scattergeo\"}], \"scattergl\": [{\"marker\": {\"colorbar\": {\"outlinewidth\": 0, \"ticks\": \"\"}}, \"type\": \"scattergl\"}], \"scattermapbox\": [{\"marker\": {\"colorbar\": {\"outlinewidth\": 0, \"ticks\": \"\"}}, \"type\": \"scattermapbox\"}], \"scatterpolar\": [{\"marker\": {\"colorbar\": {\"outlinewidth\": 0, \"ticks\": \"\"}}, \"type\": \"scatterpolar\"}], \"scatterpolargl\": [{\"marker\": {\"colorbar\": {\"outlinewidth\": 0, \"ticks\": \"\"}}, \"type\": \"scatterpolargl\"}], \"scatterternary\": [{\"marker\": {\"colorbar\": {\"outlinewidth\": 0, \"ticks\": \"\"}}, \"type\": \"scatterternary\"}], \"surface\": [{\"colorbar\": {\"outlinewidth\": 0, \"ticks\": \"\"}, \"colorscale\": [[0.0, \"#0d0887\"], [0.1111111111111111, \"#46039f\"], [0.2222222222222222, \"#7201a8\"], [0.3333333333333333, \"#9c179e\"], [0.4444444444444444, \"#bd3786\"], [0.5555555555555556, \"#d8576b\"], [0.6666666666666666, \"#ed7953\"], [0.7777777777777778, \"#fb9f3a\"], [0.8888888888888888, \"#fdca26\"], [1.0, \"#f0f921\"]], \"type\": \"surface\"}], \"table\": [{\"cells\": {\"fill\": {\"color\": \"#EBF0F8\"}, \"line\": {\"color\": \"white\"}}, \"header\": {\"fill\": {\"color\": \"#C8D4E3\"}, \"line\": {\"color\": \"white\"}}, \"type\": \"table\"}]}, \"layout\": {\"annotationdefaults\": {\"arrowcolor\": \"#2a3f5f\", \"arrowhead\": 0, \"arrowwidth\": 1}, \"coloraxis\": {\"colorbar\": {\"outlinewidth\": 0, \"ticks\": \"\"}}, \"colorscale\": {\"diverging\": [[0, \"#8e0152\"], [0.1, \"#c51b7d\"], [0.2, \"#de77ae\"], [0.3, \"#f1b6da\"], [0.4, \"#fde0ef\"], [0.5, \"#f7f7f7\"], [0.6, \"#e6f5d0\"], [0.7, \"#b8e186\"], [0.8, \"#7fbc41\"], [0.9, \"#4d9221\"], [1, \"#276419\"]], \"sequential\": [[0.0, \"#0d0887\"], [0.1111111111111111, \"#46039f\"], [0.2222222222222222, \"#7201a8\"], [0.3333333333333333, \"#9c179e\"], [0.4444444444444444, \"#bd3786\"], [0.5555555555555556, \"#d8576b\"], [0.6666666666666666, \"#ed7953\"], [0.7777777777777778, \"#fb9f3a\"], [0.8888888888888888, \"#fdca26\"], [1.0, \"#f0f921\"]], \"sequentialminus\": [[0.0, \"#0d0887\"], [0.1111111111111111, \"#46039f\"], [0.2222222222222222, \"#7201a8\"], [0.3333333333333333, \"#9c179e\"], [0.4444444444444444, \"#bd3786\"], [0.5555555555555556, \"#d8576b\"], [0.6666666666666666, \"#ed7953\"], [0.7777777777777778, \"#fb9f3a\"], [0.8888888888888888, \"#fdca26\"], [1.0, \"#f0f921\"]]}, \"colorway\": [\"#636efa\", \"#EF553B\", \"#00cc96\", \"#ab63fa\", \"#FFA15A\", \"#19d3f3\", \"#FF6692\", \"#B6E880\", \"#FF97FF\", \"#FECB52\"], \"font\": {\"color\": \"#2a3f5f\"}, \"geo\": {\"bgcolor\": \"white\", \"lakecolor\": \"white\", \"landcolor\": \"#E5ECF6\", \"showlakes\": true, \"showland\": true, \"subunitcolor\": \"white\"}, \"hoverlabel\": {\"align\": \"left\"}, \"hovermode\": \"closest\", \"mapbox\": {\"style\": \"light\"}, \"paper_bgcolor\": \"white\", \"plot_bgcolor\": \"#E5ECF6\", \"polar\": {\"angularaxis\": {\"gridcolor\": \"white\", \"linecolor\": \"white\", \"ticks\": \"\"}, \"bgcolor\": \"#E5ECF6\", \"radialaxis\": {\"gridcolor\": \"white\", \"linecolor\": \"white\", \"ticks\": \"\"}}, \"scene\": {\"xaxis\": {\"backgroundcolor\": \"#E5ECF6\", \"gridcolor\": \"white\", \"gridwidth\": 2, \"linecolor\": \"white\", \"showbackground\": true, \"ticks\": \"\", \"zerolinecolor\": \"white\"}, \"yaxis\": {\"backgroundcolor\": \"#E5ECF6\", \"gridcolor\": \"white\", \"gridwidth\": 2, \"linecolor\": \"white\", \"showbackground\": true, \"ticks\": \"\", \"zerolinecolor\": \"white\"}, \"zaxis\": {\"backgroundcolor\": \"#E5ECF6\", \"gridcolor\": \"white\", \"gridwidth\": 2, \"linecolor\": \"white\", \"showbackground\": true, \"ticks\": \"\", \"zerolinecolor\": \"white\"}}, \"shapedefaults\": {\"line\": {\"color\": \"#2a3f5f\"}}, \"ternary\": {\"aaxis\": {\"gridcolor\": \"white\", \"linecolor\": \"white\", \"ticks\": \"\"}, \"baxis\": {\"gridcolor\": \"white\", \"linecolor\": \"white\", \"ticks\": \"\"}, \"bgcolor\": \"#E5ECF6\", \"caxis\": {\"gridcolor\": \"white\", \"linecolor\": \"white\", \"ticks\": \"\"}}, \"title\": {\"x\": 0.05}, \"xaxis\": {\"automargin\": true, \"gridcolor\": \"white\", \"linecolor\": \"white\", \"ticks\": \"\", \"title\": {\"standoff\": 15}, \"zerolinecolor\": \"white\", \"zerolinewidth\": 2}, \"yaxis\": {\"automargin\": true, \"gridcolor\": \"white\", \"linecolor\": \"white\", \"ticks\": \"\", \"title\": {\"standoff\": 15}, \"zerolinecolor\": \"white\", \"zerolinewidth\": 2}}}, \"title\": {\"text\": \"Distribui\\u00e7\\u00e3o dos r\\u00f3tulos no conjunto de dados\"}, \"xaxis\": {\"anchor\": \"y\", \"domain\": [0.0, 1.0], \"title\": {\"text\": \"r\\u00f3tulo\"}}, \"yaxis\": {\"anchor\": \"x\", \"domain\": [0.0, 1.0], \"tickformat\": \",f\", \"title\": {\"text\": \"quantidade de r\\u00f3tulos\"}}},                        {\"responsive\": true}                    ).then(function(){\n",
       "                            \n",
       "var gd = document.getElementById('2cb55ef0-850a-4c6c-9d26-f32506a3f48f');\n",
       "var x = new MutationObserver(function (mutations, observer) {{\n",
       "        var display = window.getComputedStyle(gd).display;\n",
       "        if (!display || display === 'none') {{\n",
       "            console.log([gd, 'removed!']);\n",
       "            Plotly.purge(gd);\n",
       "            observer.disconnect();\n",
       "        }}\n",
       "}});\n",
       "\n",
       "// Listen for the removal of the full notebook cells\n",
       "var notebookContainer = gd.closest('#notebook-container');\n",
       "if (notebookContainer) {{\n",
       "    x.observe(notebookContainer, {childList: true});\n",
       "}}\n",
       "\n",
       "// Listen for the clearing of the current output cell\n",
       "var outputEl = gd.closest('.output');\n",
       "if (outputEl) {{\n",
       "    x.observe(outputEl, {childList: true});\n",
       "}}\n",
       "\n",
       "                        })                };                });            </script>        </div>"
      ]
     },
     "metadata": {},
     "output_type": "display_data"
    }
   ],
   "source": [
    "aux = df_corpus['label'].value_counts().reset_index(name='qtd_rotulos').rename(columns={'index':'rotulo'})\n",
    "aux['pct_rotulos'] = aux['qtd_rotulos']/aux['qtd_rotulos'].sum()\n",
    "\n",
    "aux_x = aux['rotulo'].map({1:'falsa',0:'verdadeira'})\n",
    "aux_y = aux['qtd_rotulos']\n",
    "aux_text = aux['pct_rotulos'].apply(lambda x: '{:.2f}%'.format(x*100))\n",
    "\n",
    "plot_bar(aux_x,aux_y,aux_text,'Distribuição dos rótulos no conjunto de dados',\n",
    "         'rótulo','quantidade de rótulos')"
   ]
  },
  {
   "cell_type": "markdown",
   "metadata": {},
   "source": [
    "# Pré Processamento"
   ]
  },
  {
   "cell_type": "code",
   "execution_count": 14,
   "metadata": {
    "ExecuteTime": {
     "end_time": "2021-05-16T01:35:04.576655Z",
     "start_time": "2021-05-16T01:35:04.489263Z"
    },
    "scrolled": true
   },
   "outputs": [
    {
     "name": "stdout",
     "output_type": "stream",
     "text": [
      "600\n",
      "O prefeito mais humilde do Brasil  Exemplo pro Brasil. Flagrante do prefeito de uma das cidades mais ricas do Espírito Santo em pleno sábado a tarde (dia de folga) fazendo uma coisa que você nunca viu político nenhum do mundo fazer. Serginho Meneguelli é um político estreante que está levando humanidade para a administração pública. No dia de sua posse ele foi para a cerimônia de bicicleta por morar próximo a prefeitura e acreditar que a mobilidade urbana por veículos individuais além de elevar a poluição ainda aumenta os congestionamentos. No vídeo percebemos o prefeito em pleno sabadão, que para outros prefeitos seria um dia de folga, fazendo um jardim com as próprias mãos para economizar dinheiro público e elevar o nível de amor e zelo da população para com os logradouros públicos.\n",
      "\n",
      "Ajude a compartilhar este exemplo para inspirar outros prefeitos do Brasil.\n",
      "601\n",
      "NASA anuncia descoberta de 7 novos planetas. Um deles é semelhante à Terra e há chances de possuir vida.  Uma equipe internacional de astrônomos detectou 7 sete planetas semelhantes à Terra fora do sistema solar.  ( NASA ) Em três deles, há grandes chances de existir água em estado líquido, o que seria essencial para a vida. Os planetas descobertos têm massa aproximados ao da Terra e orbitam uma estrela anã fria, a TRAPPIST-1. A revelação sugere que, com exceção da estrela fria, os outros seis planetas são potencialmente habitáveis. Segundo os cientistas, o planeta mais próximo da Terra, o Próxima b , possui temperatura adequada para ter água líquida em sua superfície e eventualmente vida. O Próxima b tem uma massa 1,3 vezes superior à da Terra. Spitzer, um telescópio infravermelho que rastreia a Terra à medida que orbita o sol, era adequado para estudar somente a estrela fria TRAPPIST-1 porque a estrela brilha com a luz infravermelha. No outono de 2016, o Spitzer observou TRAPPIST-1 quase continuamente por 500 horas e conseguiu avistar os sete planetas orbitando a estrela anfitriã. \"Este é o resultado mais emocionante que eu vi nos 14 anos de operações da Spitzer\", disse Sean Carey, gerente do Centro de Ciências Spitzer da NASA,em Pasadena, Califórnia. abaixo o vídeo da apresentação:\n",
      "602\n",
      "Dória foi a primeira autoridade do Brasil a ser recebida por um príncipe de Abu Dhabi.  Em sua viagem pelo Oriente Médio, em busca de investimentos para a cidade de São Paulo, o prefeito João Doria teve uma grata surpresa.  Em um de seus encontros a portas fechadas, ele foi recebido pelo príncipe Hamed Bin Zayed Al Nahyan, irmão do presidente de Abu Dhabi, capital dos Emirados Árabes Unidos e também o maior de todos os Emirados. Parafraseando o ex-presidente que adora enterrar dinheiro brasileiro em territórios comunistas: Nunca antes na história deste país , uma autoridade brasileira havia se encontrado com príncipe Hamed . Dono de uma fortuna avaliada em mais de 10 bilhões de dólares, ele conversou com Dória por mais de uma hora. O Khalifa é conhecido por suas generosas doações para hospitais e organizações de ajuda humanitária. Ao encerrar a reunião, o prefeito de São Paulo perguntou para o príncipe porque ele o recebeu. A resposta foi curta e grossa: \"O senhor é um gestor. Por isso, lhe recebi. Não gosto de políticos\".\n",
      "603\n",
      "Dinheiro Público: Em 2010, Lula doou R$ 25 milhões ao grupo extremista Hamas através de decreto.  O PT, através do ex-presidente Lula, doou dinheiro público (dinheiro dos brasileiros) para o terror.  Dinheiro esse que deveria ser usado para saneamento básico, saúde, educação,segurança, infra-estrutura, combate à microcefalia,etc... Você duvida? Está no site do Planalto e no do Diário Oficial da União (DOU) Esse dinheiro foi destinado a partir da criação da lei 12292 de 2010. Veja a lei no site do pl analto: http:\n",
      "604\n",
      "Aos poucos, o Brasil vai se tornando uma Venezuela. Logo teremos ocupação militar em 100% do território.  A notícia foi publicada no Diário Oficial da União.  (Amanda Nunes Brückner) É claro que se trata de mais uma \"mala direta\" do Governo Federal para fazer propaganda de \"supostas\" ações positivas de Michel Temer, mas vamos ao que interessa. Os governos (estadual e federal) perderam o controle da situação no que diz respeito à segurança pública! Além dos estados do Espírito Santo, Amazonas e Rio de Janeiro , o ministério da Justiça autorizou hoje (20) o uso da Força Nacional de Segurança Pública para os estados do Rio Grande do Sul, Rio Grande do Norte e Sergipe . A deliberação está publicada no Diário Oficial da União (DOU) desta segunda-feira. O \"reforço\" terá como objetivo a redução de homicídios, violência contra a mulher e o crime organizado em geral. Resumindo, o Brasil tem hoje 27 estados (incluindo o DF). Mais de 20% (6 estados) do país já está tomado por tropas \"não convencionais\". No ritmo que estamos evoluindo, até o início de 2018 teremos todo o território tomado pelos militares. Será que isso é bom?\n",
      "605\n",
      "Bandidos atacam viatura do Sargento mais famoso do Brasil.  Na última segunda-feira (20) uma equipe da ROTAM do Paraná, comandada pelo Sargento Fahur, foi atacada por bandidos fortemente armados.  O sargento Fahur, certamente um dos policiais na ativa mais famosos do país, é conhecido por tratar bandido como \"bandido\". Após uma intensa troca de tiros, os suspeitos fugiram, mas não foram localizados. Segundo a polícia, esses indivíduos fazem parte de uma quadrilha especializada em roubos. Ouça o depoimento do sargento:\n",
      "606\n",
      "O PT fazendo fama no mundo: \"O legado olímpico brasileiro de US$ 12 bilhões está em ruínas\". .  Uma reportagem do britânico Daily Mail publicada hoje (20) está fazendo o país passar vergonha em todo o planeta. Obrigado Lula, obrigado Dilma e obrigado Michel Temer! leia abaixo um trecho da matéria: Bilhões de dólares foram gastos para levar o evento esportivo para o Brasil com um custo total estimado em cerca de 12 bilhões de dólares. Agora o legado olímpico está em ruínas e novas fotos revelaram como as arenas estão se desintegrando. Dois anos antes, o Ministério dos Esportes declarou que foram gastos US$ 11,63 bilhões para levar a Copa do Mundo para o país. O governo não ouviu o clamor dos brasileiros que foram às ruas para protestar contra a enorme despesa em um momento que os serviços públicos estavam caóticos. O New York Times teve acesso a relatórios que apontam que o Rio de Janeiro prevê um déficit orçamentário de US$ 1 bilhão em 2017, com o orçamento do Estado chegando a US$ 6 bilhões. O Rio também deve US$ 10 bilhões em empréstimos. É isso aí! Parabéns senhor Luiz Inácio! Parabéns Cabral! Parabéns Eduardo Paes! Vocês fizeram história.\n",
      "607\n",
      "Durante sabatina de Moraes, senadora faz perguntas baseadas em informações que ela leu no \"ZAP-ZAP\".  A senadora Regina Souza (PT-PI) está fazendo algumas perguntas para o sabatinado Alexandre de Moraes neste exato momento.  (Patrícia Moraes Carvalho) Regina é aquela senadora que, durante a votação do impeachment de Dilma, berrava aos 4 cantos: \"É gópi...É gópi...É gópi\" Agora ela inovou novamente. Entre as várias perguntas que ela está \"tentando\" fazer, surgem frases curiosas como: \"Senhor Alexandre, eu vi no ZAP que a violência no país blá blá blá ...\" \"Senhor Alexandre, o que poderia dizer sobre o aumento da criminalidade no país? Eu vi no ZAP que ...\" \"Sobre os vazamentos seletivos, o que o senhor tem a dizer ? Eu recebi no ZAP ...\" Pelo amor de DEUS! Como é que uma Senadora da República pode fazer perguntas para um (quem sabe) futuro ministro do STF baseada em informações do ZAP, quer dizer, whatsapp? Parafraseando o grande Renato Russo: QUE PAÍS É ESSE?\n",
      "608\n",
      "URGENTE: Velloso recusa convite de Temer para assumir Ministério da Justiça. .  O ex-ministro do STF Carlos Velloso telefonou agora a tarde para Temer e decidiu recusar o convite feito pelo Presidente para que ele assumisse a pasta da Justiça. Informações extra-oficiais apontam que Velloso decidiu ouvir a família e focar em seus interesses pessoais. O magistrado soltará uma nota pessoal ainda hoje.\n",
      "609\n",
      "Jucá analisa o fim do foro privilegiado e usa linguagem de butiquim.  Para quem criticava Lula e Dilma pela \"falta\" de vocabulário, eis que surge Romero Jucá com seu \"excesso\" de vocabulário.  Há um ditado que diz: \"Nunca se ache demais, pois tudo que é demais sobra\" O vocabulário do nobre senador Jucá, também conhecido pela Lava-Jato como Caju, está extrapolando os limites do normal. Vamos explicar: No dia de hoje, deputados da base do governo e também da oposição cogitaram aprovar uma PEC para retirar o foro privilegiado de magistrados e membros do MPF. A chantagem está sendo colocada em pauta porque o STF poderá restringir o foro dos políticos somente para crimes cometidos durante o mandato atual. Ou seja, vários políticos envolvidos na Lava-Jato cometeram crimes antes e durante seus atuais mandatos [...] No quesito \"durante o mandato atual\" eles ficariam protegidos, já no quesito \" antes do mandato atual\" eles passariam a responder pelos delitos em primeira instância e correriam o risco de perder a \"licença eterna de lesa-pátria\". Retomando o raciocínio do primeiro parágrafo, Romero Jucá apareceu para analisar o fato usando seu rico vocabulário ... rico em besteirol: \"Se acabar o foro, que seja para todos. Suruba é suruba. Aí sim ... todos ficarão na suruba, e não será uma suruba selecionada\" , disse o senador em entrevista ao Broadcast Político do Estadão.\n",
      "610\n",
      "Ele contou que entregou propina a pedido de um amigo. Dias depois,o amigo morreu. .  Almeida conta que era amigo íntimo de Fernando de Arruda Botelho, um acionista da Camargo Corrêa que morreu em um acidente aéreo. Para ele, seu amigo foi assassinado para encobrir um esquema de corrupção na empresa. O acidente aconteceu na tarde de uma sexta-feira 13 (abril de 2012), quando Arruda Botelho (o acionista da Camargo Corrêa) e o piloto Sérgio foram carbonizados após o avião em que voavam cair nas proximidades de um aeródromo na cidade de São Carlos, SP. Abaixo a narração de Almeida: \"Levei uma mala de dólares para Lula\", disse na reportagem. Os valores não foram revelados, porém ele contou detalhes do transporte da suposta mala: \"Ela foi entregue para um funcionário da Morro Vermelho (a mesma empresa do avião que caiu com o empresário Arruda Botelho), William Steinmeyer, a quem ficou encarregado de entregar para o ex-presidente. O dinheiro estava em um saco, dentro da mala. Eu entreguei o saco com os valores e trouxe a mala de volta\" Almeida disse que após alguns dias, Lula apareceu (junto com um segurança) para recolher o pacote: \"Ele ficou de ajudar a fechar um contrato com a Petrobras, algo em torno de R$ 100 milhões\" , contou. Além de Lula, o Davincci também disse que entregou malas cheias para funcionários da Petrobras, em outras ocasiões. Eita Brasil! Corrupção mata mesmo [...] eita país pra cair avião! (reportagem da Revista IstoÉ )\n",
      "611\n",
      "Delação da Odebrecht pode colocar Aécio no camburão da Federal. Após a homologação da superdelação da Odebrecht  77 executivos, ex-executivos e funcionários da empreiteira -, a Procuradoria-Geral da República vai abrir novo inquérito para investigar o senador Aécio Neves (PSDB).\n",
      "\n",
      "O tucano vai ser investigado por suspeita de recebimento de valores supostamente desviados das obras da Cidade Administrativa na gestão de Aécio no governo de Minas (2003/2010). O empreendimento foi orçado em * R$ 500 milhões * , mas teria alcançado a cifra aproximada de * R$ 2 bilhões. * Este R$ 1,5 bilhão pode complicar a vida do senador mineiro. A Procuradoria-Geral da República vai pedir ao Supremo Tribunal Federal autorização para abrir o inquérito. Na condição de senador, Aécio tem foro privilegiado perante a Corte máxima.\n",
      "\n",
      "O tucano teria recebido dinheiro de empreiteiras contratadas para a construção da Cidade Administrativa, * entre elas a Odebrecht * , OAS e Andrade Gutierrez, todas citadas no esquema de cartelização e propinas instalado na Petrobrás entre 2004 a 2014 e desmascarado pela Operação Lava Jato.\n",
      "\n",
      "Procurada, a assessoria do senador informou que não ia se manifestar.\n",
      "612\n",
      "Duas novas operações da PF vão estremecer o Brasil. O mundo político vai virar pó!.  Rodrigo Janot e a força-tarefa da Lava Jato estão preparando duas mega operações que vão implodir o mundo político em Brasília e São Paulo.  a informação é do blog Coluna Esplanada , de Leandro Mazzini As operações serão chamadas de \"Senatus\" e \"do Barba\" [as fases não terão necessariamente esses nomes, mas os focos serão o SENADO e o ex-presidente LULA] A Lava Jato deverá ter como alvo principal o Senado Brasileiro, devido às delações de Sérgio Machado, ex-presidente da Transpetro e do ex-senador Delcídio do Amaral. Ao menos quatro senadores estão na mira das operações: Renan Calheiros, Romero Jucá , Edison Lobão e Fernando Collor. A PGR ainda não decidiu se pedirá ao STF autorização para prisões ou apenas condução coercitiva, o que incluirá mandados de busca e apreensão em gabinetes e residências. O GOLPE DE MISERICÓRDIA Já a próxima fase da Lava-Jato será a mais bombástica . De acordo com informações da Coluna Esplanada, essa operação irá cercar o ex-presidente Luiz Inácio Lula da Silva e o seu Instituto. Comentário de Boechat, na IstoÉ, feito ontem (17) Na reta final da sabatina para o STF, Alexandre de Moraes provocou polêmica. Em reunião reservada com senadores ele afirmou que após o Carnaval virão novas ações da força-tarefa, tendo como alvo muitos políticos. leia também: 16/02/2017\n",
      "613\n",
      "Jucá diz que todo mundo está citado na Lava-Jato: \"Execução de políticos em praça pública resolve?\".  Em entrevista para o Estado de Minas, o senador Romero Jucá afirmou que não (sic...) é contra a Lava-Jato.  O parlamentar reclamou que a operação está muito devagar e não define de vez quem tem culpa e quem é inocente. Ele comentou que a Lava-Jato jogou uma \"nuvem sombria\" sobre a classe política. Será que não foram os políticos que jogaram uma \"nuvem sombria\" sobre a população? Caju, digo Jucá, destacou: \"Todo mundo está citado.Vingança e execução em praça pública não são as melhores formas de se resolver a política.\" É sim caro senador. Execução em praça pública é perfeito. Faça uma enquete com os brasileiros e verá que é assim que se estanca a sangria! E outra coisa: Não fale pelo senhor. Não generalize! Há bons políticos que sequer apareceram em delações e relatórios da PF.\n",
      "614\n",
      "Delator confirma que repassou R$ 21 milhões [ao PT e ao PMDB] em propinas da Usina de Belo Monte.  O delator da Lava-Jato Luiz Carlos Martins [engenheiro ligado à Camargo Corrêa] confirmou ter repassado cerca de R$ 21 milhões em propina para o PT e PMDB referentes às obras da Usina de Belo Monte.  Luiz Carlos declarou que, em 2011, levou ao presidente da Camargo Corrêa, Dalton Avancini, a \"cobrança\" que lhe havia sido feita pelo então presidente da Andrade Gutierrez Energia, Flávio Barra. \"No sentido de que 1% dos valores desembolsados no contrato das obras civis de Belo Monte deveria ser encaminhado ao Partido dos Trabalhadores (PT) e ao Partido do Movimento Democrático Brasileiro (PMDB)\" relatou\n",
      "615\n",
      "Não é calúnia, é fato! Juíza absolve apresentador que chamou Lula de chefe de quadrilha.  O apresentador e historiador Marco Antônio Villa foi absolvido das acusações de calúnia pelo ex-presidente Lula.  Na decisão, a juíza Eliana Cassales Tosi, da 30a Vara Criminal de São Paulo, argumetou: \" ... mesmo tendo algum \"conteúdo ofensivo\", não extrapola a opinião e a crítica à atuação política de Lula como administrador público [...] pessoas públicas estão sujeitas a críticas e opiniões do público, inevitáveis em um regime democrático\". O ex-presidente queria processar Villa por um comentário feito no Jornal da Cultura, quando o historiador citou Lula \"chefe de quadrilha\" e mentor de esquemas de propina. Para encerrar o despacho, a magistrada ainda disse: \"...as expressões utilizadas pelo querelado, ainda que veementes e mordazes, não são aptas à tipificação de crimes de injúria\" O procurador Geral da República, Rodrigo Janot, já havia declarado no último ano que: \"Lula é o chefe da organização criminosa que tomou de assalto os cofres públicos\"\n",
      "616\n",
      "ARREGOU! Após pressão da população, Romero Jucá retira \"PEC da sangria\" da tramitação no senado.  Caju não aguentou a pressão das redes sociais.  O senador Romero Jucá (aquele do pacto para \"estancar a sangria\" da Lava Jato), desistiu do projeto para blindar os presidentes da Câmara, do Senado e do STF. A proposta de emenda constitucional foi protocolada às 18:00h de hoje. Agora pouco, a assessoria de Jucá emitiu uma nota: \"A pedido do presidente do Senado, Eunício Oliveira, o senador Romero Jucá solicitou a retirada da tramitação da PEC 3, de 2017, que altera o artigo 86. \" Ferraço está colhendo assinaturas para uma PEC que proíbe que réus em processos penais ocupem os cargos de chefia. Além dos cargos de poder no senado a câmara, a regra valeria também os presidentes de assembleias, câmara de vereadores, prefeitos e governadores. Ou seja, se tem processo não pode ocupar cargo público de chefia. Aí sim!\n",
      "617\n",
      "O vídeo que fez com que Maduro expulsasse a CNN da Venezuela.  Na última quarta-feira (15), autoridades da Venezuela ordenaram que o canal CNN Espanhol fosse retirado do ar imediatamente.  Maduro (a besta comunista) acusou a principal emissora da América Latina de fazer \"propaganda de guerra\" contra o governo. Também foi ordenado que a Conatel (Comisión Nacional de Telecomunicaciones) abrisse um \"procedimento administrativo\" contra a \"CNN\" por \"atentado contra a paz e a estabilidade democrática\" do país. Como é que um bandido e ladrão desses, que diga-se de passagem é aliado de Dilma e Lula, pode tomar uma atitude dessas e ainda citar o nome \"democracia\" ? Maduro é um pilantra da pior qualidade! Abaixo o real motivo que fez a CNN ser expulsa do país. O canal reproduziu um pequeno vídeo (filmado por um cidadão venezuelano) que mostra o povo procurando comida em um caminhão de lixo.\n",
      "618\n",
      "Cunha vai implodir a política brasileira após STF negar habeas corpus.  A República Federativa do Brasil atingiu um ponto crítico.  (Patrícia Carvalho de Curitiba para o Diário do Brasil) Deputados, senadores, ministros, ex-presidentes, enfim, a \"nata corrupta\" da velha política brasileira está sendo desmascarada pelos ótimos trabalhos do MPF em conjunto com a Polícia Federal. Não há o que se discutir. As Forças Militares deverão ser convocadas para agir a favor do povo e colocar ordem no país. Todas as instituições deverão ser reformuladas imediatamente. Quando Eduardo Cunha abrir a boca, vai sobrar até para o Presidente da República [...] disso não há a menor dúvida! Somente as Forças Armadas poderão garantir a lei e a ordem até que novas eleições diretas possam ocorrer [...] em clima de paz. QUE DEUS ABENÇOE O BRASIL! leia também:\n",
      "619\n",
      "Imagina esse cara no debate em 2018: \"Cadeia é lugar para tirar o canalha da sociedade e não para recuperá-lo\".  \"Cadeia é igual coração de mãe ... sempre cabe mais\" Bolsonaro.  \"A violência está aí [...] o povo fica com pena de marginais. Esse pessoal não tem recuperação! Tem gente que fica com pena de presidiário [...] lá (na cadeia) é o lugar deles pagarem seus pecados.\" \"O objetivo da cadeia é tirar o canalha da sociedade e não recuperá-lo [...] e quem acha que tem recuperação, que dê exemplo: leve o cara pra trabalhar na sua casa e deixa ele dirigir o carro da tua esposa ou da tua filha\"\n",
      "620\n",
      "Aos 63 anos, Chico Pinheiro é afastado de telejornal para tratar de problemas cardíacos. .  Na noite da última segunda(13) , o jornalista foi submetido a uma angioplastia com stent, prática comum para manter uma artéria coronariana aberta e sustentar o fluxo sanguíneo, evitando assim o acúmulo de gordura. Chico está afastado desde o início da semana. Oficialmente, a Globo não confirmou que ele tenha feito o procedimento, porém não negou. Alguns internautas questionaram a ausência de Chico no jornal e ele respondeu pelas redes sociais: \"Doente não, estou na prevenção\", disse no último dia 14. \"Estou deitado, fazendo check-up\", postou na quarta (15). Aos 63 anos , Pinheiro vem monitorando a saúde de seu coração há anos: \" Vou transmitir o Carnaval de São Paulo, como faço há 15 anos\": disse Chico nas redes sociais.\n",
      "621\n",
      "STF decide que presos mantidos em cadeias superlotadas receberão indenização: \"Fere a decência dos cidadãos\".  O Supremo decidiu hoje que os presos que estejam sendo mantidos em cadeias superlotadas terão direito a receber indenização da administração pública.  Magistrados de todo Brasil poderão aplicar esse entendimento nos processos. O valor da benesse do preso será fixado pela Justiça, de acordo com cada situação. O ministro Celso de Mello, o mais antigo integrante do tribunal, argumentou: \"Há no Brasil um estado de coisas resultantes da omissão do poder público [...] uma situação patológica gerada pela inércia do estado [...] e fere a decência dos cidadãos [...] esse comportamento por parte do Estado é inaceitável.\"\n",
      "622\n",
      "Esquerdopatas agridem a mãe de Jair Bolsonaro. Os esquerdopatas chegaram ao limite mais extremo da falta de respeito. Agrediram a mãe do Deputado Federal Jair Messias Bolsonaro. Merecem ser processados e condenados o mais urgente possível.\n",
      "\n",
      "No último domingo, dia 29 de janeiro, o deputado federal Jair Messias Bolsonaro, do PSC, fez uma postagem na sua página oficial do Facebook com certeza não esperando o que viria a seguir. A postagem apenas desejava um bom domingo aos seus seguidores e continha uma foto de uma moça segurando um cartaz que dizia Bolsonaro me representa. Prefiro presídio cheio de vagabundo do que cemitério cheio de inocentes. Na seção de comentários da publicação, que chegava a cento e sessenta e cinco mil curtidas e trinta e sete mil compartilhamentos, um apoiador de #bolsonaro publicou uma imagem de Olinda Bolsonaro, mãe de Jair Bolsonaro. A imagem tinha escrito esta senhora gerou Jair Bolsonaro, quantos likes ela merece? e tinha quase seis mil curtidas dez horas após o comentário ser feito. Porém, entre elogios à dona Olinda, que tem 90 anos de idade, alguns comentários destacaram-se e geraram problemas com seguidores de Bolsonaro por atacarem a integridade de sua mãe.\n",
      "\n",
      "Seguidores mencionam comentários de um homem que teria dito que Dona Olinda deveria ter abortado o nosso futuro presidente, mas apagou suas declarações depois de receber críticas de muitos apoiadores de Bolsonaro e defensores de Olinda. Outros comentários odiosos, porém, não foram apagados  um, bastante agressivo, dizia deve ser uma demente e quando ela morrer, vai sofrer na mão do diabo por ter parido outro diabo pra concorrer com o satanás. Velha safada, disseram alguns comentários, também chamando-a de profissional do sexo. Outros diziam que Dona Olinda não teria parido Jair Bolsonaro, cagou ele, você quer dizer, né?\n",
      "\n",
      "Crime contra a Honra: Art. 140  Injuriar alguém, ofendendo lhe a dignidade ou o decoro: Pena  detenção, de um a seis meses, ou multa. § 3o Se a injúria consiste na utilização de elementos referentes a condição de pessoa idosa ou portadora de deficiência: Pena  reclusão de um a três anos e multa. É um crime de Ação Penal Privada.\n",
      "623\n",
      "26,4% dos brasileiros acham que Temer apoia a Lava-Jato. O restante acha que ele quer \"estancar a sangria\".  O levantamento foi feito pelo Instituto Paraná Pesquisas em todos os estados do país, entre 12 e 15 de fevereiro.  De acordo com a pesquisa, 44% dos entrevistados acham que Michel Temer (PMDB) é contra o andamento da Operação Lava Jato. 23,9% disseram que Temer \"nem apoia [...] nem é contra\" 26,4% dizem que o presidente apoia o combate à corrupção no país. Apoia  26,4% Não apoia, nem é contra  23,9% É contra  44,3% Não sabe/ não opinou  5,5%\n",
      "624\n",
      "STF nega pedido de habeas corpus feito em nome de Lula. Documento comparou o petista a Getúlio Vargas.  A petição foi classificada como \"confusa\" pela presidente da Suprema Corte.  Cármen Lúcia informou que não é incumbência do Supremo julgar um habeas corpus contra futuras decisões de juízes federais. O pedido foi negado e os argumentos do autor nem mesmo foram analisados. A ministra determinou que o documento seja enviado para o Tribunal Regional Federal da 4a Região (TRF4), em Porto Alegre. É para TRF4 que devem ser endereçados os recursos contra as decisões de Moro. O cidadão que tentou defender Lula é apenas um estagiário do curso de direito, de acordo com o cadastro OAB. \"Uma eventual prisão de Lula causará enorme clamor social\" , que pode ser comparado ao suicídio do ex-presidente Getúlio Vargas, em 1954. Na argumentação do estagiário, Lula está sofrendo coação de liberdade por abusos cometidos pelo juiz Sérgio Moro: \"Sem sombra de dúvida, estamos diante de um CAOS judicial, onde o Poder Judiciário tenta incriminar o paciente sem qualquer indicio de crime de qualquer espécie\" disse. O futuro advogado não faz parte da equipe de defesa do petista.\n",
      "625\n",
      "Ele não tem medo de altura! \"Chuck Norris\" da Bahia instala tela de proteção e pula para garantir o serviço!.  E se eu estiver com medo de testar a resistência da tela?.  Bem, aí você tem a opção de chamar o Chuck Norris da Bahia. Após concluir o serviço na casa de seus clientes, esse homem faz o impensável! Em um vídeo foi postado nas redes sociais, ele simplesmente pega embalo e pula em direção à sacada, se agarra na tela e balança para provar a qualidade de seu serviço e do equipamento. Você teria coragem?\n",
      "626\n",
      "Repórter relata conversa entre deputados: \"A Dilma caiu. O Temer vai cair [...] e eu estou aqui há 20 anos\".  Após a confirmação da assinatura do acordo de delação da mega empreiteira Odebrecht (incluindo Emilio e Marcelo Odebrecht), Brasília já está em polvorosa.  As delações prometem atingir 200 políticos, dos quais 120 com foro privilegiado [...] ou sejam, estão na ativa. O medo é tanto que O Globo informou que tem até político honesto procurando advogado de defesa. Se é honesto, então porque estão procurando advogado? Aí tem coisa! Do mesmo modo que tem \"honesto\" procurando advogados, também há corruptos que parecem não se preocupar. A repórter Carolina Freitas, correspondente de política na Capital Federal, flagrou uma conversa entre dois deputados na última quinta-feira, um do PSDB e o outro do PMDB. De acordo com Carolina, um deles perguntou: \"Você não tem medo de todo esse povo nas ruas?\" O outro respondeu: \"Não se preocupe. Essas manifestações de rua tem como foco o presidente da República. Se alguém tiver que cair, esse alguém vai ser o Temer. Veja só o que aconteceu com a Dilma [...] ela saiu e nós continuamos aqui. Fique tranquilo, faz mais de 20 anos que eu faço isso\" Carolina, em seu blog de política, não identificou os tais parlamentares, mas disse que ficou chocada ao escutar a conversa: \"Estou impressionada com a frieza daquele senhor. É como se roubar fosse uma coisa normal\" escreveu em seu blog. O Diário do Brasil torce para que a PF coloque esses \"senhores\" atrás das grades. Obviamente, essa repórter não divulgou o nome desses parlamentares por medo de represálias. Vamos ver se esses machões têm coragem de fazer \"represálias\" com a Polícia Federal.\n",
      "627\n",
      "Encontro entre diretor da PF e Fachin pode ser prenúncio de uma mega operação de \"caça aos corruptos\". .  Após a morte do ministro Teori Zavascki, Fachin assumiu a relatoria da Lava Jato no Supremo. No início deste mês, exatamente no dia 03, o procurador-geral da República, Rodrigo Janot, também se reuniu com Fachin para discutir as investigações da Operação Lava Jato. Tanta gente importante ( diretor da PF + relator + PGR ) reunida assim, só pode indicar uma coisa: Vai ter muito peixe graúdo caindo nas redes da Justiça! Esses encontros ocorrem em um momento que o Governo Federal é suspeito de manobrar politicamente para \"estancar a sangria\" da Lava-Jato . Oficialmente a visita de Daiello a Fachin foi uma \"mera formalidade\" [...] porém, contudo, todavia, entretanto, uma operação de proporções gigantescas não está descartada. É a famosa \" Delação do Fim do Mundo \" que foi anunciada desde novembro do último ano. Se isso acontecer, o cidadão poderá confiar nas instituições brasileiras daqui em diante [...] caso contrário, os políticos conhecerão a força que tem o povo! Chegou o momento e não tem mais volta!\n",
      "628\n",
      "Judiciário declara guerra contra a corrupção e sinaliza que o \"foro privilegiado\" pode estar com os dias contados.  Essa farra tem que acabar!.  Um levantamento feito ( em Novembro/16 ) pelo jornal Correio Brasiliense apontou que a maioria dos ministros do STF manifestou o desejo de modificar o privilégio. Na época, 7 dos 11 ministros declararam publicamente a vontade de modificar a imunidade dos parlamentares. Cármen Lúcia, Luís Roberto Barroso, Teori Zavaski, Marco Aurélio Mello, Gilmar Mendes, Ricardo Lewandowski e Celso de Mello. Grande parte dos magistrados do país (incluindo o STJ e os tribunais regionais) também defende as mudanças nas regras do foro privilegiado. A maioria defende a extinção do benefício. 1.500 juízes federais do Brasil já estão providenciando uma consulta à categoria para decidir uma forma de reduzir ou extinguir totalmente o privilégio dos políticos. Atualmente cerca de 20 mil autoridades (incluindo os próprios magistrados, parlamentares e prefeitos ) em todo o país têm direito de serem investigadas e julgadas em tribunais superiores. \"Essa crise e esse desgaste que temos no Judiciário é por causa do foro de prerrogativa\" disse João Otávio Noronha, ministro do STJ que defende a extinção total do foro. \"O foro agride a igualdade do tratamento de todos perante a lei\" , afirmou Souza Prudente, desembargador do TRF-1.\n",
      "629\n",
      "Vídeo mostra policial chorando no Espírito Santo: \"Eu quero ajudar a sociedade, mas desse jeito não dá\".  O que mais impressiona no Governo Federal é a inversão de valores.  Vamos explicar: 56 detentos morreram durante um motim na penitenciária de Manaus. O governo tomou atitude e anunciou um investimento de R$ 1,2 bilhão em penitenciárias. 110 pessoas morreram no estado do ES e a população ficou presa em casa. O que foi que o governo fez? Antonio Imbassahy, novo ministro-chefe (tucano) da Secretaria de Governo, disse que não haverá anistia aos policiais militares e centenas deles ainda serão processados. Sequer R$ 1 foi anunciado como investimento na Polícia. Aí vem aquele argumento patético de que \"cada estado\" é responsável pela segurança pública em seu território. Conversa fiada [...] o Governo Federal poderia injetar um aporte financeiro nas Corporações das PM\"s, não só do Espírito Santo, mas de todo o território nacional. Basta uma \"canetada\" do Presidente da República. Pelo amor de Deus, Brasil! Nós gastamos R$ 40 bilhões com as Olimpíadas! Gastamos bilhões com uma refinaria da Petrobras que virou sucata nos EUA! Gastamos bilhões para sustentar o Congresso Nacional com seus benefícios, cotas e o [email protected] #$. Gastamos bilhões para fazer a transposição de um Rio [...] uma obra que não acaba nunca. Gastamos mais de 25 bilhões para fazer uma Copa do Mundo. assista o vídeo desse policial emocionado:\n",
      "630\n",
      "PEC 10/2013: É preciso muita pressão do povo brasileiro para acabar com a blindagem dos políticos. .  Palavras do senador paranaense Álvaro Dias: \"Sem dúvida o fim do FORO PRIVILEGIADO será um avanço civilizatório e nós estaremos caminhando na direção de uma nova justiça em nosso país. Para que seja aprovado esse projeto é preciso muita pressão [...] sem pressão não passará. Estamos sentindo dificuldades, há resistência. É necessário muita pressão nas redes sociais, muita pressão do povo brasileiro para que esse projeto seja votado no senado federal.\" Autoria: Senador Alvaro Dias e outros Ementa: Altera os arts. 102, 105, 108 e 125 da Constituição Federal para extinguir o foro especial por prerrogativa de função nos casos de crimes comuns. Explicação da Ementa: Altera a Constituição Federal para extinguir o foro especial por prerrogativa de função em casos de crimes comuns.\n",
      "631\n",
      "Divulgadas as primeiras imagens de filme sobre a Lava-Jato: \"A obra vai provocar a sociedade\". .  As primeiras imagens do filme \" Polícia Federal  A Lei é Para Todos \" foram divulgadas na internet. A trilogia tentará reproduzir os bastidores da Operação Lava Jato e tem estréia prevista para maio de 2017. Ary Fontoura, que interpreta o ex-presidente Lula aparece ao lado de Antonio Calloni , que faz o papel do delegado Ivan, e Beth Zalcman, que interpreta Dona Marisa. (imagem abaixo) Fontoura contou que teve acesso ao depoimento de Lula, quando ocorreu a condução coercitiva do petista: \"Tivemos acesso para organizar o filme e para saber em que terreno nós estamos pisando. Tudo aqui está sendo feito pelo povo e para o povo. Não adianta vir com fanatismo\" explicou o ator. Antonio Calloni alegou que o filme vai provocar a sociedade: \"Tem que gerar um debate. Não será feito para concordarem com ele e sim para ser debatido\" declarou.\n",
      "632\n",
      "Cunha está preso e possui gravações que poderão jogar a popularidade de Michel Temer na lama.  Fontes do planalto informaram que Temer desconfia de supostas gravações que estariam em poder do ex-deputado Eduardo Cunha, acusado de corrupção na Operação Lava-Jato..  A suspeita surgiu de um encontro com Cunha no Palácio do Jaburu, residência oficial de Temer, em 2016. Cunha teria \"alertado\" Temer sobre certas parcerias dos dois no passado. O presidente teria reagido às indiretas do deputado, segundo relato uma pessoa ligada a um assessor do peemedebista. A ligação entre os dois não é algo recente. O político Ciro Gomes já se denunciou várias vezes que a dupla atuava em conjunto. De acordo com Ciro, Cunha comercializava leis sob as \"bençãos\" de Temer, presidente da Casa entre 2009 a 2010. Para piorar ainda mais as coisas, em dezembro de 2015 o PRG Rodrigo Janot chegou a reunir provas em que Michel Temer (PMDB) teria recebido R$ 5 milhões do dono da OAS, José Adelmário Pinheiro, um dos empreiteiros condenados no escândalo de propinas da Petrobras. Em uma troca de mensagens via WhatsApp entre Pinheiro e Eduardo Cunha (PMDB-RJ), aparece uma \"menção\" em que Cunha reclama que o empreiteiro pagou a Temer e deixou \"adiado\" o repasse a outros líderes do PMDB. Eduardo Cunha questionou o dono da OAS por ter pago R$ 5 milhões para Temer e deixado o resto da \"turma\" a ver navios, afirmou o PGR, conforme a reprodução feita no documento assinado pelo ministro do STF, Teori Zavascki. NOTA DA REVISTA VEJA PUBLICADA EM JANEIRO DESTE ANO Um interlocutor de Eduardo Cunha saiu apavorado de uma conversa recente com o político. Bem ao seu estilo, em que recobre a megalomania com tonitruâncias, o ex-presidente da Câmara repetiu uma ameaça feita há meses: \"Eu vou para a cadeia, mas não vou sozinho\".\n",
      "633\n",
      "Saiba porque a Odebrecht está comemorando o sigilo das delações. A Odebrecht comemorou a notícia de que a homologação das delações de seus 77 executivos pelo STF (Supremo Tribunal Federal) não foi acompanhada da retirada do sigilo dos depoimentos prestados à PGR (Procuradoria-Geral da República) e à força-tarefa de Curitiba.\n",
      "\n",
      "A medida, que garante validade jurídica ao acordo, foi assinada pela ministra Cármen Lúcia, presidente do Supremo, na manhã desta segunda (30). Segundo a Folha apurou, a empresa ainda se sente muito fragilizada com a divulgação de pagamentos de propina em 12 países, incluindo o Brasil, que tem atrapalhado a venda de ativos e a recuperação financeira da empreiteira. Todos os países em que a empresa possui obras está investigando as práticas comerciais dos executivos da Odebrecht. O Peru já expulsou a empresa e tal fato pode voltar a acontecer em outros países nos próximos meses. Proteger o sigilo ajuda a abafar o escândalo internacional e dá à empresa a esperança de começar de novo.\n",
      "\n",
      "Parte dos funcionários que fecharam delação premiada no ano passado, porém, acompanha os desdobramentos com apreensão, pois se prepara para cumprir as penas que foram estipuladas na negociação do acordo o que, segundo a Folha apurou, deve ocorrer em até dois meses. O ex-presidente da empreiteira Marcelo Odebrecht, por exemplo, foi condenado a dez anos de prisão, dois e meio deles em regime fechado.\n",
      "\n",
      "O cumprimento dessas penas terá que passar pelo crivo dos juízes de execução, que serão determinados pelo STF.\n",
      "\n",
      "O conteúdo das delações da Odebrecht é tão explosivo que pode gerar mais um impeachment na presidência e pelo menos mais três de governadores, além de suas imediatas prisões.\n",
      "634\n",
      "Publicitário faz versão de Faroeste Caboclo com Eike Batista. O resultado? 12 milhões de visualizações.  Pedro Guadalupe tem 31 anos e trabalha com informática desde os 12.  Reunindo técnica, humor e conhecimento, Pedro se tornou um \"expert\" em publicidade. A última tacada do profissional é uma paródia da música \"Faroeste Caboclo\" na versão Eike Batista. Somente na rede social facebook, o vídeo já teve mais de 12 milhões de visualizações. A música é uma parceria de João Basílio e Guadalupe. Vale a pena conferir:\n",
      "635\n",
      "Trapalhada feita pelo governo do PT pode ter causado surto de microcefalia no Brasil. .  Pesquisadores argentinos da Physicians in the Crop-Sprayed Towns levantaram a hipótese de que os casos de zika registrados até o momento decorram do uso do Pyriproxyfen, um larvicida utilizado pelo governo brasileiro contra o Aedes aegypti. A revista Época disse que o governo gaúcho decidiu suspender o uso do Pyriproxyfen em água para consumo humano até que o governo federal se pronuncie. Desde 2014, o governo tem usado a substância para combater a dengue no Brasil. A hipótese explicaria, talvez, o fato de a Colômbia ter mais de 5 mil grávidas infectada pelo vírus da zika, porém nenhum registro de microcefalia. Lá eles não usaram o tal larvicida da empresa Monsanto.\n",
      "636\n",
      "Advogado de Lula desrespeita Sérgio Moro durante audiência e é repreendido: \"Respeite o juízo!\". .  Sérgio Moro fazia uma pergunta para José Sérgio Gabrielli (ex-chefão da Petrobras) em um processo que Lula é acusado de ter \"ganhado\" o apartamento do Guarujá, o famoso Triplex ... quando um dos advogados do ex-presidente interrompeu o juiz e o acusou de \"induzir\" a resposta da testemunha. O magistrado disse: \"Estou fazendo as perguntas, doutor [...] ouvi pacientemente a defesa e o Ministério Público. Agora faço minhas perguntas.\" Do outro lado da mesa, outro advogado de Lula tentou atacar: \"Suas perguntas são de um inquisidor, não de um juiz\". Moro respondeu: \"Doutor, doutor, respeite o juízo.\" Qualquer hora dessas Moro vai dar voz de prisão para esses advogados! (informações do Antagonista)\n",
      "637\n",
      "Inquérito da PF aponta que empreiteira pagou R$ 1 milhão em propina para Rodrigo Maia.  O Jornal Nacional de hoje (08) informou que o atual Presidente da Câmara dos Deputados, Rodrigo Maia, pediu doações eleitorais no valor de R$ 1 milhão à OAS.  De acordo com a reportagem, a quantia foi repassada oficialmente à campanha de César Maia, pai de Rodrigo. A Polícia Federal concluiu, no âmbito da Operação Lava Jato, que há indícios de corrupção passiva e de lavagem de dinheiro. Foram investigadas mensagens nos celulares de Rodrigo Maia e do dono da OAS, Léo Pinheiro. O inquérito da PF cita que o deputado estaria defendendo interesses exclusivos da empreiteira dentro Congresso, nos anos de 2013 e 2014. Em troca, ele teria recebido propinas que somam R$ 1 milhão. A PF concluiu que há \"fortes indícios de corrupção passiva e lavagem de dinheiro\" por parte do deputado. Maia nega as acusações e disse que \"nunca recebeu vantagem indevida para votar qualquer matéria na Câmara\".\n",
      "638\n",
      "Filha de ex-ministro do STF alertou: \"Cármen Lúcia será a coveira do STF\".  Magda é filha de Paulo Brossard (1924/2015).  Retrospectiva2017 #AsMaisLidas2017 PAULO BROSSARD DE SOUZA PINTO foi um jurista, advogado, magistrado, professor, político e ministro do STF entre os anos de 1989 a 1994. Homem público como poucos, ele foi um dos maiores juristas de sua geração. Através de seu twitter, Magda (filha de Brossard) fez questão de comentar o desapontamento com o STF.\n",
      "639\n",
      "Cunha apresenta exames que comprovam aneurisma e pode ser solto pelo STF. .  Cunha relatou seu estado de saúde durante uma audiência realizada com o juiz Sergio Moro ontem (07). De acordo com o político, nem mesmo seus advogados tinham ciência de seu problema. Passada a audiência, o ex-deputado se recusou a fazer um exame no Departamento Penitenciário do Paraná. Na tarde de hoje, ele apresentou os documentos: Imagens de ressonâncias magnéticas realizadas em 2015 no Hospital Sírio-Libanês e em uma clínica particular no Rio de janeiro também foram anexadas ao processo. O STF adiou o julgamento sobre o pedido de liberdade do ex-deputado Eduardo Cunha (PMDB-RJ) que seria analisado hoje. Cunha está preso em Curitiba desde outubro/2016 por decisão do juiz Sergio Moro. A defesa do ex-deputado irá anexar os documentos acima para impetrar um pedido de habeas corpus no STF, alegando que Cunha necessita de cuidados médicos especiais.\n",
      "640\n",
      "Valdo Cruz: \"Vem aí a delação do fim do mundo. Vários políticos já estão se escondendo em seus gabinetes\". .  O jornalista Valdo Cruz, que cobre os bastidores do mundo da política e da economia em Brasília, anunciou a pouco: \"Vem aí a delação do fim do mundo\" disse. Cruz relatou que o comportamento dos políticos se alterou após a confirmação da assinatura das delações premiadas da Odebrecht. Vale ressaltar que essas delações ainda precisam passar pela aprovação do STF. \"Mesmo assim, já dá pra notar uma mudança no comportamento dos políticos em Brasília\" explicou Valdo. Uma certa ansiedade em relação a essas delações tomou conta da Capital Federal e os políticos já estão evitando os corredores da Câmara. De acordo com o jornalista, diversos parlamentares estão se \"escondendo\" em seus gabinetes em busca de informações sobre \" a delação do fim do mundo\". A pergunta assombra os parlamentares neste exato momento é: \"Será que eu estou envolvido nessas delações?\" A explicação de Valdo para tanto temor entre os políticos é de que quase todas as doações feitas pela Odebrecht não foram contabilizadas (declaradas) e foram feitas através de esquema de caixa2, ou seja, foram ilegais. \"A tendência dessas delações é pegar todo mundo, tanto governo quanto oposição\" finalizou. (fonte Globo News )\n",
      "641\n",
      "Ex-presidente da OAS tem relação próxima com ministro: \"Aniversário de Toffoli.Gosta de um bom whisky\". .  As menções a Toffoli estão transcritas, segundo a revista VEJA , em um dos telefonemas de Pinheiro. Foram encontradas outras três menções a Toffoli  a primeira delas de 2012, quando um funcionário da OAS diz para Pinheiro: \"Aniversário de Toffoli dia 15. Gosta de um bom whisky\". Até agora, a PF não flagrou nenhuma conversa direta entre o empreiteiro e o ministro. O relatório da PF aponta que \"as mensagens demonstram uma proximidade entre Léo Pinheiro e Benedito Gonçalves (ministro do STJ) , bem como a proximidade destes com o ministro Toffoli\". Toffoli disse à revista que conhece Pinheiro, mas não tem intimidade com ele.\n",
      "642\n",
      "Espírito Santo: Três policiais foram baleados após serem obrigados a fazer patrulhamento a pé.  A Associação de Cabos e Soldados da Polícia Militar e Bombeiro Militar informou que três PM\"s foram baleados hoje.  De acordo com a ACS, os militares faziam patrulha em Cariacica, a cerca de 20 km da Grande Vitória. Um soldado foi alvejado na perna e outro sofreu um tiro de raspão. Com o intuito de socorrer os colegas, um terceiro militar se aproximou e foi atingido no braço. O 7o Batalhão da PM do Estado, através de seu diretor de Relações Públicas se manifestou e disse que se trata de um \"patrulhamento suicida\". Desde o último sábado (4) familiares de policiais estão \"travando\" as saídas de veículos das corporações. A corporação disse que orientou os policiais a seguirem diretamente para seus locais de trabalho, mesmo sem viaturas. A Secretaria de Segurança do Estado não confirmou a ocorrência. \"As viaturas estão presas nos quartéis e o pessoal está sendo obrigado a trabalhar a pé. Por medo e pressão das chefias, alguns acabam acatando as ordens e vão para as ruas sem o equipamentos de proteção\", disse o cabo Thiago Bicalho. (as informações são de Paula Bianchi , do UOL)\n",
      "643\n",
      "Deputado fica nervoso no plenário e diz que Lula furtou 7 pavões do Planalto: \"Vai roubar assim no inferno!\".  A acusação foi feita no Plenário da Câmara pelo Deputado Alberto Fraga [DEM].  Quem é que manda transportar animais para uma propriedade que não seja sua e sim de uma \"amigo\"? Fraga também acusa o ex-presidente petista de ter \"furtado\" um faqueiro de ouro que foi dado de presente ao ex-presidente Costa e Silva, que governou o país entre março de 1967 a agosto de 1969. A reportagem que o deputado se refere no vídeo é de Vera Magalhães [ Revista Veja ] e foi publicada no dia 21/03/16. A matéria mostra documentos relativos ao sítio de Atibaia que foram encontrados durante operações de busca e apreensão (feitas pela PF) no apartamento do ex-presidente Lula, em São Bernardo. Entre esses papéis apreendidos, havia um atestado sanitário autorizando o transporte de aves exóticas e assegurando que os sete pavões foram examinados e estavam em boas condições. O documento foi datado em 2012 e as guias mostram que o transporte foi feito pela empresa TAM.\n",
      "644\n",
      "Temer revela sua camuflada ideologia comunista. Michel Temer decidiu revelar sua afinidade com a ideologia comunista e vai dar um verdadeiro golpe na expectativa de quem apoiou o impeachment. Você ficará surpreso com este projeto do vice da chapa de Dilma. Agora ficou claro porque PMDB se dá tão bem com o PT.\n",
      "\n",
      "BRASÍLIA  O presidente Michel Temer começa a tentar um movimento de aproximação da esquerda moderada, pelo menos em relação à área internacional. O Brasil quer estreitar as relações com Cuba. A estratégia do Palácio do Planalto, de acordo com fontes ouvidas pelo jornal O GLOBO, é aproveitar o momento de abertura comercial do país para fechar negócios com a ilha. De quebra, o governo conseguiria angariar simpatia de críticos do processo de impeachment da ex-presidente Dilma Rousseff, que levou Temer ao poder.  Ficar próximo de Cuba não é a única diretriz do governo. A aproximação com a Colômbia, por exemplo, deve ser feita por meio da área de segurança. Na semana que vem, o Brasil discutirá com os ministros daquele país parcerias com os combatentes das Farc. O governo Temer ainda ensaia gestos de afagos aos africanos, governos que foram beneficiados por anos nas administrações petistas.\n",
      "\n",
      "Segundo fontes do Itamaraty, existe a determinação da Presidência da República para que o Brasil amplie programas de cooperação, investimentos de comércio com as nações africanas, especialmente aquelas da África Austral.\n",
      "645\n",
      "Em uma simples frase Sérgio Moro humilha Dias Toffoli.  Josias de Souza, colunista do UOL, questionou o juiz Sérgio Moro sobre as críticas feitas por pessoas pertencentes ao alto escalão jurídico.  Vamos explicar melhor: A pergunta de Josias (para Moro) era mais ou menos o seguinte: \"O que o sr. acha do comportamento do Ministro Dias Toffolli (do STF) que vive criticando as ações da Lava-Jato e as operações da PF?\" Moro respondeu : \"Somos muito zelosos com o devido processo legal. A gente segue a lei e outros seguem a política.\" Ou seja, Moro disse o seguinte: Faço JUSTIÇA e não faço POLÍTICA ! Não podemos esquecer que o Ministro Dias Toffoli foi citado por Léo Pinheiro da OAS, porém teve a delação descartada pelo PRG Rodrigo Janot. Te cuida sr. Toffoli [...] seus dias podem estar contados.\n",
      "646\n",
      "Assessor da ALERJ alerta para o caos no RJ. Comando da PM nega que a corporação irá parar. .  O assessor do presidente da Assembleia Legislativa do Rio enviou (através do aplicativo Whatsapp ) para seus companheiros de alto escalão uma orientação para não saírem nas ruas na próxima sexta-feira (10). A mensagem alerta que o Rio de Janeiro está a caminho do caos: \"Ou valoriza a PM ou vamos parar\". O texto do assessor (braço direito de Jorge Picciani) diz: \"População do Rio de Janeiro. Não saia de casa a partir do dia 10/02/2017. Familiares de policiais estarão impedindo a saída de viaturas dos batalhões assim como no Espírito Santo. O Rio vai virar o caos. Queremos os salários em dia. Ras olímpico Metas Insalubridade Periculosidade Adicional noturno Agora é guerra. Ou valoriza a PM ou vamos parar\". Jorge Picciani não confirmou a mensagem e declarou: \"Agora, as pessoas com a internet querem demostrar terem informações, mas é uma tolice\", afirmou o presidente da Alerj.\" O alto comando da PM/RJ também negou as supostas paralisações. (a informação é de Gabriel Mascarenhas)\n",
      "647\n",
      "Depois do Espírito Santo é a vez de Alagoas: Policiais aderem à paralisação.  Policiais Civis e Federais do estado de alagoas paralisaram as atividades hoje (08).  Os sindicatos das categorias alegam que o ato faz parte de um repúdio contra a PEC da reforma da Previdência. \"Hoje o policial se aposenta com 30 anos de serviço e agora com essa PEC terá a idade mínima de 65 anos para a aposentadoria integral, onde a contribuição passa a ser de 49 anos. Além disso, também querem mexer na pensão por morte e nós não aceitamos isso\" , informou o representante do sindicato. A PM do Espírito Santo continua paralisada e o estado vive um caos na segurança pública. Jornais de grande circulação informaram hoje que as policias do Rio de Janeiro também poderão aderir às paralisações nos próximos dias.\n",
      "648\n",
      "Defesa de Cunha alega que seu cliente sofre de \"aneurisma\" e pede que Sérgio Moro o liberte.  Durante depoimento feito hoje ao juiz Sérgio Moro, Eduardo Cunha (PMDB) leu uma carta (escrita à mão) onde faz um apelo ao magistrado.  Cunha alega que sua liberdade é necessária devido a questões de saúde. O ex-deputado informa na carta que sofre de aneurisma cerebral, \"parecido com o caso da ex-primeira-dama Marisa Letícia\". De acordo com o argumento do político, ele não está sendo submetido a nenhum tipo de tratamento dentro do complexo penitenciário. Ao final da audiência, os advogados de Cunha apresentaram pedido de liberdade a Sérgio Moro. (via Paraná Portal ) assista a partir do minuto 13:30\n",
      "649\n",
      "Juiz de 1a instância suspende nomeação de Moreira Franco, o \"angorá\".  O juiz federal Eduardo Rocha Penteado, do DF, suspendeu hoje (08) a nomeação de Moreira Franco para o cargo de ministro da Secretaria-Geral da Presidência.  A decisão tem caráter liminar (provisória) [...] o juiz comparou a nomeação de Moreira Franco com o caso do ex-presidente Lula, que foi impedido de tomar posse ca Casa Civil, durante o governo Dilma Rousseff. A decisão: \"É dos autos que Wellington Moreira Franco foi mencionado, com conteúdo comprometedor, na delação da Odebrecht no âmbito da Operação Lava Jato. É dos autos, também, que a sua nomeação como Ministro de Estado ocorreu apenas três dias após a homologação das delações, o que implicará na mudança de foro. Sendo assim, indícios análogos aos que justificaram o afastamento determinado no Mandado de Segurança no 34.070/DF [que impediu a posse de Lula] se fazem presentes no caso concreto\" , disse o juiz em sua decisão. Parabéns ao juiz Eduardo Rocha! Melo disse (em delação) que Franco representava os interesses de Temer e atuava como arrecadador. \"Resumindo, para fazer as \"benesses\" da Odebrecht chegar até Michel Temer, eu me valia de Eliseu Padilha ou Moreira Franco. Era uma via de mão dupla, pois o atual presidente utilizava prepostos para atingir interesses pessoais\" disse Melo. Moreira Franco nega as declarações de Melo Filho e trata a delação como \"mentira afrontosa\". Isso é um absurdo! Quando Dilma tentou fazer a mesma coisa com Lula, ela foi crucificada pela mídia! Não podemos ter dois pesos e duas medidas!\n",
      "650\n",
      "DEPEN do Paraná informa que Cunha se recusa a fazer exames para comprovar \"aneurisma cerebral\".  A DOENÇA DE CUNHA.  De acordo com o site Paraná Portal, O ex-deputado Eduardo Cunha teria se recusado a realizar (na cadeia) exames comprobatórios que confirmariam um \"suposto\" aneurisma cerebral. O diretor do DEPEN (Departamento Penitenciário do Paraná) confirmou a recusa de Eduardo Cunha na manhã de hoje (08). Luiz Alberto Cartaxo de Moura disse: \"O custodiado negou-se terminantemente a fazer este exame. Colhemos depoimento dos médicos e na presença desses médicos ele afirmou que não faria o exame. \" O diretor ainda ressaltou que \" a enfermidade do deputado foi revelada no dia 21 de dezembro ao corpo médico do CMP, que pediu aos familiares e advogados que encaminhassem os exames comprobatórios da situação para futuras providências e/ou tratamentos [...] fato que até hoje não aconteceu\" , declarou. O próprio ex-deputado disse (em vídeo) que sua liberdade é necessária devido a questões de saúde. Ele informou, em uma carta manuscrita, que sofre de aneurisma cerebral \"parecido com o caso da ex-primeira-dama Marisa Letícia\" e que não está sendo submetido a nenhum tipo de tratamento dentro do complexo penitenciário. (via Paraná Portal ) assista a partir do minuto 13:30\n",
      "651\n",
      "Espírito Santo: Número de mortos na capital chega a 95. Cerca de 260 carros foram roubados em 36 horas. .  Desde o último dia sábado (04), 95 pessoas foram mortas. Somente hoje (08) sessenta carros foram roubados [...] ontem foram cerca de duzentos veículos, de acordo com informação do Estadão. (dados estaduais) \"Leal disse que recebeu uma \"ordem velada\" do governo para que os números parassem de ser atualizados. Estamos obtendo dados extraoficialmente\" , disse. O presidente do Sindicato alegou que a culpa não é da paralisação dos PM\"s e sim de uma política de desvalorização da Segurança Pública. \"É uma tragédia anunciada. Não temos policiais suficientes, o governo não nos dá direitos trabalhistas e recomposições salariais [...] estamos sucateados\" desabafou.\n",
      "652\n",
      "Amanda Nunes:\"Se o velório virou comício, o que virá na missa de 7o dia? Um show de Tico Santa Cruz?\".  No último sábado (04) publicamos uma matéria da jornalista Patrícia Carvalho destacando os méritos de Marisa Letícia.  (Amanda Nunes Brückner para o Diário do Brasil) Patrícia destacava que: \"Marisa foi trabalhadora, digna, responsável, mãe, esposa [...] já Lula não passa de um oportunista que se finge de sonso. O que não podemos fazer é cometer o erro grotesco de transferir os méritos e a história de luta de Dona Marisa para o senhor Luíz Inácio.\" Pois bem [...] o país inteiro viu o que aconteceu no último fim de semana. Lula montou um palanque político dentro de um velório. Esse cidadão não pensa em ninguém além dele próprio [...] a ganância pelo poder beira o limite do inimaginável. Durante o velório, o petista teve a desfaçatez de falar em \"Operação Lava-Jato\" [...] Pessoas normais ficariam quietas, fariam orações, desejariam um momento de privacidade com os familiares, invocariam palavras como \"Deus\" , \"descanse em paz\", \"sentiremos saudades\", \"que o Senhor te guie\", etc... Já o cidadão acima citado fez questão de pegar um microfone e \"vomitar\" palavras como: \"Lava-Jato\", \"perseguição\", \"justiça\", \"condenado\", \"nunca antes neste país\", etc... A questão em si não é gerar ódio nem tão pouco denegrir a imagem da ex-primeira dama. O fato é que Lula não está \"batendo bem dos pinos\". Se ele conseguiu transformar o velório num palanque, o que podemos esperar da missa de sétimo dia? Um \"showmício\" com a presença de Tico Santa Cruz e Chico Buarque?\n",
      "653\n",
      "Ex-candidata a vereadora pelo PSDB é flagrada carregando produtos de furto no Espírito Santo. .  Uma ex-candidata a vereadora pelo PSDB nas últimas eleições foi surpreendida carregando produtos saqueados após várias lojas serem invadidas na cidade de Cachoeiro, interior do Espírito Santo. O flagra foi divulgado pelo jornal Folha do Espírito Santo. De acordo com a matéria, as imagens de Marcela Ranocchia foram captadas ontem (06) . Ela saia de uma loja com várias sacolas nas mãos. O PSDB de Cachoeiro divulgou nota de repúdio ao crime praticado pela filiada:\n",
      "654\n",
      "Sem polícia nas ruas, capital do Espírito Santo registra 51 homicídios em 3 dias.  De acordo com o Sindicato da Polícia Civil, Vitória registrou 51 mortes violentas desde o último dia 04.  O número de mortos sinaliza um aumento de mais de 1.000% em relação a todo o mês de janeiro. Desde a manhã de sábado, familiares de Policiais protestam por melhores salários e bloqueiam a saída de viaturas dos quartéis. O governo estadual exonerou o comando da PM e pediu ajuda do Exército, enquanto o policiamento das ruas não é retomado. Foram registradas 8 mortes no sábado, 16 ontem e mais 27 somente nas primeiras horas de hoje (06). A Justiça classificou a greve como \"ilegal\" e determinou a desocupação das portas dos quartéis. Desesperada e sem ter a quem apelar, a população está usando as redes sociais para postar vídeos e mostrar o caos que se instalou no Espírito Santo. A Prefeitura de Vitória suspendeu o atendimento nas unidades de saúde e as escolas estão sem aulas.\n",
      "655\n",
      "Senador Ronaldo Caiado faz proposta indecente ao presidente Temer. O presidente Michel Temer foi surpreendido com uma proposta indecente vinda do senador Ronaldo Caiado. Nem o mais petista dos petistas teria coragem de fazer uma proposta assim.\n",
      "\n",
      "Diante do cenário de crises institucionais, política e econômica, o senador da base do governo Michel Temer, Ronaldo Caiado (DEM-GO), encontrou na antecipação das eleições a saída para o Brasil voltar a crescer . Presidenciável em 1989, Caiado defende um gesto maior de Temer de encaminhar ao Congresso uma emenda constitucional para que a população escolha um novo líder para os próximo quatro anos. Não se implanta mudança em um ano e meio. Mandato tampão não resolve, é preciso antecipar as eleições, argumentou o senador. Renúncia de Temer\n",
      "É preciso antecipar o processo eleitoral. Não adianta apenas conter gastos. Não sou contra o presidente, mas é hora de pensarmos em alguém que, ganhando as eleições, promova melhorias. Não adianta repetir erros do governo cassado de Dilma Rousseff.\n",
      "\n",
      "Apoio popular \n",
      "É fundamental ter um gesto maior. Não é querer ser presidente. Não adianta ter poder e estar divorciado da sociedade. Isso é um falso positivo. O presidente precisa mais do apoio das ruas do que do Congresso.\n",
      "\n",
      "Processo legal \n",
      "Basta o presidente encaminhar uma emenda constitucional antecipando não só a eleição presidencial de 2018, como também a de deputados e senadores. Por que arrastar a crise por mais dois anos? O desemprego só aumenta.\n",
      "\n",
      "Escândalos de corrupção\n",
      "O poder está nocauteado com tantas denúncias e escândalos. Não há democracia que sobreviva a políticos sem espírito público.\n",
      "\n",
      "Erros do governo\n",
      "O presidente tem que falar à nação, convocar cadeia de rádio e tevê, dizer o que se passa. Não pode ficar escondido, tem de ser ativo. Presidente tem que falar uma, duas vezes por semana, explicar o que vai fazer.\n",
      "\n",
      "Candidato à presidência\n",
      "A decisão é partidária. Não existe mais candidatura isolada. Fui candidato isolado em 1989, mas agora exige tempo de rádio e televisão, além de alianças a serem construídas. Os partidos vão apresentar seus nomes.\n",
      "\n",
      "Protestos violentos \n",
      "Se as instituições perdem a credibilidade, as pessoas se arvoram no direito de não cumprir mais nada. É uma desobediência civil que está sendo instalada.\n",
      "\n",
      "Reforma política\n",
      "Em toda crise de credibilidade e escândalo se fala em reforma política. A arma é dizer que o problema é o sistema eleitoral. Lança-se pacote econômico para tentar encobrir o escândalo político. Isso não cola mais.\n",
      "\n",
      "Mandato tampão\n",
      "Qualquer pessoa que assumir o poder precisa de tempo para apresentar um plano de governo. Não se implanta mudança em um ano e meio. Mandato tampão não resolve, é preciso antecipar as eleições.\n",
      "\n",
      "Oposição ao governo\n",
      "Sou de partido da base aliada, mas diante de uma crise concreta, onde falta apoio popular, não dá para querer insistir com a continuidade do governo. É questão de bom senso.\n",
      "\n",
      "Falhas na comunicação \n",
      "Presidencialismo não tem porta-voz. É a pessoa que fala para a população. Não adianta conversar só com deputado e senador.\n",
      "\n",
      "Crise entre poderes\n",
      "Os poderes estão fragilizados e se acham no direito de invadir a seara alheia. A crise é institucional, política e econômica.\n",
      "\n",
      "Plebiscito para eleições\n",
      "Não há necessidade, desde que haja concordância dos poderes. Antecipar as eleições por emenda constitucional demora quatro ou cinco meses. Mas, já é uma sinalização que mudanças serão implementadas.\n",
      "\n",
      "Perda de credibilidade \n",
      "No sistema presidencialista, é fundamental que o presidente tenha apoio popular para enfrentar a crise. Mas o Congresso e o governo hoje não gozam de consenso junto à sociedade que nos credencie a fazer reformas diante de tantas denúncias que solapam a credibilidade dos políticos.\n",
      "656\n",
      "Governador do Espírito Santo está no Sírio Libanês aos cuidados do médico de Lula.  Paulo Hartung (PMDB), governador do Espírito Santo, está no Hospital Sírio-Libanês desde a última sexta.  Será que o Sírio Libanês é uma espécie de refúgio para políticos? Hartung retirou um tumor da bexiga (através de uma intervenção cirúrgica) e ficará  internado até o próximo dia 09. A doença do governador foi considerada não invasiva. Ele está sob cuidados de Roberto Kalil Filho (médico da família Lula da Silva) e Miguel Srougi. De acordo com o Sindicato da Polícia Civil, Vitória registrou 51 mortes violentas desde o último dia 04 O número de mortos do mês de fevereiro sinaliza um aumento de mais de 1.000% em relação a todo o mês de janeiro, que registrou 4 mortes. Desde a manhã de sábado, familiares de Policiais protestam por melhores salários e bloqueiam a saída de viaturas dos quartéis. O governo estadual exonerou o comando da PM e pediu ajuda do Exército, enquanto o policiamento das ruas não é retomado. Foram registradas 8 mortes no sábado, 16 ontem e mais 27 somente nas primeiras horas de hoje (06). A Justiça classificou a greve como \"ilegal\" e determinou a desocupação das portas dos quartéis. Desesperada e sem ter a quem apelar, a população está usando as redes sociais para postar vídeos e mostrar o caos que se instalou no Espírito Santo. A Prefeitura de Vitória suspendeu o atendimento nas unidades de saúde e as escolas estão sem aulas.\n",
      "657\n",
      "URGENTE: Pela segunda vez, PGR pede abertura de inquéritos contra Jucá, Sarney e Renan Calheiros.  Rodrigo Janot pediu (hoje 06/02) ao STF a abertura de inquéritos contra Renan Calheiros, José Sarney e o senador Romero Jucá por tentativa de obstrução da Lava Jato.  É a segunda vez que o PGR tenta abocanhar a turma que quer \"estancar a sangria\". Em junho de 2016, Janot pediu o afastamento de Renan Calheiros da presidência do senado. Os dados do processo são idênticos ao inquérito que afastou o presidente da Câmara dos Deputados, Eduardo Cunha (PMDB-RJ). A tentativa de derrubar a Operação Lava Jato foi gravada por Sérgio Machado [ex-presidente da Transpetro ]. Nas gravações, o presidente do senado sugere mudar a lei para coibir a delação premiada. Já a gravação envolvendo o senador Jucá narra uma articulação política com líderes para derrubar a presidente Dilma e depois \"estancar a sangria da Lava Jato\". Sérgio Machado disse que distribuiu 60 milhões de reais em propina para políticos do PMDB durante os doze anos que esteve à frente da Transpetro. Entre esses políticos beneficiados, estariam Renan, Sarney e Jucá. Sérgio disse também que guardou dinheiro no exterior para políticos, entre eles Renan Calheiros.\n",
      "658\n",
      "Vidente previu a própria morte e conseguiu escapar. .  A dona da casa Rachel Williams, que tem um centro de vidência junto com sua residência, disse ter previsto que o acidente ocorreria . Uma picape derrubou parte de sua casa em Anaheim (Califórnia, EUA) na tarde da última sexta-feira (11) A vidente conseguiu evitar ser atingida pela pickup. Ela ficou ferida por escombros e foi levada a um hospital próximo com ferimentos leves, publicou a emissora NBCde Los Angeles. \"Eu sabia. Eu não sabia a hora, mas tive aquela premonição\", afirmou a idosa de 67 anos. Rachel contou ainda ter tido o presságio de que o motorista estaria embriagado . A polícia está investigando a alegação.\n",
      "659\n",
      "Feminista descontrolada invade palestra de Sérgio Moro nos EUA.  Durante uma palestra na Universidade Columbia, em Nova York, o juiz Sérgio Moro foi interrompido por uma feminista descontrolada.  Antes mesmo de começar a falar, a moça começou a berrar no fundo do teatro. O juiz cruzou os braços, esperou o desabafo da maluca e disse \"OK\". Foi o suficiente para a platéia aplaudir o juiz da Lava Jato. Seguranças retiraram a feminazi do local.\n",
      "660\n",
      "Lula faz discurso em velório de Marisa e chama integrantes da Lava-Jato de \"facínoras e canalhas\".  Como não podia deixar de ser, Lula deixou as homenagens póstumas de lado e resolveu fazer política no velório de sua esposa.  Emocionado, o ex-presidente chamou de \"facínoras\" aqueles que participam da Operação Lava-Jato: \"Quero viver muito para provar que os facínoras levantaram leviandade contra ela\" O petista se referia aos dois processos criminais em que a ex-primeira dama era ré por corrupção e lavagem de dinheiro. Talvez Lula tenha razão ... em parte! Provavelmente Marisa seria inocentada. Já o petista ... Lula continuou: \"Marisa morreu triste por causa da canalhice, da leviandade e da maldade que fizeram com ela\" disse. Deus queira que você viva muito Lula [...] de preferência lá em Curitiba! (as informações são de Janaina Garcia, do UOL)\n",
      "661\n",
      "Repórter pergunta para Dória se dá para construir um diálogo com pichadores: \"Não negocio com bandidos\".  Dória participou de uma sabatina na CBN (leia-se Globo) com duas jornalistas.  Elas bem que tentaram induzir o prefeito com algumas perguntas capiciosas. Bem, o resultado você assiste no vídeo abaixo: \"Não vou negociar com pichadores. Não negocio com bandidos\" disse o prefeito de SP\n",
      "662\n",
      "Ladrão rouba botijões de gás, é preso e dá chilique na delegacia: \"Quero ser julgado no STF\".  A PM prendeu um homem suspeito de roubar galinhas e botijões de gás no interior de MG.  #Retrospectiva2017 #AsMaisLidas O fato aconteceu há quase dois anos no interior de Minas [...] qualquer semelhança com a realidade é mera coincidência! Uma mulher acionou a PM e disse que um homem teria pulado por uma janela nos fundos da casa de sua vizinha de 72 anos. O cidadão foi flagrado pelos moradores e fugiu rapidamente do local. Os militares fizeram um intenso rastreamento e encontraram uma trilha no meio do mato, às margens do rio Santo Antônio. No local, os policiais encontraram quatro botijões de gás de cozinha e uma bombona plástica azul contendo 24 galinhas. Algumas estavam mortas e outras se debatendo. O rapaz foi preso em flagrante. O suspeito foi levado ao hospital local para receber atendimento médico por ter se ferido durante a fuga e logo após transferido para a delegacia de Polícia Civil. O ladrão confessou ter cometido os furtos e disse que tem direito a um advogado. O cidadão também gritou muito e alegou que quer ser julgado pelo STF: \" Sou ladrão mas não sou bobo! Assisto televisão todos os dias. Quero ser julgado no STF \" disse o meliante aos berros dentro da delegacia.\n",
      "663\n",
      "Renan está de olho no cargo de Alexandre. Senador tem intenções de \"comandar\" a Polícia Federal.  Renan Calheiros perdeu o cargo de Presidente do Senado mas não quer perder as mordomias que o cargo lhe proporcionava.  Michel Temer anunciará na tarde de hoje (06) a escolha do atual ministro da Justiça, Alexandre de Moraes, para o STF [...] publicou o jornal Estadão. Ao deixar a presidência do senado, Calheiros perdeu a prerrogativa de usar aviões da FAB e outras benesses que o cargo oferece. Ele terá que viajar ao lado do \"povão\" em voos de carreira. O jornalista Cláudio Humberto, com quem Renan já teve alguns entreveros, informou que o nobre senador alagoano já está pressionando o presidente Michel Temer para ganhar uma \"boquinha\" como ministro. A exigência não se restringe somente a um cargo de ministro [...] Renan também reivindicando um \"ministério de visibilidade\". Nada de \"ministério chinfrim\". O tal cargo, de acordo com Cláudio Humberto, seria o de Ministro da Justiça. Caso Temer faça essa besteira, Renan poderá ser o chefão da Polícia Federal, que o investiga em 12 inquéritos. Será que o presidente arriscará seu pescoço?\n",
      "664\n",
      "O DIA: Platéia do Domingão precisou de atendimento médico após consumir carne estragada. .  Integrantes do auditório do programa \"Domingão do Faustão\" precisaram de atendimento médico após almoçarem no restaurante \"South\"s Place Steakehouse\", na cidade São Paulo. Participantes da caravana disseram que a situação ocorreu porque diversas pessoas consumiram carnes estragadas. A informação é do Jornal O DIA e o caso aconteceu no último domingo (05) Cerca de 300 pessoas estariam participando no almoço, que fazia parte da produção do programa. De acordo com o colunista Leo Dias , foram as próprias pessoas que passaram mal que entraram em contato para relatar o caso. Após o ocorrido (no próprio domingo), elas foram encaminhadas para o Centro Médico da Globo. Um responsável pelo restaurante disse que desconhece o fato e informou que a cozinha passa por frequentes vistorias.\n",
      "665\n",
      "ZEN-vergonha: Monge é preso no sul da Ásia com milhões de comprimidos de metanfetamina. .  Um monge budista foi preso ontem (05) em Myanmar, no sul da Ásia. Após uma busca no mosteiro, a polícia local encontrou mais 4,2 milhões de comprimidos de metanfetamina. Myanmar é um dos centros de concentração tráfico de drogas no Sudeste Asiático. Na Tailândia, país vizinho, aproximadamente 30 monges tiveram que abandonar os hábitos por uso de drogas nos últimos anos. A ONU estima que a produção e consumo de drogas sintéticas quadruplicou na região desde 2012 . (fonte: HindustanTimes )\n",
      "666\n",
      "Kátia Abreu conseguiu a proeza de ter uma biografia mais manchada que a dos petistas.\n",
      "\n",
      "Expulsa do PMDB nesta quarta (23) por decisão unânime do Conselho de Ética, Kátia Abreu está choramingando pelo Twitter:\n",
      "\n",
      "Foi muito pertinente ela ter citado sua biografia, pois é uma biografia muito mais indecente do que a dos petistas. E olhe que as biografias dos petistas são as mais repelentes que podemos encontrar, pois falamos de pessoas que apoiam regimes totalitários. Ou seja, são inimigos da humanidade.\n",
      "\n",
      "Mas Kátia Abreu é ainda pior que os petistas. A maioria dos petistas nasceu para isso: ocupar poder no estado e escravizar os demais. Por mais que sejam repugnantes, executam sua função.\n",
      "\n",
      "Kátia Abreu é diferente. Sua biografia mostra: chegou ao poder como representante dos pecuaristas. E todos sabem que pecuaristas e agriculturas são vítimas de terrorismo causado pelo MST, movimento sanguinário apoiado pelo PT.\n",
      "\n",
      "Só por isso Kátia Abreu deveria ter honrado sua biografia e jamais sequer ter apertado a mão de um petista. Mas ela fez o contrário: usou o poder em suas mãos para ajudar o partido totalitário.\n",
      "\n",
      "Qualquer pecuarista ou agricultor que tenha sido assassinado, estuprado ou tenha perdido sua propriedade para o terrorismo rural precisa se lembrar do nome da pecuarista que ajudou o PT, partido que mais financiou o MST.\n",
      "\n",
      "Não adianta Kátia Abreu fazer discursinhos piegas.  Já está na biografia dessa senhora: Kátia Abreu, que chegou ao poder pelo apoio dos pecuaristas, decidiu apoiar o PT, partido aliado do MST, que vive de praticar terrorismo contra agricultores e pecuaristas.\n",
      "\n",
      "Qualquer barbárie cometida pelo MST pode ser rebatida com uma pergunta a Kátia Abreu: E aí, Kátia, o que me diz de seu apoio ao PT, que financia o MST?. Isso não pode mais ser apagado de sua biografia.\n",
      "\n",
      "Por isso mesmo ela consegue ser até pior do que os petistas, em termos morais. Os petistas são conhecidos pelo barbarismo, a incivilidade e o totalitarismo. Kátia Abreu foi além: se aliou aos totalitários mesmo tendo chegado ao poder por gente que sempre sofre atrocidades nas mãos do MST. Isto é traição dos seus aliados.\n",
      "\n",
      "Em política, não é possível descer mais baixo do que Kátia Abreu.\n",
      "667\n",
      "Bolsonaro é o único presidenciável que não está envolvido em escândalos.  Candidato do PSC concorrerá com políticos cujos nomes estão envolvidos em escândalos milionários. Veja os crimes que os adversários de Bolsonaro são acusados.\n",
      "\n",
      "Nesta segunda (12), o Instituto Datafolha divulgou mais uma pesquisa de intenção de votos para o pleito de 2018. Entre os principais candidatos à presidência, o deputado federal Jair Bolsonaro (PSC) é o único a não ter o seu nome envolvido em escândalos políticos  nenhum dos adversários, porém, foi condenado até o momento. Adversários de Bolsonaro:\n",
      "\n",
      "Marina Silva (Rede), Lula (PT), Aécio Neves (PSDB), Geraldo Alckmin (PSDB), José Serra (PSDB) e Ciro Gomes (PDT) têm seus nomes envolvidos em escândalos políticos.\n",
      "\n",
      "Em junho deste ano, Marina Silva foi acusada de ter recebido dinheiro de caixa dois, em delação premiada feita pelo ex-presidente da OAS, Léo Pinheiro, na campanha para as eleições de 2010. Marina negou que sua campanha tenha recebido dinheiro ilícito.\n",
      "\n",
      "Entre os candidatos das eleições de 2018, Lula é quem está mais enrolado com a justiça. Há inúmeras denúncias contra o ex-presidente e ele é réu em três processos da Operação Lava Jato.\n",
      "\n",
      "Aécio Neves, derrotado nas eleições de 2014, foi citado em delação do ex-diretor de Relações Institucionais da Odebrecht, Claudio Melo Filho. O senador teria recebido R$ 15 milhões da empresa.\n",
      "\n",
      "O governo de São Paulo, Geraldo Alckmin, foi delatado pela Odebrecht. Ele teria recebido dinheiro vivo para caixa dois nas duas últimas disputas pelo governo do maior estado do Brasil.\n",
      "\n",
      "Em 2010, o candidato tucano à presidência, José Serra, teria recebido R$ 23 milhões via caixa dois da Odebrecht.\n",
      "\n",
      "Ciro Gomes, candidato do PDT, tem ação de improbidade administrativa aberta pelo Ministério Público Federal (MPF) quando era secretário de saúde do estado do Ceará.\n",
      "\n",
      "Somente Bolsonaro, entre os candidatos que alcançaram mais de 5% na pesquisa de intenção de votos do Datafolha, não tem o nome envolvido em escândalos milionários.\n",
      "668\n",
      "Militantes expulsam Rede Globo do velório de Marisa Letícia: \"Fora mídia golpista\". .  Integrantes do Partido dos trabalhadores impediram a entrada da TV Globo no Sindicato dos Metalúrgicos em São Bernardo do Campo, local onde a ex-primeira dama está sendo velada. Sob gritos de \"mídia golpista\", membros educados da \"turma do Lula\" hostilizaram e xingaram o repórter César Menezes, que abandonou o local. Essa é a turma que fala em democracia e respeito! Repórteres de outras emissoras continuam no local, porém estão usando microfones sem logotipo. A visitação foi aberta ao público e o velório segue até as 15:00 hs.\n",
      "669\n",
      "As últimas palavras de Steve Jobs que chocaram o mundo.  Um homem com uma riqueza tão grande, chocou o mundo com as suas últimas palavras!.  Cheguei ao topo do sucesso nos negócios. Aos olhos dos outros, minha vida tem sido um símbolo de sucesso.\n",
      "670\n",
      "Em encontro com Temer no Sírio Libanês, Lula volta a atacar o STF: \"Corte acovardada\".  Mesmo passando por uma fase extremamente difícil com a morte da esposa, Lula não consegue demonstrar respeito com as instituições do país.  Michel Temer e uma comitiva de investigados na Lava-Jato foram até o Hospital Sírio Libanês prestar condolências ao ex-presidente petista. De acordo com o jornalista Josias de Souza (do UOL ), o clima entre Lula e Temer foi profundamente cordial. Lula agradeceu a visita do presidente e encontrou uma brecha para fazer política dentro do hospital: \"Não se faz reforma da Previdência com o país em recessão\" disse o petista para Michel Temer. O STF também fez parte da conversa: \"O Supremo está acovardado\" disparou Lula. Aguarde Luíz Inácio! Sérgio Moro vem aí!\n",
      "671\n",
      "Globo dispensa diretor do Domingão do Faustão por conta de namoro com apresentadora Eliana.  Adriano Ricco, que dirigia o \"Domingão\" foi dispensado do programa.  O pai de Adriano, que é jornalista do UOL, infromou que o motivo da dispensa foi o namoro do filho com a apresentadora concorrente Eliana (SBT). Disse o pai do diretor: \"Tenho dois filhos trabalhando em televisão. Adriano estava na direção do \"Domingão\" quando começou a namorar a Eliana e, mesmo fazendo um bom trabalho , a Globo achou que ficaria esquisito ele continuar num programa de um concorrente. Agora ele foi para o \"Caldeirão\" e está feliz\", disse o jornalista Léo Dias ao jornal \"O Dia\". Adriano tem um contrato com a Globo que vai até 2021. leia também:\n",
      "672\n",
      "Filho de Lula (aquele dos R$ 2,5 milhões) chama Bolsonaro de lixo e é humilhado nas redes sociais.  Luís Cláudio \"Lulinha\" quis assustar Jair Bolsonaro através das redes sociais e se deu mal.  O filho de Lula, Luís Claudio Lula da Silva (o Lulinha), postou em sua página no Facebook uma mensagem dizendo que a prisão de seu pai \"tacaria fogo no país\". Antes de ser apagada, a postagem de Luís Claudio foi reproduzida em reportagem do Jornal da Band e causou irritação nas redes sociais. A página pessoal do ex-presidente Lula desmentiu que Luís Cláudio teria dito que \"tacaria fogo no Brasil\" , caso o pai (Lulão) fosse preso. No texto, a página de Lula atribuiu ao deputado Jair Bolsonaro a autoria da \"mentira\". O ex-presidente disse: \" O deputado federal Jair Bolsonaro não poupa mentiras para atacar Dilma, o PT, Lula e sua família. Desta vez, inventou que um dos filhos do ex-presidente disse que vai \"mandar tocar fogo no Brasil\" por causa da Operação Lava Jato\". Luis Claudio, então, compartilhou a postagem do pai, acrescentando o comentário: \" Eeeeee #BolsoLixo ... Mentiroso safado!!!\". leia abaixo a resposta do dep. Eduardo Bolsonaro nas redes sociais: Já que sua página democrática e tolerante não permite comentários, deixo aqui um conselho: devolvam tudo o que roubaram do povo brasileiro e paguem suas cadeias. A população que apóia a família Bolsonaro está revoltada de ver o suor de seus impostos ser saqueado para o senhor e sua família viverem numa vida mega luxuosa em triplex e iates sem nunca terem produzido nada. Dilma e o PT tentam neste momento criar/aumentar impostos para que nós paguemos a conta da gasolina do iate do seu irmão. Não basta o aumento do combustível e os de energia, maneira com a qual Dilma reteve a inflação em 2014, e hoje faz exatamente tudo ao contrário do que prometeu nas eleições. Mentir é quebra de decoro, isso enseja cassação já, impeachment! É muita lama para escrever aqui, vamos debater ao vivo? Não existe nenhuma alma mais honesta do que a de seu pai (????????????), qual é o seu medo? O deputado Jair Messias Bolsonaro também se defendeu, mostrando reportagem do Jornal da Band que mostrava a postagem de Luís Claudio, com o texto \"Tentativa de prender Lula tocará fogo no país\".\n",
      "673\n",
      "Jornalista desbanca petistas: \"Marisa foi uma grande mulher.Não queiram transferir os méritos dela para Lula\".  Marisa foi uma grande mulher? É claro que foi! Não há sombra de dúvida.  (Patrícia Moraes Carvalho para o Diário do Brasil) Afirmo isso porque sou mulher e sempre admirei dona Marisa, assim como Dona Ruth Cardoso. Marisa foi vítima de uma paixão de adolescência e caiu na lábia do \"metalúrgico revoltado\". Um ser humano (seja homem ou mulher) que, por necessidade, começa a trabalhar aos 9 anos de idade, merece o respeito de qualquer pessoa. Aos 19 anos, ela se casou com o também metalúrgico Marcos Cláudio, que foi assassinado e a deixou viúva em plena gestação. Superou o trauma sozinha [...] seguiu em frente [...] continuou trabalhando [...] até se casar com Lula (3 anos depois). O que não podemos fazer é cometer o erro grotesco de transferir os méritos e a história de luta de Dona Marisa para o senhor Luíz Inácio. Marisa foi trabalhadora, digna, responsável, mãe, esposa [...] já Lula não passa de um oportunista que se finge de sonso. Fico aqui pensando com meus botões (e por favor, não me interpretem como feminista): \"O que essa mulher teve que aguentar desse cidadão não foi pouca coisa\" Você pode até não concordar comigo. Se buscarmos fotos dos cônjuges no Google, só veremos imagens de momentos felizes do casal Silva. Mas vamos refletir um pouquinho: Fotos postadas em redes sociais não representam a realidade das pessoas. Esse fato já foi provado e comprovado por diversos estudos. Lula nunca foi trabalhador [...] e sim agitador. Como pessoa, é um ser humano ignorante (no sentido de grotesco, bruto) [...] nunca foi exemplo de marido nem tão pouco de pai. Os atores Carlos Vereza e Lima Duarte definiram bem quem é Lula: \"Uma glamourização da ignorância\" Diogo Mainardi, jornalista, também deu sua opinião sobre o petista: \"Não passa de um pelego oportunista\" E ouso dizer mais: \"Esse cidadão só foi eleito porque tinha uma mulher forte e responsável ao seu lado. Sozinho, Lula não passaria de um líder de MST\" Nas redes sociais, cheguei a ler comentários de pessoas acusando Marisa Letícia de ser cúmplice de Lula. Na minha humilde opinião, acho que isso não aconteceu. O \"ogro\" do ABC provavelmente poupou a esposa de suas falcatruas vergonhosas. Para encerrar, deixo aqui minhas sinceras homenagens a Marisa Letícia [...] e não a Lula: Descanse em paz querida Marisa!\n",
      "674\n",
      "Morre Marisa Letícia: Família de Lula autoriza doação de órgãos da ex-primeira dama. .  A ex-primeira-dama, 66 anos, teve morte cerebral confirmada (2) devido a complicações causadas poe um AVC. A página do ex-presidente Lula no Facebook postou um texto em que autoriza a doação de órgãos de Dona Marisa. \"A família Lula da Silva agradece todas as manifestações de carinho e solidariedade recebidas nesses últimos 10 dias pela recuperação da ex-primeira-dama Dona Marisa Letícia Lula da Silva. A família autorizou os procedimentos preparativos para a doação dos órgãos\". Nascida em uma família de imigrantes italianos, Marisa viveu com outros 10 irmãos em um sítio até completar 5 anos de idade. A família se mudou para São Bernardo do Campo em 1955. Quando completou 13 anos, Marisa precisou da autorização de seu pai para trabalhar em uma fábrica de chocolates, como embaladora. Aos 19 anos, se casou com o taxista Marcos Cláudio, com quem teve um filho. Com apenas 3 meses de matrimônio (em 1970), ela perdeu o marido, que foi assassinado a tiros em um campo de futebol. Em 1974, a viúva conheceu Lula no Sindicato dos Metalúrgicos de São Bernardo. Meses depois, no mesmo ano, eles se casaram e o relacionamento gerou três filhos: Fábio, Sandro e Luís Cláudio. Em 1980, quando Lula estava preso, Marisa liderou a Passeata das Mulheres, a favor da liberdade dos sindicalistas. No último dia 24, a ex-primeira dama foi internada na UTI do Hospital Sírio-Libanês após sofrer um AVC.\n",
      "675\n",
      "Edson Fachin é o novo relator da Lava Jato. . \n",
      "676\n",
      "Maria de Fátima (vítima de um AVC) morreu na fila do SUS. Ninguém ficou sabendo!.  Uma idosa de 72 anos, vítima de um AVC, morreu na cidade de Campinas, interior de SP.  (Amanda Nunes Brückner para o Diário do Brasil) Dona Maria de Fátima Pacheco aguardou oito dias por uma vaga na UTI da rede pública de saúde [...] o famoso SUS. Morreu porque não conseguiu a vaga! A lei determina que pacientes em estado crítico devem ser atendidos em até 12 horas após a internação. O Sistema Único de Saúde (SUS) do estado simplesmente informou que não há leitos de UTI disponível em hospitais públicos da região. \"O caso dela era muito grave. A gente não tinha recursos e perdemos nossa mãe\", disse uma das filhas de dona Maria de Fátima. Mas quem é Maria de Fátima? Ninguém, simplesmente mais uma das milhões de pessoas que morrem diariamente e não tem condições de arcar com uma estrutura compatível com um país que ROUBA bilhões em impostos. Pobre dona Maria [...] não era casada com um político! (Esta é uma postagem de ficção. Qualquer semelhança com nomes, pessoas, factos ou situações da vida real terá sido mera coincidência. Nossa Constituição garante que todos são iguais perante a LEI [...] a realidade mostra que isso nunca vai acontecer!) leia também:\n",
      "677\n",
      "Candidato Luciano Huck é sócio de loja que pendurou manequins negros de ponta-cabeça. .  A marca carioca Reserva, que tem o apresentador global Luciano Huck como sócio, se tornou alvo de acusações de racismo por causa de uma vitrine em um shopping Riosul da na zona sul do Rio de Janeiro Internautas acharam ofensivo o fato de manequins negros estarem pendurados de cabaça para baixo. A assessoria de imprensa da Reserva disse que os manequins, tradicionalmente pintados de preto, são pendurados pelos pés em todas as liquidações da marca. O letreiro da loja também é invertido na época de saldão. Tal ato representaria a expressão \"O Patrão está maluco\" e não teria qualquer intenção de praticar racismo.\n",
      "678\n",
      "Mandato de Jean Wyllys pode ser suspenso. A cusparada que o deputado federal Jean Wyllys deu em Jair Bolsonaro custou caro. Ele acaba de ter o mandato suspenso pelo Conselho de Ética da Câmara dos Deputados. \n",
      "\n",
      "O deputado Ricardo Izar (PP-SP), relator do processo que analisa se o deputado Jean Wyllys (PSOL-RJ) quebrou o decoro parlamentar ao cuspir na cara do deputado Jair Bolsonaro (PSC-RJ), sugeriu hoje em seu relatório que Wyllys seja suspenso por 120 dias. Ele disse em seu voto que, tendo em vista o alto grau de reprovabilidade da conduta perpetrada pelo deputado Jean Wyllys, ele deveria sofrer severa reprimenda por parte da Câmara.\n",
      "\n",
      "A previsão seria de suspensão por seis meses. Izar diz ter considerado, no entanto, que, como há provas nos autos da existência de reiterada provocação levada a efeito por alguns parlamentares em face do representado [Wyllys], a suspensão deve ser diminuída para quatro meses.\n",
      "\n",
      "É tão absurdo, na hora em que o Congresso está caindo de podre, que o Ricardo Izar peça a suspensão do meu mandato que eu chego a encarar como um elogio, diz Jean Wyllys.\n",
      "\n",
      "O parlamentar acusa Izar de ter ignorado completamente o meu depoimento, as testemunhas de defesa e inclusive um laudo da Polícia Civil que mostrou que o vídeo [em que ele apareceria falando a outros colegas que cuspiria em Bolsonaro] é fraudulento. Todo o processo, portanto, é movido em cima de uma fraude, de uma mentira.\n",
      "679\n",
      "Sírio Libanês demite médica que ironizou Marisa Letícia no WhatsApp. .  De acordo com a publicação, uma médica reumatologista identificada como Gabriela (de 31 anos) compartilhou informações sigilosas sobre o estado de saúde de Marisa Letícia em um grupo de WhatsApp. A médica espalhou em um grupo que a ex-primeira dama estava no hospital com diagnóstico de AVC nível 4 na escala Fisher. Um participante do grupo (também da área médica) chegou a escrever: \"Tem que romper (o vaso sanguíneo) no procedimento [...]  já abre a pupila e o capeta abraça ela\" escreveu Richam Ellakkis. Outro médico comentou: \"Esses fdp vão embolizar ainda por cima ?!?\",\" se referindo ao procedimento de fechar um vaso sanguíneo para diminuir o fluxo de sangue em determinado local. \"A instituição tomou as medidas disciplinares em relação à médica, assim que teve conhecimento da troca de mensagens\" , informou a assessoria. A nota ainda informou que \"Não permite esse tipo de atitude entre seus colaboradores\" e repudiou a quebra do sigilo de pacientes. leia também:\n",
      "680\n",
      "Camburão da PF? Van de Michel Temer chega ao Sírio Libanês lotada com investigados da Lava-Jato.  O presidente Temer foi recebido (por petistas cheios de amor) com gritos de \"assassino e golpista\" ao chegar no Hospital Sírio Libanês para prestar solidariedade a Lula.  Junto com o presidente estavam alguns investigados na Lava-Jato: José Sarney (PMDB-AP), Renan Calheiros (PMDB-AL), Romero Jucá (PMDB-RR), Eduardo Braga (PMDB-AM), Edison Lobão (PMDB-MA), Eunício de Oliveira (PMDB-CE) . A comitiva também trazia José Serra (PSDB-SP), Henrique Meirelles e Moreira Franco.\n",
      "681\n",
      "E se fosse a Dilma? Michel Temer dá cargo com foro privilegiado para investigado da Lava-Jato.  Michel Temer dará um novo cargo para Moreira Franco.  O presidente disse que \"quer Moreira mais perto dele\", informou a Veja. Com a nova função de Secretário-Geral da Presidência, Franco ganhará \"totalmente di grátis\" o foro privilegiado [...] praticamente uma benção! Moreira Franco é citado em documentos internos da Odebrecht com o codinome \"Angorá\". Melo disse (em delação) que Franco representava os interesses de Temer e atuava como arrecadador. \"Resumindo, para fazer as \"benesses\" da Odebrecht chegar até Michel Temer, eu me valia de Eliseu Padilha ou Moreira Franco. Era uma via de mão dupla, pois o atual presidente utilizava prepostos para atingir interesses pessoais\" disse Melo. Moreira Franco nega as declarações de Melo Filho e trata a delação como \"mentira afrontosa\". Isso é um absurdo! Quando Dilma tentou fazer a mesma coisa com Lula, ela foi crucificada pela mídia! Não podemos ter dois pesos e duas medidas!\n",
      "682\n",
      "Pastor da igreja de Eike se irrita e dispara: \"Se tivesse seguido Cristo, não estaria em Bangu\".  Ultimamente, o milionário Eike Batista participava de cultos em uma igreja da Assembleia de Deus.  Fiéis da igreja localizada em Rocha Miranda, bairro situado na zona norte do RJ, questionavam se Eike havia realmente \"aceitado Jesus\". No dia da prisão do empresário (30/01) , o pastor que batizara Eike bradou: \"Se seguisse Cristo, como o Senhor orientou, ele estaria livre\", disse o pastor Danielzinho, que costuma pregar no presídio Bangu 9, onde Eike está preso. Seus seguidores foram à loucura! Quando questionado por um fiel sobre o poder de sua igreja sobre a vida do milionário, ele respondeu: \"Imbecil, panaca, profetinha de araque\" Em 2016, quando Eike foi convertido,o pastor postou várias fotos em sua rede social e escreveu: \"Eiki aceitou Jesus [...] o diabo perdeu\". O vídeo abaixo mostra o empresário participando de um culto: (fonte: Jornal O Dia )\n",
      "683\n",
      "Lula desce o nível, perde o bom senso e chama Sérgio Moro de incapaz.  O ex-presidente Lula usou seu site oficial para atacar o juiz federal Sérgio Moro.  acima um print da tela do site oficial de Lula (www.lula.com.br) A ofensa foi divulgada em um texto com o título \"Seis motivos para anular o processo do triplex do Guarujá\", ação na qual Lula é réu. Lula nunca quis provar sua inocência. A única coisa que esse cidadão quer é enfrentar a Justiça e bagunçar o país. Imagine só se cada cidadão que for alvo de alguma ação começar a enfrentar todos os juízes do país. É isso que Lula deseja! O petista quer instaurar o caos no país e decretar um estado de desobediência civil. Ele não respeita ninguém [...] quer seja polícia, quer seja juiz, quer seja o Papa. Curitiba te espera de braços abertos, querido!\n",
      "684\n",
      "Juiz \"braço direito\" de Teori Zavascki na Lava-Jato deixa o Supremo. .  Informação da coluna Expresso, da Revista Época, relata que o juiz Márcio Schiefler, que atuava no âmbito da Lava-Jato dentro do gabinete de Teori Zavascki, deixou o STF hoje (31). Schiefler pediu para se desligar do Supremo logo após a presidente Cármen Lúcia homologar a \"Delação do Fim do Mundo\", onde 77 colaboradores da Odebrecht fizeram um acordo de delação premiada. A Época informou também que o juiz é considerado uma espécie de \"banco de dados\" da Lava Jato [...] ele era de extrema confiança de Teori e assinou vários documentos de processos envolvendo políticos e autoridades. O exmo. juiz volta para Santa Catarina, onde seguirá sua carreira de magistrado no Tribunal de Justiça.\n",
      "685\n",
      "Jornalista usa twitter e diz que esposa de Lula faleceu.  O jornalista Severino Motta informou em seu twitter que a ex-primeira dama faleceu durante esta madrugada.  Segundo o jornalista, o próprio Lula estaria avisando políticos e amigos próximos sobre o falecimento de sua esposa. Oficialmente, a ex-primeira dama segue internada em coma induzido, porém sem atividade elétrica cerebral e com fluxo sanguíneo reduzido. Tanto o médico da família quanto o hospital Sírio Libanês não confirmaram essa informação. Abaixo a postagem de Severino: A jornalista usou sua conta no Instragram para postar a informação da morte cerebral de dona Marisa\n",
      "686\n",
      "Médicos confirmam que quadro de Marisa é irreversível.  A informação é do cardiologista Roberto Kalil Filho. O médico disse ao Globo que o estado de saúde de Marisa é irreversível.  A ex-primeira dama segue internada na UTI, em coma induzido. Ela está sedada e respira por aparelhos. Na madrugada de hoje (02) a atividade elétrica cerebral e o fluxo sanguíneo no cérebro de Marisa pioraram. A assessoria do hospital chamou a família e explicou a situação. Na manhã de ontem, a esposa de Lula sofreu de anisocoria, que é uma condição caracterizada pelo tamanho desigual das pupilas [...] o que já indicava que ela teria sofrido traumas em um dos hemisférios do cérebro e poderia estar com hemorragia. O Instituto Lula ainda não se pronunciou.\n",
      "687\n",
      "Condenada a devolver R$ 1,2 milhão aos cofres públicos, cantora ignora prazo e não paga dívida.  Ministério da Cultura diz que artista descumpriu regras da Lei Rouanet em turnê.  A cantora não seguiu regulamentos da Lei Rouanet e foi condenada a devolver R$ 1.274.000,00 até o dia 7 de janeiro, fato que foi publicado no Diário Oficial da União. Em nota, o Ministério da Cultura informou que tentou contatos via e-mail e telefone, porém a empresa da artista não realizou o pagamento. O MinC explicou que as contas foram reprovadas porque a turnê não realizou ações de \"democratização de acesso\", regras exigidas para se ter um projeto apoiado. A CIEL Empreendimentos Artísticos (empresa de Cláudia) disse que não irá se pronunciar sobre o assunto. \"O projeto foi realizado e devidamente comprovado ao MinC. A Ciel irá comprovar a realização dos eventos e a distribuição dos ingressos\", disse a assessoria cantora em nota. A empresa de Cláudia poderá entrar para a lista de devedores da União.\n",
      "688\n",
      "FHC também foi agraciado com gentileza de empreiteira. Ele recebeu um aeroporto para uso pessoal.  Em 1989, FHC comprou com Sérgio Motta a fazenda \"Córrego da Ponte\" em Buritis (MG).  Em 1995, quando FHC já era presidente, e a proprietária da fazenda Pontezinha, ao lado das terras de FHC, era a Agropecuária Jauense, da Camargo Corrêa. De acordo com esta antiga reportagem da Revista ISTOÉ , em julho de 1995, a empreiteira iniciou a construção de um aeródromo particular na fazenda, obra concluída em menos de 3 meses. Conta com uma pista de 1.300 metros (mesmo tamanho que a do Aeroporto Santos Dumont, no Rio de Janeiro), e estacionamento para 20 pequenas aeronaves. O registro oficial da pista no Departamento de Aviação Civil (DAC), antecessor da ANAC, foi feito em outubro de 1995, autorizando receber aviões do tipo Bandeirantes e Lear-Jets. O engenheiro responsável pela obra, Marcelo Ávidos, elogia a qualidade da pista, discorda das restrições de pouso impostas pela Infraero e garante que o aeródromo está preparado para grandes aeronaves. \"Até um Boeing 737 pode aterrissar ali\", atesta Ávidos. Na época da reportagem (1999), o fazendeiro Celito Kock, vizinho de ambos e atento observador do trânsito aéreo na região narrava: \"Nunca vi avião nenhum da Camargo Corrêa pousando ali. Mas da família de Fernando Henrique não para de descer gente\". Dois habitués na pista da Pontezinha eram Luciana Cardoso (atual funcionária \"fantasma\" do Senador Heráclito Fortes), filha do presidente, e seu marido, Getúlio Vaz, que iam à fazenda de Fernando Henrique sempre que podiam. A assessoria de imprensa da Presidência da República informou à reportagem que FHC usou apenas uma vez a pista da Camargo Corrêa, num dia em que estava difícil voar de helicóptero. Mas confirmou a utilização da pista pelos familiares do presidente. Nesta época, Jovelino Carvalho Mineiro Filho (amigo de FHC) já havia comprado a parte que pertencia a Sérgio Motta, e FHC havia passado sua parte aos filhos Luciana Cardoso, Beatriz Cardoso, e Paulo Henrique Cardoso. A sociedade era gerida e administrada por Jovelino Mineiro e Luciana Cardoso. MESES ANTES, A CAMARGO CORRÊA GANHOU A OBRA DE AMPLIAÇÃO DO AEROPORTO INTERNACIONAL DE BRASÍLIA Apesar de ter os equipamentos necessários para a obra, a Camargo Corrêa encomendou o serviço à Tercon  Terraplanagem e Construções, numa autêntica troca de gentilezas. Meses antes, a Tercon havia conseguido um bom negócio ao ser contratada pela Camargo Corrêa para fazer a ampliação do Aeroporto Internacional de Brasília  empreitada que só terminou anos depois. Com isso, não se furtaria a retribuir o favor. FILHA DE FHC USOU AVIÃO DA FAB PARA IR À FAZENDA EM 2002 Em 2002 , o procurador da República Luiz Francisco Souza, exigiu explicações à Luciana Cardoso, filha do ex-presidente, por ter viajado a Buritis (MG) num avião oficial da Força Aérea Brasileira. Luciana foi a Buritis conferir os danos causados pela invasão dos sem-terra à sede da Fazenda Córrego da Ponte, de propriedade de sua família. A assessoria do Palácio do Planalto informou que Luciana era funcionária da Presidência (era secretária do próprio FHC) e viajou com outros servidores do Planalto\n",
      "689\n",
      "Jô Soares pede desculpas ao juiz Sergio Moro na Globo. Na madrugada desta quinta-feira (8), Jô Soares anunciou no ar pela Globo, que precisava pedir perdão ao juiz Sergio Moro. Ele não poderia sair do ar sem fazer isso.\n",
      "\n",
      "O apresentador começou a atração com um esclarecimento aos telespectadores. Eu quero esclarecer uma coisa. Ontem viralizou uma notícia de que eu ia entrevistar o juiz Sergio Moro aqui no programa. O boato foi tão grande nas redes sociais que até eu acreditei. Foi só um boato. Eu convidei o juiz Sergio Moro uma vez, duas vezes, aí a pedido de todas as jornalistas da minha equipe, eu tentei. Mas ele falou: eu não posso dar uma entrevista, que aí eu tenho que dar entrevista pra todo mundo. Eu quero dar parabéns ao juiz Sergio Moro por ter resistido a esse assédio. Até peço perdão por essa minha insistência que foi muito mais do jornalista, do que do artista.\n",
      "\n",
      "Apesar de ser quase todos os dias esculachado pelos apresentadores e comentaristas da Rede Globo o juiz Sergio Moro ainda foi educado ao argumentar que não quer ser mais importante que o processo.\n",
      "\n",
      "Em outro momento, o apresentador anunciou a última semana de seu talk show. Na próxima semana, que é também a última semana do Programa do Jô, na Globo, o dia das Meninas [do Jô] vai ao ar na quinta-feira, porque sexta-feira vai o último programa, disse. Normalmente o quadro Meninas do Jô é exibido nas quartas-feiras.\n",
      "690\n",
      "Quadro de saúde da ex-primeira dama piora e seu estado é considerado gravíssimo.  A esposa do ex-presidente Lula apresentou anisocoria, que é uma condição caracterizada pelo tamanho desigual das pupilas.  O quadro indica que ela sofreu traumas em um dos hemisférios do cérebro e pode estar com hemorragia. Na manhã de hoje, médicos do Sírio já haviam anunciado uma inflamação cerebral. Marisa foi vítima de um AVC na última terça-feira (24). (a informação é de Adriana Dias Lopes, da Veja)\n",
      "691\n",
      "Delação da Odebrecht aponta mais de 200 políticos, incluindo os \"peixões\".  Informações reveladas no Globo apontam que o acordo de colaboração premiada da Odebrecht (que está prestes a ser homologado) inclui mais de 130 políticos como favorecidos diretos de desvios de dinheiro público..  Em vários casos, a propina foi efetuada para pagamento de dívidas de campanha (o famoso caixa 2). Deputados federais, senadores, ex-ministros, ministros, governadores e ex-governadores estão na lista que está sendo investigada. Investigadores confirmam que a lista foca apenas nas doações ilegais [...] No grupo de cobradores de propinas delatados constam políticos do PMDB, PT, PP e PSDB . Somente em 2015, a Odebrecht faturou mais de R$ 130 bilhões com negócios no Brasil e no Exterior. Vai faltar cadeia pra tanto bandido!\n",
      "692\n",
      "Vestindo a carapuça! Políticos graúdos do PMDB e PSDB se unem para \"melar\" delação da Odebrecht.  UM DETALHE IMPORTANTÍSSIMO.  Um dos principais jornalistas do país, Kennedy Alencar , alertou para um possível cancelamento da delação de Cláudio Melo Filho (ex-presidente de relações institucionais da Odebrecht) Cláudio delatou o nome de 51 políticos de onze partidos, entre eles Michel Temer, Jucá e Renan Calheiros. A maioria dos políticos que foram acusados de receber \"benesses\" da Odebrecht pertencem ao PSDB e ao PMDB. De acordo com Kennedy, os partidos acima citados já estão articulando uma pressão sobre o ministro relator da Lava-Jato, Teori Zavascki. As delações dos executivos já foram assinadas em comum acordo com o MPF, porém ainda dependem da chancela de Teori [...] precisam ser homologadas. Outro fato que chama atenção é de que as delações mais importantes (envolvendo caciques da política) estariam sendo vazados para a imprensa [...] o que poderia forçar a Procuradoria Geral da República a cancelar os acordos de delação. Caso semelhante aconteceu com a delação do empresário Leo Pinheiro, da OAS, que teve seu acordo cancelado por Rodrigo Janot. Tanto no caso de Leo quanto no caso de Claúdio Melo, as informações foram passadas para a revista Veja. Seria essa uma estratégia para cancelar tais acordos? Quem estaria vazando essas informações sigilosas? Cláudio Melo Filho era responsável pelo relacionamento da empresa com o Congresso. Trabalhava na Odebrecht há 27 anos, dos quais 12 deles em Brasília. Melo era o braço direito de Marcelo Odebrecht.\n",
      "693\n",
      "\"Senhor X\" é transferido para o \"Xilindró\" Bangu 9. . \n",
      "694\n",
      "Ex-primeira dama sofreu parada cardíaca. .  Vera Magalhães, jornalista de política do Estadão , disse que a situação de Marisa é gravíssima. De acordo com a coluna, médicos do Hospital Sírio Libanês informaram que a ex-primeira dama sofreu uma parada cardíaca, porém a situação foi controlada. Vítima de um AVC no último dia 23, a situação da esposa do ex-presidente é considerada extremamente complicada. O próximo boletim do Sírio Libanês deve sair na tarde de hoje (30). *** Vale ressaltar que o Instituto Lula não confirmou a informação do Estadão.***\n",
      "695\n",
      "Defesa de Eike nega supostas exigências para se entregar: \" Ele se encontra no exterior por razões de trabalho\".  Advogados do empresário Eike Batista negaram que ele esteja exigindo quaisquer condições para se entregar à Justiça.  \"Desde que foi decretada a prisão preventiva, Eike realizou todos os esforços para retornar o mais breve tempo possível ao país\" , diz a nota. O milionário é alvo de um mandado de prisão preventiva expedido hoje (26) pela segunda fase da Calicute, da PF. Ele é suspeito de participar de um esquema de corrupção e lavagem de dinheiro que teria escondido cerca de US$ 100 milhões no exterior. A defesa informou também que o ex-bilionário está em Nova York participando de reuniões de negócios. (fonte: Luisa Bustamante, da Veja )\n",
      "696\n",
      "Jorge Fernando, diretor da Globo, sofreu AVC e precisou ser internado às pressas no Rio. .  O susto aconteceu no último fim de semana e Jorginho foi diagnosticado com Acidente Vascular Cerebral. A pedido do próprio Jorge, o hospital não divulgou nenhum boletim médico sobre seu estado de saúde. O colunista Leo Dias informou que o diretor já recebeu alta na última sexta-feira (27) e passa bem. A Rede Globo não se manifestou sobre o assunto e não informou quando Jorge Fernando retornará.\n",
      "697\n",
      "Brasília treme: Cármen Lúcia poderá homologar a \"Delação do Fim do Mundo\" até a próxima terça (31).  Ministros do STF estão prevendo que a presidente Cármen Lúcia irá homologar as delações da Odebrecht até a próxima terça (31).  Questionada se ela irá homologar as delações, a ministra respondeu: \"Sobre esse assunto eu não falo. Nem sob tortura.\" O acordo de colaboração envolve 77 ex-executivos da empreiteira e cerca de 800 depoimentos. Tais informações mostrarão ao Brasil como a empresa conseguiu comprar grande parte do Executivo e do Legislativo federais, além de governadores e parlamentares estaduais. \"Já dá pra notar uma mudança no comportamento dos políticos em Brasília\" explicou Valdo Cruz, comentarista de política da Globo News. Uma certa ansiedade em relação a essas delações tomou conta da Capital Federal e os políticos já estão evitando os corredores da Câmara. De acordo com o jornalista, diversos parlamentares estão se \"escondendo\" em seus gabinetes em busca de informações sobre \" a delação do fim do mundo\". A pergunta assombra os parlamentares neste exato momento é: \"Será que eu estou envolvido nessas delações?\" \"A tendência dessas delações é pegar todo mundo, tanto governo quanto oposição\" finalizou. Caso a ministra Carmén Lúcia não homologue essas delações (o que é pouco provável) , a decisão ficará nas mãos do novo relator da Lava Jato, que será escolhido pela Suprema Corte.\n",
      "698\n",
      "O dia que Mainardi \"esfolou\" Eike Batista: \"Homem de negócios? Você está mais para Tonico & Tinoco\".  No início de 2011, o jornalista Diogo Mainardi participou de um bate-papo com Eike Batista e nocauteou o milionário com uma sequência de \"porradas virtuais\".  Palavras de Diogo: \"Você, visto de fora, parece mais uma figura do mundo dos espetáculos do que do mundo dos negócios\" \"Temos uma sensação de que essas empresas são uma espécie de corrente de Santo Antônio ... Elas existem de fato?\" \"O teu sucesso de baseia mais na promoção pessoal [...] você está mais próximo da Regina Duarte e Tonico & Tinoco do que de um homem de negócios\" confira no vídeo abaixo:\n",
      "699\n",
      "Cortella sobre o muro de Trump: \"Injustiça histórica. Muro da vergonha!\".  \"É claro que um país tem que fazer suas fronteiras, mas há uma questão de injustiça histórica neste assunto\" disse Cortella.  Em 1846, houve uma guerra que durou 2 anos. Quando a guerra terminou, com a vitória dos EUA, o México perdeu cerca de 50% de seu território e os EUA aumentaram em 1/4 o tamanho de suas terras. O México foi forçado a ceder regiões como Califórnia, Nevada, Texas, Utah, Novo México, Arizona, Colorado e Wyoming para os EUA. Ouça abaixo o comentário do filósofo Mário Sérgio Cortella:\n",
      "700\n",
      "Polícia Federal acaba de indiciar Lula, a esposa e o filho. Parece que o Natal da família do ex-presidente Lula não vai ser em liberdade. A Polícia Federal acaba de indiciar a família de Lula pelo crime de corrupção passiva.\n",
      "Investigação trata de suposta lavagem de dinheiro no Instituto Lula.\n",
      "Ministério Público Federal vai analisar investigação antes de abrir processo.\n",
      "\n",
      "A Polícia Federal (PF) decidiu indiciar o ex-presidente da República, Luiz Inácio Lula da Silva, o ex-ministro da Fazenda, Antônio Palocci, a ex-primeira-dama Marisa Letícia e outras quatro pessoas, na Operação Lava Jato.\n",
      "\n",
      "O ex-presidente foi indiciado pelo crime de corrupção passiva, enquanto todas as demais pessoas citadas foram indiciadas por lavagem de dinheiro.  Veja a lista de indiciados\n",
      "Luiz Inácio Lula da Silva  ex-presidente da República\n",
      "Marisa Letícia Lula da Silva  ex-primeira-dama\n",
      "Antônio Palocci Filho  ex-ministro nos governos Lula e Dilma\n",
      "Glaucos da Costamarques  primo do pecuarista José Carlos Bumlai, já condenado na Lava Jato\n",
      "Demerval de Souza Gusmão Filho  Dono da empresa DAG Construtora\n",
      "Roberto Teixeira  Advogado do ex-presidente Lula\n",
      "Branislav Kontic  Assessor do ex-ministro Palocci\n",
      "\n",
      "Odebrecht fora do indiciamento\n",
      "\n",
      "O delegado que subscreve o indiciamento disse que deixou de indiciar o ex-presidente do Grupo Odebrecht, Marcelo Odebrecht, devido ao fato de que ele já responde pelo crime de corrupção ativa, crime que lhe poderia ser imputado.\n",
      "\n",
      "Da mesma forma, a PF também decidiu deixar de fora do indiciamento o pecuarista José Carlos Bumlai, por falta de novos elementos que amparassem a participação do mesmo nos fatos.\n",
      "701\n",
      "Rússia faz alerta sobre Zika Virus: \"Porcaria que vem do Brasil e da América Latina\".  Um dos presidentes mais poderosos do mundo disse que o vírus Zika é uma \"porcaria originária dos países da América Latina\".  A declaração ocorreu durante uma coletiva de imprensa e Vladimir Putin não se constrangeu ao atacar os latino americanos. De acordo com ele, é preciso ter \"muita cautela\" para que a doença não se propague no \"primeiro mundo\". Putin disse que apesar de o mosquito não ter condições de sobreviver e chegar até a Europa, os \"latinos\" podem levar o vírus através de viagens. A OMS (Organização Mundial da Saúde ) informou que o vírus já se propagou para 21 países das Américas, porém nenhum foco da doença foi confirmado em território europeu. Oficialmente ainda não há cura contra o Zika.\n",
      "702\n",
      "Internautas flagram Eike Batista nos EUA embarcando rumo ao Brasil. Ele estava \"tranquilo e favorável\".  O empresário chegou ao aeroporto JKF (NY) pouco depois das 21:30 (horário de Brasília).  Sozinho, tranquilo e carregando apenas uma maleta, Eike passou pela checagem de passaporte e seguiu em direção à sala de embarque. Assim que desembarcar no Brasil, ele será recepcionado pela Polícia Federal e encaminhado para a sede da PF na cidade. Um internauta que estava no aeroporto perguntou se ele se considerava culpado ou inocente. Eike preferiu não responder. A previsão de chegada no Rio é amanhã às 10:30. vídeo abaixo:\n",
      "703\n",
      "Bonner se cansou do jornalismo e do \"baixo salário\". Ele vai partir para a área do entretenimento.  Após oficializar o divórcio através das redes sociais, o jornalista Willian Bonner quer iniciar uma nova etapa em sua vida.  O editor-chefe e apresentador do Jornal Nacional pretende trocar o jornalismo pelo entretenimento. De acordo com informações do portal Terra, Bonner continuará na emissora, onde faz parte do quadro de funcionários há 30 anos. A publicação também informa que o apresentador se cansou de fazer a mesma coisa há tanto tempo e agora quer ganhar mais dinheiro. O salário de Willian está em torno de R$ 700 mil, informou o portal Observatório da Televisão . Já o salário de sua ex-esposa ultrapassa R$ 1 milhão de reais. leia também:\n",
      "704\n",
      "PM prende vereador de BH que pousou helicóptero em praia do Espírito Santo.  Um vereador da capital mineira foi detido na manhã de hoje.  De acordo com a PM, o nobre parlamentar foi preso em flagrante por não apresentar motivo que justificasse o pouso da aeronave em um local público, colocando em risco a vida das centenas de banhistas que estavam na de Praia de Bacutia, Guarapari, litoral do Espírito Santo. Rubens Gonçalves de Brito (o vereador) e seu piloto foram detidos e levados para a delegacia de Guarapari/ES. O helicóptero também foi apreendido. o vídeo abaixo mostra o momento do pouso da aeronave: O parlamentar não justificou qualquer problema técnico no helicóptero e apenas alegou que \"a praia estava supostamente vazia\". O delegado responsável pela ocorrência disse que Brito cometeu 2 crimes e que, caso seja condenado, poderá pegar de 3 a 6 anos de reclusão. o vídeo abaixo mostra o depoimento do delegado:\n",
      "705\n",
      "Beto Barbosa é liberado e pede desculpas à PM: \"Eu só queria dar uma lata de leite para um pedinte\".  Depois de ser detido por xingar um policial de \"vagabundo\", Beto Barbosa pediu desculpas aos PM\"s e foi liberado.  Palavras do cantor: \"Foi um destempero, mas o foco não era a polícia [...] eles estavam trabalhando e cumprindo suas funções. Sou grato pela gentileza que tiveram comigo. Prezo pelo trabalho dos policiais. Minhas desculpas vai para toda a corporação\" , disse Beto. O cantor relatou que \"comprou uma briga de crianças e mendigos\", que estavam sendo proibidas de pedir esmolas em um supermercado. \"Eu queria dar uma lata de leite para uma criança no Pão de Açúcar é lá é proibido entrar pedintes. Então comprei a briga da criança e dei a lata de leite. A equipe do supermercado não gostou e os seguranças vieram falar comigo.\" Foi aí que todo o atrito começou. Beto Barbosa e um segurança do supermercados foram conduzidos ao DP, onde o cantor deixou escapar (no nervosismo) que o policial era um vagabundo.\n",
      "706\n",
      "Complicou! Novo vídeo cai na internet e mostra o cantor Beto Barbosa chamando policial de \"vagabundo\".  Beto Barbosa foi detido na manhã de hoje em Fortaleza, CE.  De acordo com informações do jornal Tribuna do Ceará , policiais deram voz de prisão, algemaram o músico e o encaminharam para a delegacia. Em um vídeo feito no 2o Distrito Policial, Beto demonstra sua indignação: \"O que foi que eu fiz? Precisava ter me algemado. Eu só disse que não era vagabundo\" A Secretaria de Segurança Pública e Defesa Social do estado se manifestou: \"A PM foi acionada para uma ocorrência com o cantor. Ele se desentendeu com o segurança de um supermercado e ambos foram encaminhados para o 2o DP afim de esclarecer os fatos\" Com tanta gente precisando ser algemada em Brasília ... Beto alega que não estava se referindo ao policial, mas que quis dizer \"eu não sou vagabundo\" Pode ser que ele realmente se confundiu na hora do nervosismo, mas a cena toda foi filmada. assista o vídeo do canal Sistema Jangadeiro a partir dos 50 segundos: ATUALIZADO ÀS 20:55 HS\n",
      "707\n",
      "Moro tentou ser simpático com Cármen Lúcia e tomou uma lambada: \"Do Supremo cuido eu\".  Será que Moro pegou Cármen num dia ruim?.  No velório do ministro Teori Zavascki, realizado no último dia 21, em Porto Alegre (RS), a presidente do Supremo já demonstrava sinais de que iria tomar conta da \"bagunça\" e colocar cada um em seu devido lugar. O juiz federal Sérgio Moro chegou para cumprimentar Cármen Lúcia e disse que esperava dela uma decisão serena, se referindo à escolha do novo relator da Lava-Jato. Cercada de testemunhas, a magistrada respondeu: \"Do Supremo cuido eu\". (A informação é de Aguirre Talento, da IstoÉ)\n",
      "708\n",
      "Gráficas que movimentaram R$ 52 milhões na campanha de Dilma & Temer possuem (juntas) apenas 3 impressoras.  Juntas, elas possuem 3 impressoras e conseguiram o feito fantástico de movimentar R$ 52 milhões na campanha que reelegeu Dilma e Michel.  É claro que estamos falando de empresas sérias, que possuem mão de obra e equipamentos profissionais para dar conta do recado. Não é o caso das \"gráficas\" que prestaram serviços para a campanha de Dilma Roussef/Michel Temer. A comprovação do crime que envolve desvios de verbas públicas foi feita pelo TRE/SP, ao verificar in loco e comparar os volumes de dinheiro com as condições de fornecimento de material pelas empresas. A gráfica Red Seg, que recebeu a oitava maior verba, R$ 6,15 milhões da campanha da chapa PT/PMDB, sequer dispõe de talão de notas fiscais e fica está  \"estabelecida\" em um local alugado, minúsculo, composto por uma impressora e uma guilhotina de papel há muito não utilizados. A VTPB (que recebeu R$ 22,9 milhões, ) é ainda pior: não tem impressora, nem scanner, sequer uma máquina de xerox. O responsável fala vagamente em \"subcontratações\" onde teria passado serviço para outras gráficas, mas sequer possui contratos ou notas fiscais necessárias e legais. A terceira gráfica, a Focal, que recebeu R$ 24 milhões da campanha da chapa, também é diminuta para o tamanho do dinheiro recebido e também não consegue declarar formalmente os serviços prestados. Uma dessas empresas, conforme relatado na matéria da IstoÉ, é classificada como \" muito engraçada, não tem impressora, não tem nada. Nem scanner, sequer máquina de xerox \".\n",
      "709\n",
      "Angustiado e doente, Russo morre aos 85 anos: \"A Globo foi covarde. Eles me abandonaram\". .  Antônio Pedro de Souza, que dedicou 45 anos de sua vida à Rede Globo, faleceu aos 85 anos vítima de uma pneumonia. Em 2015, quando a Globo comemorava seus 50 anos, Russo foi demitido da Globo e desabafou: \"Me deixaram sem pai nem mãe. Foram covardes. Eu não queria parar de trabalhar.\" Descanse em paz Antônio Pedro! O povo sabe quem foi você e sempre te valorizou!\n",
      "710\n",
      "Durante programa do SBT, Mara Maravilha faz comentário sobre Eike: \" Vai virar menina na cadeia. Vai virar Eika\".  Mara Maravilha, apresentadora do \"Fofocalizando\" (SBT), tentou ser engraçada mas não conseguiu.  Na edição de hoje do programa, Mara comentou sobre a futura prisão do empresário Eike Batista. O colunista Léo Dias comentava o fato e informou que, se Eike for preso, ele irá para uma cela comum, já não possui curso superior. A partir daí, Mara iniciou seus comentários: \"Eike vai virar menina na prisão, será abusado por outros presos [...] vai virar Eika. Quem é muito macho vira menina. Vai virar mocinha lá, com os manos\". Mara perdeu uma chance de ficar quieta.\n",
      "711\n",
      "Sergio Moro grita e esculacha advogado de Lula. Desta vez o advogado de Lula passou a maior vergonha da vida. O excelentíssimo juiz Sergio Moro esculachou sem pena o advogado que defende Lula da Lava Jato. O clima voltou a ficar tenso nesta segunda-feira entre o juiz federal Sergio Moro e os advogados do ex-presidente Luiz Inácio Lula da Silva, em mais uma audiência das testemunhas de acusação no processo em que o petista é réu na Operação Lava Jato. Assim como havia ocorrido nas primeiras oitivas da ação penal, Moro levantou o tom de voz diante de interrupções da defesa do ex-presidente ao longo do depoimento da engenheira da OAS Marilza da Silva Marques. Os advogados de Lula protestaram contra uma questão do Ministério Público Federal à testemunha sobre a visita da ex-primeira-dama Marisa Letícia ao tríplex 164-A do condomínio Solaris, no Guarujá (SP), e interromperam três vezes o procurador do MPF que tentava fazer a pergunta. Responsável pelo atendimento a compradores de imóveis da OAS, Marilza Marques foi uma das funcionárias da empreiteira que acompanharam a mulher de Lula inspeção no apartamento. Ela foi questionada pelo MPF se Marisa Letícia e Fábio Luís, o filho mais velho do ex-presidente, que também participou da visita, foram tratados por Léo Pinheiro e Paulo Gordilho, ex-executivos da OAS, como potenciais clientes ou como pessoas às quais o apartamento já havia sido destinado.\n",
      "\n",
      "Deu-se então, o seguinte diálogo entre Juarez Cirino, um dos advogados de Lula, e Moro (acompanhe no vídeo abaixo):\n",
      "\n",
      "Advogado: Fica um protesto aqui de novo, Excelência",
      "\n",
      "\n",
      "Sergio Moro: Doutor, o doutor está sendo inconveniente, doutor. Está sendo inconveniente",
      "\n",
      "\n",
      "Advogado: A defesa não é inconveniente na medida em que estamos no exercício da ampla defesa",
      "\n",
      "\n",
      "Sergio Moro: Já foi indeferida sua questão, já foi indeferida sua questão, doutor.\n",
      "\n",
      "Advogado: Vocês não podem cassar a palavra da defesa",
      "\n",
      "\n",
      "Sergio Moro: Posso, doutor, por estar sendo inconveniente",
      "\n",
      "\n",
      "Advogado: Não pode, porque estamos colocando uma questão muito importante, relevante, o procurador da República está pedindo a opinião da testemunha e ele não pode",
      "\n",
      "\n",
      "Sergio Moro: Doutor, o senhor está sendo inconveniente! Já foi indeferida sua questão, já está registrada e o senhor respeite o juízo!\n",
      "\n",
      "Advogado: Eu, mas escute, eu não respeito Vossa Excelência enquanto não me respeita como defensor do acusado",
      "\n",
      "\n",
      "Sergio Moro: O senhor respeite, o senhor respeite o juízo! Já foi indeferido.\n",
      "\n",
      "Advogado: Vossa Excelência tem que me respeitar como defensor do acusado, aí então Vossa Excelência tem o respeito que é devido a Vossa Excelência, mas se Vossa Excelência atua como acusador principal, Vossa Excelência perde todo o respeito.\n",
      "\n",
      "Sergio Moro: Sua questão já foi indeferida, o senhor não tem a palavra",
      " A senhora pode responder essa questão? Ela era tratada como adquirente em potencial ou uma pessoa à qual o imóvel já tinha sido destinado?\n",
      "\n",
      "Testemunha: Tratada como se o imóvel já tivesse sido destinado.\n",
      "712\n",
      "Trump confirma que irá deportar \"imediatamente\" de 2 a 3 milhões de imigrantes ilegais.  Em entrevista para a rede CBS, ele confirmou que vai construir o muro na fronteira com o México..  O novo presidente dos EUA confirmou que irá expulsar imediatamente \"membros da gangue\" e \"traficantes de drogas\". \"O que vamos fazer é pegar as pessoas que são criminosas e possuem registros na polícia e tirá-las do nosso país.Faremos isso porque eles estão aqui ilegalmente.\" disse Trump Com relação ao restante dos imigrantes que estão na América (algo entre 9 a 10 milhões de pessoas sem documentos), o presidente afirmou que estudará a possibilidade de legalizar essas pessoas. \"S ão pessoas fantásticas, vamos tentar legalizar nisso\" , disse. \"Mas antes de fazer essa legalização ... é muito importante que possamos garantir a nossa fronteira.\" continuou. Desde a vitória de Trump, o governo mexicano tem repetido que não vai pagar por um muro de fronteira. A ministra do Exterior do México disse: \"Estamos tentando eliminar barreiras. É por isso que não consideraríamos pagar por qualquer muro que colocasse barreiras entre nossa integração e nossa competitividade\".\n",
      "713\n",
      "Discurso de Lula em 2009: \"É preciso construir uma Nova Ordem Mundial\".  Veja como Lula, o PT e o Foro de São Paulo fecharam um acordo com os Illuminati para dominar a América do Sul.  (Amanda Nunes Brückner) O PT é braço dos Illuminati aqui no Brasil tal qual Foro de São Paulo é o braço dessa organização em toda a América Latina. \"É preciso construir uma Nova Ordem Mundial\" diz Lula no vídeo abaixo: Aparentemente, todos nós fomos inconscientemente pré-programados para realizar uma missão para os Illuminati. O ser humano quando sente medo, fica acuado [...] fica manipulável, diminui a capacidade de raciocínio e se torna uma presa fácil para aqueles que detém o poder da comunicação. Há um roteiro coordenado para manipular e transformar a raça humana em autômatos não-pensantes. O controle da mente está sendo orquestrado por aqueles que estudam o comportamento humano com o objetivo de dobrar grandes populações para servirem a um pequeno grupo de \"elite\". Lula, por incrível que pareça e ao contrário do que ele prega em seus discursos, trabalha para esse pequeno grupo de \"elite\". O ex-presidente não possui diplomas, mas tem uma capacidade de \"anestesiar\" a massa que poucos possuem. Grau de instrução não significa inteligência! Temos que tirar o chapéu: Lula é inteligente!\n",
      "714\n",
      "Beto Barbosa é preso em Fortaleza e reage: \"Tira essa algema de mim. Isso vai dar problema para o país\".  O \"rei da lambada\" Beto Barbosa foi detido na manhã de hoje em Fortaleza, CE.  De acordo com informações do jornal Tribuna do Ceará , policiais deram voz de prisão, algemaram o músico e o encaminharam para a delegacia. Em um vídeo feito no 2o Distrito Policial, Beto demonstra sua indignação: \"O que foi que eu fiz? Precisava ter me algemado. Eu só disse que não era vagabundo\" A Secretaria de Segurança Pública e Defesa Social do estado se manifestou: \"A PM foi acionada para uma ocorrência com o cantor. Ele se desentendeu com o segurança de um supermercado e ambos foram encaminhados para o 2o DP afim de esclarecer os fatos\" Com tanta gente precisando ser algemada em Brasília ... ATUALIZADO ÀS 18:51 HS\n",
      "715\n",
      "Você sabia que os EUA expandiram o país em 25% \"tomando\" metade do território do México?. .  Entre os anos de 1846 a 1848 o \"Tio Sam\" simplesmente aumentou seu território em aproximadamente 25%. Já o México México perdeu cerca de 50% de seu território. A ganância por novos territórios e riquezas incalculáveis da Califórnia levaram os Estados Unidos a iniciar o conflito. Quando a guerra se encerrou, o México foi literalmente forçado a ceder regiões de seu país para o Tio Sam. Resumindo: Califórnia, Nevada, Texas, Utah, Novo México, Arizona, Colorado e Wyoming eram territórios mexicanos que foram tomados pelos EUA. O presidente eleito Donald Trump quer reforçar o muro que já existe entre os 2 países para defender um território que foi tomado na \"mão grande\". Trump não está fazendo nada de novo. Dos 3 mil km de fronteiras existentes entre os 2 países, cerca de 1 mil km de muros e cercas de concreto  foram erguidos durante o governo de Bill Clinton, em 1994. Ouça abaixo o comentário do filósofo Mário Sérgio Cortella:\n",
      "716\n",
      "Já dizia o cantor Belchior: \" Foi por medo de avião  \".  Gilmar Mendes afirmou (em entrevista para a Folha de São Paulo) que: \"Nenhum ministro quer ser relator da Lava Jato\".  Um dia antes, Mendes havia dito que, caso fosse o relator, atuaria com a \"mesma naturalidade que decide todos os processos\". De acordo com o ministro \"Teori Zavascki dizia estar incomodado em ter assumido a tarefa.\" \"Assumir a relatoria tumultua a vida de todos e desorganiza o gabinete [...]\", afirmou Gilmar. Com todo respeito ao finado Teori Zavascki, mas o fato de \"ninguém\" querer assumir a relatoria da Lava-Jato nos lembra o trecho de uma música de Belchior: Foi por medo de avião  q ue eu segurei  p ela primeira vez a tua mão\n",
      "717\n",
      "Valdo Cruz: \"O sonho de muita gente em Brasília é que Eike não volte nunca mais\".  Teoricamente espera-se que os advogados de Eike Batista façam um acordo para que o empresário retorne ao Brasil o quanto antes.  Oficialmente ninguém sabe (sic...sic...) o paradeiro de Eike. A última informação obtida é de que ele estaria hospedado no edifício Trump Tower, um mega edifício situado em frente ao Central Park, informou o jornal O DIA . Valdo Cruz, comentarista de política da GloboNews, fez o seguinte comentário: \"A expectativa de muita gente em Brasília é que Eike não volte nunca mais\" \"Se for preso, \"abrirá o bico\" e falará não só sobre Sérgio Cabral (...), mas principalmente sobre os governos Lula e Dilma. Eike também tinha relações com o PSDB [...] Há temores de todos os lados\" , disse o comentarista.\n",
      "718\n",
      "Eike deixou o país com passaporte alemão e pode estar em qualquer lugar do mundo. .  O ex-bilionário e atual milionário Eike Batista, alvo de um mandado de prisão preventiva expedido hoje (26) pela segunda fase da Calicute, uma espécie de \"filial\" da Operação Lava-Jato, está foragido. Ele é suspeito de participar de um esquema de corrupção e lavagem de dinheiro que teria escondido cerca de US$ 100 milhões no exterior. O advogado de Eike argumentou que seu cliente viajou para Nova York na última terça-feira (24), em um voo executivo, cuja custo da passagem é estimado em R$ 22 mil. As investigações do MPF e PF também miram pagamentos de propina durante o governo de Sergio Cabral (2007 a 2014). Caso o empresário não se entregue em um curto período de tempo, ele será classificado como foragido e será alvo da Interpol, através da \"difusão vermelha\" do órgão. Atualmente 191 países englobam um acordo com a Interpol. A PF ainda não confirmou se o empresário desembarcou nos EUA. Há suspeitas de que Eike possa estar viajando rumo a outro país da Europa, já que o mesmo possui cidadania e passaporte alemão. Será que alguém o avisou da operação da PF?\n",
      "719\n",
      "Vergonha! Concessionária corta a energia do Maracanã por falta de pagamento. .  O consórcio Maracanã/Odebrecht deu um \"calote\" na Light. Desde setembro do ano de 2016, as contas de energia não são pagas. A dívida total ultrapassa R$ 3 milhões de reais. Na última copa do mundo, que foi realizada no Brasil, foram gastos aproximadamente R$ 1,3 bilhão no estádio. Nossos políticos, além de roubarem descaradamente o dinheiro público, agora querem tirar os momentos de lazer dos brasileiros [...] no caso o futebol!\n",
      "720\n",
      "Esposa e filho de Eike também deixaram o país. .  A esposa de Eike Batista , Flavia Sampaio , também viajou para outro país. A informação é do jornalista Lauro Jardim, do Globo. Ela embarcou ontem (25) para encontrar o marido nos EUA. O filho do casal Batista, de 3 anos de idade, também embarcou com a mãe. Há suspeitas de que alguém vazou para o empresário que ele seria preso. Eike não possui curso superior e deixou o país usando um passaporte alemão.\n",
      "721\n",
      "Passaporte alemão não era novidade para ninguém! Até o cachorro de Eike possui um. .  O companheiro fiel e parceiro de viagens aéreas do empresário possui passaporte. Eric é um pastor alemão que possui passaporte alemão (desculpem a redundância). De acordo com o portal Terra, duas pessoas foram responsáveis pelo adestramento do cão. E o mais curioso: Eles treinaram o cachorro na língua oficial de Hitler.\n",
      "722\n",
      "Veja quem são os políticos que embolsaram propina da Odebrecht (e quanto eles ganharam). A delação da Odebrecht, também conhecida como Delação do Fim do Mundo, pode colocar na cadeia os políticos mais influentes do governo Temer. Veja quem são e quanto cada um embolsou em propina.\n",
      "\n",
      "A Odebrecht gastou pelo menos R$ 88 milhões em propina, caixa dois e doações legais para campanhas de 48 políticos entre 2006 e 2014. É o que mostra um levantamento feito pela Folha, com base na delação premiada do ex-executivo da construtora Cláudio Melo Filho. De acordo com relato do ex-executivo, que era um dos principais lobistas da Odebrecht em Brasília, a empreiteira pagou R$ 28,5 milhões em propina em troca de emendas favoráveis aos negócios em medidas provisórias, liberação de recursos por parte do governo e outras ajudas no Congresso.\n",
      "\n",
      "A maior parte desse dinheiro, R$ 27,3 milhões, saiu do caixa dois da empresa.\n",
      "\n",
      "O partido que mais dinheiro que recebeu para atender os interesses da empreiteira foi o PMDB, partido do presidente Michel Temer. No total, entre propina e contribuições eleitorais, deputados e senadores da legenda receberam cerca de R$ 51 milhões da Odebrecht.\n",
      "\n",
      "A Folha já revelou outras declarações que estão nos acordos de delações por outros executivos da empresa, como um valor de R$ 23 milhões recebidos por José Serra em conta no exterior e R$ 2 milhões pra Geraldo Alckmin (PSDB), governador de São Paulo, em espécie para campanhas de 2010 e 2014.\n",
      "\n",
      "* POLÍTICOS NA MIRA DA ODEBRECHT\n",
      "\n",
      "Alguns dos citados em delação premiada de Cláudio Melo Filho, ex-executivo da empreiteira *.\n",
      "723\n",
      "Asteróide apocalíptico atingirá a Terra em fevereiro e desencadeará mega-tsunamis devastadores, afirma astrônomo.  A afirmação foi feita pelo astrônomo russo e teórico da conspiração Dr. Dyomin Damir Zakharovich.  (Daily Mail) Ele afirma que o asteroide está vindo de encontro para o nosso planeta. A Nasa detectou (em 2016) um objeto parecido com um cometa ou um asteroide que estaria a caminho da Terra. De acordo com a agência espacial, o enigmático objeto passará pela Terra a uma distância de quase 51 milhões de quilômetros no dia 25 de fevereiro. O autoproclamado astrônomo russo não concorda com a NASA e sugere que o asteróide irá se chocar com a Terra no próximo dia 16 de fevereiro, provocando um mega-tsunami, conforme ele destacou em relatórios. Chamado de 2016 WF9, o objeto foi descoberto somente no ano passado. \"O objeto que eles chamam de WF9 deixou o sistema Nibiru em outubro, quando Nibiru começou a girar no sentido anti-horário ao redor do sol\" , disse o Dr. Dyomin Damir Zakharovich. Nibiru é um dos muitos planetas que orbitam a chamada Dark Star (Estrela Escura). Esta \"Estrela Escura\" possui 7 planetas em sua órbita, sendo 5 planetas pequenos. O sexto planeta seria do do tamanho da Terra e teria vida. Já o sétimo é o planeta ou objeto que seria chamado de Nibiru. \"Desde a descoberta citada acima, a Nasa já sabe que a Terra poderá ser atingida, cedo ou tarde. Somente agora estão contando para as pessoas. Caso o asteroide se choque com a Terra, ele poderá destruir cidades e causar um tsunamis\" disse o astrônomo russo. Voltamos a dizer, A NASA não confirma oficialmente que o objeto atingirá a Terra! (fonte Daily Mail )\n",
      "724\n",
      "Paradeiro de Eike Batista é descoberto. O empresário está hospedado em um dos prédios de Donald Trump.  Considerado como foragido da Justiça, Eike Batista foi localizado.  O empresário está no apartamento do advogado Sérgio Bermudes, no edifício Trump Tower, um mega edifício situado em frente ao Central Park, informou o jornal O DIA . Se Eike não se apresentar logo, será acionado o alerta de \"difusão vermelha\" da Interpol e ele poderá ser extraditado para o Brasil. O milionário é alvo de um mandado de prisão preventiva expedido hoje (26) pela segunda fase da Calicute, da PF. Ele é suspeito de participar de um esquema de corrupção e lavagem de dinheiro que teria escondido cerca de US$ 100 milhões no exterior. leia também:\n",
      "725\n",
      "Quadro de saúde de Marisa é estável. Ela ficará na UTI para observação. Lula disse que está esperançoso. .  O Sírio Libanês informou que Dona Marisa Letícia foi imediatamente submetida a um atendimento de emergência, seguido de cirurgia endovascular (embolização) e oclusão do aneurisma. Ela deverá ficar na UTI por tempo indeterminado. O médico da família , dr. Kalil Roberto Filho, disse que o quadro de saúde de dona Marisa é estável, mas que ela ainda corre risco de morte. O presidente do Instituto Lula informou que tudo correu bem durante a cirurgia. Okamoto informou que Lula está \"preocupado e muito esperançoso\". Lula ainda não falou com a imprensa.\n",
      "726\n",
      "URGENTE: Jornalista afirma que cateterismo não funcionou e estado de saúde de Dona Marisa Letícia é grave.  O jornalista petista Eduardo Guimarães, do Blog da Cidadania, publicou as seguintes mensagens em seu twitter:.  \"O quadro de Marisa Letícia teria se complicado. O cateterismo não funcionou e dona Marisa será operada.\" De acordo com o jornalista, a equipe médica fará um procedimento mais agressivo na intenção de chegar na área afetada do cérebro. Durante o dia, Dona Marisa teve um sangramento cerebral e foi atendida em São Bernardo pelo médico Roberto Kalil . Logo após, ela precisou ser transferida de ambulância para o Sírio Libanês, em SP. leia também: Atualizado às 22:00hs O médico da família , dr. Kalil Roberto Filho, disse que o quadro de saúde de dona Marisa é estável, mas que ela ainda corre risco de morte. [ leia mais... ]\n",
      "727\n",
      "Maldade sem fim! Site da Wikipedia publica morte de Dona Marisa Letícia na data de hoje (24/01). .  Após a notícia de que a esposa do ex-presidente Lula havia sofrido um AVC (Acidente Vascular Cerebral) hemorrágico, a Wikipédia divulgou a data da morte de Dona Marisa como sendo dia 24 de janeiro de 2017. \"Nascida Marisa Letícia Rocco Casa (São Bernardo do Campo, 7 de abril de 1950  São Paulo, 24 de janeiro de 2017), foi a primeira-dama do Brasil de 1 de janeiro de 2003 a 1 de janeiro de 2011\" , constava a publicação. A Wikipédia é um projeto de licença livre e escrito de maneira colaborativa. De acordo com o próprio site, A Wikipédia é uma Wiki, o que significa que qualquer pessoa que queira pode facilmente editar qualquer artigo e ver imediatamente as mudanças efectuadas. Esta página serve como referência para os códigos do Wiki. Momentos após a gafe, o site havia corrigiu a informação e deixou somente o local e a data de nascimento de dona Marisa: \"São Bernardo do Campo, 7 de abril de 1950\". O internauta que fez essa alteração (brincadeira idiota) poderá ser localizado através do número do IP do computador.\n",
      "728\n",
      "Presidente do Peru quer expulsar a Odebrecht do país: \"Eles estão contaminados pela corrupção\".  O Presidente afirmou que a Odebrecht deve deixar o país e vender seus projetos.  Pedro Paulo Kuczynski, presidente do Peru, disse em alto e bom tom: \"Alguns projetos da empresa como fornecimento de eletricidade, rodovias e outros são bons, porém, eles estão contaminados pela corrupção. A Odebrecht tem que ir embora, acabou \", disse. A empresa já admitiu o pagamento de propinas em 3 governos peruanos. Entre os anos de 2005 a 2014, as quantias pagas em suborno chegam a 29 milhões de dólares. Na última semana, o presidente Juan Manuel Santos, da Colômbia, também informou que pretende expulsar a Odebrecht do país.\n",
      "729\n",
      "Ivan Lins sobre a morte do ministro Teori: \"Acidente? Aqui ó! Foi assassinado de maneira cirúrgica\".  Assim como milhões de brasileiros, o cantor e compositor Ivan Lins também não consegue \"engolir\" o fato de que Teori Zavascki morreu de \"acidente\".  Em seu perfil na rede social facebook, o cantor traçou um paralelo entre algumas mortes \"estranhas\" que aconteceram nos últimos tempos. FATALIDADE CIRÚRGICA (Ivan Lins) Vocês acreditam em fatalidades cirúrgicas? O avião do ministro Teori Zavascki caiu, ou seja, morreu um personagem VITAL na operação lava-jato. Avião pequeno. Fácil de derrubar e esconder provas. Ex-governador Eduardo Campos. Avião pequeno. Cirúrgico. Na hora certinha. Ulisses Guimarães e outros. Tudo aeronaves pequenas. Pessoas pontuais. Pessoas que estão atrapalhando alguma coisa má. Má mesmo. Só fatalidade? Estão, mais uma vez, me chamando de otário, de babaca. Até me lembro do PC Farias. Que fatalidade cirúrgica!!! Tem gente ligada a ele mandando no país, ainda dando as cartas. Teori Zavascki: fatalidade? Aqui ó! Foi assassinado, assim como os outros que atrapalhavam. Como sempre, \"cirúrgico\". Profissional. Limpo. E não vai parar por aí. Aguardem... A última declaração da Aeronáutica (feita ontem 24/01) alegava que houve uma \"desorientação espacial do piloto Osmar Rodrigues\" em razão do mau tempo na região. leia também:\n",
      "730\n",
      "Vídeo mostra diretor do Instituto Lula dizendo que a Lava-Jato causou o AVC de Dona Marisa.  Paulo Okamotto, presidente do Instituto Lula, disse que as investigações da Lava-Jato contra o ex-presidente Lula influenciaram diretamente na saúde da ex-primeira-dama, Marisa Letícia.  \"Qualquer pessoa que passa o que Marisa está passando (pressão e perseguição) sempre tem componente emocional. Quando se tem marido e filho perseguido injustamente, isso acaba comprometendo a saúde de uma pessoa que tem uma vida tranquila como ela. Essa preocupação toda faz mal para o ser humano.\" disse Okamoto. Roberto Kalil Filho, cardiologista, médico da família e chefe da equipe médica que atendeu a ex-primeira-dama, disse que dona Marisa tinha um aneurisma, mas fazia acompanhamento médico havia muitos anos: \"Ela teve quadro de crise hipertensiva e por isso que \"provavelmente\" rompeu o aneurisma\" disse. O Diário do Brasil deseja (sinceramente) que dona Marisa se recupere. Os problemas da Lava-Jato dizem respeito a Lula.\n",
      "731\n",
      "Passageira de helicóptero filmou momento exato em que aeronave caiu. Fato aconteceu em Capitólio, MG.  Um helicóptero que estava sobrevoando o município de Capitólio, em Escarpas do Lago, Minas Gerais, sofreu uma queda e deixou 3 pessoas feridas.  O acidente aconteceu na tarde do último domingo (22). Apenas o piloto não sofreu ferimentos. O helicóptero era utilizado para o transporte de turistas em voos panorâmicos. A Anac informou (por meio de nota) que a aeronave de matrícula PP-MAM estava registrada como privada e \"não poderia ofertar serviço de voos panorâmicos\" abaixo um vídeo na câmera interna da aeronave: o vídeo abaixo mostra uma filmagem feita por um turista:\n",
      "732\n",
      "Presidente do STF autoriza a retomada das delações da Odebrecht. .  A ministra Cármen Lúcia, presidente do STF, autorizou a retomada das delações da Odebrecht no âmbito da Operação Lava Jato.\n",
      "733\n",
      "Temer está desesperado com a delação da Odebrecht. Temer e 5 ministros são o atual alvo da operação Lava Jato. Dificilmente Michel Temer consiga terminar o mandado como presidente e ainda corre o risco de ser preso.\n",
      "\n",
      "Preocupado com os efeitos que a delação da Odebrecht pode causar em seu governo, o presidente Michel Temer pediu cautela para analisar os detalhes das denúncias que o levavam, junto com seus principais auxiliares, ao centro da Operação Lava Jato. Segundo assessores do presidente, a ordem é esperar a poeira baixar. Aliados de Temer reconhecem que o momento é delicado, já que as denúncias envolvem o governo como um todo e, por isso, defendem, é preciso avaliar a extensão das delações para não tomar decisões precipitadas.\n",
      "\n",
      "Em acordo de delação premiada, Cláudio Melo Filho, ex-executivo da Odebrecht, afirmou ter entregado em 2014 dinheiro no escritório de advocacia de José Yunes, amigo e assessor de Temer.\n",
      "\n",
      "Os recursos, segundo o ex-executivo da empreiteira, faziam parte de um valor total de R$ 10 milhões prometidos a Temer na campanha eleitoral daquele ano de maneira não contabilizada oficialmente.\n",
      "\n",
      "Ainda de acordo com Melo Filho, o dinheiro foi negociado em um jantar no Palácio do Jaburu, em maio de 2014, com a presença de Temer, do atual ministro da Casa Civil, Eliseu Padilha, e de Marcelo Odebrecht, herdeiro do grupo e preso em Curitiba.\n",
      "\n",
      "O nome do presidente Michel Temer aparece 43 vezes no documento do acordo de delação premiadade Cláudio Melo Filho, ex-vice-presidente de Relações Institucionais da Odebrecht.\n",
      "\n",
      "O ministro da Casa Civil, Eliseu Padilha, é mencionado 45 vezes e Moreira Franco, secretário de Parceria e Investimentos do governo Temer, 35.\n",
      "\n",
      "O ex-ministro Geddel Vieira Lima, que pediu demissão recentemente, surge em 67 trechos.\n",
      "\n",
      "O líder do governo no Congresso, Romero Jucá (PMDB-RR), apontado como o homem de frente das negociações da empreiteira no Congresso, tem 103 menções no relato, um arquivo preliminar, ao qual a Folha teve acesso, do que o ex-executivo vai dizer em depoimento às autoridades da Lava Jato.\n",
      "\n",
      "O governo Temer está no centro da Operação Lava Jato no momento. Pelo visto em breve teremos ministros partindo de Brasília para Curitiba",
      "\n",
      "734\n",
      "Cerca de 200 detentos escapam de penitenciária no interior de SP. .  Na manhã de hoje (24) cerca de 200 presos fugiram do Instituto Penal Agrícola, em Bauru, interior de São Paulo. A PM controlou o motim, capturou parte dos presos e está fazendo buscas na cidade. Ainda não há informações sobre o número de presos que continua nas ruas. O Instituto Penal abriga 1427 detentos em regime semi-aberto e tem capacidade para pouco mais de 1100 internos. As imagens abaixo foram capturadas por um policial da Tropa de Choque:\n",
      "735\n",
      "Ex-mulher de Lula em 1989: \"Ele sempre foi um homem racista\".  O DIREITO DE RESPOSTA.  \"(...) o Lula sempre foi um homem racista... ele nunca suportou negro. Em nosso tempo de namoro, ele dizia que detestava negro... aparecia artistas negros na televisão ou pessoas negras,ele ficava nervoso...\" *** há notícias que dizem que Fernando Collor (o caçador de marajás que foi expulso da presidência), durante a campanha presidencial de 1989, PAGOU a ex-namorada de Lula para acusá-lo com revelações pessoais e gravíssimas *** Mirian Cordeiro, é ex-mulher e mãe de LURIAN, filha de LUIS INÁCIO LULA DA SILVA \" Não. Não apoio o Lula. Não quero apoiar o Lula, porque apoiar o Lula seria trair a mim mesma. \" \" Eu fui uma pessoa que sofri muito na mão do Lula. \" \" Eu fui traída por ele. \" \" Eu não posso, em momento algum, apoiar um homem que acabou com a minha vida.\" \" Que confiança eu posso ter nesse homem ? \" \" O que ele pode fazer por esse Brasil ? \" Na época, Lula obteve o direito de resposta e também gravou um vídeo. Resumindo: A lavação de roupa do casal virou assunto nacional. Que vergonha!\n",
      "736\n",
      "Aeronáutica diz que não havia \"anormalidades\" no avião que caiu em Paraty. .  O Cenipa, órgão da Aeronáutica responsável pela prevenção e investigação de acidente aéreos, divulgou uma nota hoje (24) dizendo que: \"Análise preliminar feita nos áudios extraídos do gravador da cabine do bimotor King Air C90GT que caiu no mar de Paraty não apontam qualquer anormalidade nos sistemas da aeronave\". A Aeronáutica também informou que os registros de áudio incluem \" não só informações de voz, mas também outros sons que serão importantes para a investigação\". Então tá [...] tudo estava \"normal\" não é mesmo? Aviões normais (com pilotos que possuem experiência de 30 anos de voo) caem todos os dias ... aham O piloto era um dos mais antigos e experientes no aeroporto Campo de Marte. Tinha 30 anos de experiência na aviação e era instrutor desde os anos 90. Quem conhecia Osmar não entende porque o bimotor caiu [...] não entende ou tem medo de falar. Um colega de profissão relatou: \"Rodrigues tinha mais experiência do que qualquer piloto aqui no Campo de Marte. Foi professor de quase todos aqui\" Outro profissional disse: \"Não dá para explicar\" Fernando Guimarães, também piloto, relatou: \"Ele não decolaria do Campo de Marte sabendo que o destino dele estava fechado\"\n",
      "737\n",
      "Esposa de Lula sofre AVC e está em estado grave.  Lula se manifesta sobre estado de saúde de Dona Marisa: \"Estamos torcendo muito para que ela se recupere logo\".  Dona Marisa Letícia Lula da Silva, esposa do ex-presidente Lula, está no Hospital Sírio-Libanês, em SP A assessoria de imprensa do Sírio confirmou a informação mas ainda não divulgou uma nota sobre o estado de saúde de Dona Marisa. Exames preliminares apontam que ela sofreu um Acidente Vascular Cerebral. O estado dela é grave, informou o UOL. O Instituto Lula ainda não comentou o assunto. leia também:\n",
      "738\n",
      "Lula se manifesta sobre estado de saúde de Dona Marisa: \"Estamos torcendo muito para que ela se recupere logo\". .  O ex-presidente usou o seu perfil no facebook para se manifestar sobre o estado de saúde de sua esposa, Dona Marisa Letícia: \"Dona Marisa Letícia foi hospitalizada. Estamos torcendo muito para que ela se recupere logo.\" publicou. Aos 66 anos, a ex-primeira dama sofreu um Acidente Vascular Cerebral e está sendo tratada no Hospital Sírio-Libanês, em SP. A assessoria de imprensa do Sírio ainda não divulgou um boletim oficial sobre o estado de saúde de Dona Marisa. O estado dela é grave. Marisa teve um sangramento cerebral e foi atendida em São Bernardo pelo médico Roberto Kalil . Logo após, ela precisou ser transferida de ambulância para o Sírio Libanês, em SP.\n",
      "739\n",
      "Aos 30 anos, ator global Felipe Titto infarta e está na UTI. .  Ele deu entrada no Hospital São Luiz, em São Paulo, por volta das 10:30, fez exames detalhados e o problema foi diagnosticado. Felipe está na UTI do São Luíz, mas passa bem. Um amigo que o acompanhava na chegada ao hospital narrou que ele sentiu sentindo fortes dores no peito que irradiavam para o braço esquerdo. \"Os médicos diagnosticaram imediatamente que ele estava sofrendo um infarto\" disse um enfermeiro. O ator usou o Snapchat e mandou uma mensagem para os fãs: \"Deu ruim, mas nós é zika!\" Ele passará por uma nova bateria de exames.\n",
      "740\n",
      "Barqueiro que viu fumaça no avião de Teori dá novo depoimento: \"De onde o avião veio, não tinha chuva\". .  Questionado se chovia muito na hora do acidente, Célio respondeu: \"Quando reparei, ele soltou uma bola de fumaça branca, parecia aqueles aviões da esquadrilha.\" \" Chovia bastante no local que o avião caiu [...] mas, durante o resgate, a chuva aumentou bem mais\" Em um rápido depoimento para a jornalista Marta Serrat, Célio Araújo, a testemunha que presenciou a queda do avião que transpostava o ministro Teori Zavascki , diz que não havia chuva no momento da queda do avião. \"De onde o avião veio, não tinha chuva\" disse. confira:\n",
      "741\n",
      "No Paraná, câmeras da PRF flagram uma colisão entre uma moto e um carro. Com o impacto, a moto explodiu.  O site Paraná Portal publicou um acidente impressionante que correu na cidade de Foz do Iguaçu, Paraná.  Câmeras da PRF flagraram o momento em que uma moto colidiu violentamente contra um carro. A colisão, que ontem (22/01) na BR 277 , deixou um morto e um ferido. No vídeo, podemos ver a moto avançando pela alça de retorno e atingindo um carro em cheio. O capacete do piloto se desprendeu e ele sofreu um forte impacto no solo. O garupa foi encaminhado para um hospital público e seu estado é estável. O Paraná Portal informou que o motorista do carro parou depois de vários metros e se recusou a fazer o teste do bafómetro.\n",
      "742\n",
      "Suposta dona do sítio de Atibaia: \"Só estive na cidade 2 vezes, a convite de Lula. Dormi num hotel\".  Esposa do \"dono oficial\" do sítio de Atibaia: \"Só estivemos em Atibaia duas vezes. Dormi num hotel\".  Quem é que compra um sítio e dorme em um hotel quando vai visitar este mesmo sítio? Na denúncia que o Ministério Público Federal apresentou em Curitiba, constam provas que podem complicar ainda mais a situação de Lula com relação ao sítio de Atibaia. Uma dessas provas é o o depoimento da esposa de Jonas Suassuna, Claudia Bueri. Ela confirmou ao MPF que quando o sítio foi supostamente comprado pelo marido , já se sabia que quem iria utilizar era a família Lula: \"Relatou que, apesar de Jonas Suassuna ter supostamente manifestado interesse em frequentar a propriedade, o casal esteve no local por duas oportunidades, em festas juninas organizadas pela família Lula. Acrescentou, ainda, que em uma das ocasiões pernoitou em um hotel na cidade de Atibaia\". (imagem acima: Antagonista)\n",
      "743\n",
      "CENIPA declara que gravador de voz do King Air sofreu avarias e justiça decreta sigilo nas investigações. .  A Justiça, através da 1a Vara Federal de Angra dos Reis, decretou hoje (23) o sigilo das investigações sobre a queda do bimotor que transportava o ministro Teori e outras 4 pessoas. Os investigadores estarão recolhendo depoimentos de testemunhas da queda do avião no decorrer desta semana. O MPF já solicitou à Anac e à Aeronáutica documentos relativos à manutenção da aeronave. O Cenipa, órgão que cuida de investigações e  e prevenções de acidentes aéreos, informou que o gravador de voz  da aeronave está com avarias devido ao contato com a água do mar. Parte do equipamento (que armazena apenas dados) está preservada [...] até o momento.\n",
      "744\n",
      "Whatsapp está destruindo sua vida. O Whatsapp pode estar destruindo sua energia e alegria nas primeiras horas da manhã. Provavelmente o mal estar que sente no final do dia é fruto de algo que viu, leu ou ouviu no whatsapp nas primeiras horas da manhã.\n",
      "\n",
      "O whatsapp é um dos aplicativos mais baixados no mundo e o mais utilizado no Brasil. O que era para ser apenas um meio de comunicação acabou se tornando a causa de muitos transtornos emocionais.\n",
      "\n",
      "\n",
      "Veja neste vídeo como você está estragando o seu dia ao acessar o zapzap nos primeiros minutos do seu dia.\n",
      "\n",
      "Se quiser receber o vídeo em seu whatsapp para compartilhar nos grupos que enviam conteúdos nocivos a sua saúde emocional é só deixar uma mensagem nesta página com seu número de telefone.\n",
      "745\n",
      "Brasil detém 98% do metal mais valioso do mundo. O Nióbio seria capaz de espalhar riqueza por todo o país.  Com 98% das reservas, o Brasil não tem política específica para o mineral. Exportações cresceram 110% em 10 anos e somaram US$ 1,8 bi em 2014.  (Essa é a primeira de uma série de matérias que faremos sobre o Nióbio  Patrícia Carvalho) As maiores jazidas do planeta, encontram-se no Amazonas (na cidade de são Gabriel da Cachoeira) e em Roraima (na conhecida Raposa Serra do Sol). Toda essa riqueza vai parar nas mãos da atravessadora Inglaterra\", que manda para a Europa e EUA. O Nióbio é um dos metais mais raros do mundo e considerado fundamental para a indústria de alta tecnologia. O elemento químico é usado como liga na produção de aços especiais. É um dos metais mais resistentes à corrosão e a temperaturas extremas. Atualmente, o Nióbio é empregado em automóveis, turbinas de avião, gasodutos, em tomógrafos de ressonância magnética, na indústria aeroespacial, bélica e nuclear, além de outras inúmeras aplicações como lentes óticas, lâmpadas de alta intensidade, bens eletrônicos e até piercings. A \"questão do nióbio\" teve como porta-voz mais ilustre o deputado federal Enéas Carneiro, morto em 2007. Na época, ela já alertava que, a fortuna obtida com a extração do do mineral, seria o suficiente para espalhar riqueza por todo o o país. O cobiçado metal já chegou a ser relacionado até com o mensalão, após o empresário Marcos Valério afirmar na CPI dos Correios, em 2005, que o Banco Rural conversou com José Dirceu sobre a exploração de uma mina de nióbio na Amazônia. O site WikiLeaks incluiu as minas brasileiras de nióbio na lista de locais cujos recursos e infraestrutura são considerados estratégicos e imprescindíveis aos EUA . Recentemente, o nióbio voltou a ganhar os holofotes em razão da venda bilionária de uma fatia da Companhia Brasileira de Metalurgia e Mineração (CBMM), maior produtora mundial de nióbio, para companhias asiáticas. Em 2011, um grupo de empresas chinesas, japonesas e sul coreana fechou a compra de 30% do capital da mineradora com sede em Araxá (MG) por US$ 4 bilhões.\n",
      "746\n",
      "Campanha de Santiago foi um sucesso! Meta de R$ 8 milhões foi alcançada em 10 dias.  Durante o mês de janeiro, o \"apóstolo ungido\" alcançou duas metas pessoais.  Suas igrejas (também chamadas de templos) voltaram a ter uma lotação considerável e a vaquinha para pagar um mês de despesas (seu canal de TV) ultrapassou a meta estipulada. Após ser atacado a facadas por um fiel desequilibrado (no último dia 08), Valdemiro gravou um vídeo pedindo ajuda a seus discípulos [...] o religioso lançou um \"desafio\" para que 8 mil pessoas doassem 1000 reais casa. Segundo o jornalista Ricardo Feltrin (UOL) , a meta não só foi alcançada, mas superada. Estima-se que a Igreja Mundial tenha mais de 300 mil fiéis espalhados em 20 países.\n",
      "747\n",
      "O dia em que a Globo passou vergonha e tomou uma lição de moral ao vivo.  Durante uma reportagem realizada pelo canal de TV a cabo Globo News, um índio desmascarou a reportagem da GLOBO.  Pelo fato dos índios estarem usando máscaras contra gás, a reportagem, de acordo com ele, especulava que eles estariam comercializando drogas. Ao ser confrontada, a repórter ficou imóvel:\n",
      "748\n",
      "Filho de Teori Zavaski: \"Seria péssimo para o Brasil ter um ministro do STF assassinado\". .  Algumas frases foram chocantes: \"Seria péssimo para o país ter um ministro do STF assassinado\". \"É necessário que se investigue a fundo. Temos que saber se foi acidente ou não\". \"Temos que saber a verdade, seja ela qual for \". Francisco, que é advogado, contou que o pai lhe disse (no último dia 18 ) que estava prestes a homologar as delações da Odebrecht na Operação Lava Jato. \"Ele me contou que tudo seria homologado até o começo de fevereiro...\" \"Meu pai estava preocupado com 2017 e sabia que poderia ser pior que 2016\" Francisco disse que os escândalos de corrupção no país \"não poderão ficar impunes\" e que o país tem \"instituições sólidas\".\n",
      "749\n",
      "Jornalista da Folha relata que Aeronáutica impediu tentativas de resgate do avião que levava o ministro Teori. .  De acordo com André, após o acidente, uma equipe do Corpo de Bombeiros tentou erguer o avião King Air C90GT com a ajuda de moradores locais. A intenção era salvar a vida de uma das moças que estava a bordo. Ela ainda estava viva e clamava por ajuda. Depois de 40 minutos, ela veio a falecer. O jornalista conta que outra tentativa de tirar a aeronave da água foi feita pelo resgate local (moradores, defesa civil, marinha, PM), porém a Aeronáutica teria ordenado que o avião fosse recolocado na água até que a perícia chegasse. \"(...) a aeronave foi novamente colocada no local em que caiu. O pescador tinha provas: um vídeo feito com o celular.\" Um morador também testemunhou que o avião estava \"soltando fumaça branca da asa esquerda antes de perder o controle e cair no mar.\" No dia seguinte ao acidente (20/01) a aeronáutica explicou (em coletiva na TV) que o resgate da aeronave teria que ser feito de maneira técnica para não causar mais danos aos destroços, o que dificultaria o laudo pericial. Hoje (21) ficamos sabendo que as autoridades desistiram de retirar o avião do mar porque não possuem equipamentos adequados. Uma empresa particular será responsável pelo resgate dos destroços do avião. leia a matéria completa AQUI ...\n",
      "750\n",
      "O suposto diálogo entre Gilmar e Cármen Lúcia que viralizou no whatsapp: \"Posso ocupar o lugar do Teori?\".  O texto abaixo viralizou no aplicativo whatsapp.  De acordo com informações do portal DCM , uma pessoa que acompanhava o velório do ministro Teori Zavascki, que ocorreu no TRF de Porto Alegre, teria presenciado um diálogo interessante. O cidadão disse que o ministro Gilmar Mendes chegou perto da presidente do STF Cármen Lúcia e cochichou discretamente: \"Presidente, será que eu poderia ocupar o lugar do Teori?\" Com poucas palavras, a magistrada mineira respondeu: \"Claro, se você couber no caixão e fizer tudo discretamente, pode.\"\n",
      "751\n",
      "Osmar Rodrigues tinha 30 anos de experiência e era considerado o melhor piloto do Campo de Marte. .  O piloto era um dos mais antigos e experientes no aeroporto Campo de Marte. Tinha 30 anos de experiência na aviação e era instrutor desde os anos 90. Quem conhecia Osmar não entende porque o bimotor caiu [...] não entende ou tem medo de falar. Um colega de profissão relatou: \"Rodrigues tinha mais experiência do que qualquer piloto aqui no Campo de Marte. Foi professor de quase todos aqui\" Outro profissional disse: \"Não dá para explicar\" Fernando Guimarães, também piloto, relatou: \"Ele não decolaria do Campo de Marte sabendo que o destino dele estava fechado\"\n",
      "752\n",
      "Quando a PF chegou ao Campo de Marte, um homem já havia levado as imagens da área de embarque. .  A aeronave King Air C90, que caiu Baía de Paraty no último dia 19, ficava guardado em um hangar no aeroporto Campo de Marte, de onde embarcaram os 5 passageiros que morreram no acidente. Logo após a queda (por volta das 19hs), um homem se identificou como funcionário da empresa responsável pela segurança do hangar e recolheu computadores e imagens das câmeras. Equipes da Polícia Federal e da Aeronáutica chegaram minutos depois para ajudar nas investigações. Havia uma câmera na área de embarque do hangar, mas quando a PF chegou, as imagens não estavam mais lá. Quem era esse homem? Onde foram parar essas imagens? De acordo com informações do G1 , o Campo de Marte era responsável apenas por \"guardar o avião\". A manutenção do bimotor era realizada em um aeroporto no interior do estado. Duas testemunhas já identificadas (um pescador e um morador de Paraty) afirmam que viram a queda do King Air e que o mesmo soltava uma fumaça branca antes de cair no mar.\n",
      "753\n",
      "Acredite se quiser! Aeronave que transportava ministro do STF não possuía caixa preta. .  A informação foi passada à Veja através da Assessoria de Imprensa da Força Aérea Brasileira. A aeronave era do modelo King Air C90GT, da fabricante Hawker Beechcraft, modelo 2007. De acordo com especialistas, era um avião praticamente novo. O King Air C90GT é considerado uma aeronave segura e confiável: O piloto Luís Guilherme Andrade, dono de uma escola de aviação, disse: \"É uma avião muito seguro, consegue voar com um só motor\" Oito acidentes foram registrados com esse tipo de aeronave desde 2010, resultando em onze mortes. leia também:\n",
      "754\n",
      "Avião em que ministro Teori Zavascki embarcou foi seguido durante 16 dias.  O furo de reportagem é do jornalista Cláudio Tognolli, do Yahoo.  #Retrospectiva2017 #AsMaisLidas A Polícia Federal quer saber quem acessou a foto do avião que vitimou Teori na base de dados do Beechcraft. De acordo com informações, a ficha contendo dados e a imagem da aeronave foi acessada quase 1.900 vezes em um único dia. Alguém estava atrás desses dados desde o dia 3 de janeiro. Repare abaixo no prefixo do avião  PRSOM http:\n",
      "755\n",
      "Acabou a mordomia ! Ingresso mais barato pra mulher é ilegal. Baladas que davam meia entrada para mulher, ou até mesmo gratuidade, estão na ilegalidade agora. Acabou o preconceito com os homens nas casas de show de todo o Brasil.\n",
      "\n",
      "Na última sexta (30), o Ministério da Justiça entrou na polêmica dos preços diferentes cobrados nas baladas do Brasil para homens e mulheres e determinou: essa cobrança diferenciada é ilegal. De acordo com a atração, quem está dizendo que mulher pagar menos que homem é ilegal é Secretaria Nacional do Consumidor, órgão ligado ao Ministério da Justiça. A secretaria vai divulgar a partir desta segunda-feira (03) uma orientação para restaurantes, bares e casas noturnas. O texto diz: Diferenciação de preço entre homens e mulheres é uma afronta ao princípio da dignidade da pessoa humana, uma prática comercial abusiva. Utiliza a mulher como estratégia de marketing que a coloca em situação de inferioridade.\n",
      "\n",
      "Segundo o Secretário Nacional de Direitos do Consumidor, Arthur Rollo, entrada em casa noturna tem que ter o preço igual para homens e mulheres. Rodízio de pizza, rodízio de carne, o preço tem que ser igual para todo mundo. Não pode ter qualquer distinção em função do gênero.\n",
      "\n",
      "A orientação é que sejam feitas fiscalizações nas casas noturnas, para que essa cobrança diferenciada de preço deixe de existir em todo o Brasil.\n",
      "756\n",
      "Barqueiro viu todo o acidente: \"Não foi o mau tempo. O avião soltava muita fumaça antes de cair\".  Célio de Araújo, um trabalhador que vive em Paraty, estava com um grupo de turistas em seu barco, quando avistou uma aeronave voando baixo.  \"Quando avistei o avião baixando, eu avisei: \"Vai cair\" \"Quando reparei, ele soltou uma bola de fumaça branca, parecia aqueles aviões da esquadrilha.\" \"Passou por cima do meu barco e foi perdendo altitude, bateu a asa no mar e capotou\", contou o barqueiro. Célio narrou que os turistas ficaram em polvorosa e ele ligou imediatamente para a Defesa Civil. \"Liguei, me identifiquei e expliquei o que tinha acontecido. Eles chegaram rápido\", disse. Questionado se chovia muito na hora do acidente, Célio respondeu: \"Chovia bastante no local que o avião caiu [...] mas, durante o resgate, a chuva aumentou bem mais\" \"Pelo que vi, o acidente teve mais a ver com a quantidade de fumaça que o avião soltava do que com o mau tempo. Na minha opinião, teve um problema na aeronave \", encerrou. leia também:\n",
      "757\n",
      "Nas redes sociais, Joaquim Barbosa cobrou investigações sobre morte de Teori. .  Na noite de ontem (19), Joaquim Barbosa emitiu sua opinião sobre o trágico acidente aéreo que vitimou o ministro Teori Zavascki, relator da Lava-Jato. abre aspas O que mais precisa acontecer para definitivamente nos conscientizarmos de que estamos sendo governados por criminosos? Em confirmado este crime, está mais do que na hora da Min Carmen Lúcia pedir a intervenção \" fecha aspas leia também:\n",
      "758\n",
      "Há 7 anos, o filme \"Tropa de Elite 2\" já alertava: \"O SISTEMA é foda parceiro! Ainda vai morrer muito inocente\". .  O filme foi lançado há 7 anos, em 2010. Assista os 47 segundos finais do filme e perceba como a realidade que estamos vivendo hoje em dia foi retratada com fidelidade por Padilha: \"Agora me responda uma coisa. Quem você acha que sustenta tudo? É ... e custa caro, muito caro. O SISTEMA é muito maior do que eu pensava. Não é a toa que os traficantes, os policiais e os milicianos matam tanta gente nas favelas. Não é a toa que existem as favelas. Não é a toa que acontecem tantos escândalos em Brasília [...] entra governo, sai governo e a corrupção continua. Pra mudar as coisas, vai demorar muito tempo. O SISTEMA é foda! Ainda vai morrer muito inocente\"\n",
      "759\n",
      "Tem algo podre no ar!.  O Diário do Brasil publicou ontem (19) uma matéria (original da Revista Veja ) que dizia o seguinte:.  \"A aeronave que transportava o ministro do STF não possuía caixa preta. A informação foi passada pela Veja através da Assessoria de Imprensa da Força Aérea Brasileira.\" Agora pouco, a mesma Revista soltou a seguinte informação: A caixa-preta do avião que caiu em Paraty e vitimou fatalmente o ministro Teori Zavascki foi encontrada e será encaminhada ao Cenipa (Centro de Investigação e Prevenção de Acidentes para avaliação. De acordo com a Veja, a confirmação foi feita pela Força Aérea Brasileira (FAB). Quem será que está brincando com a cara da população? O governo? A Veja? A FAB? Tem algo podre no ar ...\n",
      "760\n",
      "Governador do RN autoriza a entrada de forças policiais em Alcaçuz: \"Essa responsabilidade será minha\".  Robinson Faria, governador do Rio Grande do Norte, se cansou e disse que as tropas da polícia irão invadir o presídio de Alcaçuz.  \" Eu estou sendo ameaçado por todos os lados, por políticos, faccções, etc... Essa responsabilidade será minha. Nós vamos entrar e retomar esse presídio. O problema de segurança é nacional, mas faremos a nossa parte. Estamos sofrendo e não iremos negociar com bandidos\" \"O Sindicato do Crime desafiou o governo e o PCC também desafiou a minha integridade caso eu tirasse presos da Alcaçuz. Não vou negociar. Vamos enfrentar.\" Robinson Faria disse essas palavras em entrevista para a Globo News.\n",
      "761\n",
      "Nome do ministro Teori Zavascki estava na lista de passageiros de avião que caiu em Paraty agora a tarde. .  O canal Globo News acabou de informar que o nome de Teori Zavascki, ministro do STF, constava na lista de passageiros do avião. O STF confirmou que Teori estaria entre os passageiros que embarcariam na aeronave, mas não foi informado se o ministro chegou a embarcar no voo. O G1 informou que o avião saiu de São Paulo com destino a Angra dos Reis (RJ). confirmado:\n",
      "762\n",
      "ALÔ PF! Filho de ministro do STF postou mensagem preocupante nas redes sociais.  A notícia foi divulgada em maio de 2016 pelo colunista Cláudio Humberto.  Será que os políticos criminosos não respeitam nem um ministro do STF? A PF deve investigar e triplicar a segurança de Teori [...] pelo nosso bem! Francisco Zavascki, filho do relator da Lava Jato no Supremo Tribunal Federal, ministro Teori Zavascki, usou o Facebook para comentar as articulações de políticos para frear as investigações da operação. A data da postagem é de 26 de maio. \"É óbvio que há movimentos dos mais variados tipos para frear a Lava Jato. Penso que é até infantil imaginar que não há, isto é, que criminosos do pior tipo (conforme o MPF afirma) simplesmente resolveram se submeter à lei\". Francisco ainda desabafou sobre ameaças à sua família. \"Porém, alerto: se algo acontecer com alguém da minha família, vocês já sabem onde procurar...! Fica o recado!\" , disse o filho do ministro em seu perfil no Facebook. Ministro ameaçado Em março, após Teori decidir que o juiz federal Sérgio Moro devesse enviar para o Supremo Tribunal Federal as investigações da Lava Jato envolvendo o ex-presidente Lula, o ministro foi alvo de ameaças de setores da oposição.\n",
      "763\n",
      "Corpo de Bombeiros confirma: Morre Teori Zavascki. .  O Corpo de Bombeiros confirmou: O ministro Teori Zavascki (68 anos), relator da Lava-Jato, morreu vítima do acidente com o avião que caiu no mar em Paraty. Teori será velado no STF e depois enterrado em Santa Catarina, informou a Veja. O avião modelo Beechcraft C90GT, pertencente ao dono do Hotel Emiliano, em SP e RJ. Os quatro ocupantes da aeronave não resistiram à queda.\n",
      "764\n",
      "Antes da confirmação da morte de Teori Zavascki, senador postou mensagem estranha no twitter.  Senador disse que o Jornal Nacional iria lançar uma bomba sobre o Brasil.  Será uma infeliz coincidência? Uma mensagem enigmática foi postada pelo senador José Medeiros (PSD/MT) pouco antes da confirmação da morte do ministro Teori Zavascki: \"Não vou antecipar furo porque não sou jornalista mas o jornal nacional hj trará uma bomba de forte impacto no Brasil, envolvendo STF.\" ( 16: 58  19 jan 2017 Brasília, Brazil ) *** Após a repercussão do tweet, o senador foi irônico e comentou: \"Daqui a pouco vão dizer que eu matei o ministro\" *** Senador, ninguém vai dizer isso [...] mas que tinha algo no ar, ahhh, isso tinha! leia também:\n",
      "765\n",
      "URGENTE: Filho de Teori Zavascki confirma: \"O pai estava no avião e a família está aguardando por um milagre\". .  Teori Zavascki , ministro do STF (Supremo Tribunal Federal),  estava no avião que caiu no mar da cidade de Paraty, RJ A informação foi confirmada pelo site UOL através de uma entrevista com o filho do ministro, o advogado Francisco Prehn Zavascki. \"O pai estava no avião e a família está aguardando por um milagre\" , disse Francisco. Há um sobrevivente da queda do avião, porém ainda não foi identificado. Três pessoas morreram.\n",
      "766\n",
      "Vou processar o meu pai, afirma filho de Tiririca. Filho de Tiririca declara que vai processar o pai. Declaração polêmica do humorista Tirulipa está causando alvoroço nas redes sociais. A razão do processo é inusitada e deixa um recado para os políticos brasileiros.\n",
      "\n",
      "Everson de Brito Silva, hoje com 33 anos, é filho do primeiro casamento do palhaço Tiririca. A convivência na infância com o pai em casa foi até os três anos de idade. Logo seu pai se separou e ele foi criado quase que exclusivamente pela mãe. Começou sua trajetória artística aos 10 anos imitando o pai nos circos atuando como Tiririca Jr. Persistente e dedicado foi criando seu espaço e passou a ser reconhecido como Tirulipa. Hoje seu sucesso é maior que o do pai. As redes sociais dão conta do enorme crescimento artístico e profissional do filho de Tiririca. No Facebook sua página conta com 4,3 milhões de fãs, a de Tiririca apenas 1,3 milhão. No canal oficial do YouTube o vídeo mais visto de Tirulipa alcançou mais de 8 milhões de visualizações. O vídeo mais visto de Tiririca no YouTube é de 1997 na Praça é Nossa onde ele alcançou 4 milhões de visualizações.\n",
      "\n",
      "O sucesso de Tirulipa ter superado o do pai em muito se deve ao fato de Tiririca ter entrado para a política. A entrada para a Câmara dos Deputados fez com que ele se afastasse dos palcos e da TV. Em recente entrevista para um programa de rádio Tirulipa revelou seu desejo de processar o pai por uma razão inusitada, segundo ele a causa do processo será Empobrecimento Ilícito.\n",
      "\n",
      "Tirulipa revelou que os deputados e senadores trabalham de terça a quinta, não vão a Brasília as segundas nem as sextas. No entanto, seu pai comparece de segunda a sexta e domingo após o almoço já embarca pra Brasília pra na segunda pela manhã já possa dar continuidade aos trabalhos legislativos. Com isso sua carreira na TV e nos palcos ficou em segundo plano.\n",
      "\n",
      "Em tom de humor Tirulipa revela: Vou ter que processar meu pai por empobrecimento ilícito. Ele é o único político que eu conheço que ficou mais pobre depois que entrou pra política. Mas ao menos meu pai não tá na lista de Odebrecht, Friboi e nem usa tornozeleira eletrônica. Tenho um puta orgulho do homem que ele é.\n",
      "\n",
      "Emocionado Tirulipa disse: Meu pai hoje poderia ser um dos humoristas mais famosos e bem pagos do Brasil. Mas ele em um momento da vida parou pra pensar em todas as outras pessoas que não tiveram a mesma sorte que ele. Fez isso com dignidade num tempo em que malas de dinheiro corrompem tantos por lá. Ele não pegou um real que não é dele e está ajudando muita gente. A FOLHA decidiu fazer um comparativo para avaliar o salário do deputado federal e concluiu que um deputado federal hoje recebe bruto R$ 33.763,00. Com os descontos Tiririca recebe ao final de um mês de trabalho R$ 19.850,30. Se comparado com a média dos salários da população é um ótimo salário, mas se comparado ao que ganham outros artistas do humor, ele se torna irrisório. Confira:\n",
      "\n",
      "CUSTO DO CACHÊ POR SHOW\n",
      "\n",
      "Fabio Porchat  R$ 130 mil\n",
      "\n",
      "Paulo Gustavo R$ 120 mil\n",
      "\n",
      "Whinderson Nunes  R$ 90 mil\n",
      "\n",
      "Lembre-se que este cachê é por show. Não é por mês. Whinderson Nunes chega a fazer 12 shows em um único mês.\n",
      "767\n",
      "Diplomata do Governo Brasileiro será participante do Big Brother Brasil 2017.  O Itamaraty está agitado com o anúncio de um diplomata entre os novos integrantes do Big Brother Brasil 2017.  Rômulo Neves, um diplomata de 39 anos, foi o primeiro chefe de gabinete do governador do DF, Rodrigo Rollemberg (PSB). Ele ficou no cargo durante pouco mais de um ano. Natural de (GO), Neves já morou na Venezuela, Suriname e Etiópia. Tem mestrado em Sociologia pela USP e em diplomacia pelo Instituto Rio Branco. Já trabalhou como jornalista na \"Folha de S. Paulo\" e na \"Gazeta Mercantil\". Após virar um \"brother\", ele disse: \"Se o cara for arrogante e genial, eu tolero. Mas se for arrogante e burro, eu saio do sério\"\n",
      "768\n",
      "Presídio de Alcaçuz: Não houve invasão da PM. O que houve foi um acordo entre governo e presos.  O repórter Marcelo Cosme, da Globo News, contou como foi feito o acordo entre as facções do presídio de Alcaçuz (em Natal) e o governo do estado.  O batalhão de choque da PM entrou no presídio com o objetivo de retomar o local, que foi inteiramente destruído pelos presos. De acordo com Cosme, cerca de 200 detentos serão retirados e transferidos do presídio. O repórter também destacou que, esses presos que serão transferidos, pertencem à facção que possui o maior número de integrantes dentro de Alcaçuz (ela não disse o nome da facção). O que mais chamou atenção na reportagem é que a \"suposta\" invasão da PM não foi bem uma \"invasão\" Marcelo informou que os presos fizeram um pré-acordo com o governo estadual e deram as cartas. Os próprios detentos resolveram quem, quando e a quantidade de pessoas que iriam ser transferidos. O vídeo da reportagem da Globo News você pode assistir aqui .\n",
      "769\n",
      "Mais uma mensagem enigmática foi postada no twitter horas antes da morte de Teori Zavascki.  Adriano Argolo, advogado petista, fez um alerta no mínimo esquisito, hoje em sua conta do twitter.  Ele publicou: \"Vou avisar pq depois vão culpar o lula e o PT... delação da ODEBRECHT entrando políticos de vários países vai gerar assassinatos\" Argolo já é conhecido nas redes sociais por uma postagem em que sugeriu um tiro no meio da testa do Juiz Sergio Moro. Veja a mensagem postada hoje (19) às 12:33, praticamente 1 hora antes do acidente com o avião em que estava o ministro do STF, Teori Zavascki: leia também:\n",
      "770\n",
      "Nova rebelião no Rio Grande do Norte. Presos quebram grades e invadem a cozinha do sistema prisional.  Detentos da Penitenciária Estadual do Seridó, região oeste do Rio Grande do Norte, deram início a uma rebelião na noite de hoje (18).  Os presos destruíram grades de um pavilhão e invadiram a cozinha do sistema prisional. A Polícia Militar informou que o motim começou por volta das 21:00 hs e ainda não foi controlado. Alguns rebelados colocaram fogo em colchões e outros escalaram o telhado do compexo penitenciário. Uma unidade do Corpo de Bombeiros está no local tentando apagar o incêndio e o clima é de tensão. Até o momento, não há informação sobre feridos e/ou reféns. O Complexo Penitenciária de Caicó tem capacidade para 318 internos e abriga 353, incluindo homens e mulheres. Cidades da região metropolitana estão sem ônibus. Ao menos 12 veículos foram incendiados, sendo 8 de uma empresa interestadual e outros 4 de transporte urbanos.\n",
      "771\n",
      "URGENTE: Facções do Rio Grande do Norte entram em confronto (ao vivo).  Há 3 dias, um policial de Natal, Rio Grande do Norte, alertou:.  \"Rapaz, o negócio aqui está feio demais. Essa tropa daqui quer enfrentar aquela tropa que é do PCC. A Polícia Militar está no meio. De vez em quando a gente atira (com munições não letais) para não deixar ter o confronto\" \"Se houver o confronto, é morte demais. A gente está numa situação difícil. Só tem dois oficiais aqui e a gente não tem condições de segurar. Vai ter confronto aqui. Se não for agora, vai ser a noite porque tá todo mundo solto\" A \"turma da gravata\" está em reunião. Reuniões, reuniões e mais reuniões!\n",
      "772\n",
      "Lembra do Júnior, o marido que deu uns sopapos no pastor safado? Apareceu mais um vídeo do pastor xavequeiro.  Um segundo vídeo caiu na internet nesta semana.  O Diário do Brasil mostrou, na última semana, imagens de um suposto pastor de uma igreja evangélica que teria marcado um encontro com uma \"fiel\" em um lugar reservado. O resultado você já sabe! A moça marcou o tal encontro em um shopping de Belo Horizonte e mandou o marido em seu lugar. O marido, que é um  \"negão 2x2\" apareceu e encheu o homem de Deus de sopapos! Na verdade, trata-se da primeira parte da história contada acima. O marido e um amigo filmaram de longe toda a ação do \"pastorzinho xavequeiro\". Repare na cara de pau do pastor ao abraçar a \"fiel\" casada. leia também:\n",
      "773\n",
      "Crime de racismo ao vivo: Apresentador do Balanço Geral diz que funkeira Ludmilla era \"pobre e macaca\".  O apresentador Marcão, do programa \"Balanço Geral\" (Record/Brasília) disse que a funkeira Ludmilla era pobre e macaca.  Durante um quadro de fofocas, chamado de \"A hora da venenosa\", o apresentador fez um comentário inútil sobre Ludmilla e afirmou que a cantora não gostava de tirar fotos com seus fãs. O programa foi exibido na última semana. \"É uma coisa que não dá para entender. Era pobre, macaca...mas pobre mesmo.\" Marcão ainda tentou disfarçar: \"Eu sempre falo para os meus amigos: eu era pobre e macaco também. Hoje eu sou rico hoje, de saúde, graças a Deus\" assista a partir do minuto 1:00 do vídeo:\n",
      "774\n",
      "Bolsonaro: Guilherme Boulos é um bandido.  Guilherme Boulos, líder do movimento MTST, foi preso hoje por incitação à violência.  Não vamos entrar em detalhes. Boulos é o típico petista que faz anarquias e depois banca a vítima. Assim foi com Lula e Dilma (basta pesquisar o passado dela no google), dois criminosos que insistem em dizer que são inocentes. Voltando ao assunto de Guilherme Boulos, que já foi solto no início desta noite, ouça o que diz o deputado Jair Bolsonaro sobre esse jovem anarquista:\n",
      "775\n",
      "Barco do \"Apóstolo\" Valdemiro fica à deriva no litoral norte de SP.  O apóstolo Valdemiro e outras duas pessoas foram resgatados na madrugada de hoje (18) depois de ficarem mais de 16 horas à deriva. \n",
      "776\n",
      "Quem é a nova loira do Bonner?.  Oficialmente Bonner continua solteiro, mas parece que a coisa tomou um novo rumo.  (Camila Amaral para o Diário do Brasil) Uma foto postada no Instagram está aguçando a curiosidade dos internautas A informação é do portal TV Famosos , do UOL. De acordo com a matéria, o âncora da Globo estaria em um novo affair com uma perita judicial. A moça se chama Tatiana Hartz, tem 45 anos e é formada em psicologia e direito. Os dois foram flagrados jantando em um restaurante (Royal Grill) na Barra da Tijuca, Rio de Janeiro. Tatiana postou uma foto em seu Instagram com a seguinte legenda: \"Almoço maravilhoso! Obrigado. Querido demais\". Uma pessoa próxima do casal disse que os dois são velhos amigos e agora está rolando \"um clima\".\n",
      "777\n",
      "Ostentou no Facebook e o juiz aumentou a pensão para ex-mulher.\n",
      "\n",
      "Juiz determina aumento da pensão de um comerciante após a mulher comprovar por meio das postagens no Facebook que o marido tinha uma vida de baladas, bebidas e mulheres. Cuidado com o que você posta. Ostentação pode ser uma arma e a vítima pode ser você.\n",
      "\n",
      "Uma recepcionista de 29 anos conseguiu provar que o ex-marido, um comerciante, 29, ganha mais do que havia declarado à Justiça e com isso garantir uma pensão maior para o filho do casal, de 4 anos. O homem alegava que ganha um salário mínimo e só podia pagar R$ 400 de pensão, mas após ter sido descoberto ostentando alto padrão de vida regado a shows, baladas, finais de semana em resorts além de possuir carro de luxo e até lancha teve a pensão estipulada provisoriamente para R$ 1.874,00, valor que pode ficar até maior, conforme decisão do juiz. Foram 13 de anos de convivência, entre namoro e casamento. Da união nasceu o filho, 4. Há um ano e nove meses o casamento chegou ao fim, e ela afirma que desde então ele nunca contribuiu com nada para a criança. Para convencer a Justiça que não tem condições financeiras ele chegou a vender bens do casal e não dividiu os lucros a ex-mulher. Tentei um acordo verbal, ele alegava que só poderia dar R$ 400,00 e nunca deu, mesmo recebendo cerca de R$ 4 mil mensais. Ele chegou a me pedir para abrir mão da minha parte na loja que tínhamos juntos em troca de uma pensão maior, mas discordei, pois são coisas diferentes. A loja era um bem nosso, a pensão é um direito do nosso filho. Com a orientação da advogada Kelly Andrade, a comerciante moveu uma ação contra o ex-marido, em julho de 2016. Chegamos a comprovar que ele ganhava até R$ 10 mil, porque o faturamento da empresa do pai dele é muito alto, e ele é gerente e tira do caixa o valor que quer, afirmou a advogada.\n",
      "\n",
      "Para provar que o ex-marido tem uma vida de luxo, a comerciante criou perfis fakes, nas redes sociais, para conseguir as fotos das ostentações.\n",
      "\n",
      "E com a ajuda de amigos em comum consegui monitorar viagens para resorts, festas na lancha que ele alegava na justiça que não tinha, e fotos em camarote de um show cujo ingresso era R$ 400,00.\n",
      "\n",
      "Segundo a advogada em setembro de 2016 o juiz estipulou pensão provisória no valor de R$ 1.874,00, que, alega a ex-esposa nunca foi pago. Já comuniquei à Justiça, mas ele sempre recorre. E depois da última decisão judicial até bloqueou, de todas as formas, seus perfis em redes sociais, e proibiu parentes de postarem fotos, para não flagrarem sua ostentação, diz a recepcionista. Alguns pais quando se divorciam das mães acham que se divorciaram dos filhos também  Kelly Andrade, advogada\n",
      "\n",
      "O processo segue em curso e de acordo com Kelly ainda não tem data definida para sair a setença. Com a decisão, o valor pode variar para mais ou para menos.\n",
      "\n",
      "Hoje os gastos da criança são arcados pela mãe e pelo avô materno. A pensão é uma coisa que ele deveria dar de bom grado, e ainda tem a demora da justiça, a situação já se arrasta há um ano e nove meses. Toda vez que sai um mandado de prisão ele entra com recurso e diz que não tem condições de pagar, lamenta a recepcionista.\n",
      "\n",
      "De acordo com Kelly casos como o da recepcionista são comuns. Ela afirma que para assegurar à criança o direito à pensão é preciso que o responsável por ela faça como sua cliente fez.\n",
      "\n",
      "É preciso comprovar na justiça a situação econômica do pai e a necessidade do filho. Observo que alguns pais quando se divorciam das mães acham que se divorciaram dos filhos também.\n",
      "\n",
      "Ela explica que quando o pai não tem renda comprovada o valor da pensão alimentícia é fixado sobre o salário mínimo, porém, não há um percentual fixado em lei. O juiz o faz de acordo com a possibilidade de o pai pagar e a necessidade de o filho receber, o que chamamos de binômio, diz.\n",
      "778\n",
      "Mr. Catra é acusado de associação com o tráfico. Mr. Catra, funkeiro adepto da poligamia, se envolveu em uma polêmica que pode tirar sua liberdade e sua vida de ostentação nos próximos anos. Em um clipe ousado o cantor faz apologia a uma das maiores facções criminosas do Brasil.\n",
      "\n",
      "No vídeo que circula pela internet e foi divulgado pelo jornal A Crítica, o cantor aparece entoando versos que citam Ronny e Coquinho, que seriam aliados do traficante João Pinto Carioca, o João Branco. A letra cita nominalmente a Família do Norte, diz que o grupo criminoso é responsa e presença e cita os trafica da Compensa, em alusão a um bairro de Manaus.\n",
      "\n",
      "Nascido no Morro do Borel, na Tijuca, Zona Norte do Rio de Janeiro, Mr. Catra, 48, é conhecido pelas falas polêmicas, pelos funks de letras picantes e pela numerosa família ele é pai de 33 filhos.\n",
      "\n",
      "Artigo 287 do Código Penal: Fazer, publicamente, apologia de fato criminoso ou de autor de crime.\n",
      "\n",
      "Detenção: 3 a 6 anos ou multa.\n",
      "\n",
      "Conduta típica: Elogiar, exaltar, enaltecer criminoso ou vantagens do ato ilícito.\n",
      "\n",
      " Constitui incentivo indireto a pratica de crime. Em sua defesa Mr. Catra diz que não quis exaltar nenhuma facção e que trafica da Compensa é um bonde de funk que está sendo formado lá. Já liberdade eu peço para todo mundo mesmo, como é o normal.\n",
      "779\n",
      "Atuação das Forças Armadas nos presídios será limitada. Temer está enxugando gelo.  Raul Jungmann, ministro da Defesa, disse em entrevista coletiva, que a \"ajuda\" do exército será limitada.  O estado que necessitar da presença dos militares, deverá se manifestar formalmente perante o Governo Federal. De acordo com Jungmann, os militares usarão equipamentos sofisticados para fazer um \"pente fino\" nos presídios. Os tais equipamentos irão detectar armas, explosivos, artefatos, enfim, a função das Forças Armadas será fazer uma única varredura no local solicitado. Daí em diante, cada estado se encarregará de coibir novas entradas de \"coisas ilícitas\" dentro dos presídios. Sabemos que os estados não terão condições de manter os presídios \"limpos\". Não há mão de obra suficiente, os salários dos servidores estão atrasados, não há sequer dinheiro para abastecer viaturas ... Essa ação do Governo Federal é como enxugar gelo! Bastará o exército virar as costas e tudo voltará a ser como antes. Voltamos a repetir! O Exército deve ser uma presença constante nos presídios (e nas ruas) até que o tal Plano de Segurança (anunciado pelo governo) seja colocado em prática!\n",
      "780\n",
      "Marina descobriu a América! Nas próximas eleições, vote em Marina e Rubinho.  Marina Silva, como sempre, não deixa de dar pitacos ridículos e oportunistas.  Através do Twitter, ela expandiu seus neurônios e pensou em algo inédito (ironia): \"Será que os massacres nos presídios não deixam evidente que esse é um problema nacional que merece máxima atenção?\" Marina está com um pequeno probleminha de \"delay\" ... ela descobriu algo que os brasileiros já sabem há mais de 30 anos. Será que nas próximas eleições teremos uma chapa Marina Silva e Rubinho Barrichello? ps: Foi mal Rubinho! A gente te adora!\n",
      "781\n",
      "URGENTE! Polícia se prepara para invadir penitenciária de Alcaçuz, no Rio Grande do Norte.  O Batalhão de Choque da Polícia Militar do Rio Grande do Norte está se preparando para invadir o presídio de Alcaçuz, em Natal.  O objetivo da invasão é entrar no presídio e dominar toda a área, que foi literalmente destruída pelos presos. Homens da Força Nacional de Segurança estão posicionados ao redor da penitenciária e também nos quarteirões próximos ao complexo. Atiradores de elite estão posicionados nas guaritas, com o objetivo de evitar uma possível fuga em massa. A informação é da Globo News.\n",
      "782\n",
      "Após regate no mar de SP, internautas não perdoam Valdemiro: \"Porque não caminhou sobre as águas, pastor?.  Depois de ficar praticamente 16 horas à deriva no litoral norte de São Paulo, internautas não perdoaram o pastor Valdemiro Santiago e questionaram o \"iluminado\" pela internet.  Veja os principais comentários das redes sociais: \"Primeiro a facada, agora fica à deriva no mar... Cuidado Valdomiro, o tinhoso está atras de vc!! Ele vai te pegar!!! kkkkk\" \"Porque ele não saiu andando sobre as águas? Pensei que ele (e não os bombeiros) realizava milagres.\" \"Pastor, quanto custará o pedaço do barco ungido?\" \"E agora Valdemiro, vai pedir mais R$ 8 milhões na internet?\" \"E aí Apóstolo? O que aconteceu com sua Arca Ungida?\" \"Eu acho que ele tá querendo popularidade. Ele quer participar do BBB17\" \"O que ele fará agora? Vender lascas do barco ou vender àgua abençoada do litoral de SP?\" \"Porque não levou o Lula para pescar junto?\" \"Iemanjá recusou a oferenda!?!\" \"Pastor, que equipe de marketing fantástica o senhor tem. Que ideia genial. E lá vem mais dinheiro\" leia também:\n",
      "783\n",
      "Rio de Janeiro: Polícia Civil decide entrar em greve.  Categorias da Polícia Civil (agentes, inspetores, papiloscopista e peritos) decidiram em assembléia, que entrarão em greve geral.  Não foi definida (ainda) a data do início das paralisações. De acordo com a decisão tomada na assembléia, o objetivo é parar as atividades em todas as unidades, incluindo a Delegacia Antissequestro (DAS) e também a Delegacia de Homicídios (DH). A categoria está sem o pagamento do salário de dezembro, sem previsão do pagto do décimo terceiro (2016) e ainda aguardam créditos de horas extras do segundo semestre do ano passado. Na última quinta-feira, os delegados do estado já haviam decidido pela pela paralisação. Os agentes penitenciários também entrarão em greve a partir das 0:00hs de amanhã.\n",
      "784\n",
      "The Voice: Conheça Tapac, o ucraniano que ganhou as redes sociais ao cantar a música Tchê tcherere, de Gustavo Lima. .  Durante sua performance, o jovem ucraniano canta a música Tchê tcherere, do cantor brasileiro Gustavo Lima. A platéia foi ao delírio e os jurados também. Mesmo com sotaque, o jovem fez o \"tchê tcherere tchê\" ganhar as redes sociais pelo mundo afora. Tapac Meubhnk estava mais animado que o próprio Gustavo Lima. Vale a pena assistir:\n",
      "785\n",
      "Em MG, detentos publicam vídeo e ameaçam: \"Nóis vai metê fogo im tudo. Vai trombá com o capeta\".  Detentos da Penitenciária Dutra Ladeira, em Ribeirão das Neves, Região Metropolitana de Belo Horizonte, fazem um motim na noite de hoje (16).  A Comissão de Direitos Humanos da OAB informou que os presos colocaram fogo em colchões. A PM está no local para tentar conter uma possível rebelião. Desesperados, os presos conseguiram publicar um vídeo nas redes sociais e pediram ajuda para a sociedade: \"Quem puder, ajude a compartilhar esse vídeo. Nós só queremos que o sr. (se referindo ao diretor do presídio) nos dê atenção e tenha responsabilidade com as nossas visitas\" disse um dos detentos. Eles continuam: \"Agora, se o senhor não nos atender [...] é pra zoar? Todo mundo vai zoar, vai morrer muita gente. O massacre vai começar. Vamos meter fogo em tudo\" A OAB (Comissão de Direitos Humanos) ouviu algumas mulheres e mães dos presos que denunciaram maus-tratos contra os detentos.\n",
      "786\n",
      "Falta de segurança fora dos presídios! Repórter da Globo News é agredida violentamente durante link ao vivo. .  Uma repórter da Globo News foi atacada na madrugada de hoje (17) enquanto fazia uma matéria ao vivo em frente ao presídio em Ribeirão das Neves, região Metropolitana de Belo Horizonte. Larissa Carvalho entrou em um link ao vivo para o jornal Edição da Meia-Noite e falava sobre o início de um motim na penitenciária [...] a jornalista dizia que os presos estavam ateando fogo em colchões, quando, de repente, foi agredida. Uma mulher (identificada posteriormente como parente de um detento) entrou no meio da transmissão e empurrou Larissa com violência. A repórter caiu no chão. Uma policial militar precisou conter a agressora e a Globo News cortou o link ao vivo.\n",
      "787\n",
      "Não é possível! O que o exército está esperando para proteger o povo brasileiro?.  Facções rivais já ameaçaram levar a violência para as ruas.  (Amanda Nunes, da UFRJ) A presidente do STF, ministra Cármen Lúcia , demonstrou preocupação extrema com a situação carcerária de Manaus e do Brasil em geral. De acordo com auxiliares da magistrada, ela teria afirmado que a situação \"é grave e vai explodir\". Mas [...] temos que separar o joio do trigo. Há um pequeno percentual de presos que não querem fazer parte de facções. Esses detentos mais \"vulneráveis\" estão sendo mortos nos conflitos que estão ocorrendo nas penitenciárias. Não estamos aqui para defender bandido A ou B , mas o judiciário deve agir imediatamente e transferir essas pessoas \"vulneráveis\" para um lugar mais seguro. Há, entre essa população carcerária, presos que sequer foram julgados. Existem presos que estão detidos por não pagar pensão alimentícia dividindo espaço com traficantes e estupradores. Temos que aceitar que há \"crimes\" e \"CRIMES\". Em primeiro lugar, o exército deve ocupar as ruas das principais capitais imediatamente e garantir a segurança da população. A partir daí, o Ministério da Justiça poderá continuar com suas inúmeras reuniões dentro dos confortáveis gabinetes (equipados com ar condicionado e serviços de garçom) para levar adiante seu famoso \"Plano de Segurança\". Resumindo o raciocínio: Em primeiro lugar, deve estar a segurança daqueles que estão do lado de fora dos presídios. A segurança interna dos presídios é algo que deve ser implementado posteriormente, com cautela e planejamento. Facções rivais já ameaçaram levar a violência para as ruas. Se isso acontecer, cada cidadão de bem que for ferido, atacado, assaltado ou até mesmo morto, será de responsabilidade exclusiva do ESTADO. O Governo Federal nunca teve controle nos presídios e jamais terá. Presídios são uma espécie de \"território particular\" dentro do território brasileiro. Sem a ajuda das Forças Armadas, estaremos enxugando gelo.\n",
      "788\n",
      "Procurador da República parte para o ataque: \"Dilma foi eleita. Ela é a mandatária. Temer é um ladrão de poder\". . \n",
      "789\n",
      "Saiba porque a professora comunista apanhou em sala de aula. Adolescente afirma ter se arrependido, mas nega soco e admite apenas ter empurrado o rosto dela; garoto relata ter crescido em ambiente doméstico violento.\n",
      "\n",
      "O garoto de 15 anos que agrediu a professora Márcia de Lourdes Friggi com socos e tapas numa escola em Indaial, no interior de Santa Catarina, prestou nesta quarta-feira depoimento à Polícia Civil.  De cabeça baixa, o garoto disse que partiu para a agressão depois de ter sido xingado por ela e que não lhe deu um soco, mas sim um empurrão no rosto  a sua unha teria arranhado o supercílio, o que provocou o sangramento. O estranhamento entre eles se deu logo no início da aula, quando Márcia avisou que estava proibido o uso de celulares na sala. Ela olhou, então, para o menino e o viu com um livro no colo. Pensou que ele poderia estar mexendo no aparelho telefônico debaixo da carteira e pediu para que ele colocasse o livro em cima da mesa. O garoto foi ríspido: Eu boto onde eu quiser. Vá se f.. A professora, então, mandou-o para a sala da diretoria, ao lado. A partir dali, segundo a professora, ele se levantou e jogou o livro em direção à sua cabeça  ela desviou. Já o garoto contou que atirou o livro no chão e disse que não tem um celular.\n",
      "\n",
      "Diante da diretora e da secretaria, o adolescente negou tudo. A professora se irritou e começou a dizer que ele estava mentindo, que a sala inteira era testemunha, até que o garoto se lançou sobre ela. Márcia caiu no chão, enquanto o menino foi contido pela diretora e pelos alunos, que a essa altura já estavam fora da sala. Por fim, ele ficou trancado numa sala até que a sua mãe chegasse para buscá-lo.\n",
      "Violência em casa\n",
      "\n",
      "O garoto ainda contou à polícia que sempre viveu num ambiente de muita violência. Disse que assistia ao seu pai, alcoólatra, bater em sua mãe e que ele próprio às vezes era vítima. Numa oportunidade, teria ficado até em coma, relatou, acrescentando que estava frequentando a igreja evangélica e que não fazia uso de drogas.\n",
      "790\n",
      "Comunicado que circula entre policiais diz que PCC fará ataques em todo o estado de SP na terça-feira (17). .  Os ataques, segundo informações do El Pais , poderão ocorrer em diversos locais do estado. De acordo com a matéria, as tais informações foram repassadas de agentes do Centro de Inteligência Policial de Araraquara para todas as unidades policiais. Parte do texto diz: \"Para conhecimento e providências, chegou neste Centro de Inteligência que membros do PCC dão conta de que armas de fogo foram distribuídas aos integrantes da facção para possíveis ataques. Há informações de que no próximo dia 17 o comando da organização criminosa ordenará vários ataques em locais distintos, onde cada um terá que agir\". O jornal El Pais confirmou a veracidade do documento com policiais que não quiseram divulgar seus nomes. Um outro policial disse que a mensagem enviada pelo Centro de Inteligência de Araraquara era correta, porém (até agora) não há indícios de que o PCC estaria distribuindo armas ou se articulando para possíveis ataques. A Secretaria da Segurança Pública de SP não se pronunciou sobre as informações e alegou que \"desconhece qualquer ameaça concreta de ataques de organizações criminosas\". leia também:\n",
      "791\n",
      "Asteroide com poder destrutivo equivalente a 3 bilhões de bombas nucleares continuará passando pela Terra.  O asteroide 2009ES foi flagrado em um observatório de Nanjing, China.  Alguns sites estão convencidos de que a rocha de 10 milhas (16 quilômetros de largura) está prestes a atingir a Terra em um curto período de tempo. O asteroide passou pela Terra no dia 5 de setembro do último ano e continuará passando no futuro. De acordo com a NASA, 97% dos asteroides \"destruidores de planetas\" no sistema solar são aqueles que têm 6 ou 7 milhas de largura, parecidos com aqule que matou os dinossauros. A NASA declarou: \"Até onde podemos prever, nenhum objeto grande atingirá a Terra pelas próximos anos, porém não podemos fazer uma previsão por um período maior \" O  potencial destrutivo da explosão do 2009ES equivale a apenas 1 milionésimo de todo o arsenal nuclear presente na Terra: \"O poder destrutivo é três bilhões de bombas nucleares\" disse o especialista Phil Plait.\n",
      "792\n",
      "Um maluco à solta! Nicolás Maduro ameaça guerra armada na América Latina.  Nicolás Maduro disse que está disposto a começar uma \"luta armada continental\" se seus adversários tentarem um golpe de Estado.  Trocando em miúdos: O povo Venezuelano quer tirar Maduro do poder e ele classifica isso como \"golpe de estado\" [...] coisa típica de comunista. O presidente Venezuelano ameaçou: \"A paz poderá acabar neste continente\", disse o \"doido varrido\" em discurso feito no Tribunal de Justiça da Venezuela. Na última semana, após o parlamento venezuelano decretar abandono de cargo pelo presidente, Maduro criou uma espécie de \"comando antigolpe\". O ditador mandou prender vários opositores e os acusou de promoverem \"ações desestabilizadoras\".\n",
      "793\n",
      "\"Detetive Virtual\" descobre foto de Valdemiro Santiago com o pescoço \"novinho em folha\" 5 dias após o ataque.  Um Bispo da Igreja Mundial do Poder de Deus tirou uma selfie e postou nas redes sociais.  Até aí nada de mais ... se não fosse um mero detalhe: O Apóstolo Valdemiro Santiago apareceu na foto. No último dia 8 de janeiro , Valdemiro foi alvo de uma tentativa de homicídio durante um culto em uma de suas igrejas, localizada no Brás, Zona Sul de São Paulo. O \"ataque\" ao Apóstolo resultou em uma cirurgia e 20 pontos no pescoço. No mesmo mês de janeiro, exatamente no dia 13 (ou seja, 5 dias após o atentado), O Bispo França, da mesma igreja de Valdemiro, tirou uma foto com seu celular de alta resolução e postou no facebook . Repare na imagem abaixo que, claramente, não há qualquer tipo de curativo sobre o pescoço do apóstolo [...] ele parece novinho em folha. Será que foi mais um milagre do \"ungido\"? Uma internauta seguidora do Bispo França bancou a \"detetive virtual\", descobriu os detalhes na imagem e comentou imediatamente: \"Queimei meu dedo no forno, uma bolha de 0,5 cm demorou 2 meses pra sumir a cicatriz, esse aí leva facada e ponto no pescoço, e em 5 dias nem sinal tem. Hahaha como tem gente que gosta de ser enganada.\"\n",
      "794\n",
      "Léo Dias sofre acidente de carro e internautas não perdoam: \"Será que foi macumba do Zezé Di Camargo?\". .  No último fim de semana, o jornalista Léo Dias , do programa \" Fofocando \" ( SBT) e também dono de uma coluna no jornal O DIA , capotou o veículo que dirigia, no Rio de Janeiro. Léo Dias disse à imprensa que, após o acidente, saiu caminhando do veículo, até que uma pessoa chegou para prestar socorro. \"Eu só pedi para ir para casa. Cheguei e dormi. No dia seguinte acordei com uma dor insuportável\" O colunista contou que machucou o fígado e ainda brincou: \"Isso não me impede de fazer fofocas\" , disse. Internautas não perdoaram o fato e questionaram Léo nas redes sociais: \"Será que foi macumba do Zezé Di Camargo?\" disse um seguidor do jornalista. Outro internauta disse: \"Cuidado Léo. O Santo do Zezé é forte\" Um terceiro seguidor alertou o colunista: \"Se eu fosse você faria uma trabalho bem forte pra fechar o corpo. Cuidado com o Zezé. Abraços e boa recuperação\" Durante os últimos meses, Zezé tem ameaçado processar o colunista após Léo ter feito várias revelações polêmicas sobre a vida do Sertanejo.\n",
      "795\n",
      "Secretário de Segurança Pública de SP vai afastar policial que emitiu \"alerta de ataque\" do PCC.  Mágino Alves , Secretário de Segurança Pública de São Paulo, disse que irá afastar o investigador de polícia que emitiu um alerta sobre um possível ataque do PCC no estado de São Paulo.  No último dia 13, a delegacia de Araraquara, interior de SP, emitiu um alerta para todos os policiais do estado sobre um possível ataque do PCC no dia 17 de janeiro. Parte do texto dizia: \"Para conhecimento e providências, chegou neste Centro de Inteligência que membros do PCC dão conta de que armas de fogo foram distribuídas aos integrantes da facção para possíveis ataques. Há informações de que no próximo dia 17 o comando da organização criminosa ordenará vários ataques em locais distintos, onde cada um terá que agir\". O Secretário confirmou que o documento é verdadeiro, porém as informações são equivocadas. \"Ele será afastado por falta de \"aptidão para o cargo\" e ocupará outra função na Polícia Civil\" disse Mágino. Alves destacou que não há \"nenhum fato que justifique o temor provocado por este alerta\" (as informações são do Estado e da Veja )\n",
      "796\n",
      "Barril de pólvora! A partir das 0:00 hs de amanhã, agentes penitenciários do RJ entrarão em greve.  4.500 agentes penitenciários do Rio de Janeiro entrarão em greve a partir da 0h de amanhã (terça-feira,17).  Os agentes são responsáveis pela segurança de 57 mil detentos em 52 unidades prisionais. É uma proporção assustadora! Se fizermos uma conta rápida, temos uma média de 1 agente penitenciário para cuidar de mais de 1000 presos. \"Há presídios com 3.000 pessoas e um efetivo de 8, 9, 10 pessoas trabalhando em um dia bom\" , disse um agente. A paralisação será por tempo indeterminado e foi acordada em assembleia realizada hoje no RJ, informou o Estadão. \"Os agentes estão sem salários, sem condições mínimas de trabalho, sem segurança e em situação cada vez mais precária\" , afirmou o presidente do sindicato da categoria. O governo federal tem que intervir imediatamente e colocar o exército nas ruas para garantir a segurança da população [...] até que um acordo seja fechado entre o governo do RJ e o sindicato dos agentes penitenciários, que merecem melhores salários e condições de trabalho. Se as cadeias do RJ explodirem, poderemos dizer (com toda certeza) que essa foi uma tragédia anunciada. É um verdadeiro barril de pólvora prestes a explodir.\n",
      "797\n",
      "Ex-presidente ignora a justiça e diz que, se voltar, vai fazer mais. Mais o quê?.  Diante de uma plateia formada por professores, estudantes e sindicalistas, o petista disse hoje (12) em Brasília:.  \"Quero fazer o país andar. Se cuidem, porque se eu voltar para a presidência da República é para fazer mais do que nós já fizemos\" Como é Lula? Se voltar, vai fazer mais? Mais o quê? Mais empréstimos do BNDES para países comunistas? Mais dinheiro público desviado para as empreiteiras? Mais 12 milhões de desempregados? Mais benefícios particulares? Mais depósitos para acomodar as tralhas que pertencem ao patrimônio da Presidência? Mais sítios e apartamentos na praia? Mais criminosos (já que nos últimos 10 anos, a população carcerária cresceu 85%) ? Vai te catar Lula! Logo logo a única coisa que sobrará em nosso país será pedra e mato. O PT roubou tudo!\n",
      "798\n",
      "Número 32! Um dos empresários mais ricos do país ganha bolada em casino de Punta Del Este, no Uruguai.  Pedro Grendene é presidente de uma das empresas mais bem sucedidas do Brasil, a Vulcabras-Azaleia.  ( El país ) Amigos de Pedro filmaram o momento em que ele ganhou uma bolada. O vídeo mostra o empresário empilhando várias fichas sobre o número 32. Decidido e tranquilo, ele saboreia uma taça de vinho e espera tranquilamente o giro da roleta. Vários sites chegaram a publicar que Pedro teria apostado cerca de US$ 100 mil e lucrado algo em torno de R$ 3,5 milhões. O empresário nega o fato, diz que as imagens são de um \"momento particular\" e afirma que o dinheiro foi compartilhado com os amigos. Ele não quis comentar sobre o valor da aposta. \"O vídeo é um momento particular no Uruguai onde Pedro e seus amigos ganham em torno de R$ 50 mil dólares na roleta\" , diz a nota. O jornal carioca Extra disse que tentou contato com o Casino, porém eles não retornaram o contato.\n",
      "799\n",
      "Após chamar brasileiros de \"babacas\", Neymar aparece em festa regada a bebidas e mulheres. .  #retrospectiva2017 No mesmo dia em que xingou com palavrões os críticos da seleção brasileira , o atacante Neymar apareceu em um vídeo nas redes sociais participando de uma festa com os \"parças\". A balada foi filmada em Las Vegas, nos Estados Unidos, e foi regada com espumante, música eletrônica e muitas mulheres, numa espécie de resort para ricaços.\n",
      "800\n",
      "Fabio Assunção está viciado em uma droga mais perigosa: o PT. Fabio Assunção foi um dos maiores galas da TV Globo na década de 90, nos últimos anos sua dependência química complicou a trajetória de sucesso e a carreira artística foi perdendo espaço para as notícias policiais. Quando tudo parecia já estar no fundo do poço ele deu um jeito de cavar mais fundo. Tornou-se o mais novo filiado do Partido dos Trabalhadores do Rio de Janeiro.\n",
      "\n",
      "O presidente do PT no Rio de Janeiro, Washington Quaquá, comemorou as filiações dos atores Fábio Assunção e Tássia Camargo à legenda. Segundo Quaquá, os artistas estimularão o ingresso de mais pessoas no partido. Ainda de acordo com o dirigente estadual do PT, a presença do ex-presidente Lula na capital fluminense na semana passada foi fundamental para que os artistas se decidissem pela filiação. Nos bastidores do PT comenta-se sobre a intenção de lança-lo candidato a deputado federal em 2018. A ordem é tirar da linha de frente os petistas envolvidos em escândalos ou com imagem desgastada, substituindo por rostos novos na política e ainda sem rejeição. Desta maneira Tássia Camargo substituiria a deputada Benedita da Silva em 2018.\n",
      "\n",
      "Uma das pautas desta nova geração de petistas seria a ideologia de gênero nas escolas, assim como a legalização da maconha para fins recreativos. Os Petistas Globo podem trazer grande impacto eleitoral para o PT e serem fortes defensores dos interesses da emissora no Congresso. Somente em impostos federais atrasados a Globo estaria devendo R$ 732,5 milhões.\n",
      "801\n",
      "Internet limitada: \"12 horas de Netflix ou alguns dias no Facebook já seriam suficiente para bloquear sua internet\".  Com uso de internet cada vez mais se espalhando pelo território nacional, a verdade é que você deve se preocupar com tudo isso [...] e muito!.  Algo que tem preocupado muita gente nas últimas semanas é o fato de que a internet deixará de ser ilimitada. O pânico começou quando a Vivo colocou limites de consumo nos de banda larga fixa. E a Anatel, ao contrário dos consumidores, viu a mudança como benéfica. E não será somente a empresa Vivo que fará essa limitação. Todas as outras operadoras do país também poderão limitar sua internet. SIM! A internet da sua casa e/ou da sua empresa também sofrerá essa corte absurdo. Em apenas 5 ou 6 dias de uso moderado, você poderá sofrer uma interrupção nos serviços. Ex: 12 horas assistindo filmes na Netflix ou até mesmo alguns poucos dias navegando (durante 4 horas por dia) no Facebook já seriam suficiente para bloquear sua internet limitada Essa atitude é digna de países comunistas como a China. Querem limitar a comunicação. Querem alienar o povo. O superintendente da Anatel já assumiu publicamente que considera benéfica a existência de franquias de dados na banda larga fixa, argumentando que usuários que usam pouco o serviço paguem menos do que aqueles que usam muito. Conversa fiada! Estamos agora nas mãos do Ministério Público Federal, que irá investigar esse crime que lesa os consumidores. Nos resta apenas torcer para que o MPF possa impedir essa barbárie contra o povo que mais paga impostos no mundo.\n",
      "802\n",
      "Anonymous se irrita com internet limitada e divulga dados de Kassab: \"Uma demonstração do que podemos fazer\".  O grupo hacker Anonymous divulgou dados do Ministro Ciência e Tecnologia e Gilberto Kassab e Anatel em protesto contra limitação da internet.  \"Esse vazamento é uma pequena demonstração do que somos capazes de fazer\", publicaram. Mais cedo, o grupo já tinha mandado um recado recado para os governantes: \" Chegou a hora da internet dizer aos novos governantes quem é que manda nessa porra! Não se atrevam. Com amor, O povo.\" Até que enfim apareceu alguém que luta pelo povo! Nossos parabéns ao grupo.\n",
      "803\n",
      "Anonymous alerta o governo: \"Não se atrevam a mexer na internet ou iremos mostrar quem manda\".  O grupo hacker Anonymous, através do Facebook , mandou seu recado aos governantes do Brasil.  Sobre as declarações do ministro Gilberto Kassab (Ciência e Tecnologia), que confirmou o fim da internet ilimitada no país, o grupo avisou: \"Acabou a novela. Ministro diz que haverá, sim, limite na internet fixa no Brasil. Chegou a hora da internet dizer aos novos governantes quem é que manda nessa porra! Não se atrevam. Com amor, O povo.\" Em 2016, no auge da discussão sobre a implementação de franquia limitada nos planos de internet, o grupo bloqueou os sistemas da Anatel e ainda divulgou dados de executivos. Vamos ver se o governo terá coragem de cortar a internet do povo brasileiro! Como diz o ditado: \"Para toda ação, há uma reação\" leia também:\n",
      "804\n",
      "A jericada de Lula! Ex-presidente discursa, comete gafe histórica e acaba se entregando.  Durante o Congresso da Confederação Nacional dos Trabalhadores em Educação (CNTE), em Brasília, Lula cometeu mais de suas gafes antológicas.  Se bem que [...] somente a presença de Lula em um Congresso sobre Educação já é uma gafe digna de entrar para a história. Voltando ao assunto... Uma fala que praticamente passou despercebida pela mídia, foi captada com astúcia pelo Jornal da Cidade Online . Em um discurso inflamado, o petista disse aos berros: \"Quem é o culpado se um jovem de 25 anos está preso hoje em dia? Que oportunidade deram a esse jovem quando ele tinha 8 anos? Se não deu educação, não deu trabalho, essa criança vai fazer o quê da vida? ...\" Bem, o jovem de 25 acima citado pelo petista nasceu em 1992. Quando Lula assumiu seu primeiro mandato presidencial, o jovem estava com 10 anos. O PT governou até o ano passado, quando esse jovem citado por Lula completou 24 anos. Portanto, o personagem da frase do ex-presidente viveu toda sua infância, sua adolescência e sua juventude sob o governo do PT [...] até que foi preso porque não teve educação, trabalho e oportunidade. Lula está mais perdido que azeitona em boca de banguela. Como diz o ditado: peixe morre pela boca!\n",
      "805\n",
      "Conheça Toninho motoboy, o \"Bruce Willis\" brasileiro que escapou ileso de um acidente cinematográfico!.  Raramente alguém sairia ileso de um acidente com essas proporções.  Toninho seguia normalmente com sua moto quando, de repente, um carro que estava estacionado, decidiu sair da vaga. O choque foi inevitável. Ambos não conseguiram evitar a colisão. O motoboy foi arremessado a uma altura de quase 6 metros e rodopiou umas 3 vezes no ar. Mas espere! Não foi só isso... Após a batida, Toninho ainda foi lançado contra uma carreta e destruiu parte da carroceria do veículo. Já no hospital, o motoboy era só sorrisos! É impressionante. Confira as imagens de um circuito de câmeras que captou o acidente em 2 ângulos diferentes: *** As imagens foram enviadas por um internauta. Não sabemos onde mora o \"Bruce Willis\" brasileiro ***\n",
      "806\n",
      "João Dória planta muda de Pau-Brasil e homenageia Lula: \"O maior cara de pau que esse país já teve\".  O prefeito eleito de São Paulo acordou cedo e foi para as ruas.  João Doria apagou grafites e plantou mudas de Pau-Brasil, uma árvore nativa da Mata Atlântica. Não poderia faltar um pequeno discurso: \"Quero agradecer a equipe de profissionais. Isso aqui é uma muda de pau-brasil. Vou dedicar, como cidadão. o plantio dessa muda de pau-brasil ao Lula [...] o maior cara de pau do Brasil. Um presente pra você Lula\" disse.\n",
      "807\n",
      "Nova operação da PF poderá ser o estopim para que Eduardo Cunha comece a jogar lama no ventilador.  Deflagrada na última sexta-feira (13) a Operação Cui Bono (da PF), poderá ser o último \"incentivo\" para que o ex-presidente da Câmara, Eduardo Cunha, faça sua delação premiada.  Cunha, que está preso em Curitiba, é alvo de uma nova ação em Brasília. Ele e outros comparsas do PMDB são acusados de cobrar propina para o partido em troca da liberação de grandes empréstimos. O que se sabe até agora é que o ex-ministro de Temer, Geddel Vieira Lima, agia em conjunto com Eduardo Cunha. Ambos usaram a CEF para facilitar os empréstimos, aliás foi Michel Temer indicou Geddel para a vice-presidência corporativa do banco. Fontes de Curitiba afirmaram que Cunha deu um prazo para que o governo de manifeste e o ajude. Caso nenhum gesto de boa vontade for demonstrado pelo Palácio do Planalto, o ex-deputado fará a tão anunciada delação \"explosiva\" premiada. Além de Geddel e outros caciques do PMDB, a \"explosão premiada\" de Cunha poderá jogar estilhaços no presidente Michel Temer. Será que o Michel vai conseguir estancar a sangria?\n",
      "808\n",
      "Informação extraoficial confirma que rebelião em presídio de Natal (RN) já causou a morte de 3 detentos. .  Wallber Virgolino, Secretário de Justiça do Rio Grande do Norte, disse que há mortos no motim provocado por detentos dentro da Penitenciária de Alcaçuz, na Grande Natal (RN). A Secretaria de Justiça não soube informar a quantidade de presos que foram mortos. Já o coordenador de administração penitenciária do Rio Grande do Norte informou: \"Podemos afirmar que pelo menos 3 presos foram mortos. Deu pra ver as cabeças arrancadas\" O comando da PM do Rio Grande do Norte informou que a rebelião começou por volta das 16h00 . Presos que estavam nos pavilhões 3 e 5 invadiram o  pavilhão 4, local onde estavam criminosos de uma facção rival. Neste exato momento, há fumaça, barulho de tiros e quebra-quebra dentro do presídio. O presídio está com a capacidade acima do permitido por LEI. 1140 presos ocupam 630 vagas.\n",
      "809\n",
      "No Paraná, presos explodem muro de penitenciária e fogem.  A fuga aconteceu durante a madrugada de hoje (15).  Detentos abriram um buraco em um dos muros da Penitenciária Estadual de Piraquara I, região metropolitana de Curitiba, Após a explosão, vinte e três detentos fugiram. Dois deles foram mortos durante a fuga. Equipes da PM e da PF usam um helicóptero para tentar localizar os fugitivos. O Depen do Paraná (Departamento Penitenciário) informou que um grupo de bandidos criou um tumulto para desviar a atenção da polícia e dos agentes penitenciários. Do outro lado do presídio, um grupo diferente explodiu um dos muros do complexo pelo lado de fora. Luiz Alberto Cartaxo Moura, delegado-diretor do Depen, informou que o presídio opera dentro da capacidade (640 presos).\n",
      "810\n",
      "Em BH, um pastor evangélico tentou xavecar uma \"fiel\" casada. Se deu mal!.  Um vídeo que está rodando no WhatsApp está dando o que falar.  As imagens mostram um suposto pastor de uma igreja evangélica que teria marcado um encontro com uma \"fiel\" em um lugar reservado. Pois bem, a moça armou uma arapuca para o homem de Deus. Ela marcou o tal encontro em um shopping de Belo Horizonte e mandou o marido em seu lugar. O vídeo já teve mais de 500 mil visualizações. Reparem no tamanho do \"negão\" que apareceu para o encontro reservado: *** corrigido. o nome do marido era Júnior e não João ***\n",
      "811\n",
      "Mãe abandona filho na escola e diz: Não quero mais esta desgraça. Mãe abandona filho  ! Mulher de 27 anos traumatizada com a relação com o ex-marido abandonou o filho na escola e disse Não quero mais esta desgraça. Não me deixaram fazer aborto agora eu tenho que perder minha vida por causa desta peste.\n",
      "\n",
      "Uma mãe foi conduzida à delegacia após abandonar o filho de 4 anos numa creche do bairro Alto Amarelo, em Cachoeiro de Itapemirim, Sul do Estado, onde a criança estuda. A mulher, de 27 anos, alegou que não queria mais o filho porque ele a fazia lembrar do ex-marido, que está preso numa penitenciária de Campos dos Goytacazes, Rio de Janeiro. Também disse que não tem mais nenhum sentimento pelo garoto. De acordo com a direção da Escola, a mãe alegou ainda que não tinha condições de ficar com a criança porque estava desempregada e morava de favor na casa de primos.\n",
      "\n",
      "Preocupada com a situação da criança e da mãe, a direção da escola acionou o programa Ronda de Apoio à Família (Rafa), projeto da Guarda Municipal que visa amparar mulheres vítimas de violência doméstica e familiar.\n",
      "\n",
      "A mãe já vinha sendo assistida pelo projeto por ter sido agredida pelo ex-marido há cerca de quatro meses. Na ocasião, o homem foi preso pela Lei Maria da Penha e, mais tarde, transferido para o presídio em Campos, onde já respondia processo por tráfico de drogas. Nós ficamos das 7 horas até 11 horas tentando convencê-la, mas ela não quis. É um menino adorável, muito doce, meigo, lamentou a diretora do colégio.\n",
      "\n",
      "Segundo a diretora, várias pessoas tentaram ajudar. O grupo escolar, por exemplo, ofereceu cesta básica. A escola se comprometeu a manter o menino em horário integral para que a mulher trabalhasse. A coordenadora do colégio conseguiu junto a uma igreja um sítio para que a mãe morasse com o filho. Ela, no entanto, não mudou de ideia, lamentou.\n",
      "\n",
      "A mãe foi conduzida para a 7a Delegacia Regional. A Polícia Civil informou que a mulher foi ouvida pela autoridade policial de plantão e que o caso foi encaminhado à Promotoria da Infância e Juventude e ao Conselho Tutelar. A criança foi entregue aos cuidados de parentes da mãe.\n",
      "812\n",
      "Tem gente que é tão pobre, que só tem dinheiro! Blogueira Kéfera divulga vídeo e faz piada infame com Deus.  Enquanto você trabalha, estuda e se esforça para ser um profissional bem sucedido, há pessoas que aparecem do nada e, de repente, se tornam um sucesso.  A blogueira Kéfera é um desses exemplos de sucesso repentino. De acordo com o site Social Blade, Kéfera Buchmann ganha entre US$ 6.000 e US$ 98.000 mensais, algo entre R$ 18.000 a R$ 300.000 por mês. Em um vídeo divulgado nesta semana, a moça parece que extrapolou os limites do bom senso e partiu para o ataque. A vítima? Deus! Isso mesmo, a blogueira de 2 neurônios perdeu a chance de ficar quieta! \"Deus, agora vou falar um negócio que talvez te deixe um pouquinho chateado comigo. Com todo o respeito, porque eu te considero um \"brother\", entendeu? Mas tem mulheres que são tão lindas que parece que Deus estava batendo p*** \", disse a moça.\" O médico, psiquiatra e psicoterapeuta e Augusto Cury tem uma frase que resume bem o caráter dessa moça: \"Há pessoas tão pobres que só têm dinheiro. Há pessoas tão incultas que só têm cultura acadêmica.\"\n",
      "813\n",
      "Em pleno recesso, deputado vai até Brasília, xinga, diz que vai quebrar tudo e exige cargo para aliado. Ele conseguiu!.  Na tarde de ontem (11), o deputado Francisco Floriano (DEM-RJ), foi até a capital para exigir, aos gritos, que um \"protegido\" dele fosse nomeado para o Instituto Nacional de Traumatologia e Ortopedia (Into).  Em pleno recesso parlamentar, o deputado resolveu rodar a baiana e disse que \"não era moleque\" e ameaçou dizendo o seguinte: \"Se a Secretaria não resolve, a Casa Civil terá que resolver. Se não me receberem ainda hoje, vou chutar a porta dos gabinetes\" disse. Depois do bafafá, Floriano foi embora e garantiu que o Planalto nomeará seu aliado em breve. Mais calmo, ele tentou amenizar: \"A Secretaria de Governo está sobrecarregada sem o ministro, mas tudo está andando. O que não pode é um petista ficar num cargo importante, isso não é certo\" , destacou. Ao deixar o Planalto, o parlamentar que faz parte da bancada evangélica e é ligado ao Apóstolo Valdemiro Santiago, distribuiu bençãos. (A informação é do portal Brasil247 )\n",
      "814\n",
      "Número de mortos por febre amarela em MG pode chegar a 30 e estado tem surto de medo da doença.  No leste de Minas Gerais, o número de mortes por \"suspeita\" de febre amarela já chega a 30.  Na pequena cidade de Lajinha, cerca de trezentas pessoas se amontoaram para conseguir uma senha de atendimento no posto de saúde. Agentes estão visitando as casas das áreas rurais. Somente este ano, de acordo com a Secretaria de Estado da Saúde, foram 110 casos suspeitos de febre amarela; desse total,  30 pessoas morreram. O presidente da Sociedade Mineira de Infectologia alertou: \"Devemos conter essa epidemia. Atualmente esse surto está nas zonas rurais. Temos que impedir que essa bolha chegue nas capitais, onde existe uma grande concentração populacional. As proporções poderiam ser devastadoras\". O Governo Federal, através do Ministério da Saúde, informou que há estoque suficiente de vacina contra a febre amarela para que a população seja atendida em situações extremas. Somente para MG foram enviadas cerca de 735 mil doses durante esta semana. A febre amarela é uma doença infecciosa grave, causada por vírus e transmitida por vetores. A maioria das pessoas que contrai este vírus não chega a apresentar sintomas ou os mesmos são muito fracos. As primeiras manifestações da doença são repentinas: febre alta, calafrios, cansaço, dor de cabeça, dor muscular, náuseas e vômitos por cerca de três dias. A forma mais grave da doença é rara e costuma aparecer após um breve período de bem-estar (até dois dias), quando podem ocorrer insuficiências hepática e renal, icterícia (olhos e pele amarelados), manifestações hemorrágicas e cansaço intenso. A maioria dos infectados se recupera bem e adquire imunização permanente contra a febre amarela. Como a doença pode ser evitada? A única forma de evitar a doença é através da vacinação, que está disponível durante todo o ano nas unidades de de saúde de forma gratuita (é o que informa o Ministério da Saúde) e deve ser administrada pelo menos 10 dias antes do deslocamento para áreas de risco. A vacina é válida por dez anos.\n",
      "815\n",
      "Secretário de Justiça do Rio Grande do Norte: \"Preso tem que ser tratado como preso. Cadeia não é hotel\". .  Wallber Virgolino, secretário de Justiça do Rio Grande do Norte, informou (em entrevista ao jornal GLOBO) que os estados fazem acordos com os presos para evitar rebeliões. Como dizia o personagem Capitão Nascimento, do filme Tropa de Elite, \"O SISTEMA É CORRUPTO\". De acordo com Wallber, \"o criminoso tem que se sentir criminoso\" e se submeter a regras de cadeia e não pode ter acessos a mordomias como ventilador, TV, etc... O secretário, que também é delegado de polícia, disse: \"Cadeia não é hotel e preso não é hóspede\". E continua: \"Temos que encarar o preso como preso. Se tivemos alguma falha na educação ou nos programas sociais, isso não é problema nosso. Estamos lá para custodiar.\" \"Preso tem que ser tratado como preso, como acontece no Japão, nos EUA\"\n",
      "816\n",
      "Desembargador diz que indenização para presos é absurdo: \"Eles têm que trabalhar e arcar com seu sustento\". .  Ivan Sartori, conhecido por votar a favor da anulação do julgamento dos PM\"s envolvidos no massacre do Carandiru, disse em seu perfil na rede social que é questionável o dever do governo do Amazonas de pagar indenizações aos familiares dos presos mortos na chacina em Manaus. Para o desembargador , \"Preso tem que trabalhar duro em prol da sociedade, arcando com seu sustento. É assim para os cidadãos de bem, então por que privilegiar o detento?\".\n",
      "817\n",
      "Ainda em recuperação, \"apóstolo\" Valdemiro Santiago pede ajuda para seus fieis: \"Preciso de R$ 8 milhões\".  Valdemiro é o que podemos chamar de \"empreendedor\". Se ele é honesto ou não, aí já é outra questão.  Ainda se recuperando do ataque sofrido no último dia 8, o autointitulado \"Apóstolo\" pediu para que OITO MIL fiéis façam doações de até MIL REAIS. Continha básica: R$ 1.000,00 x 8.000 (fieis) = R$ 8 milhões. Em um vídeo divulgado, ele pede ajuda para bancar seu canal de TV. \"Preciso de ajuda para pagar este canal. O valor corresponde a um mês de gastos com a TV\", disse Valdemiro em seu vídeo. Abusar da fé alheia não é crime, mas é imoral! O Governo Federal bem que poderia começar a recolher impostos sobre essas igrejas! Esse dinheiro daria para construir escolas, postos de saúde, hospitais, etc... O Diário do Brasil não defende atentados como esse que Valdemiro sofreu. Nossa opinião é de que as igrejas (sejam católicas, evangélicas ou de qualquer outro segmento) devem pagar impostos como qualquer cidadão e/ou empresário. leia também:\n",
      "818\n",
      "Valdir Maranhão assume Presidência da Câmara e requisita jato da Força Aérea para voar até Brasília. .  Com a ausência de Michel Temer, que está em Portugal para o funeral do ex-presidente Mário Soares, o deputado Rodrigo Maia assumiu o cargo de Presidente da República interinamente. Para ocupar o lugar de Maia na Predidência da Câmara (também interinamente) eis que surge novamente Waldir Maranhão (PP-MA). O marajá não quis saber de voo comercial e requisitou um jato da FAB para ir de São Luís(MA) até Brasília. Maranhão ainda trouxe algumas pessoas para acompanhá-lo em seu \"voo particular\". Quem paga toda essa mordomia? Sim, somos nós! E lá se vão alguns milhares de reais.\n",
      "819\n",
      "Marcelo Odebrecht toma esculacho da esposa dentro da cadeia: \"Você é barra pesada\".  Sabe aquele ditado \" Quem fala o que quer ouve o que não quer \" ?!?! Pois bem [...].  Aconteceu com o mega-empreiteiro Marcelo Odebrecht. Preso desde 19 de junho de 2015, ele recebeu a visita de sua esposa nas instalações carcerárias da PF, em Curitiba. De acordo com pessoas que possuem acesso aos presos, Marcelo teria reclamado para a esposa que \"uns caras barras pesadas teriam chegado na cadeia\" Com toda sabedoria feminina, ela lascou imediatamente: \"E você? Acha que é o que para estar aqui?\" Imagina só quando o Lula e a trupe dele desembarcarem na Capital Brasileira da Justiça! Viva Sérgio Moro! (informação da coluna Painel, da Folha)\n",
      "820\n",
      "Prefeitura de SP confirma que carro de Dória não estacionou em local proibido. .  A Assessoria de Comunicação da Prefeitura de São Paulo informou que o veículo do Prefeito João Dória não estava parado em local proibido na noite da última sexta-feira (6) O local havia sido reservado pela CET para que o carro de Dória e outros veículos oficiais ficassem estacionados durante o evento, uma operação de segurança pública. A gestão informou que a faixa da direita estava interditada e, além do carro do prefeito, havia outras 5 viaturas da PM e um guincho da CET. O Código de Trânsito Brasileiro determina que ordens de um agente de trânsito prevaleçam sobre a sinalização. Resumindo, foi uma palhaçada da mídia! A Folha e o UOL querem derrubar Dória desde o primeiro dia de sua gestão.\n",
      "821\n",
      "Aconteceu em Fortaleza! Casal de hospeda em hotel beira-mar, resolve fazer amor e vira atração turística.  Em Fortaleza (CE) um casal (que estava hospedado em um hotel) decidiu fazer amor e acabou virando atração turística.  Sem perceber que estavam sendo observados, os pombinhos deixaram a porta da varanda aberta e a luz do quarto acesa. O resultado? Dezenas de pessoas se acumularam no calçadão em frente ao hotel. Homens e mulheres gritavam palavras de incentivo ao jovem casal. Nem precisa dizer que o vídeo bombou no WhatsApp né? A \"performance\" aconteceu nesta semana. leia também:\n",
      "822\n",
      "Negão do Whatsapp faz homem levar tiro na boca de marido ciumento. O Negão do Whatsapp é sem dúvida uma das brincadeiras mais compartilhadas no aplicativo. No entanto, levou a um desfecho violento por causa de um compartilhamento da imagem do afrodescendente com uma mulher casada.\n",
      "\n",
      "O preparador físico Wallace Pessanha fugiu após atirar na boca do vizinho durante uma briga, no bairro Terra Vermelha, em Vila Velha, neste domingo (6). A confusão aconteceu depois que uma montagem, unindo um meme da internet, com a esposa da vítima, foi publicada em um rede social. O pai de Wallace disse que ele vai se apresentar à polícia na quarta-feira (9), com o advogado. O vizinho, Richard Vieira Borges, de 27 anos, continua internado aguardando cirurgia. Ele perdeu alguns dentes e está com a bala alojada perto da coluna. A confusão aconteceu na frente da casa de Richard, por causa de uma foto na internet. Richard acusou o preparador físico de ter publicado uma montagem, que mesclava a foto da esposa da vítima com um famoso meme compartilhado em grupos de Whatsapp, onde um homem negro nu aparece de chapéu, com uma toalha pendurada no pescoço e um órgão sexual enorme nu.\n",
      "\n",
      "Os dois discutiram, as mulheres entraram na confusão e, durante a briga, Wallace atirou na boca de Richard. Richard foi internado no Hospital São Lucas, em Vitória, e Wallace fugiu para não ser preso. O pai do preparador, que não quis se identificar, disse que ficou surpreso com o crime.\n",
      "\n",
      "O pai de Wallace contou que as famílias eram amigas e que os dois foram criados juntos. Os dois se davam bem, não tinham problema nenhum. Não dá para entender, eu estou arrasado, completou.\n",
      "823\n",
      "Rede Social fará parceria com instituto financiado por George Soros para apontar \"notícias falsas\".  Após a vitória do bilionário Donald Trump nas eleições americanas, a rede social do Tio Mark decidiu combater as denominadas \"notícias falsas\".  Setores políticos e empresariais dos EUA acusam Trump de jogar sujo durante as eleições, propagando informações falsas (principalmente nas redes sociais) contra sua ex-concorrente à Casa Branca, Hillary Clinton. O Face anunciou que irá adotar uma checagem manual de dados no combate às \"notícias falsas\" em parceria com a IFCN (International Fact-Checking Network) . A IFCN possui o International Fact-Checking Network fact-checkers code of principles, que são códigos que contém 5 princípios que devem ser aceitos pelos sites de notícias: Entre esses princípios, estão: A rede social do Tio Mark alega que, quando as tais organizações \"independentes\" decidirem que uma notícia é falsa, ela será marcada com o status \"sob disputa\" na rede e haverá um link (para o usuário clicar) explicando o motivo da notícia ser falsa. Além disso, a \"tal notícia\" terá seu alcance reduzido dentro da Rede Social e um alerta será exibido nas vezes em que for compartilhada. Vamos traçar um paralelo com o maior buscador de notícias do mundo, o Google. Quando pesquisamos algo na busca do Google e clicamos para entrar em um site qualquer, o buscador verifica se esse site contém algum tipo de vírus ou malware e informa o usuário antes de entrar. O Face fará algo parecido e avisará o usuário que ele está prestes a abrir uma notícia que (entre aspas) é considerada falsa, de acordo com as normas estabelecidas pelas tais organizações independentes. O site do Instituto Poynter , que faz a hospedagem do IFCN, diz que a iniciativa é financiada pela \" Open Society Fundations \", que são organizações ligadas diretamente a George Soros, o principal e fiel apoiador da esquerda em todo o mundo. (se você tiver um tempinho, use o Google e pesquise um pouco mais sobre esse assunto) Além de Soros, a Open Society Fundations também é ligada a Omidyar Network, que já chegou a utilizar a Tides Foundation, uma das principais doadoras para causas de esquerda nos EUA, para financiar iniciativas pelo mundo . Poderá ser o começo da censura escancarada dentro da Rede Social do Tio Mark? Uma coisa é certa: a política mundial, bancada por bilionários esquerdistas como George Soros, está por trás de toda essa iniciativa. Logo teremos uma rede social com a seguinte configuração: Se a notícia for de \"esquerda\", ela será considerada como verdadeira. Caso a notícia seja de \"direita\", ela será banida. Simples assim! (Fernanda Vieira para o Diário do Brasil  com informações de Marcelo Faria do portal ILISP)\n",
      "824\n",
      "Aos gritos de \"Oh, glória\"  e \"Aleluia\", pastora evangélica quebra imagem de Nossa Senhora e divulga vídeo.  INTOLERÂNCIA RELIGIOSA.  Em um vídeo filmado pelos próprios \"irmãos\", uma pastora evangélica aparece quebrando duas imagens de Nossa Senhora Aparecida com uma marreta. Obreiros da igreja, que estavam filmando a cena, foram ao delírio com gritos de \"Oh, glória\"  \"Não aceito outro Deus\"  \"Aleluia\" \"Jesus\" \"Abençoa, Senhor\" No final do vídeo, um homem diz: \"Está quebrada, em nome de Jesus\".\n",
      "825\n",
      "O recadinho básico de João Dória para Lula: \"Você é covarde, sem-vergonha e cara de pau\".  A mensagem é de março de 2016 e foi postada logo após a ex-presidente Dilma oferecer um ministério para que o petista pudesse obter o foro privilegiado.  \"A minha mensagem vai para você Luiz Inácio Lula da Silva, você que é um sem vergonha e cara de pau. Agora eu descobri que você também é um covarde, covarde com C maiúsculo. Porque você vai se esconder atrás de um ministério para inibir a ação do juíz Sérgio Moro, para se esconder embaixo de um cargo público, isso é falta de coragem\", afirmou Dória no vídeo.\n",
      "826\n",
      "Vídeo mostra pastor da Igreja Mundial usando a camisa ensanguentada de Valdemiro para \"operar milagres\".  Valdemiro Santiago, dono da Igreja Mundial do Poder de Deus, sofreu uma tentativa de homicídio no último domingo (09) durante um culto realizado em uma de suas igrejas, na Zona Sul de São Paulo.  Santiago foi hospitalizado, passou por uma cirurgia e levou cerca de 20 pontos. Antes mesmo de ir para o hospital, Valdemiro já havia deixado suas instruções: USAR A CAMISA COM SANGUE PARA OBTER MILAGRES. O \"Apóstolo Santiago\" disse ser um \"ungido de Deus\" e que a camisa que ele usava na hora do ataque seria usada para que seus fieis para recebessem a cura: \"a camisa que ficou ensanguentada [...] através dela Deus já curou pessoas na igreja [...] através do manto foi passada a camisa\" , disse Santiago. Um internauta frequentador da igreja acompanhou o culto e filmou a tal camisa milagrosa.\n",
      "827\n",
      "Preso em flagrante, homem que esfaqueou Valdemiro disse à polícia que foi ameaçado pelo apóstolo.  Após sofrer ataque, Valdemiro publica vídeo: \"Minha camisa ensanguentada ungida já está passando entre os fieis\".  O responsável pela tentativa de homicídio ao dono da Igreja Mundial do Poder de Deus é Jonathan Gomes Higino. Ele tem vinte anos e disse (em depoimento) que é ajudante geral. Higino estava na fila para receber as \"bençãos de Valdemiro\", que se autointitula apóstolo. Ao chegar perto do religioso, atacou-o com três golpes, atingindo o pescoço e as costas. Ele declarou à polícia que Valdemiro o provocou durante um culto (ocorrido em Julho) e teria dito que \"iria crucificá-lo\". Jonathan foi preso em flagrante. A arma do crime foi apreendida e ele responderá por tentativa de homicídio. leia também:\n",
      "828\n",
      "Todos pra casa! Temendo nova tragédia no sistema penitenciário, dois juízes mandam esvaziar um presídio inteiro. .  Com o argumento de \"novo risco de uma nova tragédia no sistema penitenciário\" , os juízes Marcelo Lima de Oliveira e Suelen Márcia Silva Alves aceitaram um pedido da direção do Centro de Progressão Penitenciária, em Boa Vista (Roraima) e determinaram seu completo esvaziamento. Cerca de 160 detentos que estavam em regime semiaberto foram mandados para casa. Os presos, que antes da decisão apenas dormiam no CPP, devem ficar em suas casas depois das 20h, de acordo com a ordem judicial. O juiz Marcelo Lima disse à Folha que a medida foi tomada \"em caráter de emergência\" e deverá ser reavaliada pelo governo estadual no decorrer da semana . \"É uma medida muito drástica, mas se precisava fazer.\" argumentou. Tomara que não ocorra uma tragédia nas ruas.\n",
      "829\n",
      "Ex-presidente do STF: \"Onda de violência no país é séria demais. Responsabilidade \"também\" é das Forças Armadas\".  AS FRONTEIRAS DO PAÍS.  Com a recente onda de violência que estamos presenciando nos últimos meses (quem não se lembra do camelô espancado em SP, a chacina que matou uma família em Campinas, o embaixador grego morto no RJ, as rebeliões nos presídios do norte e tantos outros civis que morrem diariamente), o Brasil se consolidou como um dos países mais violentos do mundo. A verdade nua e crua é que o Estado perdeu a autoridade sobre o território nacional [...] se é que algum dia teve algum controle. Em entrevista para o programa Painel, da Globo News, o jurista e ex-presidente do STF, Ayres Britto, disse que estamos vivendo um estado de barbárie. \"Quando eu vejo 12 milhões de desempregados no Brasil, agonizando nossos dramas sociais, é uma dor que trinca o osso da alma. Não dá pra conviver com esse tipo de coisa.\" disse o jurista. ... voltando ao assunto específico da violência nos presídios Ayres: Desemprego em massa é violência em massa, condenações penais em massa, carcerização em massa, rebeliões em massa e por aí afora. Ayres: O problema que estamos vivenciando atualmente nas penitenciárias (principalmente no norte do país) é um problema, no âmbito da Federação, da União, que tem tirado o corpo fora [...]. No âmbito dos 3 poderes, quem tem tirado o corpo fora é o judiciário. Ayres: A solução imediata seria ler, interpretar, entender e praticar melhor a Constituição  [...] construir uma integração entre os dois entes: o estado e a união. Ayres: O judiciário brasileiro é de boa qualidade e não se deixou contaminar. Como característica central, ele prossegue ético, independente politicamente e distante dessas facções, porém não podemos negar que pontualmente não tenhamos o envolvimento desse ou daquele magistrado. Ayres: Já é tempo de entender que as Forças Armadas são responsáveis pelas fronteiras do Brasil (de acordo com a Constituição) e também versam sobre a Segurança Pública. Precisamos entender que, nessa força-tarefa que necessitamos republicamente, é extremamente necessário unir a atuação da polícia, das forças de segurança públicas e das forças armadas. Basta que olhemos a Constituição no título DEFESA DO ESTADO E INSTITUIÇÕES DEMOCRÁTICAS, CAPÍTULO Forças Armadas. O problema é sério demais para ficar a cargo apenas dos órgãos de segurança pública. A violência organizada descobriu que, além dos grandes centros como SP, RJ (e outros), há novos espaços onde o estado é mais fraco [...] e esses espaço são as fronteiras.\n",
      "830\n",
      "Planalto demite Secretário que sugeriu \"uma chacina por semana\".  Bruno Júlio, secretário nacional de Juventude do governo Temer, foi demitido ontem.  Após emitir sua opinião sobre o massacre de presos no Amazonas e em Roraima, o Planalto decidiu afastar o secretário alegando que ele foi infeliz em suas declarações. A informação \"oficial\" (isso mesmo, entre aspas) é de que Bruno pediu demissão [...] provavelmente o fez por livre e espontânea pressão. Bruno comentou que era \"filho de policial\" e entendia \"o sofrimento diário de todas as famílias: \"Sou filho de polícia, né? Tinha era que matar mais. Tinha que fazer uma chacina por semana. Os santinhos que estavam lá dentro, que estupraram e mataram: Coitadinhos, oh, meu Deus, não fizeram nada! Para, gente! Esse politicamente correto que está virando o Brasil está ficando muito chato.\" Será que ele merecia mesmo perder o cargo? Há controvérsias. (*** ironia ***) Parabéns Governo Federal. A demissão do Secretário vai melhorar a situação carcerária do país. A culpa das rebeliões é toda dele.\n",
      "831\n",
      "Delação da Odebrecht cita os nomes de José Serra e Michel Temer. Serra teria recebido R$ 23 milhões em propina.  Parece que a Odebrecht decidiu \"abater\" o chanceler José Serra do mapa político brasileiro.  O sonho de José Serra de chegar à presidência da República poderá estar com os dias contados. A delação poderá destruir o governo de Michel Temer, alegando que o presidente da República pediu uma \"ajudinha\" para o PMDB que se materializou num caixa dois de R$ 10 milhões em dinheiro vivo. Marcelo Odebrecht, preso há mais de um ano, relatou que Serra recebeu R$ 23 milhões, via caixa dois, em sua campanha presidencial de 2010. De acordo com matéria da Folha de SP, via jornalista Bela Megale, parte dos recursos, que equivalem hoje a R$ 34,5 milhões (corrigidos pela inflação), foi paga no exterior, o que, em tese, poderia levar até à cassação do registro do PSDB. Doações que foram feitas para a campanha de Serra em 2010 podem ser decorrentes de propina e desvios de recursos públicos da Dersa, uma estatal paulista. A Odebrecht também apontou corrupção na construção do Rodoanel e \"supostos\" intermediários de José Serra na arrecadação de propinas [...] e pretende apresentar recibos de pagamentos feitos no exterior. Serra nega irregularidades e diz a campanha transcorreu dentro da normalidade.\n",
      "832\n",
      "Em 3 dias, ministro utilizou avião da FAB 2 vezes. Ele estava com dor nas costas e alegou \"emergência médica\". .  José Serra , ministro das Relações Exteriores, fez uma cirurgia na coluna cervical no final de 2016. Até aí nada de extraordinário. Na última semana Serra voltou a sentir fortes dores na coluna. O que ele fez então? Procurou um médico particular em Brasília? Não! Procurou um posto médico do SUS? Não! Foi para SP com seus próprios recursos? Não! Na última quinta-feira (05) o digníssimo ministro usou um avião da FAB (Força Aérea Brasileira)  para se deslocar até o Hospital Sírio-Libanês, em São Paulo. Lá chegando, ele foi prontamente atendido e tomou analgésicos para aliviar suas dores. Serra voltou para Brasília e a dor continuou ... Pois bem [...] 3 dias depois, exatamente ontem (08 de janeiro), ele voltou a utilizar um avião da FAB e voou novamente para São Paulo. Foi para o Sírio-Libanês novamente e continua tomando analgésicos. Não poderia ter ido até uma farmácia e comprado um \"dorflex\"? Quer dizer que nós brasileiros somos obrigados a pagar pelas emergências médicas do digníssimo Serra? (A informação é de MURILO RAMOS E CRISTIANE SEGATTO da Época)\n",
      "833\n",
      "Saiba o que levou Evaristo Costa a pedir demissão da Globo. Evaristo Costa é o jornalista brasileiro mais admirado nas redes sociais. Mesmo com tanto sucesso ele surpreendeu a direção de jornalismo da Globo com um pedido de demissão. Ele ficará no ar até setembro e dará adeus a emissora que trabalhou por 19 anos.\n",
      "\n",
      "O jornalista Evaristo Costa não vai renovar contrato com a Globo, que vencerá daqui dois meses, segundo o colunista do Uol Flávio Ricco. O colunista afirma que o apresentador do Jornal Hoje já comunicou a direção da emissora sobre a sua decisão, que seria motivada por questões pessoais. No entanto, especula-se que seu desinteresse seja pelo trabalho no jornalismo que além de ter menores salários que o segmento de entretenimento, impede que o jornalista fature fazendo publicidade. Hoje o salário de Evaristo Costa é de R$ 70 mil. Coo elemento comparativo podemos citar o salário de Fátima Bernardes, que no Jornal Nacional ganhava R$ 50 mil e hoje no comando do Encontro fatura R$ 1,2 milhão (entre salário e publicidade).\n",
      "\n",
      "Amigos próximos de Evaristo ouvidos por Ricco afirmam que o jornalista quer tirar um ano sabático (ficar 1 ano sem trabalhar) e pretende morar fora do Brasil com a mulher e suas duas filhas. Depois, ele vai resolver seu futuro na televisão.\n",
      "\n",
      "Especula-se que seu futuro na TV estaria sendo desenhado em parceria com a TV Record. A Globo estaria trazendo Rodrigo Faro e o contra-ataque da Record seria levar para a TV do Bispo os jornalistas Evaristo Costa e\n",
      "\n",
      "De acordo com o colunista, Evaristo vai se reunir com a direção da Globo na semana que vem, quando a emissora deve se esforçar para manter o jornalista na casa.\n",
      "\n",
      "Procurada, a assessoria de imprensa da Globo afirma que não dá informações sobre a negociação de contratos.\n",
      "834\n",
      "Anota aí Michel! Juiz alerta: Próximo \"acidente pavoroso\" poderá ocorrer em Tocantins.  O juiz da 2.a Vara Criminal e de Execução Penal do Tocantins, fez um alerta para o risco de rebelião no presídio Barra da Grota , no norte do estado, informou o Estadão. \n",
      "835\n",
      "Vin Diesel tupiniquim mentiu ao vivo (na Globo News) e foi desmascarado pela governadora de Roraima.  O MINISTÉRIO DA JUSTIÇA EMITIU UMA NOTA E CONFIRMOU QUE A AJUDA FOI NEGADA [...] PORÉM FOI LIBERADA UMA VERBA DE 13 MILHÕES.  Durante a transmissão ao vivo feita pelo canal Globo News, o ministro da Justiça Alexandre de Moraes disse que a governadora de Roraima (Maria Suely Silva Campos) não havia pedido apoio do Governo Federal para o caos do sistema prisional do Estado. Alexandre disse que o apoio solicitado seria para \"a segurança pública\". Bem, a governadora matou a cobra e mostrou o pau!\n",
      "836\n",
      "Grupo que praticou atentado em Israel hoje (08) recebeu doação de R$ 25 milhões durante o governo Lula.  Um caminhão avançou , na manhã de hoje (08), contra um grupo de soldados em Jerusalém.  A Estrela de Davi Vermelha (uma espécie de Cruz Vermelha de Israel), informou que ao menos 4 pessoas morreram e 15 ficaram feridas. O grupo Hamas, através de seu porta-voz, Abdul-Latif Qanou,  assumiu a autoria do ataque e disse que foi um \"ato heroico\". Dinheiro público [...] dinheiro dos brasileiros para financiar o terror. Dinheiro esse que deveria ser usado para saneamento básico, saúde, educação,segurança, infra-estrutura, combate à microcefalia,etc... Está no site do Planalto e no do Diário Oficial da União (DOU) O aporte financeiro foi enviado a partir da criação da lei 12292 de 2010. Veja a lei no site do pl analto: http:\n",
      "837\n",
      "Merval Pereira: \"Quando Moro voltar Lula não escapa! \".  O jornalista da Globo News, Merval Pereira, confirmou hoje (08):.  \"Há evidências, fatos e provas para que o juiz federal Sérgio Moro acate a denúncia contra o ex-presidente Lula em relação ao terreno (adquirido pela Odebrecht) para o Instituto Lula e também a compra do apartamento vizinho da família \"Lula da Silva\" em São Bernardo do Campo.\" Essas evidências serão comprovadas nas delações de vários ex-executivos da Odebrecht que firmaram acordo com o Ministério Público. Emílio Odebrecht, pai de Marcelo Odebrecht, também denunciou o petista chefe da ORCRIM. Quando acabarem as férias de Sérgio Moro, o ex-presidente e Lula não conseguirá escapar.\n",
      "838\n",
      "Valdemiro Santiago sofre tentativa de homicídio durante culto.  Valdemiro Santiago, chefão da Igreja Mundial do Poder de Deus, sofreu um atentado na manhã de hoje.  A tentativa de homicídio aconteceu durante um culto em uma de suas igrejas, localizada no Brás, Zona Sul de São Paulo. Uma pessoa não identificada deu duas facadas no pescoço do apóstolo. O ataque aconteceu perto das 8h da manhã, quando a pregação estava sendo transmitida ao vivo. Santiago foi hospitalizado, passou por uma cirurgia e levou cerca de 20 pontos. Ao lado de sua esposa, a bispa Franciléia, Valdemiro divulgou um vídeo no hospital e disse que perdoa o criminoso: \"Eu tinha acabado de ouvir um milagre de um testemunho quando alguém entrou e me deu uma facada no pescoço. Eu perdoo a pessoa que fez isso [...] ela carece de perdão\". leia também:\n",
      "839\n",
      "Diplomata brasileiro diz que o Estado é sócio das facções: \"Os parlamentares são comprados pelo crime\".  \"Há conluio do Estado brasileiro com as organizações criminosas\".  Samuel Pinheiro Neto destacou que \"não há interesse por parte do atual governo, dos empresários e nem tão pouco dos parlamentares comprados por organizações criminosas em mudar essa situação\". \"O que aconteceu nas prisões em janeiro (se referindo ao massacre nas cadeias) é só a ponta do iceberg do tráfico de drogas, da lavagem de dinheiro e da impunidade generalizada em relação às organizações criminosas.\" O diplomata se mostrou assustado com a \"banalização\" dos crimes no Brasil, principalmente por parte dos políticos.\n",
      "840\n",
      "Chico Xavier previu Terceira Guerra Mundial e destacou o papel do Brasil. .  Haverá um conflito nuclear de proporções mundiais onde as consequências serão devastadoras. Já cansada de ser agredida, a mãe Terra irá reagir com muita violência. O homem começará a 3a Guerra Mundial e quem irá terminá-la serão as forças da natureza. Seremos castigados com maremotos, terremotos e a reativação de vulcões extintos [...] será uma força avassaladora de proporções nunca antes experimentadas. Os mares ficarão agitados e as geleiras derreterão [...] as cinzas vulcânicas somadas às irradiações nucleares perniciosas tornarão todo o Hemisfério Norte da Terra inabitável. As pessoas serão manipuladas por líderes inescrupulosos e se jogarão umas contra as outras em busca de uma razão sem sentido. Iremos nos reconhecer nos Evangelhos, principalmente no Apocalipse, mas será muito tarde [...] milhares de vidas já terão deixado de existir. Nossa nação cumprirá seu papel grandioso no decurso da readaptação planetária. Cresceremos de maneira contínua e teremos um papel fundamental nos processos de evolução cultural, econômico, político e comunitário. Seremos a matriz emocional, alimentícia e energética do mundo. Após o hemisfério norte se tornar inabitável, receberemos enormes fluxos de imigrantes e nos tornaremos a \"Pátria do Evangelho\", onde todos serão acolhidos com amor, perdão, compreensão e compaixão espiritual.\n",
      "841\n",
      "País sem controle! Mais um massacre aconteceu durante a última madrugada. 33 presos foram mortos.  De acordo com o jargão usado pelo Presidente da República, aconteceu mais um \"acidente pavoroso\".  Lamentável! Durante esta madrugada, trinta e três presos foram encontrados sem vida na Penitenciária Agrícola de Monte Cristo, Estado de Roraima As autoridades locais se pronunciaram: \"A Secretaria de Justiça e Cidadania informa que nesta madrugada foram registradas 33 mortes na Pamc (Penitenciária Agrícola de Monte Cristo). O Bope (Batalhão de Operações Especiais) da PMRR (Polícia Militar) está nas alas do referido presídio\". fonte G1\n",
      "842\n",
      "Casa Branca divulga documento em site oficial: \"Há chances de um asteroide colidir com a Terra e exterminar a vida\".  A Casa Branca divulgou no início desta semana um documento contendo uma estratégia de evacuação devido a um asteróide que poderá estar em rota de colisão com o planeta Terra.  De acordo com o arquivo divulgado, há chances de o asteroide cair  na Terra e exterminar toda a raça humana. No final de 2016, a NASA chegou a informar que uma auditoria interna apontou que caso um grande corpo celeste fosse detectado em direção à Terra, nada poderia ser feito [...] apenas entrar em desespero, disse a agência espacial. Cientistas afirmaram que existem cerca de 10.000.000 de objetos próximos à órbita da Terra e que possuem diâmetros semelhantes. Há nos EUA um plano de ação, incluindo exercícios de preparação e lançamento de espaçonaves para coletar informações sobre asteroides, que são escassas. Cathy Plesko, cientista do Laboratório Nacional de Los Alamos, disse: \"Nós não temos muitos dados sobre como seria o interior dos asteroides e cometas. Podemos apenas criar suposições baseado no conhecimento que possuímos sobre física, rochas e gelo\" Há 4 anos atrás, um objeto com cerca de 20 metros de diâmetro caiu próximo à cidade de Chelyabinsk (na Rússia) e liberou energia equivalente a 20 bombas atômicas. O documento que foi divulgado está hospedado no website oficial da Casa Branca (www.whitehouse.gov) e possui o logotipo do Gabinete Oficial da Presidência da República dos Estados Unidos. Nomeado como \"National Near-Earth Object Preparedness Strategy\" ( Estratégia Nacional de Preparação de Objetos Próximo à Terra) e de autoria de um grupo pertencente ao Conselho Nacional de Ciência e Tecnologia, o arquivo digital cita 7 objetivos principais : Há uma indefinição com relação a \" quando e como\" os EUA colocarão os planos em prática. Tudo dependerá da disponibilidade de recursos que o Donald Trump destinará ao projeto. As chances de um asteroide gigante atingir a Terra e eliminar a raça humana não grandes, porém há chances reais.\n",
      "843\n",
      "Internauta propõe enviar políticos corruptos para o presídio de Manaus. .  Um eleitor enviou um email para a redação do Diário do Brasil com a seguinte sugestão: \"Prezados, temos que apresentar um projeto de iniciativa popular para que todos os políticos corruptos sejam enviados para o presídio de Manaus, onde ocorreu a rebelião que resultou na morte de 60 pessoas\" O Diário do Brasil acha que o prezado eleitor foi muito longe, mas a ideia não é das piores. Político não merece morte por corrupção. Servidor público corrupto merece vida longa e sofrida [...] atrás das grades. Que seja em Manaus. Um abraço ao eleitor Roberto Novaes de Andrade!\n",
      "844\n",
      "Médico comete abuso abominável com menina de 2 anos. Você vai ficar profundamente revoltado quando perceber o que este médico teve coragem de fazer com uma paciente de apenas 2 anos. Ele profanou o leite materno e sujou a alma desta criança para todo o sempre.\n",
      "\n",
      "O médico Álvaro Cardoso Magalhães e mais duas mulheres, presos na manhã desta segunda-feira (3) dentro da operação Anjo da Guarda desencadeada pelas polícias Civil e Militar, em Santarém, oeste do Pará, serão indiciados por crime de estupro de vulnerável e pedofilia. De acordo com a delegada Adrienne Pessoa, da Delegacia de Atendimento à Criança e ao Adolescente, o indiciamento por pedofilia ocorre porque os acusados armazenavam e compartilhavam imagens das crianças de forma obscena. Já o estupro de vulnerável, porque ficou comprovado o abuso a duas crianças do sexo feminino. Conversas nos celulares dos acusados, além de depoimentos comprovaram as práticas de pedofilia e estupro.\n",
      "\n",
      "O médico pedia para que uma das mulheres estimulasse o órgão genital das crianças. Esse material foi flagrado no celular de Darliane. Também tivemos acesso a conversas trocadas entre a mãe da criança de três meses e o médico, que comprovam a prática delituosa, declarou Adrienne Pessoa. A criança que a enfermeira estimulava os genitais e filmava para que o médico visse era uma menina de 2 anos e 8 meses. Os pais desconheciam o fato, uma vez que a criança era deixada aos cuidados de Darliane. Eles foram ouvidos em depoimento pela delegada do caso.\n",
      "\n",
      "Na coletiva, a delegada disse que a enfermeira, mãe da bebê de 3 meses, mantinha relação com o médico. Em depoimento, a Odete revelou que numa oportunidade o médico ejaculou no rosto da criança e no seio dela para que a criança mamasse. A materialidade está comprovada em vídeo, disse.\n",
      "\n",
      "A criança de três meses está sob os cuidados da avó e a de 2 anos e 8 meses está com os pais. Caberá à justiça determinar qual o destino da criança de três meses.\n",
      "\n",
      "Os três acusados serão encaminhados à Central de Triagem da penitenciária de Cucurunã, mas existe a possibilidade do médico ser transferido para uma cela no quartel do Corpo de Bombeiros.\n",
      "\n",
      "Enquadramento\n",
      "\n",
      "De acordo com a delegada Adrienne Pessoa, o médico Álvaro Cardoso Magalhães será enquadrado no Art. 217, a, do CPB (Estupro de Vulnerável), Art. 240, a e 241, b, do Estatuto da Criança e do Adolescente (ECA), Lei 8.069, que tratam de crime de Pedofilia.\n",
      "\n",
      "Art. 240  A  Oferecer, trocar, disponibilizar, transmitir, distribuir, publicar ou divulgar por qualquer meio, inclusive por meio de sistema de informática ou telemático, fotografia, vídeo ou outro registro que contenha cena de sexo explícito ou pornográfica envolvendo criança ou adolescente: (Incluído pela Lei no 11.829, de 2008).\n",
      "\n",
      "Art. 241  B  Adquirir, possuir ou armazenar, por qualquer meio, fotografia, vídeo ou outra forma de registro que contenha cena de sexo explícito ou pornográfica envolvendo criança ou adolescente: (Incluído pela Lei no 11.829, de 2008).\n",
      "\n",
      "O indiciamento das mulheres também será pelos crimes de estupro de vulnerável e pedofilia.\n",
      "845\n",
      "URGENTE: Rebelião em presídio da Paraíba mata dois. Situação ainda não foi controlada.  O conflito teve início na manhã hoje (04) e até o momento não foi controlado.  Desta vez a confusão é na Penitenciária Padrão Romero Nóbrega, município de Patos, interior da Paraíba. Até o momento, duas pessoas morreram e outras duas estão feridas. Agentes do Bope e ambulâncias do Samu estão no local. De acordo com informações locais, parentes de alguns detentos estavam na penitenciária para a \"visita íntima\". A Secretaria de Administração Penitenciária (Seap) ainda não se pronunciou sobre o fato.\n",
      "846\n",
      "Crise? Minas Gerais anuncia compra de 2 helicópteros ao custo de R$ 22 milhões.  O governo Fernando Pimentel (PT) anunciou que está adquirindo mais duas aeronaves do modelo Airbus AS350 B3e.  Mesmo com o estado falido, o petista continua torrando dinheiro público e dando um mau exemplo de gestão. No último fim de semana, o governador usou um helicóptero comprado e mantido com dinheiro público para passear com o filho no condomínio turístico de luxo Escarpas do Lago, situado no município de Capitólio,MG. A aquisição das novas aeronaves custará R$ 22 milhões aos cofres públicos. De acordo com a assessoria de imprensa do governo mineiro, os helicópteros estão sendo comprados pelo Gabinete Militar do governador e serão usados para missões de segurança pública e defesa civil, porém as aeronaves também ficarão à disposição do \"comandante petista.\" É isso aí! Vamos comprar aeronaves e deixar os cofres públicos no vermelho! Pimentel pegou a doença de Aécio Neves, a síndrome aérea [...] agora só falta construir um aeroporto particular.\n",
      "847\n",
      "Utopia: Deputado quer \"proibir\" pornografia no Brasil.  Um deputado está chamando atenção nas redes sociais por um projeto [...] digamos [...] inusitado.  Marcelo Aguiar, deputado federal pelo DEM de SP, apresentou à Câmara um um projeto que obriga as operadoras de acesso à internet a criarem um sistema que bloqueia quaisquer conteúdos \"pornográficos\". O parlamentar que se autointitula como \"servo de Deus\" diz que as pessoas estão \"viciadas em conteúdo pornô\". O Diário do Brasil acha que existem coisas mais importantes para se discutir no momento, como o vício em roubar os cofres públicos [...] ou até mesmo o vício dos altos salários e mordomias pagas para parlamentares. A pornografia existe há mais de 2500 anos. Para se ter uma idéia, o Kama Sutra foi escrito na Índia no século 2 d.C. O projeto deste deputado é pura utopia e autopromoção! Marcelo pertence à Igreja Renascer em Cristo, do casal Estevam e Sônia Hernandes. Precisa dizer algo mais? Segundo o Congresso em Foco , em 2013, durante seu primeiro mandato na Câmara, o deputado se destacou por ser o parlamentar mais faltoso de Brasília. Dos 113 dias em que deveria ter comparecido ao plenário, Aguiar registrou presença em apenas 45. Ele faltou a mais de 60% das sessões. Abonou 61 das 68 faltas que acumulou. Nenhuma delas por problema de saúde. As ausências foram justificadas como \"obrigações político-partidárias\". Deputado, tem um ditado que diz o seguinte: \" Quando você aponta um dedo para alguém, tem outros 3 dedos virados para você. \"\n",
      "848\n",
      "Suíça identifica mais de 1000 contas bancárias. Executivos e políticos são suspeitos de desvios.  Rodrigo Janot, procurador-geral da República,  esteve na Suíça com o procurador Michel Lauber negociando o desbloqueio de US$ 70 milhões para devolvê-los aos cofre públicos.  A Suíça identificou mais de 1000 contas bancárias que teriam relação a Operação Lava Jato. Os donos das contas são executivos da Petrobras, fornecedores, políticos brasileiros e intermediários financeiros. São 340 relações bancárias suspeitas ligadas aos casos de corrupção na Petrobras. Desde 2014, a Procuradoria suíça abriu 60 investigações por suspeita de lavagem de dinheiro. Cerca de US$ 800 milhões mantidos na Suíça foram congelados. ( Congresso em Foco )\n",
      "849\n",
      "Jovem de 16 anos (filho de um PM) foi sequestrado e assassinado. Cadê a ONU? Onde está Maria do Rosário agora?.  Um jovem de de 16 anos foi encontrado morto na noite de ontem após ser sequestrado por bandidos.  (Patrícia Carvalho para o Diário do Brasil) Um assalto ocorrido na cidade de Umuarama provocou uma tragédia na família de um policial militar. O garoto (filho do PM) foi assassinado com golpes de faca após ser torturado. Ele teve uma orelha cortada, foi agredido na cabeça e seu corpo foi abandonado em uma propriedade rural. Vagabundos sequestraram o menino logo depois de invadir e roubar a residência da família. Após fugir levando o carro do PM, os delinquentes se envolveram em um acidente com outro carro. Dentro do veículo (que foi abandonado) estavam os objetos da família e grande quantidade de munição calibre .40. Um suspeito de 19 anos foi preso em flagrante e encaminhado para a Delegacia de Polícia Civil de Umuarama. Até quando iremos aguentar esse tipo de situação? Destruíram mais uma vida. Destruíram mais uma família. Vamos ver se nobres parlamentares como a deputada Maria do Rosário irá se pronunciar. Será que a ONU vai pedir uma investigação e acompanhar esse caso? E os direitos humanos? Não dá mais para esperar uma resposta do sistema. A PM tem que começar a \"eliminar\" esse tipo de gente, digo, esse tipo de animal. Esse papo de \"ressocialização\" é utopia!\n",
      "850\n",
      "Prefeita cearense paga todas as contas de sua cidade e deixa R$ 1,8 milhão no caixa. .  #Retrospectiva2017 #AsMaisLidas2017 A prefeita Erika Frota Cristino é, ao mesmo tempo, uma revelação e uma exceção na política brasileira. Ela administrou para todos, mudou a educação do município (tirou Coreaú das últimas posições no Estado e deixou entre as melhores do Nordeste) e, de quebra, saneou as contas públicas deixando um valor considerável nos cofres públicos. De acordo com informações locais, a prefeitura foi entregue a Erika (pelo seu antecessor) em situação de frangalhos. No último dia do ano, a prefeita fez questão de demonstrar respeito ao povo de sua cidade e postou no Facebook os saldos das principais contas da Prefeitura: Enquanto centenas de cidades brasileiras amargam saldos negativos em suas contas e acumulam dívidas praticamente impagáveis (onde parte dos prefeitos sequer conseguiu pagar a folha de pagto de novembro e dezembro), na pequena Coreaú a folha de dezembro foi paga em dia, demonstrando o compromisso da prefeita com a população. Todos os servidores receberam o 13o . Todos os fornecedores foram pagos e cerca de R$ 1,8 milhão foi deixado em caixa para o próximo prefeito. Parabéns Erika Frota Cristino. É de pessoas como você que o país precisa! A Prefeita, que é do PDT, tentou a reeleição, porém não conseguiu continuar no cargo. Ela teve 48.04% dos votos.\n",
      "851\n",
      "Bolsonaro: \"Massacre? O cara é preso e nem precisa trabalhar. Eu queria que matassem 200 mil vagabundos\".  Palavras do deputado Jair Bolsonaro:.  \"Eu gostaria que cada estado tivesse sua legislação penal, como acontece nos EUA. Temos uma porcaria de uma Constituição no que diz respeito a direitos humanos. Não há pena de morte aqui, o \"cara\" não teme nada. O canalha nem precisa trabalhar, fica sugando o estado no tempo que está detido. Eu queria que matassem 200 mil vagabundos\"\n",
      "852\n",
      "Temer diz que massacre em Manaus foi \"acidente pavoroso\". O governo dele também!.  Qual a solução?.  Michel Temer afirmou nesta quinta-feira (05) que o massacre ocorrido no Complexo Penitenciário Anísio Jobim, em Manaus, foi um \"acidente pavoroso\". Não Temer, não foi pavoroso. Os presos quiseram se matar. Eram pessoas que, se tivessem a chance de sair e cometer novos crimes hediondos, certamente cometeriam [...] sem dó nem piedade. Já o Ministro Alexandre de Moraes disse que a matança de Manaus é culpa da superlotação causada pela quantidade de presos provisórios. Disse o Ministro da Justiça: \"Nós prendemos muito, mas prendemos mal. Prendemos quantitativamente, mas não qualitativamente\" , afirmou. O que será que ele quis dizer? Sabemos que o judiciário brasileiro é lento [...] praticamente uma \"lesma\" para julgar os crimes. Será que o governo deve soltar esses presos provisórios enquanto aguarda uma resposta do judiciário? Ou será que daqui pra frente precisamos orientar nossas polícias a prender \"qualitativamente\" ! Esse governo é um acidente pavoroso. Simples: Uma reforma corajosa e radical no Código de Processo Penal Brasileiro. Temos que dobrar as penas dos crimes mais simples. Temos que instituir prisões perpétuas para crimes hediondos. Temos (porque não) que avaliar a possibilidade de pena de morte. Ninguém tem coragem de tocar na ferida!\n",
      "853\n",
      "Filho de Fátima e Willian passa bem após acidente. Estado de saúde do amigo de Vinícius (que estava no carro) é mais grave.  O ACIDENTE.  De acordo com informações da assessoria do Globo, Vinícius Bonemer, de 19 anos, filho de Fátima Bernardes e William Bonner, passa bem e já teve alta. O amigo dele, porém, teve que ser transferido para o hospital Santa Izabel. Identificado como Giuliano Costa, o jovem ainda inspira cuidados e seu estado de saúde é mais grave. Vinícius Bonemer sofreu um acidente de carro na manhã de hoje (03) , na RJ-106, entre Búzios e Cabo Frio. O Corpo de Bombeiros, através do  25o BPM, informou que o carro em que ele estava bateu em um caminhão e depois em um ônibus, no trevo de Búzios. Leo Dias, do jornal O DIA, disse que fontes próximas a ele informaram que os dois amigos passaram o réveillon em Búzios e voltavam para casa, quando se acidentaram.\n",
      "854\n",
      "Filho de Willian Bonner se envolve em acidente com caminhão e ônibus.  Filho de Fátima e Willian passa bem após acidente. Estado de saúde do amigo de Vinícius (que estava no carro) é mais grave.  Vinícius Bonemer, de 19 anos, filho de Fátima Bernardes e William Bonner, sofreu um acidente de carro na manhã de hoje (03) , na RJ-106, entre Búzios e Cabo Frio. O Corpo de Bombeiros, através do  25o BPM, informou que o carro em que ele estava bateu em um caminhão e depois em um ônibus, no trevo de Búzios. Vinícius e um amigo foram levados para a Unidade de Atendimento de Tamoios, distrito de Cabo Frio. O estado de saúde das vítimas ainda não foi informado. O colunista do Dia, Leo Dias, disse que fontes próximas a ele informaram que os dois amigos passaram o réveillon em Búzios e voltavam para casa, quando se acidentaram. Fátima Bernardes está em Cabo Frio acompanhando o caso e sua assessoria ainda não se manifestou. leia também:\n",
      "855\n",
      "Tiririca é estuprador? Veja os detalhes da denúncia. Tiririca pode perder o mandato? Conheça os detalhes do processo da babá que acusou o deputado Tiririca de assédio e ameaça de estupro. Avalie quem está com a verdade.\n",
      "\n",
      "Uma ex-funcionária do deputado federal Tiririca (PR-SP) acusa o parlamentar de assédio sexual e ameaça de estupro. A denúncia foi feita pela empregada doméstica em um processo trabalhista e reafirmada por ela à Polícia Civil do DF. Segundo o relato, a investida ocorreu durante uma viagem com o casal e a filha deles para São Paulo em 24 de maio do ano passado, onde o deputado participaria de uma entrevista no Programa do Jô. Eles teriam ficado no apartamento do parlamentar. No dia seguinte, ao voltar da gravação do programa, Tiririca, exalando odor etílico, segundo Maria Lúcia, teria começado o assédio.\n",
      "\n",
      "Francisco segurou a declarante pelo braço, jogou-a no sofá da sala e, segurando-a por trás e pela cintura, disse: Vou comer seu cu, vou comer sua buceta.\n",
      "\n",
      "Trecho da petição enviada ao STF\n",
      "\n",
      "Maria Lúcia acusa o parlamentar de, em seguida, desabotoar a calça e ir atrás dela com o pênis ereto. Ainda em depoimento, a empregada afirma que a filha, a mulher e dois assessores de Tiririca presenciaram a cena e riam do ocorrido.\n",
      "\n",
      "Agora conheça o outro lado da história",
      "\n",
      "\n",
      "Maria Lúcia foi demitida logo após a referida viagem. Na delegacia, Nana Magalhães (esposa de Tiririca) disse que a empregada consumia bebida alcóolica durante o trabalho e por isso foi dispensada. A mulher de Tiririca disse ainda que, após a demissão, Maria Lúcia começou a fazer ameaças de extorsão.\n",
      "\n",
      "Em contestação enviada para a vara trabalhista em junho, o advogado de Tiririca, Fernando de Carvalho Albuquerque, disse que Maria Lúcia não se adaptou à rotina da família e tentou utilizar o pouco tempo de convivência para chantagear os reclamados (Tiririca e a mulher) pedindo a quantia de R$ 100.000,00 (cem mil reais) para se manter em silêncio em relação a vida intima do casal.\n",
      "\n",
      "Agora confira quem é a esposa de Tiririca.\n",
      "\n",
      "Responda se um homem com uma mulher dessa precisa assediar uma senhora de 41 anos?\n",
      "856\n",
      "Motorista faz 18 manobras para estacionar um Renault Clio numa vaga que caberia um ônibus. Vídeo viralizou.  18 manobras em 7 minutos.  Esse foi o tempo que uma motorista gastou para estacionar seu pequeno Renault Clio em uma vaga que tinha o dobro do tamanho do veículo. As manobras aconteceram em uma rua da cidade de Guildford, situada no condado de Surrey, sudeste da Inglaterra. É claro que todos estamos sujeitos a erros, mas 18 manobras é um exagero, você não acha? Um outro motorista que estava com seu carro estacionado logo atrás filmou todo o sofrimento do carrinho verde:\n",
      "857\n",
      "TÁ \"SERTO\" ! Em tempos de crise, governo decide contratar agência de publicidade por R$ 208 milhões.  O governo pavoroso de Michel Temer publicou um edital para selecionar uma agência de publicidade que cuidará da divulgação das ações do Planalto.  O contrato terá a duração de 1 ano e a bagatela a ser paga pode chegar a R$ 208 milhões. Serão campanhas voltadas para os direitos humanos , LGBT, pessoas com deficiência, igualdade de gênero e outras. Pois é, as ações do governo peemedebista já podem ser consideradas como má fé. Em tempos de crise, onde as redes sociais dominam, o governo poderia usar sua própria mão de obra. Será que é tão difícil encontrar funcionários públicos que saibam usar redes sociais? Gastar 208 milhões com publicidade? TÁ \"SERTO\" MICHEL!\n",
      "858\n",
      "Simples e objetivo: \"Aquele que matar um policial será condenado à pena de morte\".  As declarações que foram dadas no final de 2016, voltaram a circular entre os internautas americanos na noite de hoje.  \"Um ataque contra nossas forças policiais é um ataque contra nosso país e contra nossas famílias. Vamos continuar solidários às forças policiais. São elas que separam a civilização do caos. (...) Aquele que assassinar um policial será submetido à pena de morte\" , disse. O presidente norte-americano disse que irá resgatar a importância da autoridade policial. \"Devemos ser mais gratos à nossa polícia. Não damos a eles o verdadeiro respeito que merecem. Sabemos também que coisas ruins acontecem na corporação e existem maus policiais, porém esses serão punidos com o rigor da lei. A verdade é que eles fazem um trabalho incrível e vamos dar a eles mais autoridade e respeito.\" encerrou Trump. O presidente eleito tem o apoio de Rudolph \"Rudy\" Giuliani, ex-prefeito de Nova York e ex-promotor que lutou contra a máfia. Rudy é reconhecido por reduzir a quase zero a criminalidade em Nova York.\n",
      "859\n",
      "É legal mas não é moral! Governador se pronuncia e diz que usou helicóptero para buscar o filho que passou mal.  Fernando Pimentel (PT), governador de Minas Gerais, afirmou que irá processar o deputado Sargento Rodrigues (PDT) por calúnia, difamação e falsa acusação de crime.  O petista aparece em um vídeo desembarcando de um helicóptero do governo do Estado para buscar o filho em um condomínio de luxo na cidade de Capitólio/MG. Pimentel esclareceu que foi até o condomínio com o objetivo de passar o dia com o filho e teve que retornar porque o jovem passou mal. \" Neste domingo, dia 1o, fui a Escarpas do Lago, pela manhã, de helicóptero, com a intenção de ficar o dia lá, com meu filho, que passara o Réveillon na casa de amigos. Ainda no voo de ida, ele comunicou-se comigo, dizendo que não se sentia bem, e perguntava se não me incomodaria voltar mais cedo com ele para BH, em vez de almoçar lá. Obviamente, eu concordei e voltamos juntos, logo após o pouso, ainda pela manhã\" , diz a nota. O governador argumentou ainda que o uso do helicóptero é legal e foi regulamentado através de um decreto de 2005, assinado pelo ex-governador Aécio Neves (PSDB). Pois é governador. É legal mas não é ético nem moral! Cadê o exemplo? Minas Gerais é uma piada quando o assunto envolve aviões, helicópteros, aeroportos, etc...\n",
      "860\n",
      "Rede social suspende conta de rapper americana xenófoba. Ela chamou brasileiros de \"favelados anormais\".  O CASO.  Internautas brasileiros se uniram durante todo o dia de hoje (02) para denunciar os perfis da cantora nas redes sociais. Tanta repercussão acabou gerando um resultado negativo para Azealia: O Twitter suspendeu temporariamente a conta da cantora. A rapper americana Azealia Banks (conhecida nos EUA por suas confusões intermináveis) resolveu atacar o Brasil nas redes sociais. Numa postagem em sua página do Facebook, ela criticou os brasileiros que fazem comentários em suas postagens. \"Esses anormais do terceiro mundo não param de fazer spam na minha página e ainda por cima falam inglês errado. Deveriam se preocupar com a economia primeiro\" , publicou. A rapper não se intimidou e continuou postando palavrões e xingamentos: \"Não sabia que a favela tinha internet\". Depois de muita repercussão, ela apagou a frase.\n",
      "861\n",
      "Ana Paula do vôlei manda recado para Pimentel: \"Bolsa ressaca\". .  O Diário do Brasil publicou ( hoje de manhã ) uma denúncia em que o governador de Minas Gerais, Fernando Pimentel (PT), aparece usando uma aeronave pertencente ao governo estadual para suprir suas necessidades pessoais. Pimentel foi flagrado por um internauta no exato momento em buscava o filho na estância turística de Escarpas do Lago (MG). De acordo com O deputado mineiro Sargento Rodrigues, o helicóptero pertence ao governo de MG. A jogadora de vôlei Ana Paula deixou seu recado para o governador nas redes sociais: \"Pimentel vai buscar o filho dpois da balada de Ano Novo c/ helicóptero do Estado.Meu dinheiro agora sustentando Bolsa Ressaca. # ForaPimentel\"\n",
      "862\n",
      "Paulo Henrique Amorim: \"O assassino de Campinas não era louco. Tudo é culpa da Globo e da Lava-Jato\". .  Dono do site Conversa Afiada, Paulo Henrique Amorim publicou um vídeo hoje (02) acusando a Globo e a Lava Jato como corresponsáveis da chacina que tirou a vida de 12 pessoas em Campinas, SP, no último dia 31. \"A Globo e a Lava Jato são os terroristas de Campinas\" , diz o jornalista. Logo em seguida ele lê a carta deixada pelo assassino Sidnei Araújo. Sobrou até para o ministro Lewandowski. As citações foram feitas com tom irônico. \"A carta contém alguns elementos do discurso de ódio [...] é a lógica que a Globo e os heróis da Lava Jato instalaram no Brasil [...] o ódio à política, o ódio à Dilma, o ódio às mulheres, o ódio à Lei Maria da Penha, o ódio ao Lewandowski (que não julga de acordo com o ódio)\". Amorim encerra o vídeo quase que \"defendendo\" o assassino: \"Esse homem não era um louco [...] era um produto de sua época [...] a Globo e a Lava Jato odeiam o Brasil. A Globo e a Lava Jato são os nossos terroristas do fim do ano\".\n",
      "863\n",
      "Seguindo orientação do STF, estado do Amazonas pagará indenização para famílias de presos mortos em massacre. .  De acordo com o Globo, Heloysa Simonetti, Procuradora do Estado, confirmou que os trabalhos já começaram para estipular os procedimentos a serem seguidos no pagamento das indenizações. O governador também ordenou que a Secretaria de Direitos Humanos preste apoio às famílias para o funeral. Na última madrugada de segunda-feira (02) 56 presos foram mortos no Complexo Penitenciário Anísio Jobim. Foram registradas 184 fugas, no Complexo no Instituto que fica ao lado. Até ontem, cerca de quarenta 40 foragidos tinham sido recapturados. Em março do último ano, o STF decidiu que o poder público deve indenizar a família do detento que morre dentro de um presídio, incluindo suicídio. Dependendo do caso específico, ficará a critério de cada juiz definir o valor da indenização devida. O ministro Marco Aurélio Mello informou ao GLOBO ontem (02) que o Estado é responsável pela integridade do preso.\n",
      "864\n",
      "O PT corrompeu o mundo! 37 países fecham acordo com a Lava-Jato.  De acordo com matéria do Estadão, os acordos jurídicos foram fechados com base em tratados e convenções internacionais.  Autoridades do Brasil poderão requisitar a outros países que façam oitivas de pessoas (testemunhas ou investigadas) para que eles possam cooperar na produção e compartilhamento de provas documentais, quebra de sigilos bancário, telefônico, de e-mails, e também bloqueios de bens e/ou valores para prisões e extradições. A lista inclui trinta e sete países. Entre eles estão: Estados Unidos, Suíça, Itália, Dinamarca, Suécia, Noruega, Cingapura, Gibraltar, Liechtenstein, Ilhas Cayman, Uruguai, Canadá, Panamá, República Dominicana, Guatemala, Peru, Ilhas de Man, Andorra, Alemanha, Rússia, Macau, China, Cingapura, Hong Kong, entre outros. Agora os petistas vão dizer que o golpe é mundial! Vão dizer que esses 37 países estão quebrando o Brasil. leia também:\n",
      "865\n",
      "Bolsonaro cogita parceria com evangélicos nas eleições de 2018.  Jair Bolsonaro (PSC-RJ) tem conversado com Silas Malafaia para uma possível parceria na disputa das eleições presidenciais de 2018.  Em entrevista ao Extra, o deputado disse: \"O segmento evangélico está de olho na presidência. Ficarei feliz em estar junto deles\", disse E continuou: \"Tenho amizade com o Malafaia há mais de 10 anos e acho ele um cara excepcional\". Bolsonaro concluiu dizendo que o apoio dos evangélicos para sua candidatura dará uma força extra na disputa presidencial e ressaltou: \"Essa política de toma lá, dá cá não tem vez comigo. Não abro mão de um general quatro estrelas para a Defesa e quero uma pessoa conservadora para a área de Educação e Cultura\" .\n",
      "866\n",
      "Apresentadora da Rede TV é presa por formação de quadrilha. Sucesso na Rede TV ela era considerada uma das mulheres mais desejadas do Brasil. A Polícia a prendeu em Ilhabela, litoral paulista, desfrutando de uma vida de ostentação nas redes sociais.\n",
      "\n",
      "Luana de Almeida Domingos, de 29 anos, foi presa por policiais da  Delegacia Especializada em Armas, Munições e Explosivos (Desarme), do Rio, na manhã desta terça-feira, em Ilhabela, no litoral de São Paulo. A prisão teve o apoio da Polícia Civil de São Paulo.   A artista, que também é advogada, figura nas investigações como uma das encarregadas de transmitir os recados dos líderes presos para os operadores da facção criminosa PCC (Primeiro Comando da Capital) que estão em liberdade. A loira, que atuava com o nome artístico de Luana Don, trabalhou também como apresentadora de quadros de sucesso no Superpop, da RedeTV!, entre 2012 e 2016. Ela frequentemente era vista de biquíni ou em roupas curtíssimas na atração, ressaltando suas belas curvas. Após a saída do programa, ela ainda fez participações especiais em outros projetos na TV. No Facebook, Luana se define como advogada por profissão e apresentadora por paixão. Ela apresentou os quadros Na Moita, Eu Sou Pop, Barraca do Beijo e Desafio Pop no programa. Além disso, também informa em sua biografia que estudou dramaturgia na Escola Wolf Maia. A artista não aparece nas redes sociais há alguns meses. Ainda segundo a reportagem do jornal, o líder máximo do PCC, Marco Willians Herbas Camacho, o Marcola, teria outros seis codinomes usados para transmitir ordens nas comunicações da facção, segundo o relatório produzido pela Polícia Civil na Operação Ethos. A suspeita foi identificada na Operação Ethos, conduzida em 2016 pela Polícia Civil de Presidente Venceslau e pelo Ministério Público para prender advogados envolvidos com a facção criminosa. A polícia expediu um mandado de prisão preventiva contra Luana sob suspeita dos crimes de corrupção ativa e integrar organização criminosa. A remuneração por informações que levassem à captura dela era de 50 mil reais. Luana aparecia na lista das pessoas mais procuradas pela Justiça de  São Paulo.\n",
      "867\n",
      "Caiu a República do pão de queijo! \"Mineirinho\" é apontado como beneficiário de R$ 15 milhões da Odebrecht.  A delação do ex-diretor de da Odebrecht Cláudio Melo Filho aponta uma \"bondosa gratificação\" de R$ 15 milhões para o ex-presidenciável Aécio Neves (PSDB-MG).  A Veja informou que , de acordo com o anexo encaminhado à PGR,  Aécio era cadastrado como \"mineirinho\" no sistema interno de pagamentos indevidos da empresa. Mineirinho é sugerido como beneficiário de 15 milhões de reais entre outubro e dezembro de 2014. Tudo foi devidamente registrado no Setor de Operações Estruturadas (leia-se Departamento de Propinas) pela ex-secretária Maria Lúcia Tavares. Maria Lúcia já admitiu em delação que operava a \"contabilidade ilegal\" a mando de seus superiores. O delator Melo Filho ainda contou que \"Mineirinho\" também intermediou o pagamento de R$ 1 milhão para (o colega de profissão) senador José Agripino Maia (DEM), conhecido nas planilhas como \"gripado\".\n",
      "868\n",
      "O Globo: \"Pimentel deveria criar vergonha na cara, pedir desculpas ao povo de MG e devolver o dinheiro\".  O colunista do Globo, Ricardo Noblat, foi curto e grosso:.  O governador de MG, Fernando Pimentel (PT), usou um helicóptero comprado e mantido com dinheiro público para passear com o filho durante o feriado. Noblat ressalta que Pimentel, assim como o ex-governador Aécio Neves, não agiu contra a lei. Ele agiu contra o bom senso. Tudo que a lei permite, não é proibido. O ex-governador do Rio de Janeiro Sérgio Cabral também agia assim, lembrou o colunista: \"Ele usava helicóptero oficial até para transportar o cãozinho da família nos fins de semana\" Isso é crime? Não! \"É falta de vergonha na cara\" disse Noblat . E nada disso configurou crime. No máximo, falta de vergonha na cara. MG é um estado falido. Aquele que governa deveria dar exemplo. Para finalizar o texto, Noblat bateu pesado: \"Se lhe sobrasse vergonha, deveria pedir desculpas ao povo de Minas e devolver o dinheiro ao Estado\" Pimentel usou o facebook para explicar que o uso da aeronave é regulamentado por um decreto publicado em 2005. eLE esclareceu que foi até o condomínio com o objetivo de passar o dia com o filho e teve que retornar porque o jovem passou mal. \" Neste domingo, dia 1o, fui a Escarpas do Lago, pela manhã, de helicóptero, com a intenção de ficar o dia lá, com meu filho, que passara o Réveillon na casa de amigos. Ainda no voo de ida, ele comunicou-se comigo, dizendo que não se sentia bem, e perguntava se não me incomodaria voltar mais cedo com ele para BH, em vez de almoçar lá. Obviamente, eu concordei e voltamos juntos, logo após o pouso, ainda pela manhã\" , diz a nota.\n",
      "869\n",
      "Em vídeo de fim de ano, Lula assume que Ele, Dilma e o PT quebraram o país inteiro.  O Diário do Brasil vai evitar comentários pessoais nesta matéria.  Ouça o discurso de final de ano que o ex-presidente fez entre seus amigos mais íntimos. PS: Apesar de estar em um lugar fechado, parece que uma certa \"ventania\" incomodava Lula. O petista aparentava cambalear em certos momentos do vídeo. (fonte: RedeBrasil.net) (fonte: RedeBrasil.net)\n",
      "870\n",
      "Álvaro Dias: \"Mega-sena é fraude e lavagem de dinheiro. Isso tem que ser investigado\". .  O senador tucano Alvaro Dias continua inconformado e disse que cobrará explicações da Caixa Econômica Federal sobre o sorteio do concurso 1764 da Mega-Sena realizado na cidade paulista de Cândido Mota, e que pagou em jogo o maior prêmio da história. O sortudo que acertou as seis dezenas sozinho R$ 200 milhões. De acordo com o senador, a Caixa Federal informou que ninguém acertou as 6 dezenas e o prêmio estaria acumulado para o próximo sábado. O sorteio já tinha acumulado durante dez sorteios. Após o anúncio da Caixa  feita através do site oficial  dizendo que ninguém havia acertado o prêmio milionário, a entidade voltou atrás e anunciou que um único apostador levou o prêmio de mais de R$ 205 milhões, um \"suposto\" morador de Brasília (DF). Em nota, o senador disse que \"cobrará explicações formais e imediatas\" da Caixa e afirmou que o \"desencontro de informações alimenta especulações de irregularidades, que devem ser passadas a limpo urgentemente\". Não é a primeira vez que o senador faz uma denúncia de manipulação de resultados, fraudes e lavagem de dinheiro envolvendo as loterias da Caixa. Ele também apresentou projeto de lei que inibe fraudes e lavagem de dinheiro com prêmios de loterias. leia também:\n",
      "871\n",
      "10 previsões de Carlinhos p/ 2018: Anitta grávida, Neymar fora da Copa, Álvaro Dias presidente.  O vidente Carlinhos, um dos ais conhecidos do país, soltou um novo vídeo com suas previsões para 2018.  \"Lamentavelmente 2018 será pior que 2017. Volto a repetir que Michel Temer não terminará o mandato. Rodrigo Maia pode assumir a qualquer momento\" afirmou o adivinho. Outras previsões para o próximo ano: As mulheres terão um papel maior na política; Lula não estará nas próximas eleições; O Brasil não chegará às finais da Copa do Mundo da Rússia Neymar terá uma séria lesão e ficará meses longe do futebol A cantora Anitta fará sucesso internacional e ficará grávida de uma menina Raul Gil, Pelé e o cantor Roberto Carlos terão graves problemas de saúde Um prédio terá que ser desocupado às pressas na cidade de Londrina devido a um desastre natural O segundo turno das eleições será disputado entre Ciro Gomes e Álvaro Dias Jair Bolsonaro ficará em 3o ou 4o lugar nas eleições. O senador Álvaro Dias será o novo presidente do Brasil\n",
      "872\n",
      "Dinheiro Público: Quebrou Minas Gerais e foi buscar o filho com helicóptero do Estado após a festa de Reveillon.  Um internauta flagrou o momento em que Fernando Pimentel foi buscar o filho na estância turística de Escarpas do Lago (MG).  De acordo com o denunciante, a aeronave usada como \"UBER\" pelo governador de MG pertence ao governo estadual. O deputado mineiro Sargento Rodrigues conversou com o site Antagonista . De acordo com o parlamentar, Fernando Pimentel será denunciado na Procuradoria Geral de Justiça de Minas Gerais pelo crime de improbidade administrativa. Isso tem que acabar! leia também:\n",
      "873\n",
      "Quebra-pau na posse do Prefeito em Catanduva/SP. Vereadores saem no tapa. .  Vereadores trocaram socos durante a posse do prefeito e dos vereadores em Catanduva, no interior de São Paulo. O Prefeito Afonso Machione, eleito pela 2a vez, foi empossado em clube da cidade. As imagens são de uma afiliada da Rede Globo:\n",
      "874\n",
      "Temer sem creme de avelã! Planalto decide cancelar \"lanchinhos de luxo\" no avião presidencial.  O Governo Federal decidiu na tarde de hoje (27) cancelar a licitação para a compra de alimentos que abasteceriam os aviões da Presidência da República.  Entre os produtos que iriam \"lambuzar\" a nata da política brasileira, havia 500 potes de sorvete tipo premium e cremes de avelã, todos importados. A informação foi confirmada pelo repórter da Globo News, Gerson Camarotti, que conversou diretamente com Eliseu Padilha, ministro-chefe da Casa Civil. Padilha argumentou que desde 2009 não havia licitação para esse tipo de gasto. A maioria dos produtos que estava na lista continha preços bem acima dos praticados no varejo, além de serem totalmente supérfluos. Falando em supérfluo, o avião presidencial também é algo dispensável em tempos de crise. Porque não?\n",
      "875\n",
      "Padre Léo: \"Se for pra ser cristão como o Lula, é melhor ir viver nos quintos dos infernos\".  Padre Leo tentou alertar a população antes das eleições de 2010, quando Dilma ainda era candidata.  #Retrospectiva2017 #AsMaisLidas2017 Assista, compartilhe , não deixe este alerta morrer. Padre Léo foi ignorado em 2010, a exemplo de tantos outros líderes cristãos. O saudoso Padre já observava o modo \"petista\" de governar, sempre tentando destruir a família e formar um governo fascista e autoritário. No minuto 1:50 do vídeo, ele foi enfático: \"Se for pra ser católico como se diz católico o senhor Presidente da República, é melhor ir viver nos quintos dos infernos\" Nas próximas eleições, siga o conselho do sábio Padre Léo.\n",
      "876\n",
      "Janete e o cabelo mais caro do mundo!.  Quer dizer que somente a Braskem pagou 150 milhões de reais em serviços de cabeleireiro para Dilma Rousseff?.  É o que diz a colunista Mônica Bérgamo. De acordo com informações publicadas na Folha/SP, o marqueteiro \"petralha\" João Santana (em sua delação premiada) revelou detalhes sobre algumas despesas da ex-presidente Janete que foram pagas pela Odebrecht. Santana afirmou que várias despesas estéticas de Dilma foram pagas por ele [...] entre essas despesas estariam os serviços do cabeleireiro das estrelas, Celso Kamura. De acordo com informações colhidas na internet (especificamente no portal UOL), um corte de cabelo no salão de Celso Kamura custa algo em torno de R$ 400,00 [...] uma hidratação tem o preço médio de R$ 250,00 e uma escova tem o preço máximo fixado em R$ 150,00. Somando corte + hidratação + escova, gastaríamos aproximadamente  R$ 800,00. Fazendo um \"cálculo besta\", podemos sugerir que R$ 150 milhões daria para cortar, hidratar e escovar o cabelo de 180.000 pessoas. A assessoria da ex-presidente Janete rebateu a publicação da Folha e afirmou que ela mesma pagou pelos serviços de Kamura.\n",
      "877\n",
      "URGENTE: Dono da Friboi é internado em estado grave. Friboi na UTI !!! O empresário Joesley Batista, sócio do grupo JBS FRIBOI e autor da delação que gerou abertura de inquérito contra o presidente Michel Temer, foi internado no Hospital Albert Einstein, na Zona Sul de São Paulo, informou nesta quarta-feira (28) a assessoria do centro médico.\n",
      "\n",
      "O hospital informou, por e-mail, que a família de Joesley solicitou privacidade. Questionada sobre os motivos da internação, a assessoria do Grupo JBS disse que aguardava boletim médico para dar mais informações, no entanto, sabe-se que o estado é grave. Na terça, a agência de notícias Reuters divulgou que o empresário tinha dado entrada em um hospital inconsciente e fortes alterações cardíacas.\n",
      "\n",
      "Não está descartada a possibilidade de envenenamento. A Polícia Federal deve acompanhar de perto os laudos médicos nas próximas horas.\n",
      "878\n",
      "Papa recebe camisa da Chapecoense e envia benção especial aos familiares da tragédia.  O Papa Francisco recebeu uma camisa da Chapecoense.  A homenagem foi feita pela redação brasileira da Rádio Vaticano, em agradecimento ao apoio do pontífice após a tragédia que abalou o mundo. A camisa com o número 71 é uma homenagem ao número de vítimas do acidente aéreo com o voo da Lamia. Francisco fez questão de agradecer pelo presente e destacou que foi um evento muito triste.\n",
      "879\n",
      "Lei da mordaça? Militares se rebelam contra Temer e são repreendidos pelo Alto Comando.  Centenas de integrantes das Forças Armadas têm usado as redes sociais para se manifestar contra o presidente Michel Temer.  Alguns pedem a renúncia do presidente enquanto outros se declaram favoráveis à volta do regime militar. Eduardo Bacellar Ferreira, almirante e comandante da Marinha , decidiu advertir energicamente as tropas. Uma mensagem foi passada aos subordinados para que sigam \"ao pé da letra\" o RDM (Regime Disciplinar Militar ), que proíbe opiniões, pronunciamentos, enfim, manifestações públicas sobre assuntos políticos. Trocando em miúdos: \"censura militar\" ... lealdade ao comandante máximo das Forças Armadas, o sr. Michel \"mala com propina\" Temer. O recado do alto comando também engloba aqueles que estão na inatividade, porém que ainda prestam serviços à Marinha. O RDM é \"duro\" quando se trata de punições: a pena engloba repreensão, prisão e até mesmo demissão. Uma advogada encontrou (dentro de um ônibus) um envelope que continha a \"tal\" mensagem do comandante para seus subordinados e chegou a classificar a atitude de \"Lei da Mordaça de Temer\". O envelope foi entregue ao Ministério Público Federal e um pedido de investigação foi solicitado [...] o órgão decidiu arquivar a representação e alegou \"falta de elementos para comprovação da denúncia\" Um professor de Direito Penal Militar do DF defende que o direito à liberdade de expressão não é absoluto e deve ser interpretado de maneira correta: \"O presidente da República é a autoridade máxima que comanda as Forças Armadas, segundo reza a lei. Críticas ao sr. presidente podem resultar em responsabilidades penais e administrativas ao militar\" alegou. A maioria dos militares que pedem intervenção militar é formada por integrantes da reserva, porém o general de divisão (que também é vice-presidente do Clube Militar) alerta: \"A volta de qualquer militar ao poder só poderá ocorrer caso alguém da corporação se submeta às leis e se torne um candidato. Tal escolha deve ser feita pelo povo\" frisou. O general acredita que as publicações nas redes sociais (raramente) tem participação daqueles que estão na ativa: \"Os que estão na atividade ainda prestam serviços às Forças e poderão ser submetidos ao Regime Disciplinar\" disse. A Marinha divulgou uma nota oficial reforçando o alerta: \"O comando da Marinha recomenda aos titulares de Organizações Militares para que orientem os militares (ativos e inativos) sobre as regras contidas no item 2 do artigo 7o do RDM que constitui contravenção disciplinar \"censurar atos do poder superior\" [...] o presidente da República exerce o comando supremo das Forças Armadas. Não cabe a esta instituição apresentar juízo de valor sobre assuntos políticos\".\n",
      "880\n",
      "Lula dizendo que José Sarney é o dono da Globo.  Esqueça do \"Luíz Inácio político\" e tente analisar o \"Luíz Inácio pessoa\".  Assista o vídeo abaixo e nos diga se o ex-presidente é uma pessoa que bate bem dos pinos: confira:\n",
      "881\n",
      "Procuradores dos EUA poderão pedir a prisão de Lula e Dilma. Acordo da Brasken revelou propina milionária.  CERCA DE R$ 150 milhões em propina foram pagos pela Brasken. O destinatário? O PT ....  #Retrospectiva2017 #AsMaisLidas O Antagonista revelou agora pouco (com exclusividade), que investigações feitas pelo governo dos EUA, descobriram que uma fortuna foi desviada dos cofres públicos (através da empresa Brasken) com o intuito de pagar propina para políticos do PT. Lula é citado como Brazilian Official 1 nos documentos dos procuradores dos Estados Unidos. Lula é o Brahma  o número 1.\n",
      "882\n",
      "BNDES e FRIBOI: Uma das famílias mais poderosas do país é alvo da PF e do MPF.  A Lava Jato tem como alvo uma das famílias mais poderosas e ricas do Brasil, de acordo com matéria da revista Forbes.  Investigadores da PF bateram na porta de Joesley Batista , presidente da J&F, administradora da JBS (Friboi e Swift). Os policiais também estiveram em um prédio onde mora o presidente-executivo da JBS Friboi, Wesley Batista, irmão de Joesley. Eles também cumpriram mandados no escritório da Eldorado Celulose, que faz parte do grupo J&F. Estima-se a fortuna do grupo esteja na casa dos US$ 4,3 bilhões ( R$ 13,8 bilhões), segundo a Forbes. Essa fortuna tem estreita relação com o crescimento da JBS. Segundo o site da empresa, ela é hoje \"líder mundial em processamento de carne bovina, ovina e de aves\". Mais de 150 países consomem carne da JBS. A companhia teve lucro líquido de R$ 4,6 bilhões em 2016 e recebeu mais de R$ 8 bilhões do BNDES, entre 2006 e 2014. Uma investigação do TCU apontou \"indícios de tratamento privilegiado do BNDES para com a JBS\". O TCU apontou que não foi possível comprovar que todo o dinheiro repassado para as aquisições foi utilizado. Não se sabe o que aconteceu com R$ 2 bilhões do aporte liberado pelo BNDES. Wesley Batista, do JBS-Friboi, chegou a dizer para a BBC Brasil que mal conhecia Lula, que ele e seu irmão, Joesley, só o conheceram quando o petista já era ex-presidente. E, mesmo assim, superficialmente.\n",
      "883\n",
      "Internautas relatam mais casos da doença misteriosa que causa dor e urina preta em outros 2 estados: ES e RE.  A Sesab (Secretaria de Saúde do Estado da Bahia) emitiu um um alerta de epidemia para todas as unidades de atendimento em saúde e também para profissionais da área.  A doença, que já infectou mais de 22 pessoas, causa fortes dores musculares e é uma espécie \"de mialgia epidêmica\". De acordo com informações da Sesab, as pessoas que foram infectadas possuem sintomas como \"fortes dores na região cervical, região do trapézio, seguidas de dores musculares intensas nos braços, dorso, coxas e panturrilhas\". Um segundo sintoma observado nas vítimas foi a cor da urina, que é parecida com refrigerante de cola, na cor preta. Os casos ainda estão sendo investigados pelos órgãos competentes e as causas não foram confirmadas até o momento. Populares e especialistas chegaram a cogitar a hipótese de contaminação por ingestão de peixe, porém somente 14 dos 22 pacientes relataram ter comido o alimento. \"Só há especulações e eu não considero o peixe contaminado como principal hipótese\", disse um profissional do laboratório de virologia da Universidade da Bahia. O alerta é para que, ao aparecer os sintomas, a pessoa procure atendimento médico imediato e não tome medicamentos por conta própria, com o objetivo de evitar o agravamento da situação. Nas redes sociais, uma internauta relatou que seu marido contraiu a doença, porém em outro estado: \"Não foi só na Bahia não, eu moro no Espírito Santo, e meu esposo também teve a mesma doença, ficou quase um mês internado, e nenhum médico descobriu o q era, ele fez todo tipo de exames, e em nenhum constou nada, do mesmo jeito que as dores vieram foram embora graças a Deus,e também não é transmitida pelo ar ou saliva como alguns falam, pois quando meu esposo ficou internado, ele ficou no quarto com várias pessoas todas entraram e saíram sem nada, sem nenhum sintoma, e eu todos os dias me despedia com um beijo e não contrai nada.\" Uma segunda pessoa, moradora de Recife, declarou: \"Estou em Recife e tive esses sintomas. Meus pais também tiveram\" .\n",
      "884\n",
      "Chargista mais famoso do país aconselha Moro: \"Dá um jeito de prender uns \"tucanozinhos\" pra gente acreditar em você\".  Maurício Ricardo é um dos chargistas mais respeitados e criativos do país.  Através de um vídeo divulgado nas redes sociais, Maurício questiona uma suposta \"parcialidade\" de Sérgio Moro na condução da Lava-Jato. E não é que o argumento do chargista tem fundamento? confira:\n",
      "885\n",
      "Papai Noel da OI: Brasília age novamente na calada da noite e esfaqueia o povo brasileiro pelas costas.  O repórter André Forastieri, do portal R7, fez questão de escrever sobre um tema obscuro que ele denominou como \"Operação OI\".  Está acontecendo nesse exato momento o maior golpe no bolso do brasileiro desde o ano de 1500. Como dizia Luíz Inácio, aquele que logo estará de hospedando em Curitiba, \"nunca antes na história deste país...\" De acordo com números do Tribunal de Contas da União, a dívida da OI com o governo pode chegar a R$ 105 bilhões, uma cifra estrondosa que faz com que o prejuízo causado na Petrobras se transforme em \"esmola\". Forastieri fez uma conta rápida: \"A dívida da OI com a união daria para para pagar quatro anos de Bolsa Família [...] ou daria para cobrir os R$ 72,5 bilhões do rombo causado da Previdência com direito a um troquinho de 30 bilhões\" Em junho de 2016, quando a Oi entrou um pedido de recuperação judicial, o valor da dívida era de R$ 65 bilhões. Quando os contratos das Teles terminarem, em 2025, elas devem (por lei) devolver parte de seu patrimônio físico à União [...] patrimônio esse (antenas, cabos, torres, instalações, imóveis, etc...) que essas empresas usam desde a privatização. Ou seja, é um patrimônio público (do povo) previsto em contrato. Com a nova lei (PLC 79/2016) que foi protocolada no senado na última sexta-feira(16) , que altera regras de exploração da telefonia fixa no país, as Teles passariam a ser donas definitivas de todo esse patrimônio público. E a operação salvamento não inclui somente a OI ... outras empresas também saem no lucro: Claro, Vivo, Algar e Sercomtel. Sem esse empurrãozinho, a Oi quebra de vez. Assim como fez com as 10 medidas contra a corrupção (que foram totalmente desfiguradas), Brasília age novamente na calada da noite e \"esfaqueia o povo brasileiro\" pelas costas. Caso o presidente sancione essa Lei (e ao que tudo indica ele vai assinar), esse absurdo tem que ser cancelado pela Justiça, seja através de ação popular ou seja através da oposição ao \"governo tampão.\" leia também:\n",
      "886\n",
      "Em 2009, a construtora Odebrecht foi expulsa do Equador por superfaturar obras em até 48% .  Na época, o então embaixador do Brasil em Quito, Antonino Marques Porto, mostrou que o governo equatoriano acompanhava de perto os problemas envolvendo a empresa brasileira..  Em junho deste ano, \"O Estado de S. Paulo\" publicou uma matéria narrando que o governo americano amparou o caso e a embaixada em Quito indicou, em vários telegramas enviados ao Departamento de Estado dos EUA, a  razão para a suspensão dos contratos: O motivo? CORRUPÇÃO! O presidente Rafael Correa (do Equador), cancelou imediatamente os contratos. Em outro telegrama, o embaixador informou (na época) que uma segunda investigação apontou que o contrato de uma usina (Hidrelétrica de San Francisco) teria recebido dez aditivos, dos quais cinco foram considerados injustificáveis. Um terceiro caso envolveu obras para a sustentação em um túnel da mesma usina. A controladoria do Equador concluiu que a empreiteira recebeu US$ 58 milhões sem justificativa. E aqui no Brasil? Bem, aqui tudo parece mais simples. Basta devolver o que foi roubado dos cofres públicos, escrever uma carta de desculpas e continuar operando normalmente, como se nada tivesse acontecido.\n",
      "887\n",
      "Felipe Moura grava vídeo explicativo sobre a corrupção petista: \"Lula era um office-boy da Odebrecht\".  O colunista Felipe Moura Brasil (da Veja) comentou o relatório de corrupção que foi tornado público pela justiça americana.  O esquema de desvio de dinheiro público envolve a Odebrecht, a Braskem e a alta cúpula  do governo mais corrupto da história do Brasil. confira no vídeo:\n",
      "888\n",
      "Joesley chorou ao entrar na cela e está sem comer e tomar banho. O delator Joesley Batista chorou no momento em que os agentes abriram a cela da carceragem da superintendência da Polícia Federal em São Paulo para que ele entrasse após se entregar na tarde deste domingo.\n",
      "\n",
      "Ao ouvir o barulho da grade fechando ele começou a chorar compulsivamente e a tremer. Seus colegas de cela tentaram o consolar mas ele teve uma crise nervosa e precisou ser medicado. Optou por não tomar banho (frio) nem se alimentar (marmita). O carcereiro chegou a brincar com ele dizendo que o bife era de confiança, que era Friboi, mas ele sequer levantou a cabeça.\n",
      "\n",
      "A Coluna apurou que Joesley e o executivo da JBS Ricardo Saud devem ser transferidos para Brasília na segunda-feira, 10, em aeronave da Polícia Federal.\n",
      "\n",
      "Os dois foram presos por determinação do ministro Edson Fachin, do Supremo, atendendo a pedido do procurador-geral da República, Rodrigo Janot. Eles são acusados de omitir informações no acordo de delação premiada.\n",
      "\n",
      "A prisão é temporária, com prazo de cinco dias prorrogáveis por mais cinco.\n",
      "889\n",
      "Silvio Santos humilhou dono da Friboi. Joesley Batista, o dono da Friboi, pensava que podia acreditar tudo e todos. Tentou comprar a honra de Silvio Santos e teve que levar seu dinheiro embora. Silvio Santos novamente teve a oportunidade de mais uma vez provar que é um grande brasileiro.\n",
      "\n",
      "O escândalo e consequências da delação da JBS trouxe de volta à baila um fato ocorrido exatos dois anos atrás no SBT, mas que só agora foi conhecido pela coluna em detalhes. Entre maio e junho de 2015, a JBS fazia uma ofensiva milionária para ter Silvio Santos como garoto-propaganda dos bifes Friboi. Naqueles meses, a JBS era pura ostentação. A empresa estava com valor recorde no mercado, com cada ação custando mais de R$ 16. Para comparação, hoje ela está na casa dos R$ 6,00.\n",
      "\n",
      "Semanas antes, Ticiana Villas-Boas, mulher de Joesley, assinara contrato com a emissora de Silvio Santos e quase que imediatamente a JBS sondou Silvio para fazer o comercial como informou à época o colunista Flávio Ricco, do UOL Exclusivo: O dia em que Silvio Santos recusou R$ 100 milhões da JBS Silvio Santos poderia ter ganho sozinho um cachê de R$ 50 milhões da JBS; mas não quis.\n",
      "\n",
      "O que ninguém sabe é que a JBS fez a a Silvio a maior oferta de todos os tempos da publicidade brasileira: começou com R$ 35 milhões (maio) e, diante da negativa inicial do patrão, subiu para R$ 50 milhões de cachê (junho). Isso representava o dobro do que a empresa havia pago a Roberto Carlos um ano antes, e dez vezes mais do que pagaria a Tony Ramos dois meses depois da recusa de Silvio.\n",
      "\n",
      "O problema é que não foi só o cachê que o apresentador recusou: a proposta da JBS era que, se ele aceitasse estrelar o comercial bovino exclusivo, a empresa faria investimentos de outros cerca de R$ 50 milhões no SBT até o final de 2015. Ou seja, uma única empresa daria o equivalente a quase 10% do faturamento anual ao SBT e seu dono.\n",
      "\n",
      "Em tempos de contração do mercado, a recusa de Silvio simplesmente levou o departamento comercial da emissora à beira de um ataque de nervos. Que já estava nervoso porque, três anos antes (em 2012), ele já havia se recusado a vender as madrugadas para a Igreja Mundial, que acenava com um acordo que poderia render R$ 200 milhões anuais ao SBT, conforme esta coluna informou com exclusividade no ano passado. Mas Silvio fincou pé e recusou o cachê milionário da JBS; que, consequentemente, não investiu os tais R$ 50 milhões na emissora (nem mesmo com a mulher de Joesley lá contratada).\n",
      "\n",
      "Muita gente à época disse que Silvio Santos havia feito a maior besteira de sua vida, por puritanismo exagerado, já que ele só aceita anunciar produtos de seu grupo. Nessas duas vezes, instintivamente, ele acabou acertando na mosca: preservou a própria imagem. O que para ele certamente não tem preço.\n",
      "\n",
      "Silvio Santos teria dito que minha honra não tem preço. Sinto cheiro do perigo. Tenho dinheiro pra tudo que uma pessoa precisa pra dar segurança a sua família. Não é o dinheiro que me move. É a vontade de tornar melhor a vida dos brasileiros. Faço minha parte com a alegria. \n",
      "890\n",
      "Chapa Dilma/Temer contratou empresa (que só tem 1 notebook) por R$ 4,8 milhões para enviar emails. .  A empresa citada é a DCO, conforme revelou o portal O Antagonista. Documentos enviados pela secretaria de Finanças de Uberlândia mostram que a empresa não tem alvará de funcionamento, tem apenas 1 computador (1 notebook) e apenas três supostos funcionários (que não estão registrados). A DCO recebeu 4,8 milhões de reais da campanha Dilmista e foi contratada às vésperas do segundo turno para enviar mensagens eletrônicas, conforme mostra a nota fiscal disponível no site do TSE: O cadastro da empresa informa a sua atividade econômica principal é o conserto de computadores:\n",
      "891\n",
      "Quando chamaram Moro de Savonarola, esqueceram de mencionar Lula e compará-lo ao Papa sanguinário Alexandre VI.  Há cerca de 2 meses, uma notícia publicada na Folha de São Paulo comparando o juiz Sério Moro ao Frei Savonarola (que viveu entre os anos de 1452 a 1498) viralizou nas redes sociais petistas.  (Rafael Acôncia, para o Diário do Brasil) O professor que publicou o texto é formado em um dos institutos mais respeitados do Brasil e do mundo, o ITA [...] porém o que mais me chamou atenção é que ele é graduado em Física e Jornalismo, e não em história e/ou teologia. Sabemos que o fato do nobre físico não ser formado em uma outra área não o impede de ser um estudioso em diversos assuntos [...] porém descobrimos que a intenção da matéria foi induzir o leitor ao erro, já que a maioria dos internautas (hoje em dia) não pesquisa antes de compartilhar ou copiar um texto. Em seu devaneio publicado na Folha, o professor Rogério Cerqueira Leite (que é um petista de carteirinha) acusou Moro de comandar um \"esquema fanático\" e disse que o conceito de justiça do magistrado é, na verdade, uma espécie de \"intolerância moralista\". Ele disse que Moro será esquecido assim que o PT for neutralizado e destacou: \"Em Roma, Savonarola foi queimado. Cuidado Moro, o destino dos moralistas fanáticos é a fogueira. Só vai vosmecê sobreviver enquanto Lula e o PT estiverem vivos e atuantes.\" escreveu Cerqueira. Bom, vamos resumir para vocês ... Os petistas fanáticos e alienados não entenderam bulhufas do texto e, por falta de conhecimento ou até mesmo preguiça de dar \"um google\" , começaram a chamar Sérgio Moro de Frei Savonarola, como se isso fosse um xingamento. Vários sites que mamaram nas tetas governamentais durante os 13 anos em que o PT comandou o país reproduziram a matéria da Folha de São Paulo e passaram a historinha adiante: \"Moro isso, Moro aquilo ... Moro é Savonarola ... Moro vai morrer na fogueira ... etc\" Eu, Rafael Acôncia, resolvi ir um pouco mais a fundo neste assunto e descobri algo interessante. Vou tentar ser breve em meu raciocínio. Girolamo Savonarola nunca foi um santo, mas também não era o diabo em pessoa, assim como o juiz Sérgio Moro. A principal luta do Frei Savonarola (durante seus últimos anos de vida) era contra um papa chamado Alexandre VI , que tinha como nome de batismo Rodrigo Bórgia. Bórgia foi um dos Papas mais corruptos, pecadores e sanguinários de toda a história da humanidade. O Potífice não media esforços para conquistar territórios e riquezas como ouro e prata. Alexandre VI foi casado com a ex-prostituta Vanozza dei Cattanei, com quem teve 4 filhos [...] depois teve outros 3 filhos com suas amantes. O Papa, que não tinha o menor pudor, não se incomodava em usar seus próprios filhos como assassinos de aluguel ou até mesmo trocar uma de suas filhas por dinheiro. Além de seus muitos filhos (algo que é incomum dentro da Cúria Romana, pelo menos oficialmente) Alexandre tinha muitas amantes e ainda organizava orgias no Vaticano. Resumindo, ele era uma espécie de demônio que tentava se disfarçar de santidade [...] e era contra essa espécie de cão-tinhoso que Savonarola lutava arduamente em seus sermões. O nobre professor de física, que deu o pontapé inicial ao apelidar Sérgio Moro de Savonarola (alegando que ele é um falso moralista) , deveria ter mostrado o outro lado da moeda, expondo o motivo principal da luta do Frei. O professor Rogério Cerqueira Leite deveria também (porque não) ter comparado o ex-presidente Luiz Inácio a Alexandre VI. Em sua analogia, o professor manifestou que Sérgio Moro deveria tomar um certo cuidado para não \"morrer em uma fogueira\" , fato que aconteceu com Savonarola. Poderia o nobre autor do texto ter alertado Lula também (porque não) para não morrer envenenado, assim como aconteceu com o corrupto Papa Alexandre VI. Enfim, penso que: se Moro foi chamado Savonarola, Lula pode muito bem assumir o papel do Papa Alexandre VI . Porque não?\n",
      "892\n",
      "Em vídeo, Lula confessa que \"Odebrecht começou obras sem contrato\".  Investigações da Lava Jato apontam que a construção do Itaquerão foi viabilizada graças a pagamentos de propina pela Odebrecht.  Esse não é o único estádio da Copa do Mundo que está na mira dos investigadores, porém é o caso principal na mira da PF e MPF. Um vídeo enviado por um internauta flagra um discurso da \"alma viva mais honesta deste país\" ao lado de Andrés Sanchez. Em sua fala, Lula agradece Emílio e Marcelo Odebrecht (pai e filho) por terem viabilizado o início das obras três meses antes da assinatura do contrato. ALÔ MINISTÉRIO PÚBLICO! O mais impressionante pode ser visto no minuto 1:10 do vídeo: \"Eu queria agradecer o doutor Emílio Odebrecht (presidente do conselho da Odebrecht) e ao Marcelo (presidente do grupo Odebrecht) porque foram duas pessoas que começaram a construir essa obra ainda sem o contrato assinado \" vídeo via Blog do Paulinho leia também:\n",
      "893\n",
      "Lula se iguala a Seleção Brasileira e agora é penta! Petista se torna réu pela quinta vez.  Sérgio Moro acatou mais denúncia contra Lula na manhã de hoje (19).  Esse é o quinto processo em que o ex-presidente se torna réu. Nesta ação, Lula é acusado de ser o responsável pela ORCRIM e comandar \"uma estrutura ilícita para captação de apoio parlamentar\". Os valores das propinas, resultantes de contratos celebrados entre a Petrobrás e a Odebrecht S/A, passam dos R$ 75 milhões. De acordo com a denúncia, a parte de Lula foi foi lavada na compra de um imóvel localizado em SP (capital), que seria usado para a instalação do Instituto Lula. A propina do petista teria sido intermediada por Antonio Palocci. A compra do imóvel foi realizada em nome da DAG Construtora e foram gastos (incluindo a aquisição e manutenção) cerca de R$ 12 milhões.\n",
      "894\n",
      "AO VIVO: Caminhão invade mercado, mata 9 pessoas e fere dezenas na Alemanha. Há indícios de ataque. .  Nove pessoas morreram e dezenas ficaram feridas após um caminhão avançar contra a multidão em Berlim (Alemanha). De acordo com informações da polícia local, o incidente ocorreu no centro da capital, próximo da Igreja Memorial Kaiser Wilhelm. Segundo investigações preliminares, há indícios de um possível ataque. O caminhão atravessou a cerca e se jogou em cima das pessoas que se encontravam no mercado. O jornal alemão Die Welt informou que o país já estava em alerta devido a ameaças feitas durante as festas natalinas.\n",
      "895\n",
      "Ex-presidente da Andrade Gutierrez confirma: \"Diante de ameaças, paguei propina para a chapa Dilma/Temer\".  Ex-presidente da Andrade Gutierrez confirmou que pagou propina disfarçada de doação oficial à campanha presidencial de 2014.  Detalhe: O valor foi pago para a chapa Dilma/Temer Otávio Azevedo disse que a empresa doaria R$ 10 milhões à campanha de Dilma em 2014, porém teve que dobrar o valor diante das ameaças de Edinho Silva (ex-ministro de Dilma) e Giles Azevedo (ex-assessor de Dilma). A doação, de acordo com o depoente, servia para manter o \"status quo\" dos contratos com o governo [...] traduzindo: \"Caso ele não doasse, correria o risco de perder contratos com o governo federal\" Desse total, R$ 15 milhões seriam oriundos de propina de obras da Usina de Belo Monte.\n",
      "896\n",
      "Sem polícia nas ruas e com indulto de Natal, Minas Gerais vive clima de insegurança. PM pede \"Fora Pimentel\". .  Nas redes sociais, mensagens informam que não haverá segurança no estado e as pessoas não devem sair de casa, por conta do alto risco. De acordo com informações, os militares ficarão aquartelados e não atenderão aos chamados [...] resumindo, estado de greve. Um áudio, divulgado pelo Antagonista, mostra policiais gritando em coro: \"Fora Pimentel\" Para complicar ainda mais a segurança em Minas Gerais, milhares de presos serão soltos devido ao indulto de Natal. O Diário do Brasil declara todo seu apoio à PM mineira, que é uma das melhores corporações do país.\n",
      "897\n",
      "A casa caiu [ops ...] A cueca caiu! PGR denuncia deputado José Guimarães, aquele dos dólares na cueca.  O Procurador Geral da República denunciou o deputado petista José Guimarães.  De acordo com o PGR, o deputado da cueca poderá responder pelos crimes de corrupção passiva e lavagem de dinheiro. Janot pediu a suspensão do mandato e o pagamento de R$ 1 milhão a título de multa. O inquérito surgiu a partir da delação do ex-vereador petista Alexandre Romano, o Chambinho. Guimarães é acusado de ter recebido propina para a liberação de empréstimos do Banco do Nordeste. Em 2005, o Assessor do deputado petista José Guimarães, José Adalberto Vieira, foi preso no aeroporto de Congonhas, em São Paulo, com 100.000 dólares na cueca, além de outros 209.000 reais guardados em uma maleta. O funcionário viajaria para Fortaleza, berço eleitoral do petista. De acordo com o MP, os dólares eram uma propina que Guimarães iria receber por intermediar um financiamento entre um consórcio de energia e o Banco do Nordeste do Brasil. A Justiça, porém, livrou o líder do governo do processo em 2012, sob o argumento de que não havia elementos que ligassem o deputado ao dinheiro apreendido com o assessor. DETALHE: José Guimarães , orgulho do PT do Ceará, também é líder do governo na Câmara e, como se não bastasse, irmão do ex-presidente do PT, José Genoíno,  condenado por corrupção ativa no processo do mensalão.\n",
      "898\n",
      "Temer é citado em nova delação da Odebrecht. Planalto nega e joga a bomba no colo de Cunha. .  A informação é da Veja. De acordo com a delação premiada de Márcio, a liberação do dinheiro estava vinculado à execução de contratos da Odebrecht com a Petrobras. Michel Temer recebeu o executivo em seu escritório em SP para uma conversa, da qual Eduardo Cunha estava presente. João Augusto Henriques, lobista e coletor de propinas para o PMDB também participou do encontro. O Planalto confirmou o encontro e disse que Eduardo Cunha pediu o encontro a Temer. A assessoria do presidente disse que a reunião durou vinte minutos, porém questões financeiras não foram discutidas. A bomba foi jogada no colo de Eduardo Cunha: \"Se depois da conversa do empresário Eduardo Cunha realizou qualquer acerto ou negociou valores, a responsabilidade é do próprio Eduardo Cunha\" , respondeu a assessoria do presidente. Márcio é apenas o segundo delator de 77 que fecharam acordo com a PGR.\n",
      "899\n",
      "Dinheiro do contribuinte: Câmara dos Deputados aprova mais de R$ 819 milhões para Fundo Partidário em 2017. .  A Comissão Mista de Orçamento (CMO) do Congresso Nacional concluiu na de ontem (14) a votação da proposta do Orçamento federal para 2017. FUNDO PARTIDÁRIO O texto aprovado mais que dobrou o valor previsto de repasses ao fundo partidário para o próximo ano. O fundo que financia os partidos políticos seria abastecido com R$ 309,2 milhões, porém o valor foi ampliado para R$ 819,1 milhões. 35 partidos políticos estão registrados pelo órgão para disputar pleitos eleitorais, quantidade ABSURDA que não se vê em nenhum outro país no mundo. Pois é, a farra continua!\n",
      "900\n",
      "Famoso cantor gospel é flagrado bêbado zombando de Deus. Vídeo vazado nas redes sociais mostra um dos mais famosos cantores da nova geração Gospel do Brasil zombando do poder do Espirito Santo, especialmente da ação de quem fala em línguas. \n",
      "\n",
      "O cantor gospel Jotta A usou seu perfil no Instagram para comentar um vídeo que vem circulando nas redes sociais desde esta quarta-feira. Na sequência, Jotta A, que tem 19 anos, aparece com uma garrafa de vodca no colo, no banco traseiro de um carro. Bastante animado, ele zomba de  hinos religiosos  em um momento, diz que canta em hebraico. Jotta A também leva algo à boca, que, na carta aberta publicada no Instagram, ele diz ser amendoim. Gostaria de me desculpar e me responsabilizar publicamente pelo o que supostamente vazou ao meu respeito, mesmo sabendo que tudo isso foi intencionado. Os meus momentos de fraqueza no passado se tornaram públicos e mesmo que eu assuma que estava segurando uma garrafa de vodca, comendo amendoim e não usando drogas, falando coisas imprudentes das quais peço perdão a Deus e à Igreja, eu não venho justificar os meus erros, diz o cantor no texto, postado na noite desta quarta. Na carta, ele também afirma que recomeçou sua vida espiritual, que cenas como as do vídeo ficaram para trás e que ele também fica indignado com aquele que ele foi, assim como os fãs que se decepcionaram com o vídeo.\n",
      "\n",
      "Para os interessados, no pico da minha fraqueza e descobertas, exponho que na minha adolescência eu vivi experiências sexuais, tive experiências com bebidas alcoólicas (não me tornei viciado em nenhuma dessas substâncias), fui imprudente nas minhas amizades e brincadeiras, disse em outro trecho. Já faz um tempo que eu voltei para Cristo, e estou tão indignado quanto você com tudo o que fiz.\n",
      "901\n",
      "Promotores do caso \"Triplex do Guarujá\" abandonam a Lava-Jato. .  Cássio Conserino e Fernando Henrique Araújo, promotores do MP de São Paulo abandonaram a Lava-Jato. Ambos disseram que não querem mais continuar no caso do tríplex no Guarujá e alegaram \"foro íntimo\". Conserino e Araújo foram os primeiros a denunciar e pedir a prisão de Lula pela suposta propriedade do apartamento no litoral. Será que eles foram forçados a sair? O caso agora está com o juiz Sérgio Moro.\n",
      "902\n",
      "Ex-chefe do Estado Maior afirma: \"Se houver um clamor popular, vamos intervir militarmente no Brasil\". .  O artigo foi publicado hoje no jornal O Estado de S. Paulo. O militar diz : \"Se o clamor popular alcançar relevância, as Forças Armadas poderão ser chamadas a intervir, inclusive em defesa do Estado e das instituições\". Rômulo faz uma análise da situação política do Brasil, critica o Congresso e o governo. De acordo com ele, a elite política empurra o Brasil para o brejo. \"As Forças Armadas serão a última trincheira defensiva desta temível e indesejável ida para o brejo. Não é apologia ou invencionice. Por isso, repito: alertar é preciso\" disse o general da reserva.\n",
      "903\n",
      "Lula mexeu em vespeiro e acabou unindo os Procuradores: \"Ninguém impedirá o MPF de cumprir de seu dever\". .  leia-se por desagravo ( ação de reparar uma ofensa ou injúria) Após anunciar que está movendo uma ação de danos morais (em que pede o pagamento de R$ 1 milhão) contra o coordenador da força-tarefa da Lava-Jato, procurador Deltan Dallagnol, o ex-presidente acabou mexendo com quem não devia. Abaixo um trecho da nota da ANPR que reforça o apoio a Deltan: Vale salientar, novamente, que os responsáveis pela Lava Jato têm sido exemplo sólido no cumprimento da lei de forma imparcial e técnica. A atuação da Força-tarefa fundamenta-se em provas robustas reunidas ao longo de mais de dois anos de investigações que se tornaram referência no Brasil e no mundo no que concerne o combate efetivo à corrupção, premiada nacional e internacionalmente. O Ministério Público é um só, e o ataque pessoal a um de seus membros apenas acentua esta unidade. O procurador da República Deltan Dallagnol tem o respeito e o apoio de seus colegas de Ministério Público Federal ao conduzir-se de forma profissional e competente, nas investigações da Lava Jato. Nada nem ninguém afastará os membros do MPF do cumprimento equilibrado, impessoal e destemido de seus deveres.\" ABAIXO A ÍNTEGRA DA NOTA ANPR\n",
      "904\n",
      "Site de jornalista Global questiona: Assessor pessoal de Dilma é o dono do Estádio Beira-Rio?.  O assunto da vez em Brasília é o RedBar, localizado no estádio do Beira-Rio.  O estádio foi construído pela Andrade Gutierrez. E a loja ocupada pelo RedBar foi concedida pela empreiteira. Qual é o problema? Simples: um dos sócios do RedBar, inaugurado em Outubro de 2015, é Anderson Dorneles, ex-assessor pessoal de Dilma Rousseff, conhecido também como anjo da guarda da ex-presidente. Dorneles era o secretário particular que esteve sempre com \"Janete\", também conhecida como Dilma, Vanda, Luíza, Patrícia [...] enfim, Janete cuidou da reforma do Beira-Rio e negociou o financiamento das obras com a Andrade Gutierrez, a empreiteira que está envolvida no Petrolão. Esse é o problema. A reforma do Beira-Rio foi um agrado da Andrade Gutierrez para sua torcedora Dilma Rousseff,  o moesmo que a Odebrecht fez para o corintiano Lula no Itaquerão. http:\n",
      "905\n",
      "Primeira entrevista de Alan Ruschel emociona o Brasil e chega a doer na gente! Força garoto, estamos com você. .  O lateral Alan Ruschel, um dos sobreviventes do voo da Chapecoense concedeu na manhã de hoje (17) sua primeira entrevista coletiva desde a tragédia que comoveu o mundo no último dia 29. Vestindo o uniforme da Chapecoense e emocionado, o jogador não conseguiu se conter: Força Ruschel! O Brasil está com você. Sua dor é nossa dor também.\n",
      "906\n",
      "Em vídeo, Dória reforça promessa a Lula: \"Sou uma pessoa educada. Vou visitá-lo em Curitiba e levarei chocolates\".  Em entrevista para a ISTO É, o prefeito eleito de São Paulo soltou o verbo.  A pergunta para o prefeito: \"O quanto a Lava-Jato muda a perspectiva de se fazer política no Brasil?\" resposta de Dória: \"A Operação Lava-Jato é necessária para que o país possa ser passado a limpo [...] Visitarei o Lula em Curitiba, sou uma pessoa educada e levarei chocolates para ele\" confira aos 10 min 50 seg do vídeo:\n",
      "907\n",
      "Lula é penta!.  Somente neste ano de 2016, o nobre Luíz Inácio conseguiu um recorde.  O petista conquistou a proeza de ser denunciado 5 vezes pelo Ministério Público. Somente na Operação Lava Jato, foram 3 denúncias. As outras duas denúncias são provenientes das operações Zelotes e Janus. Agora, o ex-presidente tenta montar uma teoria da conspiração para provar sua tese de \"perseguição política\". Voltamos a alertar: A Justiça tem que prender o passaporte desse cidadão [...] ele vai fugir do país!\n",
      "908\n",
      "Wyllys diz que está sendo punido por ser homossexual. Não Jean, você está sendo punido porque não teve decoro.  Ricardo Izar (PP-SP) e Jean Wyllys (PSOL-RJ) tiveram um bate-boca feio no início da noite de hoje (14) no plenário da Câmara.  (Karen Barbosa  Jornalista e homossexual com orgulho  para o Diário do Brasil) Acusado de quebra de decoro parlamentar por ter cuspido em Jair Bolsonaro, Jean Wyllys é alvo de um parecer do deputado Izar que pede a suspensão de seu mandato por quatro meses. Jean disse, durante a discussão de hoje, que está sendo punido por ser homossexual. Não caro Jean! Vossa excelência está sendo punido porque não teve decoro, porque é porco e porque usa o homossexualismo para se promover como figura pública. Enfim, está sendo punido porque é um ser humano desprezível e um péssimo parlamentar para o Brasil. Pare de fazer papel de vítima caro parlamentar. O povo não é bobo!\n",
      "909\n",
      "\"Caju\" subestima a inteligência do povo e diz que esquema da Odebrecht é uma armação.  A Odebrecht,  em seus vários acordos de delação que fechou com o MPF,  alega que fez [...] digamos \" PAGAMENTOS DE BENESSES \"a vários políticos para que cuidassem de seus interesses no Congresso Nacional..  \"Eu estou indignado com a armação dessa história da Odebrecht\" disse Jucá ontem no plenário do senado. Armação senador? Como é que o senhor tem coragem de dizer tamanha asneira? Não subestime nossa inteligência,  caro Jucá. 77 executivos assinaram acordos de delação premiada com o Ministério Público. Marcelo Odebrecht já assumiu que havia um esquema de corrupção (envolvendo dinheiro público) dentro da empresa e está encarcerado há mais de 1 ano. O pai de Marcelo (Emílio Odebrecht) já firmou um acordo para delatar os esquemas ilegais dentro da empresa. A própria empresa já emitiu um comunicado público pedindo desculpas ao país e fez um acordo para pagar uma multa bilionária. E o senhor ainda vem dizer que tudo não passa de armação? Quanto cinismo e cara de pau! assista no final do vídeo,  o momento em que Caju (ops ... Jucá) afirma que é vítima de uma armação: A identificação dos beneficiários,  incluindo deputados,  senadores,  ministros,  autoridades,  etc ... era feita por apelidos. Cláudio Melo Filho,  ex-presidente de relações institucionais da empresa ,  identificou alguns desses codinomes. CAJU ( Romero Jucá,  PMDB-RR ) tido como principal aliado da Odebrecht. JUSTIÇA Ao lado de CAJU,  Justiça ( Renan Calheiros,  PMDB-AL ) é apontado como um dos principais articuladores da empreiteira no senado. ÍNDIO ( Eunício Oliveira,  PMDB-CE ) fecha o trio de principais aliados da Odebrecht no senado. De acordo com a delação de Cláudio Melo Filho,  em informações prestadas à Lava Jato,  Índio foi o responsável em intermediar repasses de cerca de R$ 22 milhões a Romero Jucá. Jucé,  por sua vez,  repassava a parte de Renan Calheiros,  atual Presidente do Senado.\n",
      "910\n",
      "O MITO: Aos 86 anos,  apresentador surpreende. Sílvio parou seu carro e deu carona para um fã.  Silvio Santos continua sendo um mito vivo.  Wesley Oliveira Aguiar ,  fã do apresentador do SBT,  conseguiu encontrar Sílvio dirigindo seu próprio veículo nas ruas de SP. Sílvio Santos simplesmente parou o carro e deu uma carona ao rapaz,  que registrou o momento histórico em um vídeo feito com seu celular.\n",
      "911\n",
      "Tiririca : As escolas falam mais de sexo que de Deus. O deputado Tiririca emocionou o Congresso Nacional ao pedir a volta da disciplina Ensino Religioso para as Escolas do Brasil. Segundo ele hoje se fala mais de sexo que de Deus nas Escolas.\n",
      "\n",
      "O deputado Francisco Everardo, mais conhecido como Tiririca, voltou a se emocionar na Câmara dos Deputados. Desta vez foi em um discurso realizado na tribuna da câmara para pouquíssimos deputados, já que era numa segunda-feira e a maioria absoluta dos deputados só trabalha a partir da terça. Em seu discurso Tiririca apresentou seu projeto que pede a volta da disciplina Ensino Religioso para as escolas. Segundo ele está havendo uma inversão de valores morais. Confira um trecho do discurso:\n",
      "\n",
      "Quando um pai coloca o filho na Escola ele espera o que? Que o filho aprenda a ler, escrever e ser uma pessoa melhor. Hoje infelizmente muitos professores estão falando mais de sexo que de Deus nas salas de aula. O aluno precisa saber quem foi Jesus até mesmo nas aulas de História, ele e nossa história. A bíblia que é o livro mais lido de todos os tempos não está nem na biblioteca. Tiraram Ensino Religioso das aulas e estão falando de homossexualismo e masturbação. Isso não está certo. Precisamos restituir a honra e a gloria do Senhor.\n",
      "\n",
      "Eu não tenho nada contra homossexuais. Trabalhei na TV com muitos homossexuais que hoje são meus grandes amigos. Tenho parentes baitolas que são mais macho que muito deputado aqui de dentro. Respeito os homossexuais e sei o quanto o preconceito pé ruim e ameaçador. Sou nordestino e vivi o preconceito como poucos viveram. Eu era preto, pobre, nordestino e artista de rua. Mas é preciso educar para o respeito ao ser humano, não ao respeito a uma categoria. Quando a criança crescer ela decide se quer se relacionar com homens ou mulheres, mas desde sempre ela precisa ser respeitadora para merecer respeito. Quem melhor pode ensinar respeito é a Bíblia sagrada.  Por favor, voltem com o Ensino Religioso. Por favor, voltem com o Ensino Religioso. Por favor, voltem com o Ensino Religioso.\n",
      "912\n",
      "Mendes bate boca com Fux no TSE.  Não adianta mais tentar esconder! A crise se estendeu para os 3 poderes.  O país está perdido!\n",
      "913\n",
      "Temer tenta acelerar Lava-Jato e recebe resposta da PGR: \"Temos nosso próprio tempo. Não dependemos de política\". .  O presidente Temer pediu ontem (12) ao PGR,  Rodrigo Janot,  que acelere os depoimentos dos políticos que estão sendo investigados junto ao MPF e finalize o mais rápido possível os processos das colaborações premiadas. Porque a pressa Temer? Calma presidente,  seu partido (incluindo vossa excelência) vai implodir aos poucos. Ainda faltam 76 delações da Odebrecht que irão mostrar ao povo a verdadeira face dos corruptos que administram nosso país. A PGR divulgou uma nota em resposta ao pedido do Presidente: \"As investigações e o desenvolvimento da Operação Lava Jato obedecem tempo próprio,  independente da agenda política do país. O Ministério Público Federal exerce sua função de apurar indícios de crimes citados por colaboradores com responsabilidade e profissionalismo.\" A PGR foi clara com Temer: Fique na sua a faça seu trabalho. Aqui quem manda somos nós.\n",
      "914\n",
      "Senadores tentam barrar urgência na votação da Lei de abuso de autoridade. Renan vai perder mais uma.  Três senadores formalizaram requerimentos para barrar a urgência no projeto de abuso de autoridade,  de autoria de Romero Jucá.  Álvaro Dias,  Ronaldo Caiado e Antonio Carlos Valadares confirmam que já possuem assinaturas suficientes para barrar a urgência no projeto do presidente do senado. No caso de Caiado,  o requerimento já tem o apoio de quarenta e cinco senadores. Para barrar a votação do projeto,  são necessárias vite e uma assinaturas. Renan está sem moral no senado! Vai tentar colocar o projeto para votação hoje e levará um gancho de direita.\n",
      "915\n",
      "TSE tem provas suficientes para cassar Michel Temer. Novo presidente pode ser eleito por voto indireto.  O TSE já tem indícios suficientes para provar que o financiamento de campanha da chapa Dilma/Temer se beneficiou de verbas desviadas do esquema criminoso proveniente da Petrobras.  Nesse caso,  os dois teriam que ser depostos. O blog do Josias de Souza informou que tais evidências documentais e testemunhais são suficientes para cassar a chapa PT/PMDB. Como Dilma já \"rolou rampa abaixo\" no Planalto,  a bola da vez é presidente Michel Temer. Caso a chapa seja cassada pelo TSE até este mês (dezembro de 2016),  poderá haver novas eleições diretas para presidente da República. Se o julgamento for \"empurrado\" para 2017,  caberá ao Congresso Nacional apontar o nome do próximo presidente através de eleição indireta.\n",
      "916\n",
      "Padilha será a sétima baixa no governo Temer. Citado 45 vezes na Lava-Jato,  ele vai se afastar por \"licença médica\".  Aguarda-se (no Planalto) um pedido de licença do ministro Eliseu Padilha.  Quem informa é o colunista Lauro Jardim. De acordo com a nota,  Eliseu estaria se ausentando por motivos de saúde. Identificado nas planilhas da Odebrecht como \"Primo\",  o ministro da Casa Civil,  também filiado ao PMDB,  aparece 45 vezes na delação de Cláudio Melo Filho,  ex-executivo da empreiteira. Até o momento,  já caíram os ministros Romero Jucá (Planejamento)  Henrique Alves (Turismo)  Fabiano Silveira (Transparência,  Fiscalização e Controle)  Fábio Medina Osório (advogado-geral da União)  Marcelo Calero (Cultura)  Geddel Vieira Lima (Secretaria de Governo ) Depois da queda dos ministros acima,  ainda há outros seis com citações em inquéritos ou delações: São eles: José Serra (Itamaraty),  Mendonça Filho (Educação),  Ricardo Barros (Saúde),  Bruno Araújo (Cidades),  Osmar Terra (Desenvolvimento Social e Agrário) e Raul Jungmann (Defesa) [...] além de Moreira Franco,  que é secretário de Privatizações e Concessões,  mas não possui cargo com status de ministério.\n",
      "917\n",
      "URGENTE! Lavagem de dinheiro no Instituto Lula: Ex-presidente acaba de ser indiciado pela PF.  O G1 acabou de informar que a PF indiciou o ex-presidente Luiz Inácio,  Antônio Palocci,  dona Marisa Letícia e mais 4 pessoas no âmbito Operação Lava Jato.  Lula é acusado pelo crime de corrupção passiva. Todos os demais foram denunciados por lavagem de dinheiro. A Polícia Federal defende que o caso se trata de pagamento de propina da construtora Odebrecht ao ex-presidente.\n",
      "918\n",
      "Urgente: Renan abre votação para o PL 280 (abuso de autoridade) Assista ao vivo. .  Ele quer votar de qualquer jeito! Assista ao vivo.\n",
      "919\n",
      "Alexandre Garcia sobre Renan Calheiros: \"Pobre estado brasileiro podre. É uma república de bananas\".  \"Parece uma república de banana\" começa Garcia.  A mesa do senado,  em sua maioria,  decidiu não acatar a ordem de um juiz da Suprema Corte do país. Pobre estado brasileiro podre! confira no áudio:\n",
      "920\n",
      "Terreno do Instituto Lula foi comprado com dinheiro de propina. Lula vai fugir do país!.  O depoimento de Marcelo Odebrecht,  em seu acordo de delação premiada,  começou ontem (13) em Curitiba.  O empresário está preso na capital paranaense há mais de um ano e faz parte de um grupo de 77 executivos que firmaram acordos de colaboração com o MPF. De acordo com informação do Antagonista,  Marcelo Já admitiu à Procuradoria Geral da República que a compra do terreno para a construção da sede do Instituto Lula foi feita pela Odebrecht através de um esquema de repasse de propinas. A PF indiciou ontem (12) o ex-presidente Luiz Inácio,  Antônio Palocci,  dona Marisa Letícia e mais 4 pessoas no âmbito Operação Lava Jato. Lula é acusado pelo crime de corrupção passiva. Todos os demais foram denunciados por lavagem de dinheiro. Se Lula não for preso logo,  ele vai fugir!\n",
      "921\n",
      "PEC do Teto ao vivo: Começa o quebra-pau no senado.  Começou no senado a votação da PEC do Teto em segundo turno.  Renan está com pressa e quer votar a toque de caixa. Assista ao vivo:\n",
      "922\n",
      "Wesley vira evangélico e pode tirar o Safadão do nome artístico. O cantor Wesley Safadão foi batizado em uma igreja evangélica. O pastor Jonathan Batista informou que Wesley não está mais se sentindo bem com o sobrenome artístico, e pretende mudar os rumos musicais de sua carreira.\n",
      "\n",
      "O casal, que completa um ano de casamento, resolveu celebrar a data na Estância Paraíso, em Minas Gerais, que pertence à Igreja Batista da Lagoinha. No aniversário do meu casamento, recebemos o maior presente que poderíamos receber: três dias aprendendo muito sobre Deus e nos firmando cada dia mais como família, escreveu o cantor na rede social. O batismo seria o fechamento do ciclo.\n",
      "\n",
      "O pastor Jonathan Batista acompanha a família do artista há cerca de um ano e afirma que pouco a pouco Wesley está se afastando dos valores mundanos e se aproximando de Deus. Segundo ele, o mundo artístico do universo sertanejo e repleto de bebidas, prostituição e vaidades. Não é saudável para a vida espiritual.\n",
      "\n",
      "O desconforto de Wesley estaria tão elevado que ele já cogitaria mudar o nome artístico para Wesley Salvação. O pastor Jonathan Batista disse que Wesley tem um público infantil muito grande, e que se sente mal vendo crianças o chamando por um nome que agride a inocência.\n",
      "\n",
      "Não há no Brasil atualmente um artista com o faturamento maior (ou ate mesmo próximo) ao de Wesley Safadão. Mesmo com todo o sucesso material que o mundo pode oferecer ele pode abrir mão de tudo para dar voz a Palavra do Senhor.\n",
      "\n",
      "O cachê mensal de Wesley Safadão não para de subir! O cantor, que recebe na casa de R$ 600 mil e cobra até R$ 800 mil por shows, foi o único do ramo showbizz nacional que não sofreu uma queda, indo cada vez mais na contra mão da grave crise financeira que atinge o Brasil. Entretanto, o artista não ganha apenas ao subir nos palcos: os vários poderosos contratos publicitários assinados por Safadão com a Trident, Skol e Renault fez com que o dinheiro triplicasse.\n",
      "\n",
      "Com média de 20 shows por mês o cachê mensal de Safadão agora gira em torno de R$ 8 milhões e R$ 12 milhões por mês.\n",
      "923\n",
      "Moro pede remanejamento de presos. Novos corruptos poderão ser presos até o fim de semana.  A PF estará providenciando a transferência de três presos que estão no \"hotel da PF\" em Curitiba para o Complexo Médico Penal,  em Pinhais,  região metropolitana da capital..  Eduardo Cunha (PMDB-RJ),  Léo Pinheiro (OAS) e João Claudio Genu (ex-tesoureiro do PP) serão transferidos. O G1 informou que a quantidade de vagas na carceragem da PF está próxima do \"limite tolerável\" e o remanejamento é necessário para não haver \"risco à segurança\" dos presos. Ao que tudo indica,  Curitiba terá novos ladrões comemorando o Natal atrás das grades. Sérgio Moro quer os presentear os brasileiros. Será que é quem eu estou pensando? Hã?\n",
      "924\n",
      "A inteligência emocional falou mais alto que o Q.I.  Veja a resposta de Marrone para a grosseria de Jô Soares.  Durante uma entrevista com as duplas sertanejas Chitãozinho & Xororó e Bruno e Marrone,  o apresentador Jô Soares brincou \"além do limite\" com Marrone.  Jô (em um gesto de grosseria imenso) não poupou críticas e disse: \"Gente,  ele nem se esforça. Não presta nem para mexer a boca.\" disse o apresentador. O cantor ficou sem jeito e acabou entrando na brincadeira de Jô: \"Meu nome é único,  sou mais conhecido que o Bruno. Quando ligam para minha casa,  eu falo que é o Marrone e todo mundo sabe quem é. No caso do Bruno,  ele tem que falar que é o do Bruno e Marrone [...] senão ninguém reconhece ele\",  disse. E as brincadeiras não pararam por aí: \"... colocar os nomes dos próprios músicos para fazer a dupla foi algo muito difícil. Isso te dá o privilégio de não fazer nada\" continuou o apresentador. Antes de passar do segundo para o terceiro bloco,  Jô ainda deu mais uma cutucada em Marrone: \"Daqui a pouco a gente volta com as duas duplas cantando. Você vai cantar,  né Marrone?\" Marrone deu uma resposta inusitada e calou a boca de todos no auditório: \"Jô,  antes de encerrar,  eu queria dizer que sou seu fã e te amo muito\" O gordo não sabia onde enfiar a cara. O silêncio no estúdio foi absoluto. Parabéns Marrone! Sua inteligência emocional falou mais alto de todo o Q.I. de Jô Soares!\n",
      "925\n",
      "Colunista do Globo diz que delatores da Odebrecht estão sofrendo ameaças de morte. .  Após a primeira bomba lançada pelo ex-executivo da Odebrecht,  Cláudio Melo Filho,  envolvendo 51 políticos e 11 partidos,  as ameaças começaram a acontecer. Uma longa lista com diversos políticos envolvidos em recebimento de propinas,  seus respectivos apelidos e os valores recebidos foi divulgada em toda a rede. A PF tem que cuidar da proteção desses delatores ou eles começarão a sumir [...] um a um.\n",
      "926\n",
      "Calheiros extrapola todos os limites e tenta acabar com o Ministério Público.  Após ser denunciado ontem (12) pelos crimes de corrupção e lavagem de dinheiro,  Renan Calheiros voltou a jorrar seu veneno contra o Ministério Público.  Calheiros disse que o MP \"perdeu a condição de ser fiscal da lei\" e tentou encaixar uma pauta de sua própria autoria que endurece as penas para os crimes de abuso de autoridade. Para o senador e toda sua trupe peemedebista,  abuso de autoridade significa investigar e prender políticos corruptos. A corrupção é algo normal para esse tipo de parlamentar [...] algo já está no sangue e no caráter! No projeto criminoso de Renan,  haveria um aumento de penas para servidores públicos como juízes,  promotores e procuradores. Apelidada pelo coordenador da Lava-Jato (Deltan Dallagnol) de \"Lei da Intimidação\",  o projeto está sendo rechaçado por membros do MP e Associações de Juízes. A verdade é a seguinte: O corrupto quer prender o juiz! O mesmo acontece com Lula.\n",
      "927\n",
      "Os principais beneficiários de repasses da Odebrecht e seus respectivos codinomes  Partes 4, 5 e 6. .  *** CORRIGIDO *** BOTAFOGO  Rodrigo Maia (DEM-RJ).  Citado como destinatário de R$ 100 mil vindos da Odebrecht. LAS VEGAS  Anderson Dornelles . Fiel escudeiro de Janete (Dilma) aparece como beneficiário de uma mesada de R$ 50 mil. CAMPARI  Gim Argello (PTB-DF). De acordo com Cláudio Melo,  Campari recebeu R$ 1, 5 milhão em cash (dinheiro vivo). HELICÓPTERO  Ciro Nogueira (PP-PI). Teria recebido (de acordo com o delator) R$ 1, 6 milhão da Odebrecht. GRIPADO  José Agripino Maia (DEM-RN).  Consta como beneficiário de R$ 1 milhão vindos Odebrecht após insistentes pedidos de Aécio Neves. TODO FEIO  Inaldo Leitão . A delação diz que ele teria recebido R$ 100 mil. CORREDOR  Duarte Nogueira (PSDB-SP). Prefeito de Ribeirão Preto. O delator afirma que ele recebeu R$ 350 mil da empreiteira. GREMISTA  Marco Maia (PT-RS). o deputado,  ainda de acordo com o site Buzzfeed,  recebeu dois pagamentos que somam R$ 1, 35 milhão. TUCA  Arthur Maia (PPS-BA). O delator afirma que o deputado foi beneficiário de R$ 600 mil. MISERICÓRDIA  Antônio Brito (PSD-BA). A delação diz que ele teria recebido R$ 100 mil. DECRÉPITO  Paes Landim (PTB-PI). A delação diz que ele teria recebido R$ 100 mil no ano de 2010. BOCA MOLE  Heráclito Fortes (PSB-PI). Segundo o delator,  Boca Mole recebeu R$ 200 mil em 2010. KIMONO  Arthur Virgílio (PSDB-AM). O prefeito de Manaus teria recebido R$ 300 mil da empreiteira. MISSA  José Carlos Aleluia (DEM-BA). Melo Filho contou que Missa teria recebido R$ 300 mil da Odebrecht. FEIA  Lídice da Mata (PSB-BA). Aparece na planilha como beneficiária de R$ 200 mil. FERRARI  Delcídio do Amaral (PT-MS). Segundo o delator,  ele recebeu R$ 500 mil para aprovar um projeto sobre alíquotas de ICMS. VELINHO  Francisco Dornelles (PP). O vice-governador (de 81 anos) do Rio de Janeiro e primo de Aécio Neves,  teria recebido R$ 200 mil. leia também:\n",
      "928\n",
      "Roberto Carlos e Jô Soares chorando juntos em uma canção. O Brasil se emocionou com eles!.  Tem certas coisas na vida que dispensam textos e muitos blá blá blá.  Veja o clima de emoção que rolou entre o apresentador Jô Soares e o cantor Roberto Carlos. É impossível não se emocionar.\n",
      "929\n",
      "Mais um delator confirma que o presidente \"levou\" R$ 10 milhões da Odebrecht.  A Revista Veja acabou de confirmar que outro delator confirmou a versão de Marcelo Odebrecht de que o presidente peemedebista levou 10 \"milhõezinhos\" da empreiteira.  abre aspas \"De acordo com o delator Claudio Melo Filho ( diretor da Odebrecht),  o valor foi pago em dinheiro vivo,  a pessoas da estrita confiança de Temer,  como Eliseu Padilha,  chefe da Casa Civil,  e José Yunes,  amigo há 50 anos de Temer e assessor especial do presidente\". fecha aspas O documento relata que ,  durante um jantar ocorrido em maio de 2014,  no Palácio do Jaburu,  Michel Temer,  Eiiseu Padilha e Marcelo Odebrecht fizeram um acordo sobre \"supostos\" incentivos para o PMDB. O organizador do jantar teria sido o empresário e presidente da FIESP Paulo Skaf,  porém o mesmo não compareceu ao encontro. A delação narra que Michel Temer pediu apoio financeiro para Marcelo Odebrecht. O \"apoio para o PMDB\" foi dado: Marcelo Odebrecht \"doou\" R$ 10 milhões em dinheiro vivo ( R$ 4 milhões foram para Eliseu Padilha e R$ 6 milhões para Paulo Skaf). Segundo a Veja,  Temer,  Padilha e Skaf negaram ter recebido a bolada. O que não bate é que os 10 milhões de reais em espécie ao PMDB apareceram na contabilidade clandestina da Odebrecht. É tudo dinheiro roubado dos cofres públicos! A Assessoria do Presidente interino disse que o dinheiro \"foi recebido em absoluto acordo com a legislação eleitoral em vigor e depois declarado ao Tribunal Superior Eleitoral\". O site Antagonista também noticiou o fato:\n",
      "930\n",
      "Marina quer novas eleições! De 4 em 4 anos ela aparece para ajudar Lula! A Rede é PT!.  Derrotada nas eleições presidenciais de 2010 e 2014,  a \"chefona\" do partido REDE defendeu que sejam convocadas novas eleições.  Marina é uma pessoa incrível. É o que chamamos de candidato bissexto  só aparece que 4 em 4 anos. Sua aparição [dessa vez] é uma exceção nesses anos \"bissextos\" [...] ela veio \"camufladamente\" para ajudar Lula. \"A população tem o direito de dar a palavra final,  agora sabendo de tudo o que ficou oculto,  e escolher um novo governo para coordenar os imensos esforços que o Brasil terá de fazer para tirar o país da crise\",  disse a líder da Rede. \"Dilma e Temer são faces da mesma moeda\",  disse Marina ao jornal Estadão. Marina não quer saber se Temer conseguirá tocar a economia do país. Marina quer Temer fora da jogada! Marina quer Lula na presidência! O eleitor dos tempos modernos já não é tão \"trouxa\" como pensa esses novos partidos políticos. A Rede Sustentabilidade não passa de um plano \"B\" para o Partido dos Trabalhadores. O PT,  vendo que o país está afundando cada vez mais,  viu sua popularidade desabar durante os últimos anos. Qual o plano então? O plano foi \"exportar\" petralhas para uma nova sigla,  Resultado: O novo partido de Marina não passa de um PT disfarçado de REDE. Acorda Marina Silva! O povo não é bobo!\n",
      "931\n",
      "Tragicômico: Ex-deputado se irrita ao ser identificado como \"Todo feio\" e chama delator de \"Todo mentiroso\".  O ex-deputado Inaldo Leitão usou as redes sociais para se defender das acusações que tem recebido desde a última sexta-feira (09).  Acusado pelo delator Cláudio Melo (ex-executivo da Odebrecht) de ter recebido um aporte financeiro de R$ 100 mil,  Inaldo está irritado por dois motivos: Primeiramente ele afirma que a quantia recebida foi legal e que nunca atuou a favor de interesses da Odebrecht no Congresso. O segundo motivo já se enquadra em uma questão de \"bullying parlamentar\" [...SIC...] se é que isso existe! Identificado no documento da delação pelo codinome \"Todo Feio\",  o ex-deputado se irritou com o delator (e ex-amigo) e chamou Cláudio Melo de \"canalha\": \"Todo Feio,  eu? [...] se eu também tivesse que escolher um codinome para Cláudio,  ficaria em dúvida entre \"Todo Horroroso\" ou \"Todo Mentiroso\" disse Inaldo. Como dissemos no título da matéria,  seria cômico se não fosse trágico!\n",
      "932\n",
      "\"Justiça\" é denunciado por lavagem de dinheiro e corrupção passiva. PGR quer a perda da função pública do senador.  A Procuradoria Geral da República,  através de Rodrigo Janot,  denunciou Renan (conhecido pela alcunha de \"Justiça\") ao STF.  Somente na Operação Lava-Jato,  o senador é alvo de oito inquéritos. Essa é a primeira de muitas denúncias que virão. \"Justiça\" foi denunciado por lavagem de dinheiro e corrupção passiva. A PGR pede também a \"perda da função pública\" de Calheiros e do deputado Aníbal Gomes (PMDB/CE),  além da devolução do dinheiro de propina. O valor atualizado (somente nesta denúncia) totaliza 1, 6 milhão de reais. Vale ressaltar que \"Justiça\" ainda não é réu. Os ministros do STF precisam aceitar a denúncia para depois abrir uma ação penal.\n",
      "933\n",
      "Bispo católico diz que homossexualidade é dom de Deus. Bispo católico contraria leis de Deus em sermão para defender a homossexualidade e blasfemar dizendo que homossexualismo é um dom de Deus. Estes são os valores católicos?\n",
      "\n",
      "No último domingo (30), o bispo de Caicó, Rio Grande do Norte, Dom Antônio Carlos Cruz Santos, proferiu um sermão que vem causando espanto e indignação dentro de vários segmentos da Igreja Católica. Abordando o tema da homoafetivdade, ele deturpa os ensinamentos tanto da Bíblia quanto do Catecismo da Igreja e afirma: Na perspectiva da fé quando a gente olha pra homossexualidade, a gente não pode dizer que é opção. Opção é uma coisa que livremente você escolhe e orientação ninguém escolhe",
      " Escolha vai ser a maneira como você vai viver a sua orientação",
      " Se não é escolha, se não é doença, na perspectiva da fé, só pode ser um dom. É dado por Deus. Dom é isso: é dado por Deus.\n",
      "\n",
      "Aos fieis, ele diz que as pessoas que não conseguem ver isso precisam se livrar de seus preconceitos. Repetindo um discurso cada vez mais comum nos movimentos de esquerda, ele pede que se vença esse preconceito contra as pessoas de orientação homoafetiva tal como se superou o existente contra os negros no período da escravidão.\n",
      "934\n",
      "General que chamou brasileiros de \"malucos\" deu um tiro no pé. Ele será o primeiro a cair depois que Temer renunciar.  O General que chamou os brasileiros de \"malucos\" deu um tiro no pé!.  (Patrícia Carvalho  de Brasília para o Diário do Brasil) Em uma \"desastrada\" entrevista para o Estado de São Paulo,  o militar demonstrou que está pouco se importando com a situação política e econômica do Brasil. Há de se lembrar que a sua nomeação partiu de uma indicação de Janete e Jaques Wagner. Janete é a presidente que foi chutada do cargo por incompetência administrativa e Wagner está envolvido até o pescoço com as delações da Odebrecht. Mas vamos adiante com o raciocínio ... O artigo 142 da CF diz que  as Forças Armadas destinam-se à defesa da Pátria,  à garantia dos poderes constitucionais e,  por iniciativa de qualquer destes,  da lei e da ordem [...] interpretação essa que o tal \"comandante\" parece não se importar visto que o país está sendo saqueado (literalmente) por políticos corruptos. O que fez então o presidente Michel Temer? Uma barganha! Colocou em pauta uma reforma da previdência que sacrifica o povão e deixa os militares intocáveis. Para agradecer o gesto de Temer,  o general fez uma declaração onde chama os brasileiros de malucos. Nunca antes na história deste país um governo tomou uma iniciativa tão estúpida como essa! Está na cara que essa declaração partiu do Palácio do Planalto. É uma pena que as Forças Armadas entraram no jogo político do PMDB. Quando Temer desabar,  eles serão os primeiros a perderem seus cargos.\n",
      "935\n",
      "Advogado de Lula tenta tumultuar audiência e toma catracada de Sérgio Moro: \"O senhor respeite o juízo\". . \n",
      "936\n",
      "Cuecas de luxo? Governador de MG é flagrado por internauta em shopping de SP: \"Faliu Minas e vem gastar dinheiro aqui?\".  Ele decretou estado de calamidade pública financeira em um estado e foi fazer compras em outro.  Bem,  parece que o povo não gostou muito! \"Você faliu Minas e vem gastar o dinheiro aqui em São Paulo?\" \"Acabou com Minas e agora veio gastar nosso dinheiro?\" \"Vagabundo. Vocês vão pra cadeia\" (vídeo de Cláudio Dantas)\n",
      "937\n",
      "Os principais beneficiários de repasses da Odebrecht e seus respectivos codinomes  Parte 3. .  Continuando a saga da lista de beneficiários da empreiteira,  aparecem os seguintes nomes: BABEL Geddel Vieira Lima (PMDB-BA) . Segundo o delator,  Babel teria recebido R$ 1, 5 milhão do esquema. Mais de 100 ligações registradas no celular de Geddel serão usadas como provas. BITELO Irmão de Babel (acima). Esse é o codinome do deputado federal Lúcio Viera Lima (PMDB-BA) ,  que de acordo com o ex-diretor da Odebrecht,  teria recebido entre R$ 1 milhão a R$ 1, 5 milhão para ajudar na aprovação de uma MP de interesse da Odebrecht. POLO Codinome de Jacques Wagner (PT-BA) . De acordo com o delator,  o ex-governador da Bahia teria recebido um relógio Hublot de R$ 80 mil. além de ser ter sido beneficiado com pagamentos que totalizariam algo em torno de R$ 9, 5 milhões.\n",
      "938\n",
      "Os principais beneficiários de repasses da Odebrecht e seus respectivos codinomes  Parte 1. .  A Odebrecht,  em seus vários acordos de delação que fechou com o MPF,  alega que fez [...] digamos \" PAGAMENTOS DE BENESSES \"a vários políticos para que cuidassem de seus interesses no Congresso Nacional. A identificação dos beneficiários,  incluindo deputados, senadores, ministros, autoridades, etc ... era feita por apelidos. Cláudio Melo Filho,  ex-presidente de relações institucionais da empresa ,  identificou alguns desses codinomes. Você conhecerá alguns deles (vamos publicar de 3 em 3): CAJU ( Romero Jucá,  PMDB-RR ) tido como principal aliado da Odebrecht. JUSTIÇA Ao lado de CAJU,  Justiça ( Renan Calheiros,  PMDB-AL ) é apontado como um dos principais articuladores da empreiteira no senado. ÍNDIO ( Eunício Oliveira,  PMDB-CE ) fecha o trio de principais aliados da Odebrecht no senado. De acordo com a delação de Cláudio Melo Filho,  em informações prestadas à Lava Jato,  Índio foi o responsável em intermediar repasses de cerca de R$ 22 milhões a Romero Jucá. Jucé,  por sua vez,  repassava a parte de Renan Calheiros,  atual Presidente do Senado.\n",
      "939\n",
      "Fim da linha! Odebrecht coloca a empresa em primeiro lugar e dá adeus a Lula.  A Revista Época acabou de publicar que delatores da Odebrecht jogaram a toalha.  Em duas novas delações,  foi confirmado que as campanhas presidenciais de Luís Inácio tiveram recursos provenientes de caixa dois (recursos financeiros não contabilizados e não declarados aos órgãos de fiscalização competentes do Poder Executivo) em 2002 e 2006 [...] trocando em miúdos  DINHEIRO ILEGAL. Os repasses foram coordenados pelos tesoureiros petistas das respectivas campanhas. Em ambos os depoimentos,  foi confirmado que Lula pediu dinheiro diretamente para o todo poderoso Emílio Odebrecht.\n",
      "940\n",
      "Os principais beneficiários de repasses da Odebrecht e seus respectivos codinomes  Parte 2. .  Continuando a saga da lista de beneficiários da empreiteira,  aparecem os seguintes nomes: PRIMO ministro Eliseu Padilha (PMDB-RS) apontado pelo delator como o \"fiel escudeiro de Michel Temer\" e que muitas vezes falou em seu nome\" ANGORÁ apelido dado a Moreira Franco (PMDB-RJ),  Secretário especial de governo que seria um dos responsáveis em arrecadar verba para Temer. CARANGUEJO codinome de Eduardo Cunha (PMDB-RJ) . O delator afirma que a empresa aprovou pagamentos de R$ 7 milhões para o ex-presidente da Câmara.\n",
      "941\n",
      "Quem é o cidadão que telefonou para o juiz Sérgio Moro e disse: \"Cuidado,  você não é Deus\" ?.  Um vídeo postado no Youtube já obteve mais de 180 mil visualizações.  O vídeo mostra uma \"suposta\" ligação para o gabinete do juiz federal Sérgio Moro. O homem do lado de cá da linha se identifica como Daniel. Após 3 ou quatro toques,  Moro atende o telefone. Daniel diz: \"É o Sérgio? Eu sou um cidadão e queria falar com você sobre os acontecidos [...] Você tem que ser cuidadoso com os métodos porque você não é Deus. A legislação e a Constituição também se aplicam também a você\" disse o tal cidadão. Moro respondeu com calma: \"Sr. Daniel,  eu vou levar em consideração. Deixa eu voltar a trabalhar\" respondeu. Caso a ligação seja verdadeira,  podemos comprovar de que se trata de um petista borra-botas! Porque não se identificou no telefone mas fez questão de divulgar o vídeo na internet? Todo cidadão tem o direito de se expressar,  mas a conversa pareceu (nossa opinião) um alerta em tom de ameaça. leia também:\n",
      "942\n",
      "BRIGA SEM FIM  Jornalista ataca Zezé Di Camargo no twitter: \"Ele traiu a atual namorada e ainda quebrou o bilau\". .  Leo usou o Twitter hoje (08) para atacar Zezé com várias postagens [...] digamos,  um pouco íntimas! Além de dizer que o cantor traiu a ex-mulher (Zilu),  o colunista diz que Zezé também traiu a atual namorada,  Graciele Lacerda. As desavenças entre esses dois não vai acabar bem! O cantor já está processando o jornalista por danos morais em aproximadamente de R$ 800 mil reais. A informação da Revista Veja é de que o processo já chegou ao Supremo Tribunal Federal (STF). Leo parece que perdeu o juízo! Leia abaixo as tuitadas do colunista: leia também:\n",
      "943\n",
      "Acabou! Por 6 votos a 3,  STF decide que Renan Calheiros continua na presidência do senado.  O STF decidiu por maioria manter Renan Calheiros (PMDB-AL) na presidência do Senado.  A ressalva é de que Renan fique impedido de substituir Temer na presidência da República. Todos os ministros que cotaram até agora concordaram que Renan fica proibido de substituir o presidente da República. Votaram a favor de manter Renan na presidência: Celso de Mello,  Teori Zavascki,  Dias Toffoli,  Luiz Fux e Ricardo Lewandowski e a presidente Cármen Lúcia. Votaram a favor do afastamento: Marco Aurélio Mello (relator),  Edson Fachin e Rosa Weber . Valeu STF! De hoje em diante vamos todos fugir dos oficiais de justiça! Respeitar liminar pra quê?\n",
      "944\n",
      "Edir Macedo diz que Jesus fazia Milagres Baratos. O bispo Edir Macedo blasfemou da maneira mais agressiva e torpe que um homem pode blasfemar. O pastor mais rico do Brasil disse que Jesus fazia milagres baratos. Segundo a revista FORBES o patrimônio de Edir Macedo e de R$ 4 bilhões.\n",
      "\n",
      "Jesus Cristo, o filho de Deus, fez besteira ao transformar água em vinho. Este milagre não serviu pra nada, segundo as sacras e teologais palavras do Bispo Edir Macedo.\n",
      "Segundo Edir, Jesus Cristo, filho do Criador, alegrou apenas os convidados de uma festa de casamento quando fez água virar vinho, trouxe felicidade somente pros participantes de uma farra nupcial.\n",
      "Garante Edir Macedo que Jesus cometeu um equívoco, pois poderia ter feito uma coisa mais proveitosa, e perpetrou um milagre que não trouxe qualquer benefício para o Reino de Deus.\n",
      "E o bispo pergunta aos fieis que o escutam:os. É justo Jesus transformar água em vinho sem beneficiar qualquer pessoa para o Reino de Deus? Pessoas que apesar de crerem em Ti, continuam com a mesma qualidade de vida, a mesma vidinha?.\n",
      "Edir Macedo conclui dizendo: Eu não aceito isto. A minha inteligência se nega a aceitar esta situação.\n",
      "Enfim, Edir é mais inteligente que o Criador. É mais inteligente que Jesus, que fez o milagre e é filho de Deus\n",
      "Se vocês pensam que estou inventando ou escrevendo blasfêmias, confiram no vídeo abaixo:\n",
      "Edir Macedo diz que Jesus fazia Milagres Baratos. esus Cristo, o filho de Deus, fez besteira ao transformar água em vinho. Este milagre não serviu pra nada, segundo as sacras e teologais palavras do Bispo Edir Macedo.\n",
      "Segundo Edir, Jesus Cristo, filho do Criador, alegrou apenas os convidados de uma festa de casamento quando fez água virar vinho, trouxe felicidade somente pros participantes de uma farra nupcial.\n",
      "945\n",
      "PF investiga ex-ministro petista suspeito de desviar R$ 102 milhões e encontra emails enviados para Toffoli.  A Justiça de São Paulo enviou para o STF um arquivo contendo mensagens e emails do celular de Carlos Gabas enviadas para o ministro Dias Toffoli.  Gabas,  que é ex-ministro dos governos Lula e Dilma,  é investigado  juntamente com o ex-ministro Paulo Bernardo   por desvio de R$ 102 milhões da previdência. A Justiça Federal negou um pedido do MPF de SP para ter acesso às comunicações (e-mails e mensagens de celular). A informação é do Estadão. Essas mensagens foram encontradas durante o cumprimento de um mandado de busca e apreensão realizada pela Operação Custo Brasil.\n",
      "946\n",
      "Um cara de sorte! Investigação da PF descobre que filho de Lula recebeu R$ 10 milhões.  Investigadores da Polícia Federal,  através da Operação Zelotes desvendaram que Luís Cláudio Lula da Silva [o caçula do ex-presidente] recebeu quase R$ 10 milhões através de sua empresa.  A informação que se tinha até agora era de que a LFT Marketing Esportivo ,  de propriedade de Luís Cláudio,  havia recebido R$ 2, 5 milhões da Marcondes & Mautoni. A Marcondes & Mautoni é acusada de comprar medidas provisórias durante o governo de Lula. O aprofundamento das investigações apontou que novos valores apareceram após quebra do sigilo bancário da empresa [do prodígio] entre os anos 2009 a 2015,  O Estado de S. Paulo informou que a LFT Marketing Esportivo não tem funcionários registrados nem conhecimento em consultoria. A Zelotes também está investigando uma possível propina recebida durante a negociação de caças suecos pelo governo Dilma.\n",
      "947\n",
      "Crueldade: Homem estaciona caminhonete e arremessa cão por cima de muro como se fosse uma carga.  O flagrante de maus tratos com requintes de crueldade aconteceu em Itapetininga (SP).  Um cidadão estaciona sua caminhonete em frente ao portão de uma ONG que cuida de animais abandonados e arremessa o cão como se fosse um saco de cimento ou algo do tipo. Câmeras de segurança do local captaram o momento exato em que o homem sobe na caçamba do veículo,  desamarra o cachorro e o joga para dentro da União Internacional Protetora dos Animais (Uipa). Uma das voluntárias viu a cena pelas câmeras e chamou a polícia. O cidadão fugiu do local sem dar satisfações do ato de crueldade. Repare no final do vídeo que,  ao cair,  o cão ainda olha para o dono [...] A ONG informou que o animal não se feriu gravemente e passa bem. Uma investigação foi aberta pela Polícia Civil para identificar a \"criatura\" que aparece nas filmagens. *** as imagens são da última quinta-feira 08 de dezembro ***\n",
      "948\n",
      "De acordo com o artigo 330 do cód. penal,  Ministro Marco Aurélio pode mandar prender Renan por até 15 dias. .  O ato de Renan (avalizado pela mesa diretora do senado) em descumprir uma ordem da instância máxima jurídica no país é algo inédito. Renan pode ser processado e até preso por ato ilícito penal,  além de quebra de decoro parlamentar. Com base no artigo 330 do código penal,  o ministro Marco Aurélio Mello,  pode até mandar prender Renan por 15 dias pelo crime de desobediência. Resta saber se o ministro tomará essa decisão. Todos são iguais perante a Lei. Se o nobre senador pode afrontar a justiça,  qualquer cidadão comum também pode!\n",
      "949\n",
      "O INTOCÁVEL: Porque o Presidente do Senado é o homem mais poderoso da política brasileira?. .  (Jackson Freitas para o Diário do Brasil) Renan não liga se um juiz é de primeira,  segunda ou última instância. Para ele,  todos são seus subordinados hierarquicamente. Qual será o motivo que torna o Presidente do Senado o homem mais forte do país,  a ponto de ter 13 inquéritos por corrupção praticamente parados no STF? Simples... Quem lembra daquelas maletas anti-grampo que o Senado adquiriu? A tal maleta,  de origem israelense,  é o equipamento mais sofisticado do mundo para interceptação e embaralhamento das comunicações,  não necessariamente nesta ordem. A função essencial do \"Guardião\",  como é conhecida a maleta tecnológica no Brasil,  não é a de evitar grampos,  e sim de grampear. Será que é por esse motivo que o senador tem tanta confiança em suas ações? Provavelmente sim. Podemos dizer também que ele é um profundo conhecedor das leis e das artimanhas legais,  assim como Eduardo Cunha. Ele tem o conhecimento e as maletas . É um estrategista de primeira,  temos que reconhecer. Renan está com o ZAP e o SETE DE COPAS nas mãos! Ele não perde para ninguém! Quem trucar em cima dele,  levará uma \"seisada\" imediatamente. No poker,  poderíamos dizer que o nobre parlamentar tem um Royal Straight Flush em suas mãos. Como dizia Nelson Rodrigues: \"Muitas vezes é a falta de caráter que decide uma partida. Não se faz literatura,  política e futebol com bons sentimentos.\"\n",
      "950\n",
      "Repórter da Globo coloca Renan contra a parede e senador responde: \"Próxima pergunta\".  Não há crise entre os poderes!.  Gerson Camarotti,  repórter especialista em política da Globo News,  fez uma pergunta para Renan: \"O senhor acha que está infringindo uma ordem do Supremo?\" Renan fingiu que não escutou e disse: \"Próxima pergunta\" Não é a primeira vez que o senador foge das perguntas de Camarotti. A Presidente do Supremo,  Ministra Cármen Lúcia,  convocou uma reunião de emergência. Voltamos a repetir,  não há crise entre os poderes! O que há é um \"cidadão específico\" desafiando a justiça brasileira.\n",
      "951\n",
      "Renan afronta STF e se recusa a deixar a presidência do senado.  O presidente do Senado se recusou a assinar a notificação judicial que o informa da decisão do ministro Marco Aurélio Mello (STF) sobre o afastamento do cargo.  A Mesa Diretora do Senado apoiou Renan e assinou um documento onde se recusa a cumprir a liminar do ministro da Suprema Corte. Quem assina o documento são os senadores: João Alberto,  Sergio Petecão,  Zezé Perrella,  Romero Jucá ,  Gladson Cameli,  Vicentinho Alves e Renan Calheiros. Os senadores alegam que irão \"aguardar a deliberação final do plenário do Supremo Tribunal Federal\",  As votações que estavam previstas para hoje (06) no senado foram canceladas,  incluindo a discussão sobre a PEC do teto dos gastos públicos.\n",
      "952\n",
      "Câmara votando projeto na madrugada. Senado desacatando ordens. Ministros do STF se atacando.  O senador Renan ultrapassou os limites do bom senso ao desobedecer uma ordem da Suprema Corte.  (J. Ribeiro,  de Brasília para o Diário do Brasil) Imagine se todo cidadão brasileiro começar a não cumprir liminares determinadas pela Justiça. Entraríamos imediatamente em um estado de desobediência civil. Renan abusou de sua autoridade e jogou a imagem de um ministro do STF na lata de lixo. Outros 7 senadores que fazem parte da mesa do Senado também endossaram a afronta ao poder máximo da nação: João Alberto,  Sergio Petecão,  Zezé Perrella,  Romero Jucá ,  Gladson Cameli,  Vicentinho Alves e Renan Calheiros. O Senado Federal teve que encerrar suas sessões. O Brasil parou e tudo isso custa dinheiro público. O STF também está \"por conta\" do ato de desobediência do senador. Na ultima semana,  a Câmara protagonizou um escândalo vergonhoso ao desfigurar o projeto das 10 medidas contra corrupção. Gilmar Mendes pediu o impeachment de seu colega Marco Aurélio. O país perdeu o rumo e o controle! Somos um avião sem piloto! Isso tudo sem contar que as delações da Odebrecht estão vindo por aí [...] a todo vapor. Resumindo Quando os poderes de uma nação entram em conflito,  já dá para imaginar o que pode acontecer. Uma possível intervenção militar,  que antes era vista como \"loucura\",  já começa a tomar contornos de realidade no cenário nacional.\n",
      "953\n",
      "Suprema Corte julga Renan Calheiros: assista ao vivo.  Começou a sessão que julgará o afastamento de Renan no Supremo.  assista:\n",
      "954\n",
      "Renan está no senado,  trabalhando normalmente!. .  A Globo News acabou de informar que ... Enquanto o STF julga o mérito da liminar do ministro Marco Aurélio Mello (que ordenou que Renan se afastasse imediatamente do cargo de Presidente do Senado),  o nobre senador está sentado no gabinete da Presidência,  despachando normalmente e até recebendo movimentos sindicais. Renan ignorou um despacho do STF e está ignorando o julgamento que está acontecendo neste momento. Ele não está nem aí!\n",
      "955\n",
      "Suzane Richthofen quer virar pastora evangélica. Suzane Richthofen pede liberação da Justiça para estudar Teologia e levar seu testemunho de transformação para o mundo. A Igreja do Evangelho Quadrangular poderá ser a instituição que irá a credenciar como pastora.\n",
      "\n",
      "O pastor da Igreja do Evangelho Quadrangular de Itapetininga (SP), Euclides Vieira, diz ter sido procurado por Suzane von Richthofen e seu noivo, Rogério Olberg, em maio para dar conselhos ao casal sobre a vontade da detenta em se tornar pastora. Euclides afirma que conhece o noivo de Suzane  condenada a 39 anos de prisão pela morte dos pais  desde 2005 e passou a ter contato com ela há um ano. Para o pastor, a detenta merece uma segunda chance. Ele afirmou que Desde que conversei com Suzane, conheci uma outra pessoa. Acredito que ela está mudada\n",
      "\n",
      "A advogada de von Richthofen, Jaqueline Ferreira, confirma que ela quer ser membro da igreja, e que a palavra de Deus a transformou.\n",
      "\n",
      "Suzane conheceu a igreja após começar a se relacionar com Olberg, que tem uma irmã presa em Tremembé (penitenciária onde ela também cumpre pena).\n",
      "\n",
      "Segundo o pastor, a ideia do casal é contar o testemunho da mudança da jovem em igrejas espalhadas em todo o Brasil.\n",
      "\n",
      "Para se tornar missionária, ela terá que fazer um curso teológico por três anos, passar por entrevistas e contar com a indicação de um pastor.\n",
      "\n",
      "A defesa de Suzane pediu à Justiça para ir ao regime aberto em junho, pois teria conseguido um emprego em uma confecção em Angatuba, no interior paulista, onde a família do noivo mora. Não há prazo para o julgamento do pedido.\n",
      "956\n",
      "Noiva aluga helicóptero para chegar de surpresa no casamento e aeronave cai em SP.  Um helicóptero caiu em São Lourenço da Serra,  SP,  vitimando fatalmente quatro pessoas na tarde de hoje (4).  Uma noiva estava a caminho de seu casamento e queria fazer uma surpresa ao futuro marido,  chegando de helicóptero na cerimônia. A aeronave tinha como destino o Sítio Recanto Beija-Flor,  em São Lourenço. Estavam na aeronave a noiva,  o irmão dela,  a fotógrafa (grávida),  além do piloto. Bombeiros informaram que a queda aconteceu por volta das 16h,  horário em que estava marcado o início do casamento. O dono do sítio informou à imprensa que a noiva pretendia fazer uma surpresa para o noivo,  chegando de helicóptero: \"Há mais de 3 décadas trabalho com festas. Quando as noivas decidem vir de helicóptero,  é comum o atraso ou algum outro tipo de imprevisto,  devido ao tempo.\" informou. \"Dessa vez foi diferente. Eles atrasaram e ninguém da empresa me avisou. Liguei para a polícia e os bombeiros\" ,  contou. Faltava somente 2 km para o helicóptero chegar ao sítio. Oito equipes do Corpo de Bombeiros se dirigiram ao local. O noivo e cerca de 300 convidados ficaram em estado de choque.\n",
      "957\n",
      "Lima Duarte: \"Lula é um imbecil e Dilma nunca esteve preparada para nos governar\".  \" Ela não está preparada para nos conduzir para um futuro melhor. Ela não sabe o que é isso. Que ela seja feliz em outro canto\".  O ator Lima Duarte,  juntamente com o jovem Tomé (do movimento Nas Ruas),  gravou um vídeo onde ele dá sua opinião sobre a situação pela qual o país está passando. Lima destacou:\n",
      "958\n",
      "Ator de 48 anos sofre parada cardíaca no palco e público aplaude pensando que se tratava de uma encenação.  Um ator sofreu uma parada cardíaca enquanto encenava uma peça de teatro.  O bailarino R. Khusainov,  de 48 anos,  passou mal durante uma apresentação em Urus-Martan,  cidade localizada na Chechênia. O homem caiu no palco e a plateia começou a aplaudir,  imaginando que tudo fazia parte de uma encenação. Depois de alguns minutos,  as pessoas perceberam que a situação era séria. Khusainov recebeu os primeiros socorros ainda no palco. Quando os paramédicos chegaram,  ele já estava morto.\n",
      "959\n",
      "Senador que assume o lugar de Renan foi flagrado chamando Sérgio Moro e delegados da PF de \"bandidos\".  Após o afastamento de Renan Calheiros (PMDB-AL) da Presidência do Senado,  quem assume temporariamente o cargo é Jorge Viana (PT-AC).  Renan foi afastado ontem (06) pelo ministro Marco Aurélio Mello (STF) que decidiu acatar uma ação cautelar impetrada pelo partido REDE. A decisão ainda deverá ser votada pelo plenário da Corte,  que ainda não marcou data para o julgamento. O senador petista apareceu em um \"grampo\" telefônico conversando com o advogado de Lula,  Roberto Teixeira. Viana chamou o juiz Sérgio Moro,  os procuradores da Lava Jato e os todos os delegados da PF de \"bandidos\". Após achar que é Deus,  Viana ainda sugeriu uma estratégia para obstruir a Justiça: JORGE : Talvez.. olha a minha ideia.. falei até com o DAMOUS. Talvez seja a única oportunidade que o presidente tem de por fim a essa perseguição,  essa caçada contra ele. Se numa segunda-feira,  por exemplo,  reflitam sobre isso,  ele chamar uma coletiva e comprar e estabelecer uma relação,  um diálogo com seu MORO pela,  ao vivo,  MORO,  PROMOTORES,  DELEGADOS,  dizendo que ele não aceita mais que ele persiga a família dele porque ele tá agindo fora da lei,  os promotores fulano e ciclano estão agindo fora da lei ,  os delegados fulano e ciclano e quem age fora da lei é bandido e que se ele quiser agora vim prendê-lo,  que venha,  mas não venha prender minha mulher,  prender meus netos,  nem meus filhos.. E forçar a mão nele pra ver se ele tem coragem de prender por desacato a autoridade,  porque aí,  aí eles vão ter uma comoção no país,  porque ele vai tá defendendo a família dele,  a honra dele.. dizer: olha,  eu estou defendendo a minha honra,  você está agindo fora da lei,  quem age fora da lei é bandido.. me sequestraram,  me colocaram.. eu não sei,  tinha que pensar algo parecido com isso e dar uma coletiva e provocar e dizer que não vai aceitar mais.. ADVOGADO DE LULA : Perfeito. VIANA : Não aceita,  em hipótese nenhuma.. se rebelar.. greve de fome,  alguma situação.. você tem também alguma insubordinação judicial,  não aceito mais ser investigado por esse bando que tá agindo fora da lei e querendo alcançar minha família,  minha mulher,  meus filhos e meus netos. Não aceito mais. Me prendam. Se prenderem ele,  aí vão prender e tornar um preso político,  aí nós fazemos esse país virar de cabeça pra baixo. Fora disso eu não vejo saída (ininteligível) ADVOGADO DE LULA : É.. mas isso,  mas viu,  JORGE,  ele anunciou isso,  falou isso,  ele disse que vai varrer o Brasil inteiro,  vai denunciar isso o tempo todo.. VIANA : Isso não funciona. ADVOGADO DE LULA : E agora.. VIANA : Não tem clima no interior do Brasil pra ele vir,  pra ele andar. Ele tem que fazer uma ação ao vivo chamando coletivas,  isso é mais forte do que ele fazer comício,  fazer coisa.. gente,  o clima tá muito ruim contra nós,  não há uma comoção. Ele tem que botar a família dele,  fazer a defesa e virar a fazer.. ADVOGADO DE LULA : Entendi. JORGE : E fazer um confronto direto com eles. Se não fizer isso agora,  não tem clima pra andar no Brasil. ADVOGADO DE LULA : Perfeito.\n",
      "960\n",
      "Se o Brasil não apoiar a Lava-Jato,  vagabundos tomarão conta de tudo! (assista o vídeo da Transparência Internacional).  No Brasil,  foram perdidos bilhões de dólares devido à corrupção.  A Lava-Jato se tornou uma das maiores investigações contra corruptos do mundo. 118 pessoas já foram condenadas,  totalizando 1.256 anos de prisão. Essa operação não pode parar!\n",
      "961\n",
      "Presidente cogita demitir o diretor-geral da PF. Se ele acender o pavio,  será o primeiro a explodir!.  Naquela madrugada triste para o país,  com a queda do avião da Chapecoense,  mais de 500 ratos aprovaram uma desfiguração total do projeto inicial de combate à corrupção.  Logo depois,  o projeto foi para o senado e Renan Calheiros tentou aprovar o projeto a toque de caixa. Se deu mal! A maioria dos senadores rejeitou \"temporariamente\" a aprovação do projeto. O próximo passo para tentar enfraquecer a Polícia Federal é uma provável demissão do diretor-geral do órgão. De acordo com a revista Época deste fim de semana,  Michel Temer cogitou substituir Leandro Daiello no começo de 2017. Daiello está no cargo desde 2001. É homem forte na PF,  respeitado e responsável (junto com o MPF e Sérgio Moro) por todo o combate à corrupção que estamos assistindo nos últimos anos. Se Temer fizer essa besteira,  ele estará assinando um atestado de burrice. Não brinque com o povo presidente. Já estamos entrando em um período de desobediência civil. Se vossa excelência acender o pavio,  será o primeiro a explodir.\n",
      "962\n",
      "Porque um ministro do STF se porta dessa forma? \"Quem criou as 10 medidas é um cretino absoluto\".  Não estamos querendo \"julgar um juiz\" [até porque não é esse o nosso papel] mas será que um magistrado deve se portar dessa forma?.  Durante o dia de ontem,  o ministro do Supremo Gilmar Mendes,  classificou de CRETINO quem criou a proposta de combate à corrupção,  defendida pelo juiz federal Sérgio Moro e pelo coordenador da Lava-Jato no Paraná,  Deltan Dallagnol. \"É aquela coisa de delírio. Veja as dez propostas que apresentaram [...] Quem faz uma proposta dessa não conhece nada de sistema,  é um cretino absoluto. Cretino absoluto! Imagina que amanhã eu posso justificar a tortura porque eu fiz de boa-fé!\"\n",
      "963\n",
      "Mendes chama protesto de magistrados de \"coisa engraçada\" e toma \"lambada antológica\" de Cármen Lúcia.  Mendes tinha acabado de sair de uma sessão no senado para debater a \"Lei de Abuso de Autoridade\".  Lá no STF,  ocorria simultaneamente,  um julgamento para decidir se Renan Calheiros se tornaria réu em um processo por peculato. Do lado de fora da Suprema Corte,  um grupo com cerca de 100 magistrados protestava contra a retaliação protagonizada pelo Congresso com relação ao avanço da Lava Jato. Chegando no STF,  Gilmar Mendes tomou seu assento e tentou ironizar a ação dos 100 magistrados,  chamando o protesto de \"coisa muito engraçada\". A presidente da Suprema Corte,  ministra Cármen Lúcia (essa nos representa!),  fez uma pausa e deu aquela \"lambada\" em Mendes. Essa mulher é porreta,  sensata,  calma e inteligente. Percebe-se que ela fala pouco [...] e quando fala,  o tiro sai certeiro! confira no vídeo abaixo:\n",
      "964\n",
      "Começa o desmonte do PMDB. Dois ministros de Temer aparecem nas primeiras delações da Odebrecht. .  O colunista Guilherme Amado (do Globo) informou que Paulo Cesena,  executivo da Odebrecht Transport,  confirmou que fez repasses em CASH (dinheiro vivo,  grana,  bufunfa,  dim dim,  cascalho,  faz me rir,  etc..) para dois ministros de Temer. São eles,  Eliseu Padilha (Ministro Chefe da Casa Civil) e Moreira Franco. O delator informou que os dois pediram dinheiro em nome do partido,  o PMDB. Em Outubro deste ano,  o Estadão publicou uma outra denúncia contra Moreira Franco,  porém o executivo delator era outro.\n",
      "965\n",
      "OAB quer Renan fora do senado imediatamente.  Claudio Lamachia,  presidente da OAB Brasil,  defende que Renan Calheiros seja afastado imediatamente do senado.  \"Não se trata de fazer juízo de valor quanto à culpabilidade do senador Renan Calheiros [...] Trata-se de cuidar das instituições da República\" ,  disse. Lamachia argumentou que,  após a decisão do STF de tornar o senador réu em processo de peculato,  o afastamento de Renan se torna necessário para que o parlamentar possa exercer seu direito de defesa sem que a instituição fique comprometida. Além desse processo (de peculato),  Renan é alvo em outros 11 inquéritos no STF. \"É preciso que ele seja julgado de acordo com os ritos e procedimentos estabelecidos em lei,  com acesso à defesa e ao contraditório,  sem que esse fato comprometa o cotidiano e os atos praticados pelo Senado Federal.\" argumentou.\n",
      "966\n",
      "Evangélico invade Igreja Católica e destrói imagem de Maria. Um homem, declaradamente evangélico, invadiu a igreja da Comunidade Sagrado Coração de Maria, na Serra, município da região metropolitana de Vitória no Espírito Santo, e quebrou as imagens de Nossa Senhora e São José. O ato de fúria aconteceu por volta das 14 horas deste domingo (2).\n",
      "\n",
      "De acordo com o analista de TI e coordenador da paróquia, Leonardo de Oliveira Belo, 34 anos, o homem já é conhecido na comunidade. Na semana passada, ele esteve em nossa paróquia e gritou para algumas pessoas que não se pode adorar imagens. Parece um caso de intolerância religiosa, disse. A igreja foi aberta nesta tarde para a realização de uma palestra para pais de um grupo de jovens que participa de um retiro, na escola ao lado da paróquia. O grupo é formado por mais de 70 jovens. Só havia mulheres lá dentro. Ele entrou e saiu gritando e derrubando as imagens, que ficavam em um pedestal e têm cerca de 1,80m, contou o coordenador da paróquia.\n",
      "\n",
      "Após destruir as estátuas, o homem foi contido por outros membros da igreja. Uma viatura da Polícia Militar, que passava pelo local, parou para ver o que estava acontecendo e levou o homem para a delegacia do bairro. O padre Tiago Roney Sancio, pároco da paróquia, publicou as fotos das estátuas destruídas em seu perfil no Facebook, onde recebeu apoio dos fiéis.\n",
      "\n",
      "Dentre outras palavras o vândalo evangélico disse: Estes católicos são todos filhos do demônio. Não vão adorar imagens nunca mais. Hoje eu destruí as imagens. Na próxima eu vou destruir vocês. Criaturas abomináveis e desprezíveis! Filhos do demônio! O inferno será o lar de todos os católicos!\n",
      "967\n",
      "Lucas Lucco faz linda homenagem à Chapecoense: \"Vai ter um jogo lá no céu e ao invés de gol,  os anjos gritam amém\".  É tanto oportunismo em torno de uma tragédia que,  quando aparece algo bonito de ser publicado,  esse algo merece ser repassado para as pessoas.  O cantor Lucas Lucco fez sua homenagem (em forma de música) para as vítimas do voo da Chapecoense. Com o nome de Time dos Anjos ,  o refrão da canção diz: \"Eu acho que vai ter um jogo lá no céu [...] feito de heróis que já cumpriram seu papel \"Eu acho que vai ter um jogo lá no céu [...] e ao invés de gol,  os anjos gritam amém\" confira:\n",
      "968\n",
      "A Colômbia inteira parou para ajudar os brasileiros. No Brasil,  ratos invadiram o Congresso durante a madrugada.  Michel Temer agradeceu o presidente da Colômbia,  Juan Manuel Santos,  pelo apoio e solidariedade prestadas pelo governo e pela sociedade colombiana às vítimas do trágico acidente com o voo da Chapecoense.  (Jackson Freitas para o Diário do Brasil  Belém do Pará) O que podemos tirar como lição de vida desse trágico acidente é que a Colômbia passou a morar em nossos corações. Por quantas vezes fomos arrogantes como país. O Brasil sempre se achou \"a última bolacha do pacote\" em relação aos outros países da América do Sul. Aprendemos do pior jeito [...] através de uma tragédia. A Colômbia inteira parou. Da mais alta patente até um simples morador. Foram ajudar pessoas que nem sequer conheciam. Eles não sabiam se haveria sobreviventes e,  mesmo assim,  se entregaram de corpo e alma para ajudar os irmãos acidentados. Quanta diferença Meu Deus!! Aqui no Brasil ? No dia do acidente,  nossos deputados se esconderam (de madrugada) e trabalharam como ratos imundos. Se aproveitaram da comoção nacional para destruir as 10 medidas contra a corrupção. O objetivo? Se livrarem da cadeia para poderem roubar mais e mais! Definitivamente,  a classe política brasileira é uma vergonha! O Congresso é uma vergonha! GRACIAS COLOMBIA! leia também:\n",
      "969\n",
      "AO VIVO: Sérgio Moro dando aula de direito para os senadores. .  O juiz federal Sérgio Moro dá uma aula de direito no senado Ele participa da discussão da alteração na lei de abuso de autoridade. Detalhe: os senadores petistas sumiram!\n",
      "970\n",
      "Pediram para não citar o nome do presidente no microfone. A que ponto chegou o Brasil!.  Aos 76 anos de idade,  ele ostenta o cargo máximo da nação brasileira [...] e tem que se esconder!.  (por Domênico Gonçalves Garcia  De Bragança/Portugal) Nasci em Portugal e me naturalizei \"BRAZUCA\" ao casar com o amor de minha vida,  com quem estou há 28 anos. Hoje presenciei minha pátria irmã sofrendo com o velório das \"crianças\" da Chapecoense. Durante meus 68 anos de vida jamais presenciei um país tão unido por uma causa única [...] foi lindo! É uma pena que essa união tenha sido causada por uma tragédia. Acompanhei (pela TV a cabo) todo o sofrimento de um povo. Por várias horas,  eu pude me sentir um verdadeiro brasileiro. Nunca tinha ouvido falar da cidade de Chapecó até acontecer uma tragédia de proporções mundiais. A dor do Brasil me doeu na alma. Orei pelos jovens que se foram tão cedo [...] me emocionei com a voz do famoso Cid Moreira citando versos da Bíblia durante a cerimônia de despedida dos heróis da Chapecoense. De todas as cenas que presenciei diante da TV,  a que mais me chamou a atenção foi assistir um Presidente da República encolhido em um canto,  como se fosse um nada,  um zé ninguém. Todo povo carece de um líder. Conversei com minha esposa e fiquei desolado ao ver o que fizeram com o Brasil. De imediato peguei meu celular e liguei para alguns contatos pessoais,  já que minha companheira é uma ex-funcionária do Itamaraty. A resposta que obtive? Leia abaixo ... \"Amigo,  quando o cerimonial da Presidência da República chegou na cidade de Chapecó,  a primeira coisa que fizeram foi procurar as autoridades locais e exigir uma única coisa: Não mencionem o nome do Presidente da República em hipótese alguma\" A tristeza tomou conta de mim e choramos [...] eu e minha esposa. O que fizeram com o Brasil?\n",
      "971\n",
      "Cobra engolindo cobra! Folha diz que nome de FHC para presidente já está sendo cogitado no PSDB.  O ex-presidente Fernando Henrique Cardoso tem grandes chances de assumir a presidência da república com um empurrãozinho do Congresso.  A Folha de SP informou que integrantes do PSDB já cogitam o mês de março como data limite para que Michel Temer mostre que a economia do Brasil pode reagir e,  consequentemente,  ele possa conquistar a imagem de \"presidente que acertou as contas públicas\". Alguns parlamentares já cogitam o nome de Fernando Henrique Cardoso como próximo presidente via eleição indireta. Só a Lava-Jato pode salvar esse país! No dia 22 de Outubro,  o Diário do Brasil publicou: Vamos explicar. O artigo 81 da Constituição Federal diz o seguinte: É cobra comendo cobra [...] o PMDB que \"comeu\" o PT [...] poderá ser \"comido\" pelo PSDB. Será que ele dá conta?\n",
      "972\n",
      "Renan toma uma \"sapatada\" ao dizer que juiz italiano era corrupto: \"Só virou corrupto depois que se tornou político\".  O senador Lasier Martins (PDT-RS) usou a tribuna do senado para expor sua opinião sobre a Operação Lava-Jato e a lei que criminaliza os juizes.  Lasier foi educado,  parabenizou Sérgio Moro e não ofendeu ninguém. Durante seu pronunciamento,  ele chegou a comparar a Operação Lava-Jato com a famosa Operação Mãos Limpas (em italiano Mani pulite),  desencadeada na Itália em 1992. Ao encerrar seu pronunciamento,  o presidente do senado disse que a comparação do senador Lasier foi infeliz. \"Vossa excelência não precisava ter dito isso\" disse. \"Eu não sei se vossa excelência sabia,  mas o juiz da Operação Mãos Limpas foi condenado pelo judiciário da Itália\" continuou Renan. O senador Lasier interrompeu e respondeu inteligentemente: \"Claro que eu sabia. Ele só se corrompeu após virar político\"\n",
      "973\n",
      "Riquelme e Ronaldinho,  lendas do futebol,  podem deixar a aposentadoria para jogar pela Chapecoense. .  Enquanto os clubes brasileiros têm oferecido empréstimos de jogadores,  relatos que estão circulando na internet dão conta de que Ronaldinho e Riquelme se ofereceram para \"tirar a poeira de suas chuteiras\" e vestir o manto verde e branco da Chapecoense. Somadas,  as duas estrelas têm junto 147 títulos para Brasil e Argentina. Ambos teriam se oferecido para jogar gratuitamente pelo clube por um período de 1 a 2 anos. A informação é do britânicoThe Sun.\n",
      "974\n",
      "SUICÍDIO POLÍTICO: O Congresso Brasileiro provou ao povo que o Brasil não precisa de deputados. .  Depois da ridícula votação ocorrida na calada da noite,  o Congresso Brasileiro conseguiu passar uma mensagem para os brasileiros: O BRASIL NÃO PRECISA DO CONGRESSO. OS DEPUTADOS SÃO ALTAMENTE DISPENSÁVEIS. Parabenizamos aqui o Senado Brasileiro,  que está debatendo o tema (da Lei de abuso de autoridade) com responsabilidade e fazendo,  ao mesmo tempo,  os papéis de Congresso e Senado. Seria uma economia milionária.\n",
      "975\n",
      "Linbergh fica nervoso e diz que Sérgio abusa de sua autoridade. .  Lindbergh atacou (literalmente) Sérgio Moro e tentou fazer uma defesa (hilária) do ex-presidente Lula. O senador petista fez questão de acusar Sérgio Moro de abuso de poder e dizer que o juiz não está acima da lei. O discurso ridículo,  arrogante e com extrema \"falta de ar\" de Lindbergh Farias deu vergonha alheia. Moro respondeu: \"Há uma intenção clara e que ficou bem definida na fala do senador de que o projeto de lei de abuso de autoridade seja utilizado exclusivamente para criminalizar a Lava Jato. Caso seja esse o motivo da criação dessa lei,  é bom explicar para a população,  porque certamente ela está sendo enganada\" ,  diz Sérgio Moro. E mais [...] Gilmar Mendes completou: \"O trabalho do juiz Moro é digno,  responsável e singular\" A inocência de Lindbergh foi tanta que ele acabou entregando o ouro [...] querem criar um pacote de leis simplesmente para matar a Lava-Jato. Mais uma coisa que Lindbergh precisa aprender com urgência: Ele não é senador. Ele está senador (temporariamente) Já Sérgio Moro é juiz de carreira. Cuidado lindinho,  um dia o \"foro privilegiado\" cai!\n",
      "976\n",
      "O deputado Lorenzoni está no senado. Ele luta sozinho para salvar o Brasil das organizações criminosas.  O deputado relator das 10 medidas contra a corrupção perdeu na Câmara,  mas está lá no senado tentando reverter esse quadro.  \"Direto do senado. Nem tudo está perdido.\" disse Onix Lorenzoni. assista o recado dele no vídeo abaixo:\n",
      "977\n",
      "Jesus foi o primeiro travesti da história, afirma pastor gay. Alexya Salvador, travesti desde os 10 anos, hoje com 36 anos é pastora da Igreja da Comunidade Metropolitana (ICM), a afirmação polêmica repercute nas redes sociais e no interior das igrejas evangélicas.\n",
      "\n",
      "Conhecida como a Igreja dos Direitos Humanos, a ICM foi criada em 1968 nos Estados Unidos e em 2003 chegou no estado do Rio de Janeiro para alguns anos depois se instalar em um espaço modesto no bairro da Santa Cecília, na capital paulista mais estruturada. O objetivo da igreja é abraçar a população LGBTQ, que não costuma ter espaço no cristianismo tradicional. A ICM aceita casamentos homoafetivos, conta com drag queens em seus eventos e, entre seus pregadores, está Alexya, a primeira pastora travesti da América Latina. Alexya, foi chamada para ser diaconisa da ICM a convite do reverendo Cristiano Valério. Foi assim que fez um curso de Teologia e outros ordenamentos para se tornar membra do clérigo. A expectativa é que no fim do ano Alexya passe a se reverenda da ICM. Será uma das primeiras da América Latina.\n",
      "\n",
      "Eu, mulher transgênera gero uma relação de amor e ódio nas pessoas, sentimentos que andam grudadinhos, diz Alexya.\n",
      "\n",
      "Se Jesus pode se transicionar, por que eu não posso?\n",
      "\n",
      "Na ICM a gente ousa dizer que Deus é mulher. Porque essa parte masculina de Deus é muito feia. Esse Deus que fica 24 horas no trono, o Todo Poderoso, que você esbarra em algo e ele te condena. A gente não faz essa leitura, a gente acha que Deus é mãe, é amor, explica Alexya.\n",
      "\n",
      "Não parece que há assunto que possa abalar a fé ou colocar em cheque a posição de pastora de Alexya. Discute-se de sexo na ICM, aborto e todos os assuntos que são tratados como pecado no catolicismo e outras linhas mais tradicionais cristãs. Evidentemente, as instituições católicas condenam a existência de Alexya ou a ignoram completamente. Sou um elefante pink no meio da sala, brinca.\n",
      "\n",
      "Jesus Cristo foi o primeiro homem trans, explica orgulhosa. Te explico. Nós aprendemos desde o Gênesis que existe a Santa Trindade: o Pai, o Filho e o Espírito Santo. Deus, portanto, mandou seu filho para a terra. Jesus, o filho, tinha o gênero divino, correto? Então, quando ele desceu para a terra ele passou a ter o gênero humano. Então, se Jesus pode se transicionar, por que eu não posso?\n",
      "978\n",
      "Senadores se unem contra Renan e não aprovam votação de emergência.  O senado não cedeu às ordens de Renan Calheiros.  O requerimento de urgência para votação do projeto que salva os políticos criminosos foi rejeitado pelo plenário por 44 (contra Renan) a 14 votos (a favor) Renan Calheiros levou um cruzado de direita. O projeto segue agora para a (CCJ) Comissão de Constituição,  Justiça e Cidadania da casa.\n",
      "979\n",
      "Projeto criminoso de Renan Calheiros ameaça a democracia no Brasil.  Renan Calheiros propõe mudar lei da delação premiada em gravações,  diz jornal.  O presidente do senado Renan Calheiros,  investigado pela Lava Jato e alvo de mais de doze inquéritos no STF,  desengavetou uma proposta perniciosa que prevê a punição de agentes públicos que trabalham em prol de investigar e punir parlamentares. O senador quer acelerar a tramitação de um projeto de 2009 feito sob medida para proteger parlamentares [incluindo o próprio Renan] que são alvos de investigações na justiça. O projeto peçonhento prevê punições a crimes de\" abuso\" de autoridades,  de agentes da administração pública e membros de Judiciário,  Ministério Público e Legislativo no exercício de suas atribuições legais. A intenção clara da proposta é blindar  parlamentares de eventuais ações da Polícia Federal,  MPF e da Lava Jato. Por exemplo [...] Em um dos artigos desse projeto,  um policial federal poderá ser punido por executar um mandado de busca e apreensão de forma que um político venha a ter sua imagem exposta para a sociedade . O presidente do Senado negou que o projeto tenha como objetivo \"interferir no curso\" da operação,  mas a gente sabe que não é bem assim. Renan afirmou que é \"preciso ter regras\" para a colaboração premiada: \"Não vou mudar a lei de delação,  apesar de entender que ela precisa e pode ser modificada. Não é uma lei de 12 tábuas que vai valer eternamente da forma que se fez. A delação premiada precisa ter regras porque,  se não,  ela compensa o crime. O que estamos vendo são pessoas que se entregaram ao desvio de dinheiro público,  amealharam milhões e milhões,  depois faz uma delação orientada pelo advogado e negociada com as autoridades,  entrega parcela que desviou e salva outra parte\" ,  disse o presidente do Senado,  Renan [aparentemente] está indignado com o fato de que políticos e empresários corruptos estão sendo alcançados pela justiça,  graças à delação premiada. leia também:\n",
      "980\n",
      "Após compactuar com \"anistia a corruptos\" na calada da noite,  presidente diz que irá a velório coletivo em Chapecó.  Assim como aconteceu com Dilma,  o \"por enquanto\" presidente Michel Temer está tomando decisões não muito acertadas.  Depois que o projeto que anistia crimes de políticos corruptos foi votado na mesma madrugada em que aconteceu o terrível acidente com a equipe de futebol da Chapecoense,  o presidente decidiu que irá participar do velório coletivo que acontecerá na cidade de Chapecó/SC. Vamos explicar de outra maneira: O Congresso (com a cumplicidade da Presidência da República) usou o terrível acidente como \"cortina de fumaça\" para aprovar,  na calada da noite,  um projeto que assassina a operação Lava-Jato e outras operações da PF,  MPF e Judiciário. Depois de usarem uma catástrofe alheia para se blindarem contra a Lei,  eles agora querem fazer uma homenagem às vítimas do acidente? É mole? Um conselho sr. Presidente! Não misture política com momentos de comoção [...] isso não vai dar certo! Envie um vídeo,  uma carta,  um representante,  enfim,  não faça essa besteira.\n",
      "981\n",
      "Urgência na votação de ontem no senado teve um mentor,  afirma jornal.  O Estadão,  através da colunista Isabela Bonfim,  publicou que o senador Aécio Neves foi o principal mentor da quase \"tragédia\" que ocorreu ontem no senado.  De acordo com a matéria,  Aécio foi o primeiro a articular a urgência na votação que mataria de vez a Lava-Jato. O PSDB teria prometido votos no requerimento,  mas na hora \"h\" mijou para fora do penico,  deixando Renan Calheiros a ver navios. Aécio Neves teria trabalhado durante toda a tarde no acordo que foi costurado com líderes do PMDB,  PT,  PSD,  PP e PTC. Repetindo,  Aécio Neves foi o principal articulador do pedido de urgência,  afirmou o jornal .\n",
      "982\n",
      "Deputado confessa: \"Não estamos preocupados com reeleição. Estamos preocupados em não sermos presos\".  O Globo resumiu bem o que está acontecendo em Brasília.  Questionado sobre o projeto que anistia crimes de políticos corruptos,  um parlamentar de oposição (ao governo Temer) descreveu exatamente o que aconteceu naquela votação que ocorreu na calada da noite: \" Todos ficaram doidos. Na hora de discutir a anistia,  a gente perguntava (para outros parlamentares) se eles não temiam perder voto e eles respondiam: \"Não estamos preocupados em ser reeleitos [...] estamos preocupados em em não ser preso\".\" Perderam de vez a vergonha na cara [...] se é que algum dia eles tiveram! leia também:\n",
      "983\n",
      "Aos 29 anos,  Sisy Arias fazia seu primeiro voo como copiloto civil.  Uma entrevista que está circulando nos maiores jornais do mundo mostra a bela e jovem co-piloto do voo da Lamia horas antes do acidente.  Sisy Arias,  de apenas 29 anos,  participava de seu primeiro voo como copiloto civil. Sentada na cabine do avião,  a jovem (que também é conhecida por ser modelo na Colômbia),  disse estava orgulhosa por transportar a equipe de futebol brasileira para a final da Copa Sul-Americana de 2016. Algumas horas mais tarde,  o avião iria se chocar contra uma montanha matando 71 pessoas que estavam a bordo e deixando apenas seis sobreviventes. Arias diz ao entrevistador: \"Uma das coisas importantes é saber que a equipe está usando uma linha aérea boliviana para levá-los até Medellin\" A família de Sisy está devastada e relatou que suas vidas nunca mais serão as mesmas. O irmão dela declarou: \"Perdi minha irmã para o resto da minha vida. Não tenho palavras para expressar toda a dor e o vazio que sinto. Você era minha alma gêmea e me deixou [...] deixou também todas as pessoas que você amou. Você foi a pessoa mais nobre que eu já conheci e tenho a esperança de vê-la novamente quando Deus me chamar. Eu te amo,  querida irmã de alma. \" O vídeo mostra como todos da equipe estavam animados,  rindo e brincando juntos. O jogo mais importante de suas vidas foi interrompido devastadoramente. Apenas três jogadores sobreviveram ao acidente. Durante a entrevista,  o treinador Caio Júnior revelou a alegria que sentia com sua equipe [...] era quase um conto de fadas. \"Estamos muito orgulhosos de representar o Brasil e chegar à final do torneio,  principalmente porque estamos representando as equipes pequenas do Brasil. Isso nos dá força e orgulho. Passar pela Bolívia vai nos dar sorte. \" disse.\n",
      "984\n",
      "Áudio detalha desespero do piloto para pousar: \"Estamos em falha total,  elétrica e de combustível\". .  Está circulando nas redes sociais e nos jornais da Colômbia um áudio em que um \"suposto\" piloto de avião relata o que teria ocorrido com o voo da empresa LAMIA,  que transpostava a equipe da Chapecoense. Nas gravações,  a torre de comando avisa o piloto da LAMIA (ao se aproximar para aterrissagem em Medellín) que um outro voo da empresa VivaColômbia teria declarado \"mayday\" por vazamento de combustível [...] o pedido de socorro dava prioridade de pouso para esse voo. A torre então entrou em contato com o avião da Chapecoense e perguntou para Miguel Quiroga (o piloto) se poderia atrasar seu pouso. O piloto da LAMIA teria sinalizado positivamente. Após executar 2 voltas,  o piloto retoma contato com a torre e é informado que ainda é o 3o. da fila. Três minutos depois (já sem combustível na aeronave),  o piloto da LAMIA faz outro contato com a torre e declara que tem uma pane elétrica. \"Ele não menciona o fato de estar sem combustível,  o que poderia gerar multas astronômicas para sua empresa aérea.\" diz a gravação. \"Sem conseguir chegar até a pista (por falta de combustível),  o avião se choca contro o morro\" encerra. Um especialista da aeronáutica colombiana fez o seguinte comentário: \"Não é possível que uma aeronave com autonomia de voo de 3.000 km faça um trajeto de quase 3.000 km. Isso é uma espécie de tragédia anunciada\" comentou.\n",
      "985\n",
      "Lista com nomes dos parlamentares que \"assassinaram\" a Lava-Jato. .  Segue abaixo a lista com os nomes dos nobres parlamentares que aprovaram a inclusão da emenda de Weverton Rocha que prevê \"crime de responsabilidade\" de juízes e promotores por abuso de autoridade. (via Antagonista)\n",
      "986\n",
      "CONTRASTE: Enquanto manifestantes e PM se confrontavam,  engravatados se divertiam em um regabofe. .  Do lado de dentro: Um divertido coquetel acontecia nas dependências da Câmara dos Deputados. Do lado de fora: A PM confrontava manifestantes. A foto de Gisele Arthur resume o que acontece em nosso país.\n",
      "987\n",
      "Força-Tarefa da Lava-Jato: \"Agimos com transparência e clareza. Em uma noite,  eles colocaram tudo a perder\".  A Força-Tarefa da Lava-Jato afirmou que irá renunciar se Michel Temer sancionar a \"Lei da intimidação\".  Usando um tom forte,  Deltan Dallagnol disse que o objetivo da Câmara é \"estancar a sangria\". Carlos Fernando Lima (Procurador da República) disse na coletiva que \"a população foi enganada\". Ambos disseram que os parlamentares aproveitaram que o país estava consternado com o acidente da Chapecoense para dar um golpe na calada da madrugada\n",
      "988\n",
      "Projeto de lei quer mostrar imagens do feto para mulheres que vão abortar.  Mulheres que optam pelo aborto agora terão antes que ver a imagem do filho que vai matar. Só depois de ver o filho em estado gestacional a mulher tomará a decisão de abortar ou não o feto. O projeto já está na fase final de tramitação.\n",
      "\n",
      "Com o objetivo de esclarecer sobre os riscos e as consequências do aborto às gestantes vítimas de estupro, o projeto de Lei 1.465/2013 pretende fazer o uso de imagens de fetos, mês a mês, para orientar sobre consequências físicas e psíquicas do aborto. Proposto pela deputada Celina Leão (PDT), o PL foi aprovado na Câmara em primeiro e segundo turno e teve a redação final também aprovada na última quinta-feira 22 pela Comissão de Constituição e Justiça (CCJ).\n",
      "\n",
      "Todo o projeto é uma tentativa de levar a mulher a uma outra coisa que não seja o aborto, a abordagem possui um ímpeto de tortura, ao submeter a mulher a uma prática compulsória em um momento de extremo sofrimento.\n",
      "\n",
      "De acordo com o Código Penal de 1940, basta a palavra da mulher para que o aborto seja realizado, ou seja, não é preciso a apresentação de qualquer documento, nem mesmo que a mulher relate o crime à polícia para que seja feito o procedimento.\n",
      "\n",
      "Ao chegar nas unidades de saúde pedindo pelo procedimento do aborto em decorrência do estupro, a vítima passa por exames ambulatoriais como a ultrassonografia para verificar o tempo gestacional e lhe é dada a opção de ver ou não as imagens do feto.\n",
      "989\n",
      "Renan declara guerra ao judiciário e quer votar projeto que \"salva criminosos\" ainda esta noite.  A Globo News informou agora pouco que o presidente Renan Calheiros articula uma reação à Lava Jato.  Renan quer aprovar o requerimento de urgência para apreciação do projeto anticorrupção,  votado ontem pela Câmara dos Deputados na calada da noite. Mais cedo,  ele disse que não votaria o projeto este ano. Ele mudou de idéia. Agora ele quer destruir o judiciário.\n",
      "990\n",
      "Renan virou um ditador no senado! Ele está dando ordens para todo mundo. Ele não escuta ninguém!.  Renan Calheiros não escuta ninguém. Ele quer votar agora mesmo o projeto que salva criminosos!.  veja ao vivo o que ele está fazendo com o país:\n",
      "991\n",
      "Mídia internacional destaca o vidente Carlinhos,  que supostamente previu o acidente aéreo de hoje. .  O jornal destacou uma entrevista de março/2016 com o vidente Carlinhos: \"A whole football team will die in a plane crash. Make a note of what I\"m saying,  this will happen within a year and a half.\" \"Um time inteiro de futebol morrerá em um acidente aéreo. Tome nota do que eu digo,  isto acontecerá dentro de um ano e meio\" Ao vivo,  por telefone,  Carlinhos concedeu uma nova entrevista para a Rede TV. \"O Brasil vai ficar dez dias de luto ou mais,  até fevereiro. Algo relacionado com um famoso,  ligado a um canal de TV e uma parada cardíaca\" ,  relatou. Carlinhos conta que teve uma outra visão: \"Um helicóptero de uma celebridade estará sobrevoando São Paulo e cairá em um rio [...] essa pessoa terá poucas chances de sobrevivência\" disse. O vidente afirmou que,  no passado,  fez algumas previsões como a morte Eduardo Campos e os problemas de Neymar com a Justiça.\n",
      "992\n",
      "Brasília: Policial é esfaqueado em confronto com manifestantes.  Durante a manifestação que está ocorrendo na capital,  um policial militar foi esfaqueado.  Quem informou doi o deputado Alberto Fraga,  através do plenário da Câmara. A vítima está internada e recebendo os socorros necessários. O Correio Braziliense confirmou a ocorrência e disse que \"de acordo com a PM,  o cabo não corre risco de morte e foi ferido perto do ombro.\"\n",
      "993\n",
      "Colombiano que sobreviveu à tragédia aérea diz que se salvou porque seguiu protocolo de segurança.  Mídia da Colômbia informa que piloto da Lamia não informou a torre sobre falta de combustível.  Erwin Tumiri,  um dos sobreviventes da tragédia aérea com o voo da Chapecoense,  na madrugada de hoje (29),  concedeu uma entrevista para a rádio Caracol,  da Colômbia. Tumiri era integrante da tripulação do avião e relatou que ele e a companheira de trabalho (Ximena Suárez) seguiram à risca os protocolos de segurança de acidentes aéreos,  motivo pelo qual eles sobreviveram: \"Eu sobrevivi porque segui os protocolos. Muitos se levantaram das cadeiras e começaram a gritar. Eu coloquei as malas entre minhas pernas e fiz a posição fetal que se recomenda nos manuais de acidentes\" ,  publicou o jornal Los Tiempos. leia também:\n",
      "994\n",
      "Sobrevivente da Chapecoense comoveu os médicos do Hospital San Juan de Dios ao fazer um único pedido.  Três jornais (um espanhol,  um argentino e outro da Colômbia) publicaram uma notícia que está comovendo o mundo.  Alan Ruschel,  um dos 4 sobreviventes (brasileiros) do acidente com o avião da LaMia,  fez uma súplica para os médicos que o atenderam no hospital. O jogador chegou ao hospital San Juan de Dios,  no município de La Ceja,  na madrugada de ontem (29) e estava em estado de choque. Antes de ser encaminhado para uma cirurgia,  ele suplicou à equipe médica que salvassem uma única coisa: \"Guardem minha aliança\" ,  disse Ruschel. O pedido do jogador comoveu a equipe de atendimento no hospital San Juan de Dios. A esposa de Alan postou no Instagram que o estado de saúde de seu marido era estável e que ela estava orando por aqueles que ainda não tinham sido socorridos. Amanda desejou força para todos os familiares das outras vítimas: \"Situação complicada,  difícil. Só Deus para nos dar força mesmo. Obrigada Deus.\" escreveu. O jornal espanhol encerra a matéria dizendo que,  diante de um evento de alto impacto,  o cérebro entra em choque e ocorre um trauma. Ruschel provou que,  mesmo em meio à dor física e emocional ,  a coisa mais importante para ele foi o \"símbolo\" do amor que ele sentia por sua esposa. leia também:\n",
      "995\n",
      "Banda Guns N\" Roses faz homenagem ao time da Chapecoense nas redes sociais.  A banda de rock Guns N\" Roses postou uma homenagem aos jogadores da Chapecoense em seu perfil oficial no facebook.  Usando o símbolo da Associação Chapecoense de Futebol e a hashtag # ForçaChape ,  a banda postou um clipe usando o sucesso Knockin\" On Heaven\"s Door ao fundo do vídeo. Eu,  Patrícia,  editora do Diário do Brasil,  chorei muito! Que Deus ilumine a família de todas as vítimas do acidente!\n",
      "996\n",
      "Vídeo mostra a destruição causada por vândalos de extrema-esquerda em Brasília.  ÍNDIOS  POLICIAL MOSTRA UMA FLECHA ATIRADA PELOS MANIFESTANTES.  Vagabundagem na Esplanada causa tumulto e atrapalha trabalhadores a voltarem para suas casas. Os petistas Lindbergh Farias,  Vanessa Graziotin,  Maria do Rosário e Gleisi Hoffmann defendem essa corja de bandidos. veja nos vídeos do Correio Brasiliense e do Antagonista:\n",
      "997\n",
      "Repórter do Oriente Médio flagra helicóptero americano escoltando frota do Estado Islâmico.  Um vídeo postado no site LIVE LEAK mostra um helicóptero militar dos EUA tipo AH-64 Apache guardando um comboio de veículos blindados do grupo terrorista Estado Islâmico em território sírio..  A informação foi divulgada pela agência de notícias News Hour e mostra uma caravana de mais de 200 caminhonetes da Toyota se movendo ao longo de uma estrada,  em um lugar não especificado na Síria. O helicóptero de ataque dos EUA é visto no vídeo sobrevoando a caravana a uma altitude muito baixa,  mas nenhum dos veículos do grupo terrorista,  muitos deles equipados com armas pesadas,  atacou o helicóptero. Durante meses,  vários políticos,  parlamentares e organizações sociais têm acusado repetidamente as forças militares que compõem a alegada coligação anti-terrorista internacional liderada pelos Estados Unidos de armar e proteger os grupos extremistas armados que operam na Síria e no Iraque. vídeo via Live Leak / fonte matéria Almanar *** helicóptero Apache aparece no final do vídeo\n",
      "998\n",
      "Autor do impeachment de Dilma diz que Temer \"é um presidente decorativo e já deveria ter sido impeachmado\". .  O ex-deputado afirmou que Michel Temer coloca seus interesses particulares na frente de interesses públicos. Bicudo ainda disse que o impeachment de Temer já deveria ter ocorrido: \"Foi um vice decorativo. Agora é um presidente decorativo. Não faz falta\" disse. O jurista alegou que o presidente não deveria ter indicado Geddel Vieira Lima para o cargo de ministro. \"A responsabilidade pelo que acontece no país (neste momento) deve ser associada a Temer e não a Lula e Dilma. Temer não tem condições de sair da crise que estamos enfrentando\" afirmou. O autor do impeachment de Dilma chamou Michel Temer de inábil e concluiu que o governo está desmoralizado diante da população: \"Governo desmoralizado não governa. Foi o caso de Dilma. O governo de Temer ficou inviável\" finalizou.\n",
      "999\n",
      "Nós vamos estuprar os corruptos afirmam presos da Papuda. Mensagens vazadas por familiares de detentos do Complexo Penitenciário da Papuda, no Distrito Federal, dão conta de ameaças de estupro que estariam sendo enviadas aos políticos que estão cumprindo pena ou prisão preventiva.\n",
      "\n",
      "O Complexo Penitenciário da Papuda se notabilizou nos noticiários por abrigar políticos envolvidos nos escândalos do Mensalão e da Lava Jato. Entre seus hospedes famosos destacam-se Henrique Pizolatto (ex-diretor de marketing do Banco do Brasil), Jose Genoíno (ex-deputado federal petista), Carlinhos Cachoeira (bicheiro  lavador de dinheiro), Marcola (líder do PCC), Jose Dirceu (ex-deputado federal petista). O mais recente interno é o ex-ministro Geddel Vieira Lima.\n",
      "\n",
      "\n",
      "Na Papuda, os condenados não têm grandes privilégios. As celas são compostas por cama, sanitário e local para banho  não há chuveiro, mas apenas um cano de água fria. O banheiro não tem porta. O detento faz suas necessidades sendo observado pelos colegas de cela. As refeições são servidas três vezes ao dia: no início da manhã, por volta do meio-dia e no início da noite. As visitas de familiares costumam ser quinzenais.\n",
      "\n",
      "No último final de semana um protesto de presos ligados a facções criminosas que comandam presídios mandou um recado aos políticos e corruptos presos na Papuda. A partir de agora eles terão o mesmo tratamento que estupradores no cotidiano das celas. Estupradores recebem como castigo o estupro coletivo de seus colegas de cela. Passam a serem responsáveis pelos trabalhos domésticos dos líderes das facções.\n",
      "\n",
      "Em síntese, eles terão que lavar as roupas e prestar serviços sexuais aos líderes de facções criminosas, além disso zelarão pela limpeza e conservação das celas. Um famoso ex-deputado já está casado com um traficante. Seus familiares estão pedindo intervenção da Justiça para que a violência e humilhação cessem o mais breve possível.\n",
      "\n",
      "Segundo os detentos esta seria uma maneira de corrigir os erros da Justiça. Um traficante ouvido pela reportagem afirmou que o clima interno no presidio pe de muita revolta. Segundo ele os ladroes da periferia roubam um carro e ficam presos décadas. Os políticos roubam e guardam em casa R$ 50 milhões e passam aqui 3 meses e estão soltos. Ja que vão ficar pouco tempo mesmo, nós vamos fazer eles nunca mais esquecerem do tempo que passaram aqui.  \n"
     ]
    }
   ],
   "source": [
    "for i in range(600,1000):\n",
    "    print(i)\n",
    "    print(df_corpus['sample'][i])"
   ]
  },
  {
   "cell_type": "code",
   "execution_count": 15,
   "metadata": {
    "ExecuteTime": {
     "end_time": "2021-05-16T01:35:04.957685Z",
     "start_time": "2021-05-16T01:35:04.951683Z"
    },
    "scrolled": true
   },
   "outputs": [
    {
     "data": {
      "text/plain": [
       "'Kátia Abreu diz que vai colocar sua expulsão em uma moldura, mas não para de reclamar.\\t\\n\\nA senadora Kátia Abreu (sem partido-TO) disse que sua expulsão do PMDB foi resultado de uma ação da cúpula atual da legenda que, segundo ela, é oportunista.\\n\\n“Amanhã eu vou botar numa moldura dourada a minha expulsão, porque das mãos de onde veio, é um atestado de boa conduta para o meu currículo. Essas pessoas que me expulsaram não servem ao país. Eles se servem do país em seus benefícios próprios”, disse Kátia Abreu.\\n\\nUé, mas se a expulsão é algo tão bom para seu currículo, por que tanta choradeira, Kátia?\\n\\nSabemos o motivo. Provavelmente Kátia não tem valor para o PT, partido que já deveria tê-la absorvido. Ao que parece o PT gostava de Kátia somente se ela ficasse entrincheirada dentro do PMDB.\\n\\nOu seja, isso é se rebaixar demais. Resta a Kátia ficar chorando as pitangas por todos os cantos.\\n\\nEm tempo: até o momento o PT não cadastrou Kátia Abreu em suas fileiras. Que situação patética para a ex-ministra da Agricultura de Dilma.'"
      ]
     },
     "execution_count": 15,
     "metadata": {},
     "output_type": "execute_result"
    }
   ],
   "source": [
    "df_corpus['sample'][0]"
   ]
  },
  {
   "cell_type": "markdown",
   "metadata": {},
   "source": [
    "Torna todas as letras minúsculas"
   ]
  },
  {
   "cell_type": "code",
   "execution_count": 16,
   "metadata": {
    "ExecuteTime": {
     "end_time": "2021-05-16T01:35:05.952709Z",
     "start_time": "2021-05-16T01:35:05.677978Z"
    }
   },
   "outputs": [],
   "source": [
    "df_corpus['sample'] = df_corpus['sample'].apply(lambda x: x.lower())"
   ]
  },
  {
   "cell_type": "code",
   "execution_count": 17,
   "metadata": {
    "ExecuteTime": {
     "end_time": "2021-05-16T01:35:15.504739Z",
     "start_time": "2021-05-16T01:35:05.954388Z"
    }
   },
   "outputs": [],
   "source": [
    "df_corpus['sample'] = df_corpus['sample'].apply(lambda x: unidecode.unidecode(x))"
   ]
  },
  {
   "cell_type": "markdown",
   "metadata": {},
   "source": [
    "Substitui todos os dígitos por '0'"
   ]
  },
  {
   "cell_type": "code",
   "execution_count": 18,
   "metadata": {
    "ExecuteTime": {
     "end_time": "2021-05-16T01:35:15.551749Z",
     "start_time": "2021-05-16T01:35:15.506776Z"
    }
   },
   "outputs": [],
   "source": [
    "df_corpus['sample'] = df_corpus['sample'].apply(lambda x: x.replace('\"',' ASPAS '))"
   ]
  },
  {
   "cell_type": "code",
   "execution_count": 19,
   "metadata": {
    "ExecuteTime": {
     "end_time": "2021-05-16T01:35:16.555853Z",
     "start_time": "2021-05-16T01:35:15.553353Z"
    }
   },
   "outputs": [],
   "source": [
    "df_corpus['sample'] = df_corpus['sample'].apply(lambda x: re.sub(r'\\d\\S+', ' 0 ', x))\n",
    "df_corpus['sample'] = df_corpus['sample'].apply(lambda x: re.sub(r'\\d+', '0', x))"
   ]
  },
  {
   "cell_type": "markdown",
   "metadata": {},
   "source": [
    "Substitui todos as URLs por 'URL'"
   ]
  },
  {
   "cell_type": "code",
   "execution_count": 20,
   "metadata": {
    "ExecuteTime": {
     "end_time": "2021-05-16T01:35:16.601605Z",
     "start_time": "2021-05-16T01:35:16.557864Z"
    }
   },
   "outputs": [],
   "source": [
    "df_corpus['sample'] = df_corpus['sample'].apply(lambda x: re.sub(r'http\\S+', ' URL ', x))"
   ]
  },
  {
   "cell_type": "markdown",
   "metadata": {},
   "source": [
    "Substitui todos os e-mails por 'EMAIL'"
   ]
  },
  {
   "cell_type": "code",
   "execution_count": 21,
   "metadata": {
    "ExecuteTime": {
     "end_time": "2021-05-16T01:35:16.804559Z",
     "start_time": "2021-05-16T01:35:16.603458Z"
    }
   },
   "outputs": [],
   "source": [
    "# df_corpus['sample'] = df_corpus['sample'].apply(lambda x: re.sub(r'\\S+@\\S+', 'EMAIL', x))"
   ]
  },
  {
   "cell_type": "code",
   "execution_count": 22,
   "metadata": {
    "ExecuteTime": {
     "end_time": "2021-05-16T01:35:17.232996Z",
     "start_time": "2021-05-16T01:35:16.810307Z"
    }
   },
   "outputs": [],
   "source": [
    "df_corpus['sample'] = df_corpus['sample'].apply(lambda x: re.sub(r'\\s@\\S+', ' REDESOCIAL ', x))"
   ]
  },
  {
   "cell_type": "code",
   "execution_count": 23,
   "metadata": {
    "ExecuteTime": {
     "end_time": "2021-05-16T01:35:17.248674Z",
     "start_time": "2021-05-16T01:35:17.234673Z"
    }
   },
   "outputs": [],
   "source": [
    "# df_corpus['sample'] = df_corpus['sample'].apply(lambda x: x.replace('r$',' DINHEIRO '))"
   ]
  },
  {
   "cell_type": "code",
   "execution_count": 24,
   "metadata": {
    "ExecuteTime": {
     "end_time": "2021-05-16T01:35:17.981938Z",
     "start_time": "2021-05-16T01:35:17.250677Z"
    }
   },
   "outputs": [],
   "source": [
    "df_corpus['sample'] = df_corpus['sample'].apply(lambda x: re.sub(r'[^\\w\\s]', '', x))"
   ]
  },
  {
   "cell_type": "code",
   "execution_count": 25,
   "metadata": {
    "ExecuteTime": {
     "end_time": "2021-05-16T01:35:18.378780Z",
     "start_time": "2021-05-16T01:35:17.984061Z"
    }
   },
   "outputs": [],
   "source": [
    "df_corpus['sample'] = df_corpus['sample'].apply(lambda x: ' '.join(x.split()))"
   ]
  },
  {
   "cell_type": "code",
   "execution_count": 26,
   "metadata": {
    "ExecuteTime": {
     "end_time": "2021-05-16T01:35:18.394765Z",
     "start_time": "2021-05-16T01:35:18.380740Z"
    }
   },
   "outputs": [
    {
     "name": "stdout",
     "output_type": "stream",
     "text": [
      "site msn aponta o suposto novo affair de fatima bernardes ASPAS ele e mais jovem mas sabe de tudo ASPAS o site msn apontou o suposto novo affair da apresentadora fatima bernardes na noite de ontem 0 fatima postou uma imagem em sua conta no instagram ao lado do produtor rafael tupinamba rafael tambem e funcionario da rede globo e trabalha no programa ASPAS encontro ASPAS ao ladinho de fatima a apresentadora destacou na descricao da imagem que o rapaz e bem mais jovem que ela e escreveu ASPAS ele sabe tudo de tv REDESOCIAL nem era nascido mas pode perguntar pra ele sobre a trilha os atores o desfecho das novelas hj cuida com carinho do elenco que diariamente visita ASPAS encontro ASPAS parceria de sucesso ASPAS escreveu seguidores comecaram a questionar imediatamente ASPAS fatima ja arrumou outro ASPAS questionou um seguidor ASPAS fatima esta certa bola pra frente outra ASPAS disse outro internauta ASPAS casal bonito parabens ASPAS escreveu um terceiro ASPAS linda e vida que segue tchau bonner ASPAS comentou outra fa o casal fatima e william anunciou a separacao apos 0 anos de casamento na ultima segundafeira\n"
     ]
    }
   ],
   "source": [
    "print(df_corpus['sample'][1366])"
   ]
  },
  {
   "cell_type": "code",
   "execution_count": 28,
   "metadata": {
    "ExecuteTime": {
     "end_time": "2021-05-16T01:46:34.118453Z",
     "start_time": "2021-05-16T01:46:34.071455Z"
    }
   },
   "outputs": [],
   "source": [
    "df_corpus['sample'] = df_corpus['sample'].apply(lambda x: x.replace('_',''))"
   ]
  },
  {
   "cell_type": "markdown",
   "metadata": {},
   "source": [
    "# Tokenização"
   ]
  },
  {
   "cell_type": "markdown",
   "metadata": {},
   "source": [
    "Tokeniza o texto a partir dos espaços em branco e das pontuações"
   ]
  },
  {
   "cell_type": "code",
   "execution_count": null,
   "metadata": {},
   "outputs": [],
   "source": []
  },
  {
   "cell_type": "markdown",
   "metadata": {},
   "source": [
    "Salva dataframe pré-processado na pasta Dados"
   ]
  },
  {
   "cell_type": "code",
   "execution_count": 29,
   "metadata": {
    "ExecuteTime": {
     "end_time": "2021-05-16T01:46:36.640496Z",
     "start_time": "2021-05-16T01:46:36.133457Z"
    }
   },
   "outputs": [],
   "source": [
    "df_corpus.to_pickle('./Dados/preprocessed_corpus.pkl')"
   ]
  },
  {
   "cell_type": "code",
   "execution_count": null,
   "metadata": {},
   "outputs": [],
   "source": []
  }
 ],
 "metadata": {
  "hide_input": false,
  "kernelspec": {
   "display_name": "Python 3",
   "language": "python",
   "name": "python3"
  },
  "language_info": {
   "codemirror_mode": {
    "name": "ipython",
    "version": 3
   },
   "file_extension": ".py",
   "mimetype": "text/x-python",
   "name": "python",
   "nbconvert_exporter": "python",
   "pygments_lexer": "ipython3",
   "version": "3.9.1"
  },
  "toc": {
   "base_numbering": 1,
   "nav_menu": {},
   "number_sections": true,
   "sideBar": true,
   "skip_h1_title": false,
   "title_cell": "Table of Contents",
   "title_sidebar": "Contents",
   "toc_cell": false,
   "toc_position": {},
   "toc_section_display": true,
   "toc_window_display": false
  }
 },
 "nbformat": 4,
 "nbformat_minor": 2
}
